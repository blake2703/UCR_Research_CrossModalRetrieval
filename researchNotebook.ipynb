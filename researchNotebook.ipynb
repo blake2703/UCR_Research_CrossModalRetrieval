{
 "cells": [
  {
   "cell_type": "markdown",
   "id": "e9b66138",
   "metadata": {},
   "source": [
    "# 0.0 Text"
   ]
  },
  {
   "cell_type": "markdown",
   "id": "adce6c0d",
   "metadata": {},
   "source": [
    "## 1.0 Get Data and Greet Data\n",
    "A dataset should be broken up into multiple datasets:\n",
    "\n",
    "- data_raw = first read in of our data, but will not be touched\n",
    "- data_copy = data_raw copied, which will be used to clean, feature engineer, and wrangle our data"
   ]
  },
  {
   "cell_type": "code",
   "execution_count": 1,
   "id": "cb095fa4",
   "metadata": {},
   "outputs": [],
   "source": [
    "import pandas as pd\n",
    "\n",
    "data_raw = pd.read_csv('/Volumes/ExternalDrive/flickr30k_images/results.csv', delimiter='|')\n",
    "data_copy = pd.read_csv('/Volumes/ExternalDrive/flickr30k_images/results.csv', delimiter='|')"
   ]
  },
  {
   "cell_type": "code",
   "execution_count": 2,
   "id": "8a72cdf9",
   "metadata": {},
   "outputs": [
    {
     "name": "stdout",
     "output_type": "stream",
     "text": [
      "<class 'pandas.core.frame.DataFrame'>\n",
      "RangeIndex: 158915 entries, 0 to 158914\n",
      "Data columns (total 3 columns):\n",
      " #   Column           Non-Null Count   Dtype \n",
      "---  ------           --------------   ----- \n",
      " 0   image_name       158915 non-null  object\n",
      " 1    comment_number  158915 non-null  object\n",
      " 2    comment         158914 non-null  object\n",
      "dtypes: object(3)\n",
      "memory usage: 3.6+ MB\n"
     ]
    }
   ],
   "source": [
    "data_raw.info()"
   ]
  },
  {
   "cell_type": "markdown",
   "id": "808971ed",
   "metadata": {},
   "source": [
    "We notice that we have a missing value in the comment section. This will be important to us as we clean our data later. The other two columns look like they do not have any missing data."
   ]
  },
  {
   "cell_type": "code",
   "execution_count": 3,
   "id": "86db7bf3",
   "metadata": {},
   "outputs": [
    {
     "data": {
      "text/html": [
       "<div>\n",
       "<style scoped>\n",
       "    .dataframe tbody tr th:only-of-type {\n",
       "        vertical-align: middle;\n",
       "    }\n",
       "\n",
       "    .dataframe tbody tr th {\n",
       "        vertical-align: top;\n",
       "    }\n",
       "\n",
       "    .dataframe thead th {\n",
       "        text-align: right;\n",
       "    }\n",
       "</style>\n",
       "<table border=\"1\" class=\"dataframe\">\n",
       "  <thead>\n",
       "    <tr style=\"text-align: right;\">\n",
       "      <th></th>\n",
       "      <th>image_name</th>\n",
       "      <th>comment_number</th>\n",
       "      <th>comment</th>\n",
       "    </tr>\n",
       "  </thead>\n",
       "  <tbody>\n",
       "    <tr>\n",
       "      <th>74924</th>\n",
       "      <td>3528715437.jpg</td>\n",
       "      <td>4</td>\n",
       "      <td>A Fancy outDoors Cafe on a Sunny Day .</td>\n",
       "    </tr>\n",
       "    <tr>\n",
       "      <th>124746</th>\n",
       "      <td>4908009544.jpg</td>\n",
       "      <td>1</td>\n",
       "      <td>A group of mature folk are waving as they wal...</td>\n",
       "    </tr>\n",
       "    <tr>\n",
       "      <th>53801</th>\n",
       "      <td>3049617203.jpg</td>\n",
       "      <td>1</td>\n",
       "      <td>Man wearing a red , black , and white jacket ...</td>\n",
       "    </tr>\n",
       "    <tr>\n",
       "      <th>3911</th>\n",
       "      <td>1262077938.jpg</td>\n",
       "      <td>1</td>\n",
       "      <td>A young woman with a black purse sits on a wo...</td>\n",
       "    </tr>\n",
       "    <tr>\n",
       "      <th>58260</th>\n",
       "      <td>3162399420.jpg</td>\n",
       "      <td>0</td>\n",
       "      <td>Two ladies wearing pajamas are laying in the ...</td>\n",
       "    </tr>\n",
       "    <tr>\n",
       "      <th>19401</th>\n",
       "      <td>2182575588.jpg</td>\n",
       "      <td>1</td>\n",
       "      <td>A few people , mostly girls , sit around a ta...</td>\n",
       "    </tr>\n",
       "    <tr>\n",
       "      <th>10752</th>\n",
       "      <td>1634820545.jpg</td>\n",
       "      <td>2</td>\n",
       "      <td>Three woman in skirts stand outside the PARC ...</td>\n",
       "    </tr>\n",
       "    <tr>\n",
       "      <th>144838</th>\n",
       "      <td>6678040861.jpg</td>\n",
       "      <td>3</td>\n",
       "      <td>An older lady in a dining area is adding food...</td>\n",
       "    </tr>\n",
       "    <tr>\n",
       "      <th>110376</th>\n",
       "      <td>4680389936.jpg</td>\n",
       "      <td>1</td>\n",
       "      <td>A man rides a jet ski across the ocean .</td>\n",
       "    </tr>\n",
       "    <tr>\n",
       "      <th>44091</th>\n",
       "      <td>2806447.jpg</td>\n",
       "      <td>1</td>\n",
       "      <td>Indian musicians playing in the evening on a ...</td>\n",
       "    </tr>\n",
       "  </tbody>\n",
       "</table>\n",
       "</div>"
      ],
      "text/plain": [
       "            image_name  comment_number  \\\n",
       "74924   3528715437.jpg               4   \n",
       "124746  4908009544.jpg               1   \n",
       "53801   3049617203.jpg               1   \n",
       "3911    1262077938.jpg               1   \n",
       "58260   3162399420.jpg               0   \n",
       "19401   2182575588.jpg               1   \n",
       "10752   1634820545.jpg               2   \n",
       "144838  6678040861.jpg               3   \n",
       "110376  4680389936.jpg               1   \n",
       "44091      2806447.jpg               1   \n",
       "\n",
       "                                                  comment  \n",
       "74924              A Fancy outDoors Cafe on a Sunny Day .  \n",
       "124746   A group of mature folk are waving as they wal...  \n",
       "53801    Man wearing a red , black , and white jacket ...  \n",
       "3911     A young woman with a black purse sits on a wo...  \n",
       "58260    Two ladies wearing pajamas are laying in the ...  \n",
       "19401    A few people , mostly girls , sit around a ta...  \n",
       "10752    Three woman in skirts stand outside the PARC ...  \n",
       "144838   An older lady in a dining area is adding food...  \n",
       "110376           A man rides a jet ski across the ocean .  \n",
       "44091    Indian musicians playing in the evening on a ...  "
      ]
     },
     "execution_count": 3,
     "metadata": {},
     "output_type": "execute_result"
    }
   ],
   "source": [
    "data_raw.sample(10)"
   ]
  },
  {
   "cell_type": "markdown",
   "id": "a7458d76",
   "metadata": {},
   "source": [
    "Our data is structured with three columns:\n",
    "\n",
    "- image_name: which is the unique tag of the image\n",
    "- comment_number: which is the specific comment number about the image\n",
    "- comment: this is the actual comment left about the image <br>\n",
    "\n",
    "We expect to see 5 comments per uniuqe image_id so let's make sure that is the case:"
   ]
  },
  {
   "cell_type": "code",
   "execution_count": 4,
   "id": "42dd6fef",
   "metadata": {},
   "outputs": [
    {
     "name": "stdout",
     "output_type": "stream",
     "text": [
      "Total length of unique values:  31783\n",
      "Total length of data frame:  158915\n",
      "Total length of unique values * 5:  158915\n"
     ]
    }
   ],
   "source": [
    "image_name_unique_vals = data_raw['image_name'].unique().tolist()\n",
    "print(\"Total length of unique values: \", len(image_name_unique_vals))\n",
    "print(\"Total length of data frame: \",  len(data_raw))\n",
    "print(\"Total length of unique values * 5: \", len(image_name_unique_vals) * 5)"
   ]
  },
  {
   "cell_type": "markdown",
   "id": "a3070592",
   "metadata": {},
   "source": [
    "## 1.1 The 4 C's of Data Cleaning: Correction, Completing, Creating, and Converting\n",
    "\n",
    "In this stage, we will clean our data by:\n",
    "\n",
    "1. correcting values and outliers\n",
    "2. completing missing information\n",
    "3. creating new features for analysis\n",
    "4. converting fields to the correct format for calculations and presentation."
   ]
  },
  {
   "cell_type": "markdown",
   "id": "8252446c",
   "metadata": {},
   "source": [
    "### 1.1.1 Correcting data"
   ]
  },
  {
   "cell_type": "code",
   "execution_count": 5,
   "id": "7bd20c7d",
   "metadata": {},
   "outputs": [],
   "source": [
    "def preprocess_columns(dataframe):\n",
    "    dataframe.columns = dataframe.columns.str.replace(' ', '')\n",
    "preprocess_columns(data_copy)"
   ]
  },
  {
   "cell_type": "code",
   "execution_count": 6,
   "id": "2513e66c",
   "metadata": {},
   "outputs": [
    {
     "name": "stdout",
     "output_type": "stream",
     "text": [
      "Columns with null values:\n",
      "image_name        0\n",
      "comment_number    0\n",
      "comment           1\n",
      "dtype: int64\n"
     ]
    }
   ],
   "source": [
    "print('Columns with null values:')\n",
    "print(data_copy.isnull().sum())"
   ]
  },
  {
   "cell_type": "code",
   "execution_count": 7,
   "id": "892d0cca",
   "metadata": {
    "scrolled": false
   },
   "outputs": [
    {
     "data": {
      "text/html": [
       "<div>\n",
       "<style scoped>\n",
       "    .dataframe tbody tr th:only-of-type {\n",
       "        vertical-align: middle;\n",
       "    }\n",
       "\n",
       "    .dataframe tbody tr th {\n",
       "        vertical-align: top;\n",
       "    }\n",
       "\n",
       "    .dataframe thead th {\n",
       "        text-align: right;\n",
       "    }\n",
       "</style>\n",
       "<table border=\"1\" class=\"dataframe\">\n",
       "  <thead>\n",
       "    <tr style=\"text-align: right;\">\n",
       "      <th></th>\n",
       "      <th>count</th>\n",
       "      <th>unique</th>\n",
       "      <th>top</th>\n",
       "      <th>freq</th>\n",
       "    </tr>\n",
       "  </thead>\n",
       "  <tbody>\n",
       "    <tr>\n",
       "      <th>image_name</th>\n",
       "      <td>158915</td>\n",
       "      <td>31783</td>\n",
       "      <td>1000092795.jpg</td>\n",
       "      <td>5</td>\n",
       "    </tr>\n",
       "    <tr>\n",
       "      <th>comment_number</th>\n",
       "      <td>158915</td>\n",
       "      <td>6</td>\n",
       "      <td>0</td>\n",
       "      <td>31783</td>\n",
       "    </tr>\n",
       "    <tr>\n",
       "      <th>comment</th>\n",
       "      <td>158914</td>\n",
       "      <td>158438</td>\n",
       "      <td>Two dogs playing in the snow .</td>\n",
       "      <td>7</td>\n",
       "    </tr>\n",
       "  </tbody>\n",
       "</table>\n",
       "</div>"
      ],
      "text/plain": [
       "                 count  unique                              top   freq\n",
       "image_name      158915   31783                   1000092795.jpg      5\n",
       "comment_number  158915       6                                0  31783\n",
       "comment         158914  158438   Two dogs playing in the snow .      7"
      ]
     },
     "execution_count": 7,
     "metadata": {},
     "output_type": "execute_result"
    }
   ],
   "source": [
    "data_copy.describe(include = 'all').transpose()"
   ]
  },
  {
   "cell_type": "markdown",
   "id": "9ca865a7",
   "metadata": {},
   "source": [
    "Let's take a look at the comment_number issue because we should have 5 unique comment_numbers not 6:"
   ]
  },
  {
   "cell_type": "code",
   "execution_count": 8,
   "id": "b4a17df5",
   "metadata": {},
   "outputs": [
    {
     "name": "stdout",
     "output_type": "stream",
     "text": [
      "[' 0', ' 1', ' 2', ' 3', ' 4', ' 4   A dog runs across the grass .']\n"
     ]
    }
   ],
   "source": [
    "comment_number_unique_vals = data_copy['comment_number'].unique().tolist()\n",
    "print(comment_number_unique_vals)"
   ]
  },
  {
   "cell_type": "code",
   "execution_count": 9,
   "id": "1a314f4a",
   "metadata": {},
   "outputs": [
    {
     "data": {
      "text/html": [
       "<div>\n",
       "<style scoped>\n",
       "    .dataframe tbody tr th:only-of-type {\n",
       "        vertical-align: middle;\n",
       "    }\n",
       "\n",
       "    .dataframe tbody tr th {\n",
       "        vertical-align: top;\n",
       "    }\n",
       "\n",
       "    .dataframe thead th {\n",
       "        text-align: right;\n",
       "    }\n",
       "</style>\n",
       "<table border=\"1\" class=\"dataframe\">\n",
       "  <thead>\n",
       "    <tr style=\"text-align: right;\">\n",
       "      <th></th>\n",
       "      <th>image_name</th>\n",
       "      <th>comment_number</th>\n",
       "      <th>comment</th>\n",
       "    </tr>\n",
       "  </thead>\n",
       "  <tbody>\n",
       "    <tr>\n",
       "      <th>19999</th>\n",
       "      <td>2199200615.jpg</td>\n",
       "      <td>4   A dog runs across the grass .</td>\n",
       "      <td>NaN</td>\n",
       "    </tr>\n",
       "  </tbody>\n",
       "</table>\n",
       "</div>"
      ],
      "text/plain": [
       "           image_name                      comment_number comment\n",
       "19999  2199200615.jpg   4   A dog runs across the grass .     NaN"
      ]
     },
     "execution_count": 9,
     "metadata": {},
     "output_type": "execute_result"
    }
   ],
   "source": [
    "data_copy[data_copy['comment'].isnull()]"
   ]
  },
  {
   "cell_type": "code",
   "execution_count": 10,
   "id": "6e6ba3d2",
   "metadata": {},
   "outputs": [
    {
     "name": "stdout",
     "output_type": "stream",
     "text": [
      "image_name                           2199200615.jpg\n",
      "comment_number                                    4\n",
      "comment               A dog runs across the grass .\n",
      "Name: 19999, dtype: object\n"
     ]
    }
   ],
   "source": [
    "#Filter location to where the data is missing a value\n",
    "data_copy[data_copy['image_name'] == '2199200615.jpg']\n",
    "#Create a temporary variable to hold that row\n",
    "tmp = data_copy.iloc[19999]\n",
    "\n",
    "#Get the comment number column\n",
    "holder = tmp['comment_number']\n",
    "\n",
    "#Seperate the text from the digit and print\n",
    "result = ''.join([i for i in holder if not i.isdigit()])\n",
    "\n",
    "#Update the temporary variable row\n",
    "tmp['comment'] = result \n",
    "tmp['comment_number'] = '4'\n",
    "\n",
    "#Update our data copy row to reflect change\n",
    "data_copy.iloc[19999] = tmp\n",
    "print(data_copy.iloc[19999])"
   ]
  },
  {
   "cell_type": "code",
   "execution_count": 11,
   "id": "69a47dc7",
   "metadata": {},
   "outputs": [
    {
     "name": "stdout",
     "output_type": "stream",
     "text": [
      "Updated Columns with null values:\n",
      "image_name        0\n",
      "comment_number    0\n",
      "comment           0\n",
      "dtype: int64\n"
     ]
    }
   ],
   "source": [
    "print('Updated Columns with null values:') \n",
    "print(data_copy.isnull().sum())"
   ]
  },
  {
   "cell_type": "code",
   "execution_count": 12,
   "id": "ff68cd99",
   "metadata": {},
   "outputs": [
    {
     "name": "stdout",
     "output_type": "stream",
     "text": [
      "[' 0', ' 1', ' 2', ' 3', ' 4', '4']\n"
     ]
    }
   ],
   "source": [
    "comment_number_unique_vals = data_copy['comment_number'].unique().tolist()\n",
    "print(comment_number_unique_vals)"
   ]
  },
  {
   "cell_type": "code",
   "execution_count": 13,
   "id": "43d36559",
   "metadata": {},
   "outputs": [],
   "source": [
    "data_copy['comment_number'] = data_copy['comment_number'].str.lstrip()"
   ]
  },
  {
   "cell_type": "code",
   "execution_count": 14,
   "id": "c4f55699",
   "metadata": {
    "scrolled": true
   },
   "outputs": [
    {
     "name": "stdout",
     "output_type": "stream",
     "text": [
      "['0', '1', '2', '3', '4']\n"
     ]
    }
   ],
   "source": [
    "comment_number_unique_vals = data_copy['comment_number'].unique().tolist()\n",
    "print(comment_number_unique_vals)"
   ]
  },
  {
   "cell_type": "markdown",
   "id": "cca53a5f",
   "metadata": {},
   "source": [
    "#### Make a new column that will hold our cleaned data for each comment:"
   ]
  },
  {
   "cell_type": "code",
   "execution_count": 15,
   "id": "1429a8e9",
   "metadata": {},
   "outputs": [],
   "source": [
    "data_copy['cleaned_comment'] = data_copy['comment']"
   ]
  },
  {
   "cell_type": "code",
   "execution_count": 16,
   "id": "068f959d",
   "metadata": {},
   "outputs": [],
   "source": [
    "import contractions\n",
    "\n",
    "def expand_contractions(comment):\n",
    "    \"\"\"\n",
    "    This function will expand all contractions to get rid of them.\n",
    "\n",
    "    Args:\n",
    "        comment (object): A column in the dataframe that contains all the comments from each image\n",
    "\n",
    "    Returns:\n",
    "       Object: A fixed object that has all the punctuations taken out of the sentence\n",
    "    \"\"\"\n",
    "    comment = contractions.fix(comment)\n",
    "    return comment\n",
    "\n",
    "data_copy['cleaned_comment'] = data_copy['cleaned_comment'].apply(expand_contractions)"
   ]
  },
  {
   "cell_type": "code",
   "execution_count": 17,
   "id": "7f1bed58",
   "metadata": {},
   "outputs": [],
   "source": [
    "import string\n",
    "\n",
    "def remove_punctuations(comment):\n",
    "    \"\"\"\n",
    "    This function will go through all the comment rows and remove all punctuations.\n",
    "    \n",
    "    Args:\n",
    "        comment (object): A column in the dataframe that contains all the comments from each image\n",
    "\n",
    "    Returns:\n",
    "        Object: A fixed object that has all the punctuations taken out of the sentence\n",
    "    \"\"\"\n",
    "    for letter in string.punctuation:\n",
    "        comment = comment.replace(letter, '')\n",
    "    return comment\n",
    "\n",
    "data_copy['cleaned_comment'] = data_copy['cleaned_comment'].apply(remove_punctuations) #call function on dataframe to remove punctuations"
   ]
  },
  {
   "cell_type": "code",
   "execution_count": 18,
   "id": "74ad9fc0",
   "metadata": {},
   "outputs": [],
   "source": [
    "data_copy['cleaned_comment'] = data_copy['cleaned_comment'].str.lower() #convert all letters in the comment column to lowercase"
   ]
  },
  {
   "cell_type": "code",
   "execution_count": 19,
   "id": "e4a681fa",
   "metadata": {},
   "outputs": [],
   "source": [
    "data_copy['cleaned_comment'] = data_copy['cleaned_comment'].str.strip() #get rid of all whitespace in the comment column"
   ]
  },
  {
   "cell_type": "code",
   "execution_count": 20,
   "id": "8ef5a348",
   "metadata": {},
   "outputs": [
    {
     "data": {
      "text/plain": [
       "[('a', 271705),\n",
       " ('in', 83466),\n",
       " ('the', 62982),\n",
       " ('on', 45669),\n",
       " ('and', 44263),\n",
       " ('man', 42598),\n",
       " ('is', 41146),\n",
       " ('of', 38779),\n",
       " ('with', 36207),\n",
       " ('woman', 22211),\n",
       " ('two', 21642),\n",
       " ('are', 20211),\n",
       " ('to', 17609),\n",
       " ('people', 17337),\n",
       " ('at', 16259),\n",
       " ('an', 15883),\n",
       " ('wearing', 15709),\n",
       " ('young', 13218),\n",
       " ('white', 13178),\n",
       " ('shirt', 12981),\n",
       " ('black', 12311),\n",
       " ('while', 11711),\n",
       " ('his', 11495),\n",
       " ('blue', 11310),\n",
       " ('red', 9916),\n",
       " ('girl', 9655),\n",
       " ('sitting', 9620),\n",
       " ('men', 9498),\n",
       " ('boy', 9429),\n",
       " ('standing', 9113),\n",
       " ('dog', 9090),\n",
       " ('playing', 8620),\n",
       " ('street', 7998),\n",
       " ('group', 7852),\n",
       " ('down', 7678),\n",
       " ('front', 7604),\n",
       " ('her', 7414),\n",
       " ('walking', 7339),\n",
       " ('holding', 6985),\n",
       " ('one', 6484),\n",
       " ('water', 5957),\n",
       " ('by', 5771),\n",
       " ('three', 5770),\n",
       " ('women', 5275),\n",
       " ('green', 5221),\n",
       " ('up', 5114),\n",
       " ('child', 5078),\n",
       " ('looking', 5067),\n",
       " ('as', 5028),\n",
       " ('for', 4899),\n",
       " ('little', 4794),\n",
       " ('large', 4753),\n",
       " ('outside', 4702),\n",
       " ('yellow', 4557),\n",
       " ('person', 4479),\n",
       " ('children', 4454),\n",
       " ('brown', 4446),\n",
       " ('through', 4297),\n",
       " ('from', 4041),\n",
       " ('their', 4037),\n",
       " ('hat', 4037),\n",
       " ('other', 3986),\n",
       " ('ball', 3892),\n",
       " ('small', 3779),\n",
       " ('next', 3752),\n",
       " ('into', 3731),\n",
       " ('over', 3684),\n",
       " ('some', 3547),\n",
       " ('dressed', 3462),\n",
       " ('out', 3432),\n",
       " ('another', 3372),\n",
       " ('running', 3369),\n",
       " ('building', 3360),\n",
       " ('jacket', 3348),\n",
       " ('riding', 3313),\n",
       " ('around', 3134),\n",
       " ('orange', 3086),\n",
       " ('near', 3016),\n",
       " ('field', 2981),\n",
       " ('crowd', 2963),\n",
       " ('stands', 2935),\n",
       " ('beach', 2904),\n",
       " ('background', 2882),\n",
       " ('pink', 2862),\n",
       " ('behind', 2832),\n",
       " ('sidewalk', 2812),\n",
       " ('jumping', 2735),\n",
       " ('table', 2682),\n",
       " ('girls', 2679),\n",
       " ('sits', 2612),\n",
       " ('grass', 2598),\n",
       " ('snow', 2534),\n",
       " ('bike', 2533),\n",
       " ('that', 2498),\n",
       " ('looks', 2465),\n",
       " ('top', 2415),\n",
       " ('camera', 2411),\n",
       " ('air', 2378),\n",
       " ('asian', 2373),\n",
       " ('dogs', 2354)]"
      ]
     },
     "execution_count": 20,
     "metadata": {},
     "output_type": "execute_result"
    }
   ],
   "source": [
    "from collections import Counter\n",
    "\n",
    "Counter(\" \".join(data_copy[\"cleaned_comment\"]).split()).most_common(100)"
   ]
  },
  {
   "cell_type": "code",
   "execution_count": 21,
   "id": "96761d8c",
   "metadata": {},
   "outputs": [
    {
     "name": "stderr",
     "output_type": "stream",
     "text": [
      "[nltk_data] Downloading package stopwords to\n",
      "[nltk_data]     /Users/blakedickerson/nltk_data...\n",
      "[nltk_data]   Package stopwords is already up-to-date!\n",
      "[nltk_data] Downloading package punkt to\n",
      "[nltk_data]     /Users/blakedickerson/nltk_data...\n",
      "[nltk_data]   Package punkt is already up-to-date!\n"
     ]
    }
   ],
   "source": [
    "import nltk\n",
    "nltk.download('stopwords')\n",
    "nltk.download('punkt')\n",
    "from nltk.corpus import stopwords\n",
    "from nltk import word_tokenize\n",
    "\n",
    "stop = stopwords.words('english') #assign all stopwords to variable stop\n",
    "data_copy['cleaned_comment'] = data_copy['cleaned_comment'].apply(lambda x: ' '.join([word for word in x.split() if word not in (stop)])) #remove stopwor"
   ]
  },
  {
   "cell_type": "code",
   "execution_count": 22,
   "id": "47955956",
   "metadata": {},
   "outputs": [
    {
     "data": {
      "text/plain": [
       "[('man', 42598),\n",
       " ('woman', 22211),\n",
       " ('two', 21642),\n",
       " ('people', 17337),\n",
       " ('wearing', 15709),\n",
       " ('young', 13218),\n",
       " ('white', 13178),\n",
       " ('shirt', 12981),\n",
       " ('black', 12311),\n",
       " ('blue', 11310),\n",
       " ('red', 9916),\n",
       " ('girl', 9655),\n",
       " ('sitting', 9620),\n",
       " ('men', 9498),\n",
       " ('boy', 9429),\n",
       " ('standing', 9113),\n",
       " ('dog', 9090),\n",
       " ('playing', 8620),\n",
       " ('street', 7998),\n",
       " ('group', 7852),\n",
       " ('front', 7604),\n",
       " ('walking', 7339),\n",
       " ('holding', 6985),\n",
       " ('one', 6484),\n",
       " ('water', 5957),\n",
       " ('three', 5770),\n",
       " ('women', 5275),\n",
       " ('green', 5221),\n",
       " ('child', 5078),\n",
       " ('looking', 5067),\n",
       " ('little', 4794),\n",
       " ('large', 4753),\n",
       " ('outside', 4702),\n",
       " ('yellow', 4557),\n",
       " ('person', 4479),\n",
       " ('children', 4454),\n",
       " ('brown', 4446),\n",
       " ('hat', 4037),\n",
       " ('ball', 3892),\n",
       " ('small', 3779),\n",
       " ('next', 3752),\n",
       " ('dressed', 3462),\n",
       " ('another', 3372),\n",
       " ('running', 3369),\n",
       " ('building', 3360),\n",
       " ('jacket', 3348),\n",
       " ('riding', 3313),\n",
       " ('around', 3134),\n",
       " ('orange', 3086),\n",
       " ('near', 3016),\n",
       " ('field', 2981),\n",
       " ('crowd', 2963),\n",
       " ('stands', 2935),\n",
       " ('beach', 2904),\n",
       " ('background', 2882),\n",
       " ('pink', 2862),\n",
       " ('behind', 2832),\n",
       " ('sidewalk', 2812),\n",
       " ('jumping', 2735),\n",
       " ('table', 2682),\n",
       " ('girls', 2679),\n",
       " ('sits', 2612),\n",
       " ('grass', 2598),\n",
       " ('snow', 2534),\n",
       " ('bike', 2533),\n",
       " ('looks', 2465),\n",
       " ('top', 2415),\n",
       " ('camera', 2411),\n",
       " ('air', 2378),\n",
       " ('asian', 2373),\n",
       " ('dogs', 2354),\n",
       " ('stand', 2336),\n",
       " ('city', 2325),\n",
       " ('wall', 2324),\n",
       " ('player', 2271),\n",
       " ('older', 2269),\n",
       " ('hair', 2221),\n",
       " ('four', 2211),\n",
       " ('working', 2175),\n",
       " ('soccer', 2152),\n",
       " ('dress', 2130),\n",
       " ('something', 2125),\n",
       " ('several', 2105),\n",
       " ('gray', 2086),\n",
       " ('talking', 2072),\n",
       " ('shorts', 2066),\n",
       " ('lady', 2045),\n",
       " ('park', 2041),\n",
       " ('guitar', 1994),\n",
       " ('picture', 1993),\n",
       " ('walks', 1988),\n",
       " ('pants', 1986),\n",
       " ('boys', 1975),\n",
       " ('smiling', 1953),\n",
       " ('hand', 1921),\n",
       " ('jeans', 1918),\n",
       " ('plays', 1907),\n",
       " ('play', 1890),\n",
       " ('along', 1870),\n",
       " ('together', 1783)]"
      ]
     },
     "execution_count": 22,
     "metadata": {},
     "output_type": "execute_result"
    }
   ],
   "source": [
    "Counter(\" \".join(data_copy[\"cleaned_comment\"]).split()).most_common(100)"
   ]
  },
  {
   "cell_type": "markdown",
   "id": "5268b297",
   "metadata": {},
   "source": [
    "## 1.1.2 Creating"
   ]
  },
  {
   "cell_type": "code",
   "execution_count": 23,
   "id": "91597bff",
   "metadata": {
    "scrolled": true
   },
   "outputs": [
    {
     "data": {
      "text/html": [
       "<div>\n",
       "<style scoped>\n",
       "    .dataframe tbody tr th:only-of-type {\n",
       "        vertical-align: middle;\n",
       "    }\n",
       "\n",
       "    .dataframe tbody tr th {\n",
       "        vertical-align: top;\n",
       "    }\n",
       "\n",
       "    .dataframe thead th {\n",
       "        text-align: right;\n",
       "    }\n",
       "</style>\n",
       "<table border=\"1\" class=\"dataframe\">\n",
       "  <thead>\n",
       "    <tr style=\"text-align: right;\">\n",
       "      <th></th>\n",
       "      <th>image_name</th>\n",
       "      <th>comment_number</th>\n",
       "      <th>comment</th>\n",
       "      <th>cleaned_comment</th>\n",
       "      <th>label</th>\n",
       "    </tr>\n",
       "  </thead>\n",
       "  <tbody>\n",
       "    <tr>\n",
       "      <th>0</th>\n",
       "      <td>1000092795.jpg</td>\n",
       "      <td>0</td>\n",
       "      <td>Two young guys with shaggy hair look at their...</td>\n",
       "      <td>two young guys shaggy hair look hands hanging ...</td>\n",
       "      <td>0</td>\n",
       "    </tr>\n",
       "    <tr>\n",
       "      <th>1</th>\n",
       "      <td>1000092795.jpg</td>\n",
       "      <td>1</td>\n",
       "      <td>Two young , White males are outside near many...</td>\n",
       "      <td>two young white males outside near many bushes</td>\n",
       "      <td>0</td>\n",
       "    </tr>\n",
       "    <tr>\n",
       "      <th>2</th>\n",
       "      <td>1000092795.jpg</td>\n",
       "      <td>2</td>\n",
       "      <td>Two men in green shirts are standing in a yard .</td>\n",
       "      <td>two men green shirts standing yard</td>\n",
       "      <td>0</td>\n",
       "    </tr>\n",
       "    <tr>\n",
       "      <th>3</th>\n",
       "      <td>1000092795.jpg</td>\n",
       "      <td>3</td>\n",
       "      <td>A man in a blue shirt standing in a garden .</td>\n",
       "      <td>man blue shirt standing garden</td>\n",
       "      <td>0</td>\n",
       "    </tr>\n",
       "    <tr>\n",
       "      <th>4</th>\n",
       "      <td>1000092795.jpg</td>\n",
       "      <td>4</td>\n",
       "      <td>Two friends enjoy time spent together .</td>\n",
       "      <td>two friends enjoy time spent together</td>\n",
       "      <td>0</td>\n",
       "    </tr>\n",
       "  </tbody>\n",
       "</table>\n",
       "</div>"
      ],
      "text/plain": [
       "       image_name comment_number  \\\n",
       "0  1000092795.jpg              0   \n",
       "1  1000092795.jpg              1   \n",
       "2  1000092795.jpg              2   \n",
       "3  1000092795.jpg              3   \n",
       "4  1000092795.jpg              4   \n",
       "\n",
       "                                             comment  \\\n",
       "0   Two young guys with shaggy hair look at their...   \n",
       "1   Two young , White males are outside near many...   \n",
       "2   Two men in green shirts are standing in a yard .   \n",
       "3       A man in a blue shirt standing in a garden .   \n",
       "4            Two friends enjoy time spent together .   \n",
       "\n",
       "                                     cleaned_comment  label  \n",
       "0  two young guys shaggy hair look hands hanging ...      0  \n",
       "1     two young white males outside near many bushes      0  \n",
       "2                 two men green shirts standing yard      0  \n",
       "3                     man blue shirt standing garden      0  \n",
       "4              two friends enjoy time spent together      0  "
      ]
     },
     "execution_count": 23,
     "metadata": {},
     "output_type": "execute_result"
    }
   ],
   "source": [
    "import numpy as np\n",
    "\n",
    "def classify_images(dataframe):\n",
    "    '''\n",
    "    A function to turn the images to a label classifying them\n",
    "\n",
    "    Args: \n",
    "        df: a dataframe\n",
    "    \n",
    "     '''\n",
    "    dic = dict()                             #dictionary to hold our unique labels\n",
    "    label_list = list()                      #list to hold all of the labels\n",
    "    data_copy['label'] = np.nan              #create a new column which will be our label column\n",
    "    temp_counter = 0                         #temporary counting variable\n",
    "    for value in dataframe['image_name']:\n",
    "        if value not in dic:\n",
    "            dic[value] = temp_counter        #assign the counter as the value while the image_name is the key\n",
    "            temp_counter+=1\n",
    "    images = dataframe['image_name'].tolist()#put the image_name column values in a list\n",
    "    for image in images:\n",
    "        label_list.append(dic[image])\n",
    "    dataframe['label'] = label_list          #update label column to the correct value\n",
    "\n",
    "classify_images(data_copy)\n",
    "data_copy.head()"
   ]
  },
  {
   "cell_type": "markdown",
   "id": "ad9b3f55",
   "metadata": {},
   "source": [
    "## 1.3 Feature Engineering"
   ]
  },
  {
   "cell_type": "markdown",
   "id": "b6aa1a92",
   "metadata": {},
   "source": [
    "I want to find the average length of each comment in order to see how many tags we should take out:"
   ]
  },
  {
   "cell_type": "code",
   "execution_count": 24,
   "id": "08e506bb",
   "metadata": {},
   "outputs": [],
   "source": [
    "def count_words(comment):\n",
    "    \"\"\"\n",
    "    This function will count the amount of words in each comment\n",
    "\n",
    "    Args:\n",
    "        comment (object): A column in the dataframe that contains all the comments from each image\n",
    "\n",
    "    Returns:\n",
    "        Object: A fixed object that has all the punctuations taken out of the sentence\n",
    "    \"\"\"\n",
    "    return len(comment.split()) #split the string on each space"
   ]
  },
  {
   "cell_type": "code",
   "execution_count": 25,
   "id": "714fa88d",
   "metadata": {},
   "outputs": [],
   "source": [
    "def count_unique_words(comment):\n",
    "    \"\"\"\n",
    "    This function will count the amount of unique words in a comment\n",
    "\n",
    "    Args:\n",
    "        comment (object): A column in the dataframe that contains all the comments from each image\n",
    "\n",
    "    Returns:\n",
    "        Object: A fixed object that has all the punctuations taken out of the sentence\n",
    "    \"\"\"\n",
    "    return len(set(comment.split()))"
   ]
  },
  {
   "cell_type": "code",
   "execution_count": 26,
   "id": "46da7566",
   "metadata": {},
   "outputs": [],
   "source": [
    "def count_unique_words_vs_word_count(num_words, num_unique):\n",
    "    \"\"\"\n",
    "    This function will count the number of unique words vs the total words per sentence\n",
    "\n",
    "    Args:\n",
    "        num_words (int): number of words per sentence\n",
    "        num_unique (int): number of unique words per sentence\n",
    "\n",
    "    Returns:\n",
    "        Float: the ratio of unique words to total words\n",
    "    \"\"\"\n",
    "    return num_unique/num_words"
   ]
  },
  {
   "cell_type": "code",
   "execution_count": 27,
   "id": "b6e6f1c1",
   "metadata": {},
   "outputs": [],
   "source": [
    "data_copy['word_count'] = data_copy['comment'].apply(lambda x : count_words(x))\n",
    "data_copy['unique_word_count'] = data_copy['comment'].apply(lambda x : count_unique_words(x))\n",
    "data_copy['unique_words_vs_words'] = data_copy['unique_word_count']/data_copy['word_count']"
   ]
  },
  {
   "cell_type": "code",
   "execution_count": 28,
   "id": "d1115d22",
   "metadata": {},
   "outputs": [
    {
     "data": {
      "text/html": [
       "<div>\n",
       "<style scoped>\n",
       "    .dataframe tbody tr th:only-of-type {\n",
       "        vertical-align: middle;\n",
       "    }\n",
       "\n",
       "    .dataframe tbody tr th {\n",
       "        vertical-align: top;\n",
       "    }\n",
       "\n",
       "    .dataframe thead th {\n",
       "        text-align: right;\n",
       "    }\n",
       "</style>\n",
       "<table border=\"1\" class=\"dataframe\">\n",
       "  <thead>\n",
       "    <tr style=\"text-align: right;\">\n",
       "      <th></th>\n",
       "      <th>image_name</th>\n",
       "      <th>comment_number</th>\n",
       "      <th>comment</th>\n",
       "      <th>cleaned_comment</th>\n",
       "      <th>label</th>\n",
       "      <th>word_count</th>\n",
       "      <th>unique_word_count</th>\n",
       "      <th>unique_words_vs_words</th>\n",
       "    </tr>\n",
       "  </thead>\n",
       "  <tbody>\n",
       "    <tr>\n",
       "      <th>0</th>\n",
       "      <td>1000092795.jpg</td>\n",
       "      <td>0</td>\n",
       "      <td>Two young guys with shaggy hair look at their...</td>\n",
       "      <td>two young guys shaggy hair look hands hanging ...</td>\n",
       "      <td>0</td>\n",
       "      <td>17</td>\n",
       "      <td>17</td>\n",
       "      <td>1.000000</td>\n",
       "    </tr>\n",
       "    <tr>\n",
       "      <th>1</th>\n",
       "      <td>1000092795.jpg</td>\n",
       "      <td>1</td>\n",
       "      <td>Two young , White males are outside near many...</td>\n",
       "      <td>two young white males outside near many bushes</td>\n",
       "      <td>0</td>\n",
       "      <td>11</td>\n",
       "      <td>11</td>\n",
       "      <td>1.000000</td>\n",
       "    </tr>\n",
       "    <tr>\n",
       "      <th>2</th>\n",
       "      <td>1000092795.jpg</td>\n",
       "      <td>2</td>\n",
       "      <td>Two men in green shirts are standing in a yard .</td>\n",
       "      <td>two men green shirts standing yard</td>\n",
       "      <td>0</td>\n",
       "      <td>11</td>\n",
       "      <td>10</td>\n",
       "      <td>0.909091</td>\n",
       "    </tr>\n",
       "    <tr>\n",
       "      <th>3</th>\n",
       "      <td>1000092795.jpg</td>\n",
       "      <td>3</td>\n",
       "      <td>A man in a blue shirt standing in a garden .</td>\n",
       "      <td>man blue shirt standing garden</td>\n",
       "      <td>0</td>\n",
       "      <td>11</td>\n",
       "      <td>9</td>\n",
       "      <td>0.818182</td>\n",
       "    </tr>\n",
       "    <tr>\n",
       "      <th>4</th>\n",
       "      <td>1000092795.jpg</td>\n",
       "      <td>4</td>\n",
       "      <td>Two friends enjoy time spent together .</td>\n",
       "      <td>two friends enjoy time spent together</td>\n",
       "      <td>0</td>\n",
       "      <td>7</td>\n",
       "      <td>7</td>\n",
       "      <td>1.000000</td>\n",
       "    </tr>\n",
       "  </tbody>\n",
       "</table>\n",
       "</div>"
      ],
      "text/plain": [
       "       image_name comment_number  \\\n",
       "0  1000092795.jpg              0   \n",
       "1  1000092795.jpg              1   \n",
       "2  1000092795.jpg              2   \n",
       "3  1000092795.jpg              3   \n",
       "4  1000092795.jpg              4   \n",
       "\n",
       "                                             comment  \\\n",
       "0   Two young guys with shaggy hair look at their...   \n",
       "1   Two young , White males are outside near many...   \n",
       "2   Two men in green shirts are standing in a yard .   \n",
       "3       A man in a blue shirt standing in a garden .   \n",
       "4            Two friends enjoy time spent together .   \n",
       "\n",
       "                                     cleaned_comment  label  word_count  \\\n",
       "0  two young guys shaggy hair look hands hanging ...      0          17   \n",
       "1     two young white males outside near many bushes      0          11   \n",
       "2                 two men green shirts standing yard      0          11   \n",
       "3                     man blue shirt standing garden      0          11   \n",
       "4              two friends enjoy time spent together      0           7   \n",
       "\n",
       "   unique_word_count  unique_words_vs_words  \n",
       "0                 17               1.000000  \n",
       "1                 11               1.000000  \n",
       "2                 10               0.909091  \n",
       "3                  9               0.818182  \n",
       "4                  7               1.000000  "
      ]
     },
     "execution_count": 28,
     "metadata": {},
     "output_type": "execute_result"
    }
   ],
   "source": [
    "data_copy.head()"
   ]
  },
  {
   "cell_type": "markdown",
   "id": "076cfef5",
   "metadata": {},
   "source": [
    "## Prepping Our Model\n",
    "- Our model will consist of three parts:\n",
    "    1. Noisy tags, which we will extract from each sentence\n",
    "        - We will grab keywords using [yake](https://github.com/LIAAD/yake/blob/master/README.md)\n",
    "            - We will use the keywords extracted from yake and create a new column holding those words and their weights\n",
    "            \n",
    "        - We will compute the nouns and verbs ('noisy tags') over the whole df and add these to a new column using [NLTK](https://www.nltk.org/)\n",
    "            - We will use these nouns and verbs extracted to create a new column holding them\n",
    "            \n",
    "            <br>\n",
    "    2. The sentence itself\n",
    "        - Tokenize our data using [AutoProcessor](https://huggingface.co/docs/transformers/main_classes/processors)\n",
    "            - `AutoProcessor` always works and automatically chooses the correct class for the model you are using\n",
    "                - The `AutoProcessor` will use a pretrained bert model \n",
    "       \n",
    "       - Generate tokens for each word:\n",
    "           - BERT expects inputIds and attention masks\n",
    "               - `inputIds`: a mapping between tokens and their ids\n",
    "                   - each word in the vector has a unique id, the input id maps this unique id to its token\n",
    "               - `attention mask`: depicts where the padding are in the comment\n",
    "                   - 1 indicates that the mask should perform an action\n",
    "                   - 0 indicates that it is a padding value and should be left alone\n",
    "                   \n",
    "       - Generate training data\n",
    "           - [encode_plus](https://huggingface.co/docs/transformers/v4.26.1/en/internal/tokenization_utils#transformers.PreTrainedTokenizerBase.encode_plus) will turn our comments into a matrix of integers\n",
    "           - We will turn our original dataset into a tf.data.Dataset and split 80/20 using .skip and .take\n",
    "           \n",
    "            \n",
    "            \n",
    "            \n",
    "            \n",
    "    3. The image<br><br>\n",
    "- We need to use a tokenizer:\n",
    "    1. convert text into a sequence of tokens\n",
    "    2. create a numerical representation of the tokens\n",
    "    3. assemble them into tensors \n",
    "    <br><br>\n",
    "   \n",
    "\n",
    "\n",
    "Since the data is massive, I will split the data into the first 100 rows to get a feel on how the data will perform."
   ]
  },
  {
   "cell_type": "code",
   "execution_count": 29,
   "id": "68e82da3",
   "metadata": {},
   "outputs": [],
   "source": [
    "import yake\n",
    "\n",
    "\n",
    "data_copy = data_copy[:100]\n",
    "\n",
    "def extract_noisy_tags(df, \n",
    "                       column_name, \n",
    "                       language='en', \n",
    "                       max_ngram_size=3, \n",
    "                       dedupLim=0.9, \n",
    "                       dedupFunc='seqm', \n",
    "                       num_keywords=5):\n",
    "    '''\n",
    "        This function will use the yake library to grab the highest weighted tags from each comment\n",
    "        \n",
    "        args:\n",
    "            df: pandas dataframe\n",
    "            column_name: the name of the column needed to extract information from\n",
    "            language: english\n",
    "            max_ngram_size: maximum number of n-grams to consider\n",
    "            dedupLim: threshold cutoff\n",
    "            dedupFunc: algorithm specification\n",
    "            num_keywords: number of keywords to extract\n",
    "            \n",
    "        return:\n",
    "            pandas dataframe\n",
    "    '''\n",
    "    \n",
    "    kw_extractor = yake.KeywordExtractor(lan=language, n=max_ngram_size, top=num_keywords) #create the keyword extractor object with paramerts\n",
    "    keyword_counts = []\n",
    "    for sentence in df[column_name]:\n",
    "        keywords = kw_extractor.extract_keywords(sentence) #extract the keywords from the sentence\n",
    "        keyword_counts.append(keywords)                    #add the keywords to the list\n",
    "    df['keywords'] = keyword_counts                        #create a new column and add the 'noisy tags'\n",
    "    return df\n",
    "\n",
    "data_copy = extract_noisy_tags(data_copy, 'comment')\n"
   ]
  },
  {
   "cell_type": "code",
   "execution_count": 30,
   "id": "be9d4f09",
   "metadata": {},
   "outputs": [
    {
     "name": "stderr",
     "output_type": "stream",
     "text": [
      "[nltk_data] Downloading package averaged_perceptron_tagger to\n",
      "[nltk_data]     /Users/blakedickerson/nltk_data...\n",
      "[nltk_data]   Package averaged_perceptron_tagger is already up-to-\n",
      "[nltk_data]       date!\n"
     ]
    }
   ],
   "source": [
    "nltk.download('averaged_perceptron_tagger')\n",
    "\n",
    "def extract_nouns_verbs(df, column_name):\n",
    "    '''\n",
    "        This function will use the NLTK library to tag the nouns and verbs from each commment and put them in a new column\n",
    "        \n",
    "        args:\n",
    "            df: pandas dataframe\n",
    "            column_name: the name of the column needed to extract information from\n",
    "\n",
    "        return:\n",
    "            pandas dataframe\n",
    "    '''\n",
    "        \n",
    "    nouns_verbs = []\n",
    "    for sentence in df[column_name]:\n",
    "        tokens = nltk.word_tokenize(sentence) #tokenize each word in the sentence\n",
    "        tagged = nltk.pos_tag(tokens)         #part of speech tagging\n",
    "        nv = [word for (word, pos) in tagged if pos.startswith('N') or pos.startswith('V')] #get the nouns and verbs from the tagged data\n",
    "        nouns_verbs.append(nv) #add nouns and verbs to list\n",
    "    df['noisy_tags'] = nouns_verbs\n",
    "    return df\n",
    "\n",
    "data_copy = extract_nouns_verbs(data_copy, 'comment')"
   ]
  },
  {
   "cell_type": "code",
   "execution_count": 31,
   "id": "7198b888",
   "metadata": {
    "scrolled": true
   },
   "outputs": [
    {
     "data": {
      "text/html": [
       "<div>\n",
       "<style scoped>\n",
       "    .dataframe tbody tr th:only-of-type {\n",
       "        vertical-align: middle;\n",
       "    }\n",
       "\n",
       "    .dataframe tbody tr th {\n",
       "        vertical-align: top;\n",
       "    }\n",
       "\n",
       "    .dataframe thead th {\n",
       "        text-align: right;\n",
       "    }\n",
       "</style>\n",
       "<table border=\"1\" class=\"dataframe\">\n",
       "  <thead>\n",
       "    <tr style=\"text-align: right;\">\n",
       "      <th></th>\n",
       "      <th>image_name</th>\n",
       "      <th>comment_number</th>\n",
       "      <th>comment</th>\n",
       "      <th>cleaned_comment</th>\n",
       "      <th>label</th>\n",
       "      <th>word_count</th>\n",
       "      <th>unique_word_count</th>\n",
       "      <th>unique_words_vs_words</th>\n",
       "      <th>keywords</th>\n",
       "      <th>noisy_tags</th>\n",
       "    </tr>\n",
       "  </thead>\n",
       "  <tbody>\n",
       "    <tr>\n",
       "      <th>0</th>\n",
       "      <td>1000092795.jpg</td>\n",
       "      <td>0</td>\n",
       "      <td>Two young guys with shaggy hair look at their...</td>\n",
       "      <td>two young guys shaggy hair look hands hanging ...</td>\n",
       "      <td>0</td>\n",
       "      <td>17</td>\n",
       "      <td>17</td>\n",
       "      <td>1.000000</td>\n",
       "      <td>[(young guys, 0.09700399286574239), (guys with...</td>\n",
       "      <td>[guys, hair, look, hands, hanging, yard]</td>\n",
       "    </tr>\n",
       "    <tr>\n",
       "      <th>1</th>\n",
       "      <td>1000092795.jpg</td>\n",
       "      <td>1</td>\n",
       "      <td>Two young , White males are outside near many...</td>\n",
       "      <td>two young white males outside near many bushes</td>\n",
       "      <td>0</td>\n",
       "      <td>11</td>\n",
       "      <td>11</td>\n",
       "      <td>1.000000</td>\n",
       "      <td>[(White males, 0.026233073037508336), (White, ...</td>\n",
       "      <td>[White, males, are, bushes]</td>\n",
       "    </tr>\n",
       "    <tr>\n",
       "      <th>2</th>\n",
       "      <td>1000092795.jpg</td>\n",
       "      <td>2</td>\n",
       "      <td>Two men in green shirts are standing in a yard .</td>\n",
       "      <td>two men green shirts standing yard</td>\n",
       "      <td>0</td>\n",
       "      <td>11</td>\n",
       "      <td>10</td>\n",
       "      <td>0.909091</td>\n",
       "      <td>[(men in green, 0.02570861714399338), (green s...</td>\n",
       "      <td>[men, shirts, are, standing, yard]</td>\n",
       "    </tr>\n",
       "    <tr>\n",
       "      <th>3</th>\n",
       "      <td>1000092795.jpg</td>\n",
       "      <td>3</td>\n",
       "      <td>A man in a blue shirt standing in a garden .</td>\n",
       "      <td>man blue shirt standing garden</td>\n",
       "      <td>0</td>\n",
       "      <td>11</td>\n",
       "      <td>9</td>\n",
       "      <td>0.818182</td>\n",
       "      <td>[(blue shirt standing, 0.0016012214736657916),...</td>\n",
       "      <td>[man, shirt, standing, garden]</td>\n",
       "    </tr>\n",
       "    <tr>\n",
       "      <th>4</th>\n",
       "      <td>1000092795.jpg</td>\n",
       "      <td>4</td>\n",
       "      <td>Two friends enjoy time spent together .</td>\n",
       "      <td>two friends enjoy time spent together</td>\n",
       "      <td>0</td>\n",
       "      <td>7</td>\n",
       "      <td>7</td>\n",
       "      <td>1.000000</td>\n",
       "      <td>[(friends enjoy time, 0.03339840940482845), (e...</td>\n",
       "      <td>[friends, time, spent]</td>\n",
       "    </tr>\n",
       "  </tbody>\n",
       "</table>\n",
       "</div>"
      ],
      "text/plain": [
       "       image_name comment_number  \\\n",
       "0  1000092795.jpg              0   \n",
       "1  1000092795.jpg              1   \n",
       "2  1000092795.jpg              2   \n",
       "3  1000092795.jpg              3   \n",
       "4  1000092795.jpg              4   \n",
       "\n",
       "                                             comment  \\\n",
       "0   Two young guys with shaggy hair look at their...   \n",
       "1   Two young , White males are outside near many...   \n",
       "2   Two men in green shirts are standing in a yard .   \n",
       "3       A man in a blue shirt standing in a garden .   \n",
       "4            Two friends enjoy time spent together .   \n",
       "\n",
       "                                     cleaned_comment  label  word_count  \\\n",
       "0  two young guys shaggy hair look hands hanging ...      0          17   \n",
       "1     two young white males outside near many bushes      0          11   \n",
       "2                 two men green shirts standing yard      0          11   \n",
       "3                     man blue shirt standing garden      0          11   \n",
       "4              two friends enjoy time spent together      0           7   \n",
       "\n",
       "   unique_word_count  unique_words_vs_words  \\\n",
       "0                 17               1.000000   \n",
       "1                 11               1.000000   \n",
       "2                 10               0.909091   \n",
       "3                  9               0.818182   \n",
       "4                  7               1.000000   \n",
       "\n",
       "                                            keywords  \\\n",
       "0  [(young guys, 0.09700399286574239), (guys with...   \n",
       "1  [(White males, 0.026233073037508336), (White, ...   \n",
       "2  [(men in green, 0.02570861714399338), (green s...   \n",
       "3  [(blue shirt standing, 0.0016012214736657916),...   \n",
       "4  [(friends enjoy time, 0.03339840940482845), (e...   \n",
       "\n",
       "                                 noisy_tags  \n",
       "0  [guys, hair, look, hands, hanging, yard]  \n",
       "1               [White, males, are, bushes]  \n",
       "2        [men, shirts, are, standing, yard]  \n",
       "3            [man, shirt, standing, garden]  \n",
       "4                    [friends, time, spent]  "
      ]
     },
     "execution_count": 31,
     "metadata": {},
     "output_type": "execute_result"
    }
   ],
   "source": [
    "data_copy.head()"
   ]
  },
  {
   "cell_type": "code",
   "execution_count": 32,
   "id": "999a1430",
   "metadata": {},
   "outputs": [],
   "source": [
    "from transformers import AutoTokenizer\n",
    "\n",
    "tokenizer = AutoTokenizer.from_pretrained('bert-base-cased')"
   ]
  },
  {
   "cell_type": "code",
   "execution_count": 33,
   "id": "f21c5c5a",
   "metadata": {},
   "outputs": [],
   "source": [
    "sequence_len = 512\n",
    "number_of_samples = len(data_copy)\n",
    "num_classes = int(number_of_samples / 5)\n",
    "\n",
    "Xids = np.zeros((number_of_samples, sequence_len))       #create a zero array with sequence len columns and num samples rows\n",
    "attn_masks = np.zeros((number_of_samples, sequence_len)) #create a zero array with sequence len columns and num samples rows\n"
   ]
  },
  {
   "cell_type": "code",
   "execution_count": 34,
   "id": "6b0e832f",
   "metadata": {},
   "outputs": [
    {
     "data": {
      "text/plain": [
       "((100, 512), (100, 512))"
      ]
     },
     "execution_count": 34,
     "metadata": {},
     "output_type": "execute_result"
    }
   ],
   "source": [
    "Xids.shape, attn_masks.shape"
   ]
  },
  {
   "cell_type": "code",
   "execution_count": 35,
   "id": "23a3e575",
   "metadata": {},
   "outputs": [],
   "source": [
    "from tqdm.auto import tqdm\n",
    "\n",
    "def generate_training_data(df, ids, masks, tokenizer):\n",
    "    '''\n",
    "        This function will encode each comment 1 by 1\n",
    "        \n",
    "        args:\n",
    "            df: pandas dataframe\n",
    "            ids: Xids\n",
    "            masks: attn_mask\n",
    "            tokenizer: huggingface AutoTokenizer\n",
    "            \n",
    "        return:\n",
    "            ids, masks\n",
    "    '''\n",
    "    for i, text in tqdm(enumerate(df['comment'])):\n",
    "        tokenized_text = tokenizer.encode_plus(\n",
    "                              text,\n",
    "                              max_length=sequence_len,      #max length of each comment so we can truncate if needed\n",
    "                              truncation=True,              #if the comment is longer than max_length only take up to max_length values\n",
    "                              padding='max_length',         #make all elements the same size of max_length\n",
    "                              add_special_tokens=True,      #add [cls] [pad] [sep]\n",
    "                              return_tensors='tf'           #return the data as tensorflow tensors\n",
    "        )\n",
    "        ids[i, :] = tokenized_text.input_ids          #at current index to the end tokenize the input ids\n",
    "        masks[i, :] = tokenized_text.attention_mask   #at current index to the end tokenize the mask\n",
    "    return ids, masks"
   ]
  },
  {
   "cell_type": "code",
   "execution_count": 36,
   "id": "89b38c23",
   "metadata": {
    "scrolled": true
   },
   "outputs": [
    {
     "data": {
      "application/vnd.jupyter.widget-view+json": {
       "model_id": "50fdf325a2d4457e84f3ca6cb0f65dfb",
       "version_major": 2,
       "version_minor": 0
      },
      "text/plain": [
       "0it [00:00, ?it/s]"
      ]
     },
     "metadata": {},
     "output_type": "display_data"
    },
    {
     "name": "stdout",
     "output_type": "stream",
     "text": [
      "Metal device set to: Apple M1 Pro\n"
     ]
    },
    {
     "name": "stderr",
     "output_type": "stream",
     "text": [
      "2023-02-16 16:25:55.035107: I tensorflow/core/common_runtime/pluggable_device/pluggable_device_factory.cc:305] Could not identify NUMA node of platform GPU ID 0, defaulting to 0. Your kernel may not have been built with NUMA support.\n",
      "2023-02-16 16:25:55.035298: I tensorflow/core/common_runtime/pluggable_device/pluggable_device_factory.cc:271] Created TensorFlow device (/job:localhost/replica:0/task:0/device:GPU:0 with 0 MB memory) -> physical PluggableDevice (device: 0, name: METAL, pci bus id: <undefined>)\n"
     ]
    }
   ],
   "source": [
    "Xids, attn_masks = generate_training_data(data_copy, Xids, attn_masks, tokenizer)"
   ]
  },
  {
   "cell_type": "code",
   "execution_count": 37,
   "id": "4d712ac2",
   "metadata": {
    "scrolled": true
   },
   "outputs": [
    {
     "data": {
      "text/plain": [
       "array([[ 101., 1960., 1685., ...,    0.,    0.,    0.],\n",
       "       [ 101., 1960., 1685., ...,    0.,    0.,    0.],\n",
       "       [ 101., 1960., 1441., ...,    0.,    0.,    0.],\n",
       "       ...,\n",
       "       [ 101., 3396., 1535., ...,    0.,    0.,    0.],\n",
       "       [ 101.,  138., 9670., ...,    0.,    0.,    0.],\n",
       "       [ 101.,  138., 1372., ...,    0.,    0.,    0.]])"
      ]
     },
     "execution_count": 37,
     "metadata": {},
     "output_type": "execute_result"
    }
   ],
   "source": [
    "Xids"
   ]
  },
  {
   "cell_type": "code",
   "execution_count": 38,
   "id": "3f8db306",
   "metadata": {
    "scrolled": true
   },
   "outputs": [
    {
     "data": {
      "text/plain": [
       "array([[1., 1., 1., ..., 0., 0., 0.],\n",
       "       [1., 1., 1., ..., 0., 0., 0.],\n",
       "       [1., 1., 1., ..., 0., 0., 0.],\n",
       "       ...,\n",
       "       [1., 1., 1., ..., 0., 0., 0.],\n",
       "       [1., 1., 1., ..., 0., 0., 0.],\n",
       "       [1., 1., 1., ..., 0., 0., 0.]])"
      ]
     },
     "execution_count": 38,
     "metadata": {},
     "output_type": "execute_result"
    }
   ],
   "source": [
    "attn_masks"
   ]
  },
  {
   "cell_type": "code",
   "execution_count": 39,
   "id": "804d3aba",
   "metadata": {},
   "outputs": [
    {
     "data": {
      "text/plain": [
       "(100, 20)"
      ]
     },
     "execution_count": 39,
     "metadata": {},
     "output_type": "execute_result"
    }
   ],
   "source": [
    "labels = np.zeros((number_of_samples, num_classes))\n",
    "labels.shape"
   ]
  },
  {
   "cell_type": "code",
   "execution_count": 40,
   "id": "808151df",
   "metadata": {},
   "outputs": [],
   "source": [
    "labels[np.arange(number_of_samples), data_copy['label'].values] = 1"
   ]
  },
  {
   "cell_type": "code",
   "execution_count": 41,
   "id": "1a7ecccb",
   "metadata": {},
   "outputs": [
    {
     "data": {
      "text/plain": [
       "array([[1., 0., 0., ..., 0., 0., 0.],\n",
       "       [1., 0., 0., ..., 0., 0., 0.],\n",
       "       [1., 0., 0., ..., 0., 0., 0.],\n",
       "       ...,\n",
       "       [0., 0., 0., ..., 0., 0., 1.],\n",
       "       [0., 0., 0., ..., 0., 0., 1.],\n",
       "       [0., 0., 0., ..., 0., 0., 1.]])"
      ]
     },
     "execution_count": 41,
     "metadata": {},
     "output_type": "execute_result"
    }
   ],
   "source": [
    "labels"
   ]
  },
  {
   "cell_type": "code",
   "execution_count": 42,
   "id": "421bd8de",
   "metadata": {},
   "outputs": [
    {
     "data": {
      "text/plain": [
       "<TakeDataset element_spec=(TensorSpec(shape=(512,), dtype=tf.float64, name=None), TensorSpec(shape=(512,), dtype=tf.float64, name=None), TensorSpec(shape=(20,), dtype=tf.float64, name=None))>"
      ]
     },
     "execution_count": 42,
     "metadata": {},
     "output_type": "execute_result"
    }
   ],
   "source": [
    "import tensorflow as tf\n",
    "\n",
    "dataset = tf.data.Dataset.from_tensor_slices((Xids, attn_masks, labels)) #turn our data into tensors\n",
    "dataset.take(1) #take a random sample of the data"
   ]
  },
  {
   "cell_type": "code",
   "execution_count": 43,
   "id": "85678ab9",
   "metadata": {},
   "outputs": [],
   "source": [
    "def SentimentDatasetMapFunction(input_ids, attention_masks, labels):\n",
    "    '''\n",
    "        This function will convert our dataset to its required format by mapping our values\n",
    "        \n",
    "        args:\n",
    "            input_ids: Xids\n",
    "            attention_masks: attn_masks\n",
    "            labels: labels\n",
    "            \n",
    "        return:\n",
    "            inputs_ids, attention_masks, labels\n",
    "    '''\n",
    "    return {\n",
    "        'input_ids': input_ids,\n",
    "        'attention_mask': attention_masks\n",
    "    }, labels\n",
    "\n",
    "dataset = dataset.map(SentimentDatasetMapFunction)"
   ]
  },
  {
   "cell_type": "code",
   "execution_count": 44,
   "id": "8ded9105",
   "metadata": {},
   "outputs": [
    {
     "data": {
      "text/plain": [
       "<TakeDataset element_spec=({'input_ids': TensorSpec(shape=(512,), dtype=tf.float64, name=None), 'attention_mask': TensorSpec(shape=(512,), dtype=tf.float64, name=None)}, TensorSpec(shape=(20,), dtype=tf.float64, name=None))>"
      ]
     },
     "execution_count": 44,
     "metadata": {},
     "output_type": "execute_result"
    }
   ],
   "source": [
    "dataset.take(1) #take a random sample of the data"
   ]
  },
  {
   "cell_type": "code",
   "execution_count": 45,
   "id": "d1c6fa7e",
   "metadata": {},
   "outputs": [],
   "source": [
    "batch_size = 16\n",
    "dataset = dataset.shuffle(10000).batch(batch_size, drop_remainder=True) #create a random seed for distribution"
   ]
  },
  {
   "cell_type": "code",
   "execution_count": 46,
   "id": "1a429744",
   "metadata": {
    "scrolled": true
   },
   "outputs": [
    {
     "data": {
      "text/plain": [
       "<TakeDataset element_spec=({'input_ids': TensorSpec(shape=(16, 512), dtype=tf.float64, name=None), 'attention_mask': TensorSpec(shape=(16, 512), dtype=tf.float64, name=None)}, TensorSpec(shape=(16, 20), dtype=tf.float64, name=None))>"
      ]
     },
     "execution_count": 46,
     "metadata": {},
     "output_type": "execute_result"
    }
   ],
   "source": [
    "dataset.take(1)"
   ]
  },
  {
   "cell_type": "code",
   "execution_count": 47,
   "id": "50b7ca30",
   "metadata": {},
   "outputs": [],
   "source": [
    "p = 0.8\n",
    "train_size = int((number_of_samples // batch_size) * p) #for each batch we will have # of samples / batch_size and take out 80% of that to train with"
   ]
  },
  {
   "cell_type": "code",
   "execution_count": 48,
   "id": "a94b60e5",
   "metadata": {},
   "outputs": [
    {
     "data": {
      "text/plain": [
       "4"
      ]
     },
     "execution_count": 48,
     "metadata": {},
     "output_type": "execute_result"
    }
   ],
   "source": [
    "train_size"
   ]
  },
  {
   "cell_type": "code",
   "execution_count": 49,
   "id": "7dda51d0",
   "metadata": {},
   "outputs": [],
   "source": [
    "train_dataset = dataset.take(train_size) #create train dataset\n",
    "val_dataset = dataset.skip(train_size)   #create test dataset"
   ]
  },
  {
   "cell_type": "markdown",
   "id": "b44fd357",
   "metadata": {},
   "source": [
    "## Building our Model"
   ]
  },
  {
   "cell_type": "code",
   "execution_count": 50,
   "id": "ef84addd",
   "metadata": {
    "scrolled": true
   },
   "outputs": [
    {
     "name": "stderr",
     "output_type": "stream",
     "text": [
      "Some layers from the model checkpoint at bert-base-cased were not used when initializing TFBertModel: ['nsp___cls', 'mlm___cls']\n",
      "- This IS expected if you are initializing TFBertModel from the checkpoint of a model trained on another task or with another architecture (e.g. initializing a BertForSequenceClassification model from a BertForPreTraining model).\n",
      "- This IS NOT expected if you are initializing TFBertModel from the checkpoint of a model that you expect to be exactly identical (initializing a BertForSequenceClassification model from a BertForSequenceClassification model).\n",
      "All the layers of TFBertModel were initialized from the model checkpoint at bert-base-cased.\n",
      "If your task is similar to the task the model of the checkpoint was trained on, you can already use TFBertModel for predictions without further training.\n"
     ]
    }
   ],
   "source": [
    "from transformers import TFBertModel\n",
    "\n",
    "model = TFBertModel.from_pretrained('bert-base-cased') #instantiate model"
   ]
  },
  {
   "cell_type": "code",
   "execution_count": 51,
   "id": "21cb311a",
   "metadata": {
    "scrolled": true
   },
   "outputs": [
    {
     "name": "stdout",
     "output_type": "stream",
     "text": [
      "Model: \"model\"\n",
      "__________________________________________________________________________________________________\n",
      " Layer (type)                   Output Shape         Param #     Connected to                     \n",
      "==================================================================================================\n",
      " input_ids (InputLayer)         [(None, 512)]        0           []                               \n",
      "                                                                                                  \n",
      " attention_mask (InputLayer)    [(None, 512)]        0           []                               \n",
      "                                                                                                  \n",
      " bert (TFBertMainLayer)         TFBaseModelOutputWi  108310272   ['input_ids[0][0]',              \n",
      "                                thPoolingAndCrossAt               'attention_mask[0][0]']         \n",
      "                                tentions(last_hidde                                               \n",
      "                                n_state=(None, 512,                                               \n",
      "                                 768),                                                            \n",
      "                                 pooler_output=(Non                                               \n",
      "                                e, 768),                                                          \n",
      "                                 past_key_values=No                                               \n",
      "                                ne, hidden_states=N                                               \n",
      "                                one, attentions=Non                                               \n",
      "                                e, cross_attentions                                               \n",
      "                                =None)                                                            \n",
      "                                                                                                  \n",
      " hidden_layer (Dense)           (None, 1024)         787456      ['bert[0][1]']                   \n",
      "                                                                                                  \n",
      " output_layer (Dense)           (None, 20)           20500       ['hidden_layer[0][0]']           \n",
      "                                                                                                  \n",
      "==================================================================================================\n",
      "Total params: 109,118,228\n",
      "Trainable params: 109,118,228\n",
      "Non-trainable params: 0\n",
      "__________________________________________________________________________________________________\n"
     ]
    }
   ],
   "source": [
    "#we need to input layers, input_ids and attention_masks\n",
    "input_ids = tf.keras.layers.Input(shape=(sequence_len,), name='input_ids', dtype='int32')\n",
    "attn_masks = tf.keras.layers.Input(shape=(sequence_len,), name='attention_mask', dtype='int32')\n",
    "\n",
    "#embedding layer, serves as an pooled layer[1], can also change to an activation layer[0]\n",
    "bert_embds = model.bert(input_ids, attention_mask=attn_masks)[1] \n",
    "\n",
    "#hidden layer, creates a Dense layer with sequence_len * 2 neurons can change neurons and activations\n",
    "hidden_layer = tf.keras.layers.Dense(sequence_len*2, activation='relu', name='hidden_layer')(bert_embds)\n",
    "\n",
    "#can create other hidden layers here too if needed\n",
    "\n",
    "#output layer, takes in the number of classes for neurons, using softmax because is calculates probability of classes\n",
    "output_layer = tf.keras.layers.Dense(num_classes, activation='softmax', name='output_layer')(hidden_layer) \n",
    "\n",
    "#build model\n",
    "built_model = tf.keras.Model(inputs=[input_ids, attn_masks], outputs=output_layer)\n",
    "built_model.summary()"
   ]
  },
  {
   "cell_type": "code",
   "execution_count": 52,
   "id": "873a0c06",
   "metadata": {},
   "outputs": [],
   "source": [
    "#create optimizer, can change learning rate if needed \n",
    "optimizer = tf.keras.optimizers.Adam(learning_rate=0.00001, decay=0.000001)\n",
    "#create loss function\n",
    "loss_function = tf.keras.losses.CategoricalCrossentropy()\n",
    "#create accuracy metrics\n",
    "accuracy = tf.keras.metrics.CategoricalAccuracy('accuracy')"
   ]
  },
  {
   "cell_type": "code",
   "execution_count": 53,
   "id": "571eeacf",
   "metadata": {},
   "outputs": [],
   "source": [
    "built_model.compile(optimizer=optimizer, loss=loss_function, metrics=[accuracy]) #compile model"
   ]
  },
  {
   "cell_type": "code",
   "execution_count": 54,
   "id": "2189586e",
   "metadata": {
    "scrolled": false
   },
   "outputs": [
    {
     "name": "stdout",
     "output_type": "stream",
     "text": [
      "Epoch 1/50\n"
     ]
    },
    {
     "name": "stderr",
     "output_type": "stream",
     "text": [
      "2023-02-16 16:26:53.480060: W tensorflow/core/platform/profile_utils/cpu_utils.cc:128] Failed to get CPU frequency: 0 Hz\n",
      "2023-02-16 16:26:53.484092: I tensorflow/core/grappler/optimizers/custom_graph_optimizer_registry.cc:113] Plugin optimizer for device_type GPU is enabled.\n"
     ]
    },
    {
     "name": "stdout",
     "output_type": "stream",
     "text": [
      "4/4 [==============================] - ETA: 0s - loss: 3.1045 - accuracy: 0.0625"
     ]
    },
    {
     "name": "stderr",
     "output_type": "stream",
     "text": [
      "2023-02-16 16:27:28.269621: I tensorflow/core/grappler/optimizers/custom_graph_optimizer_registry.cc:113] Plugin optimizer for device_type GPU is enabled.\n"
     ]
    },
    {
     "name": "stdout",
     "output_type": "stream",
     "text": [
      "4/4 [==============================] - 40s 9s/step - loss: 3.1045 - accuracy: 0.0625 - val_loss: 3.0756 - val_accuracy: 0.0312\n",
      "Epoch 2/50\n",
      "4/4 [==============================] - 38s 10s/step - loss: 3.0400 - accuracy: 0.1094 - val_loss: 3.2333 - val_accuracy: 0.0312\n",
      "Epoch 3/50\n",
      "4/4 [==============================] - 34s 8s/step - loss: 3.0336 - accuracy: 0.0938 - val_loss: 2.9961 - val_accuracy: 0.0625\n",
      "Epoch 4/50\n",
      "4/4 [==============================] - 36s 9s/step - loss: 2.9918 - accuracy: 0.0938 - val_loss: 2.9735 - val_accuracy: 0.0312\n",
      "Epoch 5/50\n",
      "4/4 [==============================] - 33s 9s/step - loss: 2.9291 - accuracy: 0.1094 - val_loss: 2.8571 - val_accuracy: 0.1562\n",
      "Epoch 6/50\n",
      "4/4 [==============================] - 37s 10s/step - loss: 2.8946 - accuracy: 0.1094 - val_loss: 2.8232 - val_accuracy: 0.0625\n",
      "Epoch 7/50\n",
      "4/4 [==============================] - 41s 10s/step - loss: 2.8331 - accuracy: 0.1406 - val_loss: 2.7874 - val_accuracy: 0.1562\n",
      "Epoch 8/50\n",
      "4/4 [==============================] - 36s 9s/step - loss: 2.8220 - accuracy: 0.1094 - val_loss: 2.7674 - val_accuracy: 0.0625\n",
      "Epoch 9/50\n",
      "4/4 [==============================] - 35s 9s/step - loss: 2.7746 - accuracy: 0.1562 - val_loss: 2.7796 - val_accuracy: 0.0312\n",
      "Epoch 10/50\n",
      "4/4 [==============================] - 33s 8s/step - loss: 2.7790 - accuracy: 0.1719 - val_loss: 2.6804 - val_accuracy: 0.2188\n",
      "Epoch 11/50\n",
      "4/4 [==============================] - 34s 9s/step - loss: 2.7020 - accuracy: 0.2500 - val_loss: 2.5839 - val_accuracy: 0.2812\n",
      "Epoch 12/50\n",
      "4/4 [==============================] - 32s 8s/step - loss: 2.6190 - accuracy: 0.2500 - val_loss: 2.6264 - val_accuracy: 0.2500\n",
      "Epoch 13/50\n",
      "4/4 [==============================] - 31s 8s/step - loss: 2.6042 - accuracy: 0.3125 - val_loss: 2.5479 - val_accuracy: 0.3125\n",
      "Epoch 14/50\n",
      "4/4 [==============================] - 30s 8s/step - loss: 2.5307 - accuracy: 0.3906 - val_loss: 2.5677 - val_accuracy: 0.2812\n",
      "Epoch 15/50\n",
      "4/4 [==============================] - 34s 9s/step - loss: 2.5056 - accuracy: 0.3281 - val_loss: 2.3495 - val_accuracy: 0.4375\n",
      "Epoch 16/50\n",
      "4/4 [==============================] - 35s 9s/step - loss: 2.4392 - accuracy: 0.3906 - val_loss: 2.1994 - val_accuracy: 0.3750\n",
      "Epoch 17/50\n",
      "4/4 [==============================] - 31s 7s/step - loss: 2.3487 - accuracy: 0.4844 - val_loss: 2.2451 - val_accuracy: 0.4688\n",
      "Epoch 18/50\n",
      "4/4 [==============================] - 32s 9s/step - loss: 2.3426 - accuracy: 0.5000 - val_loss: 2.1576 - val_accuracy: 0.4375\n",
      "Epoch 19/50\n",
      "4/4 [==============================] - 30s 8s/step - loss: 2.3007 - accuracy: 0.4219 - val_loss: 2.0868 - val_accuracy: 0.4688\n",
      "Epoch 20/50\n",
      "4/4 [==============================] - 34s 9s/step - loss: 2.2103 - accuracy: 0.4531 - val_loss: 2.0496 - val_accuracy: 0.5625\n",
      "Epoch 21/50\n",
      "4/4 [==============================] - 29s 8s/step - loss: 2.1188 - accuracy: 0.5469 - val_loss: 1.8988 - val_accuracy: 0.7188\n",
      "Epoch 22/50\n",
      "4/4 [==============================] - 34s 9s/step - loss: 2.0203 - accuracy: 0.7031 - val_loss: 1.8019 - val_accuracy: 0.8438\n",
      "Epoch 23/50\n",
      "4/4 [==============================] - 33s 8s/step - loss: 1.9603 - accuracy: 0.7500 - val_loss: 1.7630 - val_accuracy: 0.8125\n",
      "Epoch 24/50\n",
      "4/4 [==============================] - 32s 8s/step - loss: 1.8205 - accuracy: 0.7969 - val_loss: 1.6258 - val_accuracy: 0.8438\n",
      "Epoch 25/50\n",
      "4/4 [==============================] - 33s 8s/step - loss: 1.8051 - accuracy: 0.7969 - val_loss: 1.5501 - val_accuracy: 0.8125\n",
      "Epoch 26/50\n",
      "4/4 [==============================] - 34s 8s/step - loss: 1.7267 - accuracy: 0.7812 - val_loss: 1.4363 - val_accuracy: 0.9062\n",
      "Epoch 27/50\n",
      "4/4 [==============================] - 32s 9s/step - loss: 1.5893 - accuracy: 0.8281 - val_loss: 1.3784 - val_accuracy: 0.9062\n",
      "Epoch 28/50\n",
      "4/4 [==============================] - 32s 8s/step - loss: 1.5654 - accuracy: 0.7656 - val_loss: 1.3653 - val_accuracy: 0.9062\n",
      "Epoch 29/50\n",
      "4/4 [==============================] - 36s 9s/step - loss: 1.5452 - accuracy: 0.7812 - val_loss: 1.3305 - val_accuracy: 0.9062\n",
      "Epoch 30/50\n",
      "4/4 [==============================] - 32s 8s/step - loss: 1.4022 - accuracy: 0.8438 - val_loss: 1.2248 - val_accuracy: 1.0000\n",
      "Epoch 31/50\n",
      "4/4 [==============================] - 32s 8s/step - loss: 1.3498 - accuracy: 0.9062 - val_loss: 1.1186 - val_accuracy: 1.0000\n",
      "Epoch 32/50\n",
      "4/4 [==============================] - 30s 7s/step - loss: 1.3570 - accuracy: 0.8750 - val_loss: 1.0987 - val_accuracy: 1.0000\n",
      "Epoch 33/50\n",
      "4/4 [==============================] - 33s 9s/step - loss: 1.2281 - accuracy: 0.8750 - val_loss: 1.0835 - val_accuracy: 1.0000\n",
      "Epoch 34/50\n",
      "4/4 [==============================] - 34s 9s/step - loss: 1.1210 - accuracy: 0.9688 - val_loss: 1.0358 - val_accuracy: 0.9375\n",
      "Epoch 35/50\n",
      "4/4 [==============================] - 34s 9s/step - loss: 1.1599 - accuracy: 0.9375 - val_loss: 0.7909 - val_accuracy: 1.0000\n",
      "Epoch 36/50\n",
      "4/4 [==============================] - 36s 9s/step - loss: 1.1322 - accuracy: 0.9375 - val_loss: 0.7957 - val_accuracy: 0.9688\n",
      "Epoch 37/50\n",
      "4/4 [==============================] - 30s 8s/step - loss: 1.0202 - accuracy: 0.9062 - val_loss: 0.7614 - val_accuracy: 0.9688\n",
      "Epoch 38/50\n",
      "4/4 [==============================] - 36s 9s/step - loss: 0.8657 - accuracy: 0.9375 - val_loss: 0.7364 - val_accuracy: 1.0000\n",
      "Epoch 39/50\n",
      "4/4 [==============================] - 32s 8s/step - loss: 0.8422 - accuracy: 0.9844 - val_loss: 0.5853 - val_accuracy: 1.0000\n",
      "Epoch 40/50\n",
      "4/4 [==============================] - 32s 8s/step - loss: 0.7736 - accuracy: 1.0000 - val_loss: 0.6343 - val_accuracy: 1.0000\n",
      "Epoch 41/50\n",
      "4/4 [==============================] - 32s 8s/step - loss: 0.8048 - accuracy: 0.9844 - val_loss: 0.5724 - val_accuracy: 1.0000\n",
      "Epoch 42/50\n",
      "4/4 [==============================] - 29s 7s/step - loss: 0.7139 - accuracy: 0.9531 - val_loss: 0.6250 - val_accuracy: 0.9688\n",
      "Epoch 43/50\n",
      "4/4 [==============================] - 34s 9s/step - loss: 0.6819 - accuracy: 0.9844 - val_loss: 0.5156 - val_accuracy: 1.0000\n",
      "Epoch 44/50\n",
      "4/4 [==============================] - 34s 9s/step - loss: 0.6348 - accuracy: 1.0000 - val_loss: 0.4820 - val_accuracy: 1.0000\n",
      "Epoch 45/50\n",
      "4/4 [==============================] - 33s 8s/step - loss: 0.5824 - accuracy: 1.0000 - val_loss: 0.4220 - val_accuracy: 1.0000\n",
      "Epoch 46/50\n",
      "4/4 [==============================] - 33s 9s/step - loss: 0.5541 - accuracy: 1.0000 - val_loss: 0.4021 - val_accuracy: 0.9688\n",
      "Epoch 47/50\n",
      "4/4 [==============================] - 33s 9s/step - loss: 0.5631 - accuracy: 0.9844 - val_loss: 0.3579 - val_accuracy: 1.0000\n",
      "Epoch 48/50\n",
      "4/4 [==============================] - 35s 9s/step - loss: 0.4510 - accuracy: 1.0000 - val_loss: 0.3373 - val_accuracy: 1.0000\n",
      "Epoch 49/50\n",
      "4/4 [==============================] - 33s 9s/step - loss: 0.4590 - accuracy: 0.9844 - val_loss: 0.3514 - val_accuracy: 0.9688\n",
      "Epoch 50/50\n",
      "4/4 [==============================] - 33s 8s/step - loss: 0.4029 - accuracy: 1.0000 - val_loss: 0.3258 - val_accuracy: 0.9688\n"
     ]
    }
   ],
   "source": [
    "#create model history\n",
    "built_model_history = built_model.fit(\n",
    "    train_dataset,\n",
    "    validation_data=val_dataset,\n",
    "    epochs=50\n",
    ")"
   ]
  },
  {
   "cell_type": "markdown",
   "id": "470dc164",
   "metadata": {},
   "source": [
    "## Evaluating our Model"
   ]
  },
  {
   "cell_type": "code",
   "execution_count": 59,
   "id": "ed9ee630",
   "metadata": {
    "scrolled": true
   },
   "outputs": [
    {
     "data": {
      "image/png": "[encoded data removed]",
      "text/plain": [
       "<Figure size 3000x500 with 2 Axes>"
      ]
     },
     "metadata": {},
     "output_type": "display_data"
    }
   ],
   "source": [
    "import matplotlib.pyplot as plt\n",
    "\n",
    "x = list(range(1, 50+1))\n",
    "metric_list = list(built_model_history.history.keys())\n",
    "num_metrics = int(len(metric_list)/2)\n",
    "\n",
    "fig, ax = plt.subplots(nrows=1, ncols=num_metrics, figsize=(30, 5))\n",
    "\n",
    "for i in range(0, num_metrics):\n",
    "  ax[i].plot(x, built_model_history.history[metric_list[i]], marker=\"o\", label=metric_list[i].replace(\"_\", \" \"))\n",
    "  ax[i].plot(x, built_model_history.history[metric_list[i+num_metrics]], marker=\"o\", label=metric_list[i+num_metrics].replace(\"_\", \" \"))\n",
    "  ax[i].set_xlabel(\"epochs\",fontsize=14)\n",
    "  ax[i].set_title(metric_list[i].replace(\"_\", \" \"),fontsize=20)\n",
    "  ax[i].legend(loc=\"lower left\")"
   ]
  },
  {
   "cell_type": "markdown",
   "id": "60f89074",
   "metadata": {},
   "source": [
    "## Predictions"
   ]
  },
  {
   "cell_type": "code",
   "execution_count": 60,
   "id": "c2a2d525",
   "metadata": {},
   "outputs": [
    {
     "name": "stdout",
     "output_type": "stream",
     "text": [
      "[0, 1, 2, 3, 4, 5, 6, 7, 8, 9, 10, 11, 12, 13, 14, 15, 16, 17, 18, 19]\n"
     ]
    }
   ],
   "source": [
    "class_list = []\n",
    "for i in range(0,num_classes):\n",
    "    class_list.append(i)\n",
    "\n",
    "print(class_list)"
   ]
  },
  {
   "cell_type": "code",
   "execution_count": 61,
   "id": "70016808",
   "metadata": {},
   "outputs": [],
   "source": [
    "def prepare_data(text, tokenizer):\n",
    "    token = tokenizer.encode_plus(\n",
    "        text,\n",
    "        max_length=sequence_len, \n",
    "        truncation=True, \n",
    "        padding='max_length', \n",
    "        add_special_tokens=True,\n",
    "        return_tensors='tf'\n",
    "    )\n",
    "    return {\n",
    "        'input_ids': tf.cast(token.input_ids, tf.float64),\n",
    "        'attention_mask': tf.cast(token.attention_mask, tf.float64)\n",
    "    }\n"
   ]
  },
  {
   "cell_type": "code",
   "execution_count": 62,
   "id": "b1b11593",
   "metadata": {},
   "outputs": [],
   "source": [
    "def make_prediction(model, processed_data, classes=class_list):\n",
    "    probs = model.predict(processed_data)[0]\n",
    "    return classes[np.argmax(probs)]"
   ]
  },
  {
   "cell_type": "code",
   "execution_count": 67,
   "id": "821e8921",
   "metadata": {},
   "outputs": [
    {
     "data": {
      "text/html": [
       "<div>\n",
       "<style scoped>\n",
       "    .dataframe tbody tr th:only-of-type {\n",
       "        vertical-align: middle;\n",
       "    }\n",
       "\n",
       "    .dataframe tbody tr th {\n",
       "        vertical-align: top;\n",
       "    }\n",
       "\n",
       "    .dataframe thead th {\n",
       "        text-align: right;\n",
       "    }\n",
       "</style>\n",
       "<table border=\"1\" class=\"dataframe\">\n",
       "  <thead>\n",
       "    <tr style=\"text-align: right;\">\n",
       "      <th></th>\n",
       "      <th>image_name</th>\n",
       "      <th>comment_number</th>\n",
       "      <th>comment</th>\n",
       "      <th>cleaned_comment</th>\n",
       "      <th>label</th>\n",
       "      <th>word_count</th>\n",
       "      <th>unique_word_count</th>\n",
       "      <th>unique_words_vs_words</th>\n",
       "      <th>keywords</th>\n",
       "      <th>noisy_tags</th>\n",
       "    </tr>\n",
       "  </thead>\n",
       "  <tbody>\n",
       "    <tr>\n",
       "      <th>51</th>\n",
       "      <td>1001573224.jpg</td>\n",
       "      <td>1</td>\n",
       "      <td>Ballet dancers in a studio practice jumping w...</td>\n",
       "      <td>ballet dancers studio practice jumping wonderf...</td>\n",
       "      <td>10</td>\n",
       "      <td>11</td>\n",
       "      <td>11</td>\n",
       "      <td>1.0</td>\n",
       "      <td>[(studio practice jumping, 0.03339840940482845...</td>\n",
       "      <td>[Ballet, dancers, studio, practice, jumping, f...</td>\n",
       "    </tr>\n",
       "  </tbody>\n",
       "</table>\n",
       "</div>"
      ],
      "text/plain": [
       "        image_name comment_number  \\\n",
       "51  1001573224.jpg              1   \n",
       "\n",
       "                                              comment  \\\n",
       "51   Ballet dancers in a studio practice jumping w...   \n",
       "\n",
       "                                      cleaned_comment  label  word_count  \\\n",
       "51  ballet dancers studio practice jumping wonderf...     10          11   \n",
       "\n",
       "    unique_word_count  unique_words_vs_words  \\\n",
       "51                 11                    1.0   \n",
       "\n",
       "                                             keywords  \\\n",
       "51  [(studio practice jumping, 0.03339840940482845...   \n",
       "\n",
       "                                           noisy_tags  \n",
       "51  [Ballet, dancers, studio, practice, jumping, f...  "
      ]
     },
     "execution_count": 67,
     "metadata": {},
     "output_type": "execute_result"
    }
   ],
   "source": [
    "data_copy.sample(1)"
   ]
  },
  {
   "cell_type": "code",
   "execution_count": 70,
   "id": "32820eca",
   "metadata": {},
   "outputs": [
    {
     "name": "stdout",
     "output_type": "stream",
     "text": [
      "1/1 [==============================] - 0s 358ms/step\n",
      "Predicted Label: 10\n"
     ]
    }
   ],
   "source": [
    "input_text = 'Ballet dancers in a studio'\n",
    "processed_data = prepare_data(input_text, tokenizer)\n",
    "result = make_prediction(built_model, processed_data=processed_data)\n",
    "print(f\"Predicted Label: {result}\")"
   ]
  },
  {
   "cell_type": "code",
   "execution_count": 69,
   "id": "2cf93ad5",
   "metadata": {},
   "outputs": [
    {
     "data": {
      "text/html": [
       "<div>\n",
       "<style scoped>\n",
       "    .dataframe tbody tr th:only-of-type {\n",
       "        vertical-align: middle;\n",
       "    }\n",
       "\n",
       "    .dataframe tbody tr th {\n",
       "        vertical-align: top;\n",
       "    }\n",
       "\n",
       "    .dataframe thead th {\n",
       "        text-align: right;\n",
       "    }\n",
       "</style>\n",
       "<table border=\"1\" class=\"dataframe\">\n",
       "  <thead>\n",
       "    <tr style=\"text-align: right;\">\n",
       "      <th></th>\n",
       "      <th>image_name</th>\n",
       "      <th>comment_number</th>\n",
       "      <th>comment</th>\n",
       "      <th>cleaned_comment</th>\n",
       "      <th>label</th>\n",
       "      <th>word_count</th>\n",
       "      <th>unique_word_count</th>\n",
       "      <th>unique_words_vs_words</th>\n",
       "      <th>keywords</th>\n",
       "      <th>noisy_tags</th>\n",
       "    </tr>\n",
       "  </thead>\n",
       "  <tbody>\n",
       "    <tr>\n",
       "      <th>50</th>\n",
       "      <td>1001573224.jpg</td>\n",
       "      <td>0</td>\n",
       "      <td>Five ballet dancers caught mid jump in a danc...</td>\n",
       "      <td>five ballet dancers caught mid jump dancing st...</td>\n",
       "      <td>10</td>\n",
       "      <td>17</td>\n",
       "      <td>16</td>\n",
       "      <td>0.941176</td>\n",
       "      <td>[(ballet dancers caught, 0.0042542192213185686...</td>\n",
       "      <td>[ballet, dancers, caught, jump, dancing, studi...</td>\n",
       "    </tr>\n",
       "    <tr>\n",
       "      <th>51</th>\n",
       "      <td>1001573224.jpg</td>\n",
       "      <td>1</td>\n",
       "      <td>Ballet dancers in a studio practice jumping w...</td>\n",
       "      <td>ballet dancers studio practice jumping wonderf...</td>\n",
       "      <td>10</td>\n",
       "      <td>11</td>\n",
       "      <td>11</td>\n",
       "      <td>1.000000</td>\n",
       "      <td>[(studio practice jumping, 0.03339840940482845...</td>\n",
       "      <td>[Ballet, dancers, studio, practice, jumping, f...</td>\n",
       "    </tr>\n",
       "    <tr>\n",
       "      <th>52</th>\n",
       "      <td>1001573224.jpg</td>\n",
       "      <td>2</td>\n",
       "      <td>Five girls are leaping simultaneously in a da...</td>\n",
       "      <td>five girls leaping simultaneously dance practi...</td>\n",
       "      <td>10</td>\n",
       "      <td>11</td>\n",
       "      <td>11</td>\n",
       "      <td>1.000000</td>\n",
       "      <td>[(dance practice room, 0.016559150827736194), ...</td>\n",
       "      <td>[girls, are, leaping, dance, practice, room]</td>\n",
       "    </tr>\n",
       "    <tr>\n",
       "      <th>53</th>\n",
       "      <td>1001573224.jpg</td>\n",
       "      <td>3</td>\n",
       "      <td>Five girls dancing and bending feet in ballet...</td>\n",
       "      <td>five girls dancing bending feet ballet class</td>\n",
       "      <td>10</td>\n",
       "      <td>10</td>\n",
       "      <td>10</td>\n",
       "      <td>1.000000</td>\n",
       "      <td>[(ballet class, 0.04940384002065631), (girls d...</td>\n",
       "      <td>[girls, dancing, bending, feet, ballet, class]</td>\n",
       "    </tr>\n",
       "    <tr>\n",
       "      <th>54</th>\n",
       "      <td>1001573224.jpg</td>\n",
       "      <td>4</td>\n",
       "      <td>A ballet class of five girls jumping in seque...</td>\n",
       "      <td>ballet class five girls jumping sequence</td>\n",
       "      <td>10</td>\n",
       "      <td>10</td>\n",
       "      <td>10</td>\n",
       "      <td>1.000000</td>\n",
       "      <td>[(jumping in sequence, 0.04940384002065631), (...</td>\n",
       "      <td>[ballet, class, girls, jumping, sequence]</td>\n",
       "    </tr>\n",
       "  </tbody>\n",
       "</table>\n",
       "</div>"
      ],
      "text/plain": [
       "        image_name comment_number  \\\n",
       "50  1001573224.jpg              0   \n",
       "51  1001573224.jpg              1   \n",
       "52  1001573224.jpg              2   \n",
       "53  1001573224.jpg              3   \n",
       "54  1001573224.jpg              4   \n",
       "\n",
       "                                              comment  \\\n",
       "50   Five ballet dancers caught mid jump in a danc...   \n",
       "51   Ballet dancers in a studio practice jumping w...   \n",
       "52   Five girls are leaping simultaneously in a da...   \n",
       "53   Five girls dancing and bending feet in ballet...   \n",
       "54   A ballet class of five girls jumping in seque...   \n",
       "\n",
       "                                      cleaned_comment  label  word_count  \\\n",
       "50  five ballet dancers caught mid jump dancing st...     10          17   \n",
       "51  ballet dancers studio practice jumping wonderf...     10          11   \n",
       "52  five girls leaping simultaneously dance practi...     10          11   \n",
       "53       five girls dancing bending feet ballet class     10          10   \n",
       "54           ballet class five girls jumping sequence     10          10   \n",
       "\n",
       "    unique_word_count  unique_words_vs_words  \\\n",
       "50                 16               0.941176   \n",
       "51                 11               1.000000   \n",
       "52                 11               1.000000   \n",
       "53                 10               1.000000   \n",
       "54                 10               1.000000   \n",
       "\n",
       "                                             keywords  \\\n",
       "50  [(ballet dancers caught, 0.0042542192213185686...   \n",
       "51  [(studio practice jumping, 0.03339840940482845...   \n",
       "52  [(dance practice room, 0.016559150827736194), ...   \n",
       "53  [(ballet class, 0.04940384002065631), (girls d...   \n",
       "54  [(jumping in sequence, 0.04940384002065631), (...   \n",
       "\n",
       "                                           noisy_tags  \n",
       "50  [ballet, dancers, caught, jump, dancing, studi...  \n",
       "51  [Ballet, dancers, studio, practice, jumping, f...  \n",
       "52       [girls, are, leaping, dance, practice, room]  \n",
       "53     [girls, dancing, bending, feet, ballet, class]  \n",
       "54          [ballet, class, girls, jumping, sequence]  "
      ]
     },
     "execution_count": 69,
     "metadata": {},
     "output_type": "execute_result"
    }
   ],
   "source": [
    "data_copy[data_copy['label']==10]"
   ]
  },
  {
   "cell_type": "code",
   "execution_count": null,
   "id": "c6b4576d",
   "metadata": {},
   "outputs": [],
   "source": []
  }
 ],
 "metadata": {
  "kernelspec": {
   "display_name": "Python 3 (ipykernel)",
   "language": "python",
   "name": "python3"
  },
  "language_info": {
   "codemirror_mode": {
    "name": "ipython",
    "version": 3
   },
   "file_extension": ".py",
   "mimetype": "text/x-python",
   "name": "python",
   "nbconvert_exporter": "python",
   "pygments_lexer": "ipython3",
   "version": "3.9.16"
  }
 },
 "nbformat": 4,
 "nbformat_minor": 5
}
