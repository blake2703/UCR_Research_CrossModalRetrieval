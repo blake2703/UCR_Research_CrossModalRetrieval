{
 "cells": [
  {
   "cell_type": "code",
   "execution_count": 1,
   "id": "599e0b2d",
   "metadata": {},
   "outputs": [
    {
     "name": "stderr",
     "output_type": "stream",
     "text": [
      "[nltk_data] Downloading package stopwords to\n",
      "[nltk_data]     /Users/blakedickerson/nltk_data...\n",
      "[nltk_data]   Package stopwords is already up-to-date!\n",
      "[nltk_data] Downloading package punkt to\n",
      "[nltk_data]     /Users/blakedickerson/nltk_data...\n",
      "[nltk_data]   Package punkt is already up-to-date!\n",
      "[nltk_data] Downloading package averaged_perceptron_tagger to\n",
      "[nltk_data]     /Users/blakedickerson/nltk_data...\n",
      "[nltk_data]   Package averaged_perceptron_tagger is already up-to-\n",
      "[nltk_data]       date!\n"
     ]
    }
   ],
   "source": [
    "from ipynb.fs.full.UtilFunctions import *"
   ]
  },
  {
   "cell_type": "markdown",
   "id": "c9bcca6f",
   "metadata": {},
   "source": [
    "## 1.0 Get Data and Greet Data\n",
    "\n",
    "1. A dataset should be broken up into multiple datasets:\n",
    "    - data_raw = first read in of our data, but will not be touched\n",
    "    - data_copy = data_raw copied, which will be used to clean, feature engineer, and wrangle our data\n",
    "    <br><br>\n",
    "\n",
    "2. Call [.info](https://pandas.pydata.org/docs/reference/api/pandas.DataFrame.info.html) to get an idea of how many entries, non-null counts, and the data type of each object\n",
    "    <br><br>\n",
    "\n",
    "3. Call [.sample](https://pandas.pydata.org/docs/reference/api/pandas.DataFrame.sample.html) to get a random sample of the data so we know what the data looks like\n",
    "    <br><br>\n",
    "  \n",
    "4. Make sure that each image has 5 comments"
   ]
  },
  {
   "cell_type": "code",
   "execution_count": 2,
   "id": "0f2401ed",
   "metadata": {},
   "outputs": [],
   "source": [
    "data_raw = pd.read_csv('/Volumes/ExternalDrive/flickr30k_images/results.csv', delimiter='|')\n",
    "data_copy = pd.read_csv('/Volumes/ExternalDrive/flickr30k_images/results.csv', delimiter='|')\n"
   ]
  },
  {
   "cell_type": "code",
   "execution_count": 3,
   "id": "cabe8032",
   "metadata": {},
   "outputs": [
    {
     "name": "stdout",
     "output_type": "stream",
     "text": [
      "<class 'pandas.core.frame.DataFrame'>\n",
      "RangeIndex: 158915 entries, 0 to 158914\n",
      "Data columns (total 3 columns):\n",
      " #   Column           Non-Null Count   Dtype \n",
      "---  ------           --------------   ----- \n",
      " 0   image_name       158915 non-null  object\n",
      " 1    comment_number  158915 non-null  object\n",
      " 2    comment         158914 non-null  object\n",
      "dtypes: object(3)\n",
      "memory usage: 3.6+ MB\n"
     ]
    }
   ],
   "source": [
    "data_raw.info()"
   ]
  },
  {
   "cell_type": "code",
   "execution_count": 4,
   "id": "06860656",
   "metadata": {},
   "outputs": [
    {
     "data": {
      "text/html": [
       "<div>\n",
       "<style scoped>\n",
       "    .dataframe tbody tr th:only-of-type {\n",
       "        vertical-align: middle;\n",
       "    }\n",
       "\n",
       "    .dataframe tbody tr th {\n",
       "        vertical-align: top;\n",
       "    }\n",
       "\n",
       "    .dataframe thead th {\n",
       "        text-align: right;\n",
       "    }\n",
       "</style>\n",
       "<table border=\"1\" class=\"dataframe\">\n",
       "  <thead>\n",
       "    <tr style=\"text-align: right;\">\n",
       "      <th></th>\n",
       "      <th>image_name</th>\n",
       "      <th>comment_number</th>\n",
       "      <th>comment</th>\n",
       "    </tr>\n",
       "  </thead>\n",
       "  <tbody>\n",
       "    <tr>\n",
       "      <th>55658</th>\n",
       "      <td>3094629328.jpg</td>\n",
       "      <td>3</td>\n",
       "      <td>Someone grinding stones with a pestle .</td>\n",
       "    </tr>\n",
       "    <tr>\n",
       "      <th>109845</th>\n",
       "      <td>4671516679.jpg</td>\n",
       "      <td>0</td>\n",
       "      <td>A young woman in a blue top with a white swea...</td>\n",
       "    </tr>\n",
       "    <tr>\n",
       "      <th>1785</th>\n",
       "      <td>111737806.jpg</td>\n",
       "      <td>0</td>\n",
       "      <td>A woman is standing in a rough hewn structure...</td>\n",
       "    </tr>\n",
       "    <tr>\n",
       "      <th>118850</th>\n",
       "      <td>4813610024.jpg</td>\n",
       "      <td>0</td>\n",
       "      <td>A woman in dark clothes walks down a city str...</td>\n",
       "    </tr>\n",
       "    <tr>\n",
       "      <th>153614</th>\n",
       "      <td>7772052674.jpg</td>\n",
       "      <td>4</td>\n",
       "      <td>Three young people drink beers at a bar .</td>\n",
       "    </tr>\n",
       "    <tr>\n",
       "      <th>61861</th>\n",
       "      <td>3239280931.jpg</td>\n",
       "      <td>1</td>\n",
       "      <td>Two people digging a hole while one looks on .</td>\n",
       "    </tr>\n",
       "    <tr>\n",
       "      <th>60227</th>\n",
       "      <td>3202804141.jpg</td>\n",
       "      <td>2</td>\n",
       "      <td>A South African community is gathering togeth...</td>\n",
       "    </tr>\n",
       "    <tr>\n",
       "      <th>139607</th>\n",
       "      <td>5949695639.jpg</td>\n",
       "      <td>2</td>\n",
       "      <td>Four girls are standing together in their dan...</td>\n",
       "    </tr>\n",
       "    <tr>\n",
       "      <th>23493</th>\n",
       "      <td>2292621342.jpg</td>\n",
       "      <td>3</td>\n",
       "      <td>Mounted police officers in the street .</td>\n",
       "    </tr>\n",
       "    <tr>\n",
       "      <th>149232</th>\n",
       "      <td>7148046575.jpg</td>\n",
       "      <td>2</td>\n",
       "      <td>A man in a white shirt is working at a comput...</td>\n",
       "    </tr>\n",
       "  </tbody>\n",
       "</table>\n",
       "</div>"
      ],
      "text/plain": [
       "            image_name  comment_number  \\\n",
       "55658   3094629328.jpg               3   \n",
       "109845  4671516679.jpg               0   \n",
       "1785     111737806.jpg               0   \n",
       "118850  4813610024.jpg               0   \n",
       "153614  7772052674.jpg               4   \n",
       "61861   3239280931.jpg               1   \n",
       "60227   3202804141.jpg               2   \n",
       "139607  5949695639.jpg               2   \n",
       "23493   2292621342.jpg               3   \n",
       "149232  7148046575.jpg               2   \n",
       "\n",
       "                                                  comment  \n",
       "55658             Someone grinding stones with a pestle .  \n",
       "109845   A young woman in a blue top with a white swea...  \n",
       "1785     A woman is standing in a rough hewn structure...  \n",
       "118850   A woman in dark clothes walks down a city str...  \n",
       "153614          Three young people drink beers at a bar .  \n",
       "61861      Two people digging a hole while one looks on .  \n",
       "60227    A South African community is gathering togeth...  \n",
       "139607   Four girls are standing together in their dan...  \n",
       "23493             Mounted police officers in the street .  \n",
       "149232   A man in a white shirt is working at a comput...  "
      ]
     },
     "execution_count": 4,
     "metadata": {},
     "output_type": "execute_result"
    }
   ],
   "source": [
    "data_raw.sample(10)"
   ]
  },
  {
   "cell_type": "markdown",
   "id": "86ab283a",
   "metadata": {},
   "source": [
    "Our data is structured with three columns:\n",
    "\n",
    "- image_name: which is the unique tag of the image\n",
    "- comment_number: which is the specific comment number about the image\n",
    "- comment: this is the actual comment left about the image <br>\n",
    "\n",
    "We expect to see 5 comments per uniuqe image_id so let's make sure that is the case:"
   ]
  },
  {
   "cell_type": "code",
   "execution_count": 5,
   "id": "ad2a2b3e",
   "metadata": {},
   "outputs": [
    {
     "name": "stdout",
     "output_type": "stream",
     "text": [
      "Total length of unique values:  31783\n",
      "Total length of data frame:  158915\n",
      "Total length of unique values * 5:  158915\n"
     ]
    }
   ],
   "source": [
    "image_name_unique_vals = data_raw['image_name'].unique().tolist()\n",
    "print(\"Total length of unique values: \", len(image_name_unique_vals))\n",
    "print(\"Total length of data frame: \",  len(data_raw))\n",
    "print(\"Total length of unique values * 5: \", len(image_name_unique_vals) * 5)"
   ]
  },
  {
   "cell_type": "markdown",
   "id": "3f0f6ea8",
   "metadata": {},
   "source": [
    "## 2.0 The 4 C's of Data Cleaning: Correction, Completing, Creating, and Converting\n",
    "\n",
    "In this stage, we will clean our data by:\n",
    "\n",
    "1. Correcting values and outliers\n",
    "    - Call [.describe](https://pandas.pydata.org/docs/reference/api/pandas.DataFrame.describe.html) to get a summary of our data with important statistics\n",
    "    - Call function **preprocess_columns(dataframe)**\n",
    "        - This function removes whitespace from the column names \n",
    "    - Call function **strip_whitespace(dataframe, column_name)**\n",
    "        - We will use this to find why we have a null value and to make sure that we only have 5 comments per image\n",
    "    - Call [.isNull()](https://pandas.pydata.org/docs/reference/api/pandas.isnull.html) to get a sum of all the nulls per each column\n",
    "        - Once we find this out we call function **clean_null(dataframe)** to take care of the null value\n",
    "    - Call function **expand_contractions**\n",
    "        - Since we want to make it as easy as possible for the model to understand what is going on, we will get rid of all contractions\n",
    "    - Call function **remove_punctuations**\n",
    "        - Removes all punctuations from each comment\n",
    "    - Call function **to_lower**\n",
    "        - Convert every word to lower case\n",
    "    - Use [Counter](https://docs.python.org/3/library/collections.html#collections.Counter) to count the most used words\n",
    "    - Use [NLTK.stopwords()](https://www.nltk.org/howto.html) to remove stopwords from each comment\n",
    "        - Examples of stopwords are “a”, “the”, “is”, “are\"\\\n",
    "    - Use Counter again to recompute the most used words per sentence\n",
    "        <br><br>\n",
    "        \n",
    "2. Completing missing information\n",
    "    - **Note:** this is not needed as we took care of the null value in the correcting value section\n",
    "        <br><br>\n",
    "        \n",
    "3. Creating new features for analysis (**Feature Engineering**)\n",
    "    - Call function **classify_images(dataframe, column_name, new_column_name)**\n",
    "        - This function will create a new column that labels each image\n",
    "        - This is needed to pass into our model later on\n",
    "    - Call function **count_words**\n",
    "        - Creates a new column of the total words per comment\n",
    "    - Call function **count_unique_words**\n",
    "        - Creates a new column of unique words in each comment\n",
    "    - Create a new column of the ratio between unique words and non-unique words\n",
    "    - Use [yake](https://github.com/LIAAD/yake/blob/master/README.md) and call function **extract_keywords(dataframe, column_name)**\n",
    "        - This will create a new column that extracts the top 5 keywords from each comment with their weight\n",
    "        - The lower the weight the more important it is\n",
    "    - Use [NLTK's part of speech tagging](https://www.nltk.org/book/ch05.html) to compute the nouns and verbs ('noisy tags') over the whole dataframe and add these to a new column\n",
    "    - Call function **process_noisy_tags(dataframe, column_name)**\n",
    "        - This will turn the noisy_tag column from a list to a useable sentence\n",
    "        <br><br>\n",
    "        \n",
    "4. converting fields to the correct format for calculations and presentation\n",
    "    - **Note:** this is not needed, we will format later on as we turn our dataframe into tensors\n",
    "\n",
    "**Note** these functions are in the UtilFunctions notebook"
   ]
  },
  {
   "cell_type": "markdown",
   "id": "1a24e46a",
   "metadata": {},
   "source": [
    "## 2.1 Correcting data"
   ]
  },
  {
   "cell_type": "code",
   "execution_count": 6,
   "id": "d7e53d5e",
   "metadata": {},
   "outputs": [
    {
     "data": {
      "text/html": [
       "<div>\n",
       "<style scoped>\n",
       "    .dataframe tbody tr th:only-of-type {\n",
       "        vertical-align: middle;\n",
       "    }\n",
       "\n",
       "    .dataframe tbody tr th {\n",
       "        vertical-align: top;\n",
       "    }\n",
       "\n",
       "    .dataframe thead th {\n",
       "        text-align: right;\n",
       "    }\n",
       "</style>\n",
       "<table border=\"1\" class=\"dataframe\">\n",
       "  <thead>\n",
       "    <tr style=\"text-align: right;\">\n",
       "      <th></th>\n",
       "      <th>count</th>\n",
       "      <th>unique</th>\n",
       "      <th>top</th>\n",
       "      <th>freq</th>\n",
       "    </tr>\n",
       "  </thead>\n",
       "  <tbody>\n",
       "    <tr>\n",
       "      <th>image_name</th>\n",
       "      <td>158915</td>\n",
       "      <td>31783</td>\n",
       "      <td>1000092795.jpg</td>\n",
       "      <td>5</td>\n",
       "    </tr>\n",
       "    <tr>\n",
       "      <th>comment_number</th>\n",
       "      <td>158915</td>\n",
       "      <td>6</td>\n",
       "      <td>0</td>\n",
       "      <td>31783</td>\n",
       "    </tr>\n",
       "    <tr>\n",
       "      <th>comment</th>\n",
       "      <td>158914</td>\n",
       "      <td>158438</td>\n",
       "      <td>Two dogs playing in the snow .</td>\n",
       "      <td>7</td>\n",
       "    </tr>\n",
       "  </tbody>\n",
       "</table>\n",
       "</div>"
      ],
      "text/plain": [
       "                  count  unique                              top   freq\n",
       "image_name       158915   31783                   1000092795.jpg      5\n",
       " comment_number  158915       6                                0  31783\n",
       " comment         158914  158438   Two dogs playing in the snow .      7"
      ]
     },
     "execution_count": 6,
     "metadata": {},
     "output_type": "execute_result"
    }
   ],
   "source": [
    "data_copy.describe(include='all').transpose()"
   ]
  },
  {
   "cell_type": "markdown",
   "id": "4d0dc54d",
   "metadata": {},
   "source": [
    "**Clean the column names:**"
   ]
  },
  {
   "cell_type": "code",
   "execution_count": 7,
   "id": "94ea052e",
   "metadata": {},
   "outputs": [
    {
     "name": "stdout",
     "output_type": "stream",
     "text": [
      "Before cleaning:  Index(['image_name', ' comment_number', ' comment'], dtype='object')\n",
      "After cleaning:  Index(['image_name', 'comment_number', 'comment'], dtype='object')\n"
     ]
    }
   ],
   "source": [
    "print(\"Before cleaning: \", data_copy.columns)\n",
    "preprocess_columns(data_copy)\n",
    "print(\"After cleaning: \", data_copy.columns)"
   ]
  },
  {
   "cell_type": "markdown",
   "id": "2b1f2827",
   "metadata": {},
   "source": [
    "**Clean the comment number values:**\n",
    "- We are supposed to only have 5 comments per image, but we have 6 unique values"
   ]
  },
  {
   "cell_type": "code",
   "execution_count": 8,
   "id": "4977362c",
   "metadata": {},
   "outputs": [
    {
     "name": "stdout",
     "output_type": "stream",
     "text": [
      "Before cleaning:  [' 0', ' 1', ' 2', ' 3', ' 4', ' 4   A dog runs across the grass .']\n",
      "After cleaning:  ['0', '1', '2', '3', '4', '4Adogrunsacrossthegrass.']\n"
     ]
    }
   ],
   "source": [
    "comment_number_unique_vals = data_copy['comment_number'].unique().tolist()\n",
    "print(\"Before cleaning: \", comment_number_unique_vals)\n",
    "data_copy = strip_whitespace(data_copy, 'comment_number')\n",
    "comment_number_unique_vals = data_copy['comment_number'].unique().tolist()\n",
    "print(\"After cleaning: \", comment_number_unique_vals)"
   ]
  },
  {
   "cell_type": "markdown",
   "id": "cca446fd",
   "metadata": {},
   "source": [
    "**Taking care of 4Adogrunsacrossthegrass issue as it looks like a comment number and sentence was combined accidentally**"
   ]
  },
  {
   "cell_type": "code",
   "execution_count": 9,
   "id": "6fbed61f",
   "metadata": {},
   "outputs": [
    {
     "name": "stdout",
     "output_type": "stream",
     "text": [
      "Columns with null values before cleaning:\n",
      "image_name        0\n",
      "comment_number    0\n",
      "comment           1\n",
      "dtype: int64\n",
      "Columns with null values after cleaning:\n",
      "image_name        0\n",
      "comment_number    0\n",
      "comment           0\n",
      "dtype: int64\n"
     ]
    }
   ],
   "source": [
    "print('Columns with null values before cleaning:')\n",
    "print(data_copy.isnull().sum())\n",
    "clean_null(data_copy)\n",
    "print('Columns with null values after cleaning:')\n",
    "print(data_copy.isnull().sum())"
   ]
  },
  {
   "cell_type": "markdown",
   "id": "43d11364",
   "metadata": {},
   "source": [
    " **Make a new column that will hold our cleaned data for each comment:**"
   ]
  },
  {
   "cell_type": "code",
   "execution_count": 10,
   "id": "d32943e6",
   "metadata": {},
   "outputs": [],
   "source": [
    "data_copy['cleaned_comment'] = data_copy['comment']"
   ]
  },
  {
   "cell_type": "code",
   "execution_count": 11,
   "id": "2c6ae346",
   "metadata": {},
   "outputs": [],
   "source": [
    "data_copy['cleaned_comment'] = data_copy['cleaned_comment'].apply(expand_contractions)"
   ]
  },
  {
   "cell_type": "code",
   "execution_count": 12,
   "id": "f4c30e58",
   "metadata": {},
   "outputs": [],
   "source": [
    "data_copy['cleaned_comment'] = data_copy['cleaned_comment'].apply(remove_punctuations)"
   ]
  },
  {
   "cell_type": "code",
   "execution_count": 13,
   "id": "3a419693",
   "metadata": {},
   "outputs": [],
   "source": [
    "data_copy['cleaned_comment'] = data_copy['cleaned_comment'].apply(to_lower)"
   ]
  },
  {
   "cell_type": "code",
   "execution_count": 14,
   "id": "934e711e",
   "metadata": {},
   "outputs": [
    {
     "data": {
      "text/html": [
       "<div>\n",
       "<style scoped>\n",
       "    .dataframe tbody tr th:only-of-type {\n",
       "        vertical-align: middle;\n",
       "    }\n",
       "\n",
       "    .dataframe tbody tr th {\n",
       "        vertical-align: top;\n",
       "    }\n",
       "\n",
       "    .dataframe thead th {\n",
       "        text-align: right;\n",
       "    }\n",
       "</style>\n",
       "<table border=\"1\" class=\"dataframe\">\n",
       "  <thead>\n",
       "    <tr style=\"text-align: right;\">\n",
       "      <th></th>\n",
       "      <th>image_name</th>\n",
       "      <th>comment_number</th>\n",
       "      <th>comment</th>\n",
       "      <th>cleaned_comment</th>\n",
       "    </tr>\n",
       "  </thead>\n",
       "  <tbody>\n",
       "    <tr>\n",
       "      <th>17668</th>\n",
       "      <td>21166859.jpg</td>\n",
       "      <td>3</td>\n",
       "      <td>A band plays on stage in front of an audience .</td>\n",
       "      <td>a band plays on stage in front of an audience</td>\n",
       "    </tr>\n",
       "  </tbody>\n",
       "</table>\n",
       "</div>"
      ],
      "text/plain": [
       "         image_name comment_number  \\\n",
       "17668  21166859.jpg              3   \n",
       "\n",
       "                                                comment  \\\n",
       "17668   A band plays on stage in front of an audience .   \n",
       "\n",
       "                                       cleaned_comment  \n",
       "17668   a band plays on stage in front of an audience   "
      ]
     },
     "execution_count": 14,
     "metadata": {},
     "output_type": "execute_result"
    }
   ],
   "source": [
    "data_copy.sample(1)"
   ]
  },
  {
   "cell_type": "code",
   "execution_count": 15,
   "id": "9e5d5484",
   "metadata": {},
   "outputs": [
    {
     "data": {
      "text/plain": [
       "[('a', 271704),\n",
       " ('in', 83466),\n",
       " ('the', 62981),\n",
       " ('on', 45669),\n",
       " ('and', 44263),\n",
       " ('man', 42598),\n",
       " ('is', 41146),\n",
       " ('of', 38779),\n",
       " ('with', 36207),\n",
       " ('woman', 22211),\n",
       " ('two', 21642),\n",
       " ('are', 20211),\n",
       " ('to', 17609),\n",
       " ('people', 17337),\n",
       " ('at', 16259)]"
      ]
     },
     "execution_count": 15,
     "metadata": {},
     "output_type": "execute_result"
    }
   ],
   "source": [
    "Counter(\" \".join(data_copy[\"cleaned_comment\"]).split()).most_common(15)"
   ]
  },
  {
   "cell_type": "code",
   "execution_count": 16,
   "id": "4df71f73",
   "metadata": {},
   "outputs": [],
   "source": [
    "stop = stopwords.words('english') #assign all stopwords to variable stop\n",
    "data_copy['cleaned_comment'] = data_copy['cleaned_comment'].apply(lambda x: ' '.join([word for word in x.split() if word not in (stop)])) #remove stopwor"
   ]
  },
  {
   "cell_type": "code",
   "execution_count": 17,
   "id": "5f928a67",
   "metadata": {},
   "outputs": [
    {
     "data": {
      "text/plain": [
       "[('man', 42598),\n",
       " ('woman', 22211),\n",
       " ('two', 21642),\n",
       " ('people', 17337),\n",
       " ('wearing', 15709),\n",
       " ('young', 13218),\n",
       " ('white', 13178),\n",
       " ('shirt', 12981),\n",
       " ('black', 12311),\n",
       " ('blue', 11310),\n",
       " ('red', 9916),\n",
       " ('girl', 9655),\n",
       " ('sitting', 9620),\n",
       " ('men', 9498),\n",
       " ('boy', 9429)]"
      ]
     },
     "execution_count": 17,
     "metadata": {},
     "output_type": "execute_result"
    }
   ],
   "source": [
    "Counter(\" \".join(data_copy[\"cleaned_comment\"]).split()).most_common(15)"
   ]
  },
  {
   "cell_type": "markdown",
   "id": "9a005123",
   "metadata": {},
   "source": [
    "## 2.2 Feature Engineering"
   ]
  },
  {
   "cell_type": "code",
   "execution_count": 18,
   "id": "1273a862",
   "metadata": {},
   "outputs": [],
   "source": [
    "classify_images(data_copy, 'image_name', 'label')"
   ]
  },
  {
   "cell_type": "code",
   "execution_count": 19,
   "id": "28d8a27a",
   "metadata": {},
   "outputs": [],
   "source": [
    "data_copy['word_count'] = data_copy['comment'].apply(lambda x : count_words(x))\n",
    "data_copy['unique_word_count'] = data_copy['comment'].apply(lambda x : count_unique_words(x))\n",
    "data_copy['unique_words_vs_words'] = data_copy['unique_word_count']/data_copy['word_count']"
   ]
  },
  {
   "cell_type": "code",
   "execution_count": 20,
   "id": "4aaf55a5",
   "metadata": {},
   "outputs": [],
   "source": [
    "data_copy = extract_keywords(data_copy, 'comment')"
   ]
  },
  {
   "cell_type": "code",
   "execution_count": 21,
   "id": "a5f0c5be",
   "metadata": {},
   "outputs": [],
   "source": [
    "data_copy = extract_nouns_verbs(data_copy, 'comment')"
   ]
  },
  {
   "cell_type": "code",
   "execution_count": 22,
   "id": "916beee4",
   "metadata": {},
   "outputs": [],
   "source": [
    "data_copy = process_noisy_tags(data_copy, 'noisy_tags')"
   ]
  },
  {
   "cell_type": "markdown",
   "id": "31ba8faf",
   "metadata": {},
   "source": [
    "data_copy.sample(1)"
   ]
  },
  {
   "attachments": {
    "one-hot.jpeg": {
     "image/jpeg": "[encoded data removed]"
    }
   },
   "cell_type": "markdown",
   "id": "1100eef8",
   "metadata": {},
   "source": [
    "## 3.0 Prepping Model\n",
    "\n",
    "1. Since the dataset is massive, I will slice it to the first 500 rows\n",
    "    - We will scale up as our model improves\n",
    "<br><br>\n",
    "\n",
    "2. Tokenize our data using [AutoTokenizer](https://huggingface.co/docs/transformers/model_doc/auto)\n",
    "    - `AutoTokenizer` always works and automatically chooses the correct class for the model you are using\n",
    "        - The `AutoTokenizer` will use a pretrained bert model 'bert-base-uncased'\n",
    "        - It will convert our data into a format that can be processed by the bert model\n",
    "    - **BERT** expects inputIds and attention masks\n",
    "        - `inputIds`: a mapping between tokens and their ids\n",
    "            - Each word in the vector has a unique id, the input id maps this unique id to its token\n",
    "            - We do this by creating a numpy array of 0's that takes in the size of the dataset and the sequence length to get our shape correct to match the dataset\n",
    "            - **Sequence length:** is the max amount of words to consider when we tokenize\n",
    "        - `attention mask`: depicts where the padding are in the comment\n",
    "            - 1 indicates that the mask should perform an action\n",
    "            - 0 indicates that it is a padding value and should be left alone\n",
    "            - similar to `inputIds` we create a numpy array of 0's that takes in the size of the dataset and the sequence length to get our shape correct to match the dataset\n",
    "<br><br>\n",
    "\n",
    "3. Define sequence length, number of samples, and number of classes\n",
    "    - **BERT** only takes up to 512 'sequences' so we define the length as so\n",
    "    - **number of samples:** the length of the dataset\n",
    "    - **number of classes:** the number of classifications we have to make\n",
    "<br><br>\n",
    "\n",
    "4. Call function **generate_Xids(num_samples, seq_len)**\n",
    "    - This function creates a numpy array of shape(num_samples, seq_len)\n",
    "    - Needed when we turn our data to tensors\n",
    "<br><br>\n",
    "\n",
    "5. Call function **generate_attn_masks(num_samples, seq_len)**\n",
    "    - This function creates a numpy array of shape(num_samples, seq_len)\n",
    "    - Needed when we turn our data to tensors\n",
    "<br><br>\n",
    "\n",
    "6. Call function **generate_encoded_values(dataframe, input, input, tokenizer, sequence_length)**\n",
    "    - [encode_plus](https://huggingface.co/docs/transformers/v4.26.1/en/internal/tokenization_utils#transformers.PreTrainedTokenizerBase.encode_plus) will turn our comments into a matrix of integers\n",
    "<br><br>\n",
    "\n",
    "7. Create a label numpy array of shape(num_samples, num_classes) and one hot encode it\n",
    "    - One hot encoding shows whether the label is present in that specific row\n",
    "    ![one-hot.jpeg](attachment:one-hot.jpeg)\n",
    "<br><br>\n",
    "\n",
    "8. Turn dataset into tensors\n",
    "    - Use [tf.data.Dataset](https://www.tensorflow.org/api_docs/python/tf/data/Dataset)\n",
    "    - To inspect a random tensor use [tf.data.Dataset.take](https://www.tensorflow.org/api_docs/python/tf/data/Dataset#take)\n",
    "    - You can loop through the dataset using [tf.data.Dataset.as_numpy_iterator](https://www.tensorflow.org/api_docs/python/tf/data/Dataset#as_numpy_iterator)\n",
    "<br><br>\n",
    "\n",
    "9. Create function **mapping_inputIds_attention_masks_labels(input_ids, attention_masks, labels)** and convert our dataset\n",
    "    - I tried to put this in the UtilFunctions notebook, but tensorflow had an issue with it\n",
    "    - See cell below for documentation and how it works\n",
    "<br><br>\n",
    "\n",
    "10. Create train_dataset and val_dataset\n",
    "    - Take a random sample\n",
    "    - **Batch size:** represent the number of consecutive elements of this dataset to combine in a single batch\n",
    "    - Call [.shuffle](https://www.tensorflow.org/api_docs/python/tf/data/Dataset#shuffle) with a shuffle size of 10,000 and call [.batch](https://www.tensorflow.org/api_docs/python/tf/data/Dataset#batch) to get the elements into a 'batch'\n",
    "    - Take a random sample\n",
    "    - Define split size\n",
    "    - Define train size\n",
    "        - For each batch we will have number of sample / batch_size\n",
    "        - We will also take out the split_size which will serve as our train data\n",
    "    - Define train_dataset\n",
    "        - Call [.take](https://www.tensorflow.org/api_docs/python/tf/data/Dataset#take) to take the train size we defined above\n",
    "    - Define val_dataset\n",
    "        - Call [.skip](https://www.tensorflow.org/api_docs/python/tf/data/Dataset#skip) to skip the train size\n",
    "        - This is our test data"
   ]
  },
  {
   "cell_type": "code",
   "execution_count": 24,
   "id": "d7a465ac",
   "metadata": {},
   "outputs": [],
   "source": [
    "data_copy = data_copy[:500]"
   ]
  },
  {
   "cell_type": "code",
   "execution_count": 25,
   "id": "350160f5",
   "metadata": {},
   "outputs": [],
   "source": [
    "tokenizer = AutoTokenizer.from_pretrained('bert-base-cased')"
   ]
  },
  {
   "cell_type": "code",
   "execution_count": 26,
   "id": "485eefb7",
   "metadata": {},
   "outputs": [],
   "source": [
    "SEQUENCE_LENGTH = 512\n",
    "NUM_SAMPLES = len(data_copy)\n",
    "NUM_CLASSES = int(NUM_SAMPLES / 5)"
   ]
  },
  {
   "cell_type": "code",
   "execution_count": 27,
   "id": "843fc144",
   "metadata": {},
   "outputs": [],
   "source": [
    "Xids = generate_Xids(num_samples=NUM_SAMPLES, seq_len=SEQUENCE_LENGTH)"
   ]
  },
  {
   "cell_type": "code",
   "execution_count": 28,
   "id": "ce47b787",
   "metadata": {},
   "outputs": [],
   "source": [
    "attn_masks = generate_attn_msks(num_samples=NUM_SAMPLES, seq_len=SEQUENCE_LENGTH)"
   ]
  },
  {
   "cell_type": "code",
   "execution_count": 29,
   "id": "631c5599",
   "metadata": {},
   "outputs": [
    {
     "data": {
      "text/plain": [
       "((500, 512), (500, 512))"
      ]
     },
     "execution_count": 29,
     "metadata": {},
     "output_type": "execute_result"
    }
   ],
   "source": [
    "Xids.shape, attn_masks.shape"
   ]
  },
  {
   "cell_type": "code",
   "execution_count": 30,
   "id": "46ee40c6",
   "metadata": {},
   "outputs": [
    {
     "data": {
      "application/vnd.jupyter.widget-view+json": {
       "model_id": "c902c59e661f41939db741d8b8f399d3",
       "version_major": 2,
       "version_minor": 0
      },
      "text/plain": [
       "0it [00:00, ?it/s]"
      ]
     },
     "metadata": {},
     "output_type": "display_data"
    },
    {
     "name": "stdout",
     "output_type": "stream",
     "text": [
      "Metal device set to: Apple M1 Pro\n"
     ]
    },
    {
     "name": "stderr",
     "output_type": "stream",
     "text": [
      "2023-02-21 17:24:11.311011: I tensorflow/core/common_runtime/pluggable_device/pluggable_device_factory.cc:305] Could not identify NUMA node of platform GPU ID 0, defaulting to 0. Your kernel may not have been built with NUMA support.\n",
      "2023-02-21 17:24:11.311168: I tensorflow/core/common_runtime/pluggable_device/pluggable_device_factory.cc:271] Created TensorFlow device (/job:localhost/replica:0/task:0/device:GPU:0 with 0 MB memory) -> physical PluggableDevice (device: 0, name: METAL, pci bus id: <undefined>)\n"
     ]
    }
   ],
   "source": [
    "Xids, attn_masks = generate_encoded_values_dynamically(data_copy, Xids, attn_masks, tokenizer, SEQUENCE_LENGTH, 'noisy_tags')"
   ]
  },
  {
   "cell_type": "code",
   "execution_count": 31,
   "id": "fc2f66f8",
   "metadata": {},
   "outputs": [
    {
     "data": {
      "text/plain": [
       "(array([[  101.,  3713.,  1716., ...,     0.,     0.,     0.],\n",
       "        [  101.,  2061.,  3508., ...,     0.,     0.,     0.],\n",
       "        [  101.,  1441., 11710., ...,     0.,     0.,     0.],\n",
       "        ...,\n",
       "        [  101.,  1299.,  5575., ...,     0.,     0.,     0.],\n",
       "        [  101.,  1590.,  1110., ...,     0.,     0.,     0.],\n",
       "        [  101.,  1299.,  5575., ...,     0.,     0.,     0.]]),\n",
       " array([[1., 1., 1., ..., 0., 0., 0.],\n",
       "        [1., 1., 1., ..., 0., 0., 0.],\n",
       "        [1., 1., 1., ..., 0., 0., 0.],\n",
       "        ...,\n",
       "        [1., 1., 1., ..., 0., 0., 0.],\n",
       "        [1., 1., 1., ..., 0., 0., 0.],\n",
       "        [1., 1., 1., ..., 0., 0., 0.]]))"
      ]
     },
     "execution_count": 31,
     "metadata": {},
     "output_type": "execute_result"
    }
   ],
   "source": [
    "Xids, attn_masks"
   ]
  },
  {
   "cell_type": "code",
   "execution_count": 32,
   "id": "d9c184bb",
   "metadata": {},
   "outputs": [],
   "source": [
    "labels = np.zeros((NUM_SAMPLES, NUM_CLASSES))"
   ]
  },
  {
   "cell_type": "code",
   "execution_count": 33,
   "id": "1651eb65",
   "metadata": {},
   "outputs": [
    {
     "data": {
      "text/plain": [
       "(500, 100)"
      ]
     },
     "execution_count": 33,
     "metadata": {},
     "output_type": "execute_result"
    }
   ],
   "source": [
    "labels.shape"
   ]
  },
  {
   "cell_type": "code",
   "execution_count": 34,
   "id": "a7ed99c0",
   "metadata": {},
   "outputs": [],
   "source": [
    "labels[np.arange(NUM_SAMPLES), data_copy['label'].values] = 1"
   ]
  },
  {
   "cell_type": "code",
   "execution_count": 35,
   "id": "5b828415",
   "metadata": {},
   "outputs": [
    {
     "data": {
      "text/plain": [
       "array([[1., 0., 0., ..., 0., 0., 0.],\n",
       "       [1., 0., 0., ..., 0., 0., 0.],\n",
       "       [1., 0., 0., ..., 0., 0., 0.],\n",
       "       ...,\n",
       "       [0., 0., 0., ..., 0., 0., 1.],\n",
       "       [0., 0., 0., ..., 0., 0., 1.],\n",
       "       [0., 0., 0., ..., 0., 0., 1.]])"
      ]
     },
     "execution_count": 35,
     "metadata": {},
     "output_type": "execute_result"
    }
   ],
   "source": [
    "labels"
   ]
  },
  {
   "cell_type": "code",
   "execution_count": 36,
   "id": "1e061f7b",
   "metadata": {},
   "outputs": [
    {
     "data": {
      "text/plain": [
       "<TakeDataset element_spec=(TensorSpec(shape=(512,), dtype=tf.float64, name=None), TensorSpec(shape=(512,), dtype=tf.float64, name=None), TensorSpec(shape=(100,), dtype=tf.float64, name=None))>"
      ]
     },
     "execution_count": 36,
     "metadata": {},
     "output_type": "execute_result"
    }
   ],
   "source": [
    "data_copy_to_tensors = tf.data.Dataset.from_tensor_slices((Xids, attn_masks, labels)) #turn our data into tensors\n",
    "data_copy_to_tensors.take(1)"
   ]
  },
  {
   "cell_type": "code",
   "execution_count": 37,
   "id": "5fd95708",
   "metadata": {},
   "outputs": [],
   "source": [
    "def mapping_inputIds_attention_masks_labels(input_ids, attention_masks, labels):\n",
    "    '''\n",
    "        This function will convert our dataset to its required format by mapping our values\n",
    "        \n",
    "        args:\n",
    "            input_ids: Xids\n",
    "            attention_masks: attn_masks\n",
    "            labels: labels\n",
    "            \n",
    "        return:\n",
    "            inputs_ids, attention_masks, labels\n",
    "    '''\n",
    "    return {\n",
    "        'input_ids': input_ids,\n",
    "        'attention_mask': attention_masks\n",
    "    }, labels"
   ]
  },
  {
   "cell_type": "code",
   "execution_count": 38,
   "id": "a7104101",
   "metadata": {},
   "outputs": [],
   "source": [
    "data_copy_to_tensors = data_copy_to_tensors.map(mapping_inputIds_attention_masks_labels)"
   ]
  },
  {
   "cell_type": "code",
   "execution_count": 39,
   "id": "8d033cb3",
   "metadata": {},
   "outputs": [
    {
     "data": {
      "text/plain": [
       "<TakeDataset element_spec=({'input_ids': TensorSpec(shape=(512,), dtype=tf.float64, name=None), 'attention_mask': TensorSpec(shape=(512,), dtype=tf.float64, name=None)}, TensorSpec(shape=(100,), dtype=tf.float64, name=None))>"
      ]
     },
     "execution_count": 39,
     "metadata": {},
     "output_type": "execute_result"
    }
   ],
   "source": [
    "data_copy_to_tensors.take(1) #take a random sample of the data"
   ]
  },
  {
   "cell_type": "code",
   "execution_count": 40,
   "id": "04d434bb",
   "metadata": {},
   "outputs": [],
   "source": [
    "batch_size = 16\n",
    "data_copy_to_tensors = data_copy_to_tensors.shuffle(10000).batch(batch_size, drop_remainder=True) #create a random seed for distribution"
   ]
  },
  {
   "cell_type": "code",
   "execution_count": 41,
   "id": "1b624669",
   "metadata": {},
   "outputs": [
    {
     "data": {
      "text/plain": [
       "<TakeDataset element_spec=({'input_ids': TensorSpec(shape=(16, 512), dtype=tf.float64, name=None), 'attention_mask': TensorSpec(shape=(16, 512), dtype=tf.float64, name=None)}, TensorSpec(shape=(16, 100), dtype=tf.float64, name=None))>"
      ]
     },
     "execution_count": 41,
     "metadata": {},
     "output_type": "execute_result"
    }
   ],
   "source": [
    "data_copy_to_tensors.take(1)"
   ]
  },
  {
   "cell_type": "code",
   "execution_count": 42,
   "id": "5927a902",
   "metadata": {},
   "outputs": [],
   "source": [
    "p = 0.8\n",
    "train_size = int((NUM_SAMPLES // batch_size) * p) #for each batch we will have # of samples / batch_size and take out 80% of that to train with"
   ]
  },
  {
   "cell_type": "code",
   "execution_count": 43,
   "id": "44771831",
   "metadata": {},
   "outputs": [],
   "source": [
    "train_dataset = data_copy_to_tensors.take(train_size) #create train dataset\n",
    "val_dataset = data_copy_to_tensors.skip(train_size)   #create test dataset"
   ]
  },
  {
   "cell_type": "code",
   "execution_count": 44,
   "id": "69268033",
   "metadata": {},
   "outputs": [
    {
     "data": {
      "text/plain": [
       "<TakeDataset element_spec=({'input_ids': TensorSpec(shape=(16, 512), dtype=tf.float64, name=None), 'attention_mask': TensorSpec(shape=(16, 512), dtype=tf.float64, name=None)}, TensorSpec(shape=(16, 100), dtype=tf.float64, name=None))>"
      ]
     },
     "execution_count": 44,
     "metadata": {},
     "output_type": "execute_result"
    }
   ],
   "source": [
    "train_dataset"
   ]
  },
  {
   "cell_type": "code",
   "execution_count": 45,
   "id": "eab4edca",
   "metadata": {},
   "outputs": [
    {
     "data": {
      "text/plain": [
       "<SkipDataset element_spec=({'input_ids': TensorSpec(shape=(16, 512), dtype=tf.float64, name=None), 'attention_mask': TensorSpec(shape=(16, 512), dtype=tf.float64, name=None)}, TensorSpec(shape=(16, 100), dtype=tf.float64, name=None))>"
      ]
     },
     "execution_count": 45,
     "metadata": {},
     "output_type": "execute_result"
    }
   ],
   "source": [
    "val_dataset"
   ]
  },
  {
   "cell_type": "markdown",
   "id": "afa0b870",
   "metadata": {},
   "source": [
    "## 4.0 Building Model\n",
    "\n",
    "1. Create pre-trained [BERT](https://huggingface.co/docs/transformers/main_classes/model) model\n",
    "<br><br>\n",
    "\n",
    "2. Create layers\n",
    "    - We will use two [input](https://www.tensorflow.org/api_docs/python/tf/keras/Input) layers:\n",
    "        1. input_ids\n",
    "        2. attention masks\n",
    "    - We will make an embedding layer\n",
    "        - Encapsulates the meaning of the word from our input_ids and attention masks\n",
    "        - Stack the inputs to get an 'activation layer'\n",
    "    - Mean pooling layer\n",
    "        - We will use [AveragePooling1D](https://keras.io/api/layers/pooling_layers/average_pooling1d/) to create a mean pooling layer\n",
    "            - In theory this layer takes the matrix and calculates the average of the values for each window size of the matrix\n",
    "            - In this case we are taking the average of 2 values because that is our stride size\n",
    "    - Hidden layer\n",
    "        - A [dense](https://www.tensorflow.org/api_docs/python/tf/keras/layers/Dense) with [relu](https://www.tensorflow.org/api_docs/python/tf/keras/activations/relu) activation and sequence_length * 2 neurons\n",
    "        - Stack the embedding layer \n",
    "    - Flattened layer\n",
    "        - A [flattened](https://www.tensorflow.org/api_docs/python/tf/keras/layers/Flatten) layer that shrinks the output size back to a size of 2\n",
    "        - After we create a mean pooling layer our output size goes to 3, so we need this layer to shrink it back to 2 in order to maintain our shape for the output layer\n",
    "    - Output layer\n",
    "        - Another [dense](https://www.tensorflow.org/api_docs/python/tf/keras/layers/Dense) layer that takes in the number of classes and a [softmax](https://www.tensorflow.org/api_docs/python/tf/keras/layers/Softmax) activation\n",
    "        - Stack the hidden layer\n",
    "<br><br>\n",
    "\n",
    "3. Compile model\n",
    "    - Use [Model](https://www.tensorflow.org/api_docs/python/tf/keras/Model) to compile and get model summary\n",
    "<br><br>\n",
    "\n",
    "4. Create optimizer\n",
    "    - We will use [Adam](https://www.tensorflow.org/api_docs/python/tf/keras/optimizers/Adam) with an adjusted learning rate and decay\n",
    "<br><br>\n",
    "    \n",
    "5. Create loss function\n",
    "    - We will use [CategoricalCrossentropy](https://www.tensorflow.org/api_docs/python/tf/keras/losses/CategoricalCrossentropy) to calculate our loss\n",
    "<br><br>\n",
    "    \n",
    "6. Create metric\n",
    "    - We will use [CategoricalAccuracy](https://www.tensorflow.org/api_docs/python/tf/keras/metrics/CategoricalAccuracy)\n",
    "<br><br>\n",
    " \n",
    "7. Create callback\n",
    "    - We will use the [callback](https://keras.io/api/callbacks/) to monitor our loss function and stop training if our loss function does not keep decreasing after a set amount of epochs\n",
    "<br><br>\n",
    " \n",
    "8. Fit model and track history\n",
    "   - Train over 50 epochs\n",
    "   - **Important: WATCH OVERFITTING(model memorizes train data but does terrible on test data)**\n",
    "       - If we deem that the model is overfitting we can use [regularization](https://www.tensorflow.org/api_docs/python/tf/keras/regularizers/Regularizer)\n",
    "       - We can also use a [dropout](https://www.tensorflow.org/api_docs/python/tf/keras/layers/Dropout) layer"
   ]
  },
  {
   "cell_type": "code",
   "execution_count": 46,
   "id": "1f0f1d63",
   "metadata": {},
   "outputs": [
    {
     "name": "stderr",
     "output_type": "stream",
     "text": [
      "Some layers from the model checkpoint at bert-base-cased were not used when initializing TFBertModel: ['mlm___cls', 'nsp___cls']\n",
      "- This IS expected if you are initializing TFBertModel from the checkpoint of a model trained on another task or with another architecture (e.g. initializing a BertForSequenceClassification model from a BertForPreTraining model).\n",
      "- This IS NOT expected if you are initializing TFBertModel from the checkpoint of a model that you expect to be exactly identical (initializing a BertForSequenceClassification model from a BertForSequenceClassification model).\n",
      "All the layers of TFBertModel were initialized from the model checkpoint at bert-base-cased.\n",
      "If your task is similar to the task the model of the checkpoint was trained on, you can already use TFBertModel for predictions without further training.\n"
     ]
    }
   ],
   "source": [
    "model = TFBertModel.from_pretrained('bert-base-cased') #instantiate model"
   ]
  },
  {
   "cell_type": "code",
   "execution_count": 50,
   "id": "784cebab",
   "metadata": {},
   "outputs": [
    {
     "name": "stdout",
     "output_type": "stream",
     "text": [
      "Model: \"model_2\"\n",
      "__________________________________________________________________________________________________\n",
      " Layer (type)                   Output Shape         Param #     Connected to                     \n",
      "==================================================================================================\n",
      " input_ids (InputLayer)         [(None, 512)]        0           []                               \n",
      "                                                                                                  \n",
      " attention_mask (InputLayer)    [(None, 512)]        0           []                               \n",
      "                                                                                                  \n",
      " bert (TFBertMainLayer)         TFBaseModelOutputWi  108310272   ['input_ids[0][0]',              \n",
      "                                thPoolingAndCrossAt               'attention_mask[0][0]']         \n",
      "                                tentions(last_hidde                                               \n",
      "                                n_state=(None, 512,                                               \n",
      "                                 768),                                                            \n",
      "                                 pooler_output=(Non                                               \n",
      "                                e, 768),                                                          \n",
      "                                 past_key_values=No                                               \n",
      "                                ne, hidden_states=N                                               \n",
      "                                one, attentions=Non                                               \n",
      "                                e, cross_attentions                                               \n",
      "                                =None)                                                            \n",
      "                                                                                                  \n",
      " mean_pooling_layer (AveragePoo  (None, 256, 768)    0           ['bert[2][0]']                   \n",
      " ling1D)                                                                                          \n",
      "                                                                                                  \n",
      " hidden_layer (Dense)           (None, 256, 1024)    787456      ['mean_pooling_layer[0][0]']     \n",
      "                                                                                                  \n",
      " flattened_layer (Flatten)      (None, 262144)       0           ['hidden_layer[0][0]']           \n",
      "                                                                                                  \n",
      " output_layer (Dense)           (None, 100)          26214500    ['flattened_layer[0][0]']        \n",
      "                                                                                                  \n",
      "==================================================================================================\n",
      "Total params: 135,312,228\n",
      "Trainable params: 135,312,228\n",
      "Non-trainable params: 0\n",
      "__________________________________________________________________________________________________\n"
     ]
    }
   ],
   "source": [
    "#we need two input layers, input_ids and attention_masks\n",
    "input_ids = tf.keras.layers.Input(shape=(SEQUENCE_LENGTH,), name='input_ids', dtype='int32')\n",
    "attn_masks = tf.keras.layers.Input(shape=(SEQUENCE_LENGTH,), name='attention_mask', dtype='int32')\n",
    "\n",
    "#embedding layer, serves as an pooled layer[1], can also change to an activation layer[0]\n",
    "bert_embds = model.bert(input_ids, attention_mask=attn_masks)[0] \n",
    "\n",
    "#mean pooling layer, \n",
    "mean_pooling_layer = tf.keras.layers.AveragePooling1D(pool_size=(2), strides=None, name='mean_pooling_layer')(bert_embds)\n",
    "\n",
    "#hidden layer, creates a Dense layer with sequence_len * 2 neurons can change neurons and activations\n",
    "hidden_layer = tf.keras.layers.Dense(SEQUENCE_LENGTH*2, activation='relu', name='hidden_layer')(mean_pooling_layer)\n",
    "\n",
    "#flattened layer to condense our output to match the input layer\n",
    "flattened_layer = tf.keras.layers.Flatten(name='flattened_layer')(hidden_layer)\n",
    "\n",
    "\n",
    "#output layer, takes in the number of classes for neurons, using softmax because is calculates probability of classes\n",
    "output_layer = tf.keras.layers.Dense(NUM_CLASSES, activation='softmax', name='output_layer')(flattened_layer) \n",
    "\n",
    "#build model\n",
    "built_noisy_tag_model = tf.keras.Model(inputs=[input_ids, attn_masks], outputs=output_layer)\n",
    "built_noisy_tag_model.summary()"
   ]
  },
  {
   "cell_type": "code",
   "execution_count": 51,
   "id": "42c9da6e",
   "metadata": {},
   "outputs": [
    {
     "name": "stdout",
     "output_type": "stream",
     "text": [
      "Epoch 1/50\n",
      "WARNING:tensorflow:Gradients do not exist for variables ['tf_bert_model/bert/pooler/dense/kernel:0', 'tf_bert_model/bert/pooler/dense/bias:0'] when minimizing the loss. If you're using `model.compile()`, did you forget to provide a `loss`argument?\n",
      "WARNING:tensorflow:Gradients do not exist for variables ['tf_bert_model/bert/pooler/dense/kernel:0', 'tf_bert_model/bert/pooler/dense/bias:0'] when minimizing the loss. If you're using `model.compile()`, did you forget to provide a `loss`argument?\n"
     ]
    },
    {
     "name": "stderr",
     "output_type": "stream",
     "text": [
      "2023-02-21 20:38:18.337439: W tensorflow/core/platform/profile_utils/cpu_utils.cc:128] Failed to get CPU frequency: 0 Hz\n",
      "2023-02-21 20:38:18.341957: I tensorflow/core/grappler/optimizers/custom_graph_optimizer_registry.cc:113] Plugin optimizer for device_type GPU is enabled.\n"
     ]
    },
    {
     "name": "stdout",
     "output_type": "stream",
     "text": [
      "24/24 [==============================] - ETA: 0s - loss: 5.1011 - accuracy: 0.0052"
     ]
    },
    {
     "name": "stderr",
     "output_type": "stream",
     "text": [
      "2023-02-21 20:42:03.494031: I tensorflow/core/grappler/optimizers/custom_graph_optimizer_registry.cc:113] Plugin optimizer for device_type GPU is enabled.\n"
     ]
    },
    {
     "name": "stdout",
     "output_type": "stream",
     "text": [
      "24/24 [==============================] - 235s 10s/step - loss: 5.1011 - accuracy: 0.0052 - val_loss: 4.3810 - val_accuracy: 0.1339\n",
      "Epoch 2/50\n",
      "24/24 [==============================] - 237s 10s/step - loss: 4.3866 - accuracy: 0.0885 - val_loss: 3.8439 - val_accuracy: 0.2321\n",
      "Epoch 3/50\n",
      "24/24 [==============================] - 211s 9s/step - loss: 3.5898 - accuracy: 0.2943 - val_loss: 2.3893 - val_accuracy: 0.6161\n",
      "Epoch 4/50\n",
      "24/24 [==============================] - 226s 9s/step - loss: 2.3116 - accuracy: 0.5859 - val_loss: 1.1115 - val_accuracy: 0.8214\n",
      "Epoch 5/50\n",
      "24/24 [==============================] - 235s 10s/step - loss: 1.1422 - accuracy: 0.7865 - val_loss: 0.2816 - val_accuracy: 0.9464\n",
      "Epoch 6/50\n",
      "24/24 [==============================] - 232s 10s/step - loss: 0.5936 - accuracy: 0.8672 - val_loss: 0.1169 - val_accuracy: 0.9821\n",
      "Epoch 7/50\n",
      "24/24 [==============================] - 230s 10s/step - loss: 0.3282 - accuracy: 0.9427 - val_loss: 0.0551 - val_accuracy: 0.9911\n",
      "Epoch 8/50\n",
      "24/24 [==============================] - 231s 10s/step - loss: 0.1856 - accuracy: 0.9792 - val_loss: 0.0313 - val_accuracy: 1.0000\n",
      "Epoch 9/50\n",
      "24/24 [==============================] - 267s 11s/step - loss: 0.1250 - accuracy: 0.9792 - val_loss: 0.0146 - val_accuracy: 1.0000\n",
      "Epoch 10/50\n",
      "24/24 [==============================] - 233s 10s/step - loss: 0.0689 - accuracy: 0.9948 - val_loss: 0.0094 - val_accuracy: 1.0000\n",
      "Epoch 11/50\n",
      "24/24 [==============================] - 213s 9s/step - loss: 0.0718 - accuracy: 0.9922 - val_loss: 0.0056 - val_accuracy: 1.0000\n",
      "Epoch 12/50\n",
      "24/24 [==============================] - 224s 9s/step - loss: 0.0512 - accuracy: 0.9896 - val_loss: 0.0034 - val_accuracy: 1.0000\n",
      "Epoch 13/50\n",
      "24/24 [==============================] - 232s 10s/step - loss: 0.0406 - accuracy: 0.9922 - val_loss: 0.0047 - val_accuracy: 1.0000\n",
      "Epoch 14/50\n",
      "24/24 [==============================] - 233s 10s/step - loss: 0.0256 - accuracy: 1.0000 - val_loss: 0.0024 - val_accuracy: 1.0000\n",
      "Epoch 15/50\n",
      "24/24 [==============================] - 232s 10s/step - loss: 0.0251 - accuracy: 0.9974 - val_loss: 0.0023 - val_accuracy: 1.0000\n",
      "Epoch 16/50\n",
      "24/24 [==============================] - 234s 10s/step - loss: 0.0233 - accuracy: 1.0000 - val_loss: 0.0013 - val_accuracy: 1.0000\n",
      "Epoch 17/50\n",
      "24/24 [==============================] - 249s 10s/step - loss: 0.0179 - accuracy: 1.0000 - val_loss: 0.0012 - val_accuracy: 1.0000\n",
      "Epoch 18/50\n",
      "24/24 [==============================] - 235s 10s/step - loss: 0.0148 - accuracy: 1.0000 - val_loss: 9.1126e-04 - val_accuracy: 1.0000\n",
      "Epoch 19/50\n",
      "24/24 [==============================] - 322s 14s/step - loss: 0.0201 - accuracy: 0.9974 - val_loss: 8.1887e-04 - val_accuracy: 1.0000\n",
      "Epoch 20/50\n",
      "24/24 [==============================] - 239s 10s/step - loss: 0.0110 - accuracy: 1.0000 - val_loss: 8.8196e-04 - val_accuracy: 1.0000\n",
      "Epoch 21/50\n",
      "24/24 [==============================] - 227s 9s/step - loss: 0.0130 - accuracy: 1.0000 - val_loss: 6.8917e-04 - val_accuracy: 1.0000\n",
      "Epoch 22/50\n",
      "24/24 [==============================] - 233s 10s/step - loss: 0.0099 - accuracy: 1.0000 - val_loss: 6.1526e-04 - val_accuracy: 1.0000\n",
      "Epoch 23/50\n",
      "24/24 [==============================] - 235s 10s/step - loss: 0.0089 - accuracy: 1.0000 - val_loss: 7.1045e-04 - val_accuracy: 1.0000\n",
      "Epoch 24/50\n",
      "24/24 [==============================] - 234s 10s/step - loss: 0.0064 - accuracy: 1.0000 - val_loss: 3.8160e-04 - val_accuracy: 1.0000\n",
      "Epoch 25/50\n",
      "24/24 [==============================] - 235s 10s/step - loss: 0.0084 - accuracy: 1.0000 - val_loss: 4.6611e-04 - val_accuracy: 1.0000\n",
      "Epoch 26/50\n",
      "24/24 [==============================] - 240s 10s/step - loss: 0.0059 - accuracy: 1.0000 - val_loss: 3.6748e-04 - val_accuracy: 1.0000\n",
      "Epoch 27/50\n",
      "24/24 [==============================] - 221s 9s/step - loss: 0.0069 - accuracy: 0.9974 - val_loss: 3.5589e-04 - val_accuracy: 1.0000\n",
      "Epoch 28/50\n",
      "24/24 [==============================] - 218s 9s/step - loss: 0.0103 - accuracy: 1.0000 - val_loss: 3.4996e-04 - val_accuracy: 1.0000\n",
      "Epoch 29/50\n",
      "24/24 [==============================] - 228s 9s/step - loss: 0.0043 - accuracy: 1.0000 - val_loss: 2.8954e-04 - val_accuracy: 1.0000\n",
      "Epoch 30/50\n",
      "24/24 [==============================] - 227s 9s/step - loss: 0.0038 - accuracy: 1.0000 - val_loss: 3.1855e-04 - val_accuracy: 1.0000\n",
      "Epoch 31/50\n",
      "24/24 [==============================] - 216s 9s/step - loss: 0.0037 - accuracy: 1.0000 - val_loss: 2.5975e-04 - val_accuracy: 1.0000\n",
      "Epoch 32/50\n",
      "24/24 [==============================] - 227s 9s/step - loss: 0.0038 - accuracy: 1.0000 - val_loss: 2.1584e-04 - val_accuracy: 1.0000\n",
      "Epoch 33/50\n",
      "24/24 [==============================] - 229s 9s/step - loss: 0.0058 - accuracy: 1.0000 - val_loss: 3.0406e-04 - val_accuracy: 1.0000\n",
      "Epoch 34/50\n",
      "24/24 [==============================] - 230s 10s/step - loss: 0.0036 - accuracy: 1.0000 - val_loss: 1.7822e-04 - val_accuracy: 1.0000\n",
      "Epoch 35/50\n",
      "24/24 [==============================] - 247s 10s/step - loss: 0.0031 - accuracy: 1.0000 - val_loss: 1.6572e-04 - val_accuracy: 1.0000\n",
      "Epoch 36/50\n",
      "24/24 [==============================] - 240s 10s/step - loss: 0.0032 - accuracy: 1.0000 - val_loss: 1.7767e-04 - val_accuracy: 1.0000\n",
      "Epoch 37/50\n",
      "24/24 [==============================] - 238s 10s/step - loss: 0.0030 - accuracy: 1.0000 - val_loss: 1.8090e-04 - val_accuracy: 1.0000\n",
      "Epoch 38/50\n",
      "24/24 [==============================] - 232s 10s/step - loss: 0.0025 - accuracy: 1.0000 - val_loss: 1.5396e-04 - val_accuracy: 1.0000\n",
      "Epoch 39/50\n",
      "24/24 [==============================] - 216s 9s/step - loss: 0.0024 - accuracy: 1.0000 - val_loss: 1.4644e-04 - val_accuracy: 1.0000\n",
      "Epoch 40/50\n",
      "24/24 [==============================] - 225s 9s/step - loss: 0.0028 - accuracy: 1.0000 - val_loss: 1.2428e-04 - val_accuracy: 1.0000\n",
      "Epoch 41/50\n",
      "24/24 [==============================] - 221s 9s/step - loss: 0.0022 - accuracy: 1.0000 - val_loss: 1.4050e-04 - val_accuracy: 1.0000\n",
      "Epoch 42/50\n",
      "24/24 [==============================] - 215s 9s/step - loss: 0.0022 - accuracy: 1.0000 - val_loss: 1.4063e-04 - val_accuracy: 1.0000\n",
      "Epoch 43/50\n",
      "24/24 [==============================] - 220s 9s/step - loss: 0.0022 - accuracy: 1.0000 - val_loss: 1.1404e-04 - val_accuracy: 1.0000\n",
      "Epoch 44/50\n",
      "24/24 [==============================] - 211s 9s/step - loss: 0.0023 - accuracy: 1.0000 - val_loss: 1.2293e-04 - val_accuracy: 1.0000\n",
      "Epoch 45/50\n",
      "24/24 [==============================] - 214s 9s/step - loss: 0.0021 - accuracy: 1.0000 - val_loss: 1.0777e-04 - val_accuracy: 1.0000\n",
      "Epoch 46/50\n",
      "24/24 [==============================] - 226s 9s/step - loss: 0.0018 - accuracy: 1.0000 - val_loss: 9.4035e-05 - val_accuracy: 1.0000\n",
      "Epoch 47/50\n",
      "24/24 [==============================] - 216s 9s/step - loss: 0.0021 - accuracy: 1.0000 - val_loss: 9.7411e-05 - val_accuracy: 1.0000\n",
      "Epoch 48/50\n",
      "24/24 [==============================] - 228s 10s/step - loss: 0.0021 - accuracy: 1.0000 - val_loss: 1.0164e-04 - val_accuracy: 1.0000\n",
      "Epoch 49/50\n",
      "24/24 [==============================] - 224s 9s/step - loss: 0.0022 - accuracy: 1.0000 - val_loss: 1.1645e-04 - val_accuracy: 1.0000\n",
      "Epoch 50/50\n",
      "24/24 [==============================] - 232s 10s/step - loss: 0.0017 - accuracy: 1.0000 - val_loss: 1.0240e-04 - val_accuracy: 1.0000\n"
     ]
    }
   ],
   "source": [
    "#create optimizer, can change learning rate if needed \n",
    "optimizer = tf.keras.optimizers.Adam(learning_rate=0.00001, decay=0.000001)\n",
    "#create loss function\n",
    "loss_function = tf.keras.losses.CategoricalCrossentropy()\n",
    "#create accuracy metrics\n",
    "accuracy = tf.keras.metrics.CategoricalAccuracy('accuracy')\n",
    "\n",
    "earlystopping = callbacks.EarlyStopping(monitor =\"val_loss\",        #metric to monitor\n",
    "                                        mode =\"min\",                #In min mode, training will stop when the value of data that is monitored stop decreasing.\n",
    "                                        patience = 5,               #after 5 epochs of no decrease we stop \n",
    "                                        restore_best_weights = True #restore the best value\n",
    "                                       )\n",
    "\n",
    "built_noisy_tag_model.compile(optimizer=optimizer, loss=loss_function, metrics=[accuracy]) #compile model\n",
    "\n",
    "#create model history\n",
    "built_noisy_tag_model_history = built_noisy_tag_model.fit(\n",
    "    train_dataset,\n",
    "    validation_data=val_dataset,\n",
    "    epochs=50,\n",
    "    callbacks=[earlystopping]\n",
    ")"
   ]
  },
  {
   "cell_type": "markdown",
   "id": "b1dd5729",
   "metadata": {},
   "source": [
    "## 5.0 Evaluating Model\n",
    "\n",
    "1. Call **generate_train_loss_plots(num_epochs, model_name)**\n",
    "    - Plots the loss function on train and validation\n",
    "    - Plots the accuracy on train and validation"
   ]
  },
  {
   "cell_type": "code",
   "execution_count": 53,
   "id": "6c2805dd",
   "metadata": {},
   "outputs": [
    {
     "data": {
      "image/png": "[encoded data removed]",
      "text/plain": [
       "<Figure size 3000x500 with 2 Axes>"
      ]
     },
     "metadata": {},
     "output_type": "display_data"
    }
   ],
   "source": [
    "generate_train_loss_plots(50, built_noisy_tag_model_history)"
   ]
  },
  {
   "cell_type": "markdown",
   "id": "d10b951f",
   "metadata": {},
   "source": [
    "## 6.0 Predictions For Sentence Model\n",
    "\n",
    "1. Call **generate_num_classes(num_classes)**\n",
    "    - Generates a list of all the labels for our prediction\n",
    "<br><br>\n",
    "\n",
    "2. Pick a random sample from the dataset\n",
    "<br><br>\n",
    "\n",
    "3. Create a string of text\n",
    "<br><br>\n",
    "\n",
    "4. Call **prepare_data(input, tokenizer, seq_len)**\n",
    "    - This will encode the sentence that is inputted\n",
    "<br><br>\n",
    "\n",
    "5. Call **make_prediction(model_name, processed_data, classes)**\n",
    "    - Makes a prediction about the given text\n",
    "<br><br>\n",
    "\n",
    "6. Print prediction"
   ]
  },
  {
   "cell_type": "code",
   "execution_count": 54,
   "id": "7f03d99a",
   "metadata": {},
   "outputs": [],
   "source": [
    "class_list = generate_num_classes(NUM_CLASSES)"
   ]
  },
  {
   "cell_type": "code",
   "execution_count": 55,
   "id": "70f73114",
   "metadata": {},
   "outputs": [
    {
     "data": {
      "text/html": [
       "<div>\n",
       "<style scoped>\n",
       "    .dataframe tbody tr th:only-of-type {\n",
       "        vertical-align: middle;\n",
       "    }\n",
       "\n",
       "    .dataframe tbody tr th {\n",
       "        vertical-align: top;\n",
       "    }\n",
       "\n",
       "    .dataframe thead th {\n",
       "        text-align: right;\n",
       "    }\n",
       "</style>\n",
       "<table border=\"1\" class=\"dataframe\">\n",
       "  <thead>\n",
       "    <tr style=\"text-align: right;\">\n",
       "      <th></th>\n",
       "      <th>image_name</th>\n",
       "      <th>comment_number</th>\n",
       "      <th>comment</th>\n",
       "      <th>cleaned_comment</th>\n",
       "      <th>label</th>\n",
       "      <th>word_count</th>\n",
       "      <th>unique_word_count</th>\n",
       "      <th>unique_words_vs_words</th>\n",
       "      <th>keywords</th>\n",
       "      <th>noisy_tags</th>\n",
       "    </tr>\n",
       "  </thead>\n",
       "  <tbody>\n",
       "    <tr>\n",
       "      <th>30</th>\n",
       "      <td>1000919630.jpg</td>\n",
       "      <td>0</td>\n",
       "      <td>A man sits in a chair while holding a large s...</td>\n",
       "      <td>man sits chair holding large stuffed animal lion</td>\n",
       "      <td>6</td>\n",
       "      <td>16</td>\n",
       "      <td>14</td>\n",
       "      <td>0.875</td>\n",
       "      <td>[(large stuffed animal, 0.0008990471097494833)...</td>\n",
       "      <td>man sits chair holding stuffed animal lion</td>\n",
       "    </tr>\n",
       "  </tbody>\n",
       "</table>\n",
       "</div>"
      ],
      "text/plain": [
       "        image_name comment_number  \\\n",
       "30  1000919630.jpg              0   \n",
       "\n",
       "                                              comment  \\\n",
       "30   A man sits in a chair while holding a large s...   \n",
       "\n",
       "                                     cleaned_comment  label  word_count  \\\n",
       "30  man sits chair holding large stuffed animal lion      6          16   \n",
       "\n",
       "    unique_word_count  unique_words_vs_words  \\\n",
       "30                 14                  0.875   \n",
       "\n",
       "                                             keywords  \\\n",
       "30  [(large stuffed animal, 0.0008990471097494833)...   \n",
       "\n",
       "                                    noisy_tags  \n",
       "30  man sits chair holding stuffed animal lion  "
      ]
     },
     "execution_count": 55,
     "metadata": {},
     "output_type": "execute_result"
    }
   ],
   "source": [
    "data_copy.sample(1)"
   ]
  },
  {
   "cell_type": "code",
   "execution_count": 61,
   "id": "29455c39",
   "metadata": {},
   "outputs": [
    {
     "name": "stdout",
     "output_type": "stream",
     "text": [
      "1/1 [==============================] - 0s 219ms/step\n",
      "Predicted Label: 6\n"
     ]
    }
   ],
   "source": [
    "input_text = \"man with lion\"\n",
    "processed_data = prepare_data(input_text, tokenizer, SEQUENCE_LENGTH)\n",
    "result = make_prediction(built_noisy_tag_model, processed_data=processed_data, classes=class_list)\n",
    "print(f\"Predicted Label: {result}\")"
   ]
  },
  {
   "cell_type": "code",
   "execution_count": 59,
   "id": "38591f87",
   "metadata": {},
   "outputs": [
    {
     "data": {
      "text/html": [
       "<div>\n",
       "<style scoped>\n",
       "    .dataframe tbody tr th:only-of-type {\n",
       "        vertical-align: middle;\n",
       "    }\n",
       "\n",
       "    .dataframe tbody tr th {\n",
       "        vertical-align: top;\n",
       "    }\n",
       "\n",
       "    .dataframe thead th {\n",
       "        text-align: right;\n",
       "    }\n",
       "</style>\n",
       "<table border=\"1\" class=\"dataframe\">\n",
       "  <thead>\n",
       "    <tr style=\"text-align: right;\">\n",
       "      <th></th>\n",
       "      <th>image_name</th>\n",
       "      <th>comment_number</th>\n",
       "      <th>comment</th>\n",
       "      <th>cleaned_comment</th>\n",
       "      <th>label</th>\n",
       "      <th>word_count</th>\n",
       "      <th>unique_word_count</th>\n",
       "      <th>unique_words_vs_words</th>\n",
       "      <th>keywords</th>\n",
       "      <th>noisy_tags</th>\n",
       "    </tr>\n",
       "  </thead>\n",
       "  <tbody>\n",
       "    <tr>\n",
       "      <th>245</th>\n",
       "      <td>101262930.jpg</td>\n",
       "      <td>0</td>\n",
       "      <td>Two asian or spanish people , a woman and a m...</td>\n",
       "      <td>two asian spanish people woman man sitting tog...</td>\n",
       "      <td>49</td>\n",
       "      <td>24</td>\n",
       "      <td>21</td>\n",
       "      <td>0.875000</td>\n",
       "      <td>[(spanish people, 0.00899321792126428), (cars ...</td>\n",
       "      <td>people woman man sitting front glass window ca...</td>\n",
       "    </tr>\n",
       "    <tr>\n",
       "      <th>246</th>\n",
       "      <td>101262930.jpg</td>\n",
       "      <td>1</td>\n",
       "      <td>A man in sunglasses puts his arm around a wom...</td>\n",
       "      <td>man sunglasses puts arm around woman black whi...</td>\n",
       "      <td>49</td>\n",
       "      <td>17</td>\n",
       "      <td>15</td>\n",
       "      <td>0.882353</td>\n",
       "      <td>[(white blouse, 0.00899321792126428), (man in ...</td>\n",
       "      <td>man sunglasses puts arm woman blouse</td>\n",
       "    </tr>\n",
       "    <tr>\n",
       "      <th>247</th>\n",
       "      <td>101262930.jpg</td>\n",
       "      <td>2</td>\n",
       "      <td>A man in sunglasses puts his arm around a wom...</td>\n",
       "      <td>man sunglasses puts arm around woman</td>\n",
       "      <td>49</td>\n",
       "      <td>11</td>\n",
       "      <td>11</td>\n",
       "      <td>1.000000</td>\n",
       "      <td>[(man in sunglasses, 0.02570861714399338), (su...</td>\n",
       "      <td>man sunglasses puts arm woman</td>\n",
       "    </tr>\n",
       "    <tr>\n",
       "      <th>248</th>\n",
       "      <td>101262930.jpg</td>\n",
       "      <td>3</td>\n",
       "      <td>A man and woman pose in front of some traffic .</td>\n",
       "      <td>man woman pose front traffic</td>\n",
       "      <td>49</td>\n",
       "      <td>11</td>\n",
       "      <td>11</td>\n",
       "      <td>1.000000</td>\n",
       "      <td>[(man and woman, 0.09700399286574239), (woman ...</td>\n",
       "      <td>man woman pose front traffic</td>\n",
       "    </tr>\n",
       "    <tr>\n",
       "      <th>249</th>\n",
       "      <td>101262930.jpg</td>\n",
       "      <td>4</td>\n",
       "      <td>An Asian couple sitting on the bench .</td>\n",
       "      <td>asian couple sitting bench</td>\n",
       "      <td>49</td>\n",
       "      <td>8</td>\n",
       "      <td>8</td>\n",
       "      <td>1.000000</td>\n",
       "      <td>[(Asian couple sitting, 0.015042304599106411),...</td>\n",
       "      <td>couple sitting bench</td>\n",
       "    </tr>\n",
       "  </tbody>\n",
       "</table>\n",
       "</div>"
      ],
      "text/plain": [
       "        image_name comment_number  \\\n",
       "245  101262930.jpg              0   \n",
       "246  101262930.jpg              1   \n",
       "247  101262930.jpg              2   \n",
       "248  101262930.jpg              3   \n",
       "249  101262930.jpg              4   \n",
       "\n",
       "                                               comment  \\\n",
       "245   Two asian or spanish people , a woman and a m...   \n",
       "246   A man in sunglasses puts his arm around a wom...   \n",
       "247   A man in sunglasses puts his arm around a wom...   \n",
       "248    A man and woman pose in front of some traffic .   \n",
       "249             An Asian couple sitting on the bench .   \n",
       "\n",
       "                                       cleaned_comment  label  word_count  \\\n",
       "245  two asian spanish people woman man sitting tog...     49          24   \n",
       "246  man sunglasses puts arm around woman black whi...     49          17   \n",
       "247               man sunglasses puts arm around woman     49          11   \n",
       "248                       man woman pose front traffic     49          11   \n",
       "249                         asian couple sitting bench     49           8   \n",
       "\n",
       "     unique_word_count  unique_words_vs_words  \\\n",
       "245                 21               0.875000   \n",
       "246                 15               0.882353   \n",
       "247                 11               1.000000   \n",
       "248                 11               1.000000   \n",
       "249                  8               1.000000   \n",
       "\n",
       "                                              keywords  \\\n",
       "245  [(spanish people, 0.00899321792126428), (cars ...   \n",
       "246  [(white blouse, 0.00899321792126428), (man in ...   \n",
       "247  [(man in sunglasses, 0.02570861714399338), (su...   \n",
       "248  [(man and woman, 0.09700399286574239), (woman ...   \n",
       "249  [(Asian couple sitting, 0.015042304599106411),...   \n",
       "\n",
       "                                            noisy_tags  \n",
       "245  people woman man sitting front glass window ca...  \n",
       "246               man sunglasses puts arm woman blouse  \n",
       "247                      man sunglasses puts arm woman  \n",
       "248                       man woman pose front traffic  \n",
       "249                               couple sitting bench  "
      ]
     },
     "execution_count": 59,
     "metadata": {},
     "output_type": "execute_result"
    }
   ],
   "source": [
    "data_copy[data_copy['label']==49]"
   ]
  }
 ],
 "metadata": {
  "kernelspec": {
   "display_name": "Python 3 (ipykernel)",
   "language": "python",
   "name": "python3"
  },
  "language_info": {
   "codemirror_mode": {
    "name": "ipython",
    "version": 3
   },
   "file_extension": ".py",
   "mimetype": "text/x-python",
   "name": "python",
   "nbconvert_exporter": "python",
   "pygments_lexer": "ipython3",
   "version": "3.9.16"
  }
 },
 "nbformat": 4,
 "nbformat_minor": 5
}
