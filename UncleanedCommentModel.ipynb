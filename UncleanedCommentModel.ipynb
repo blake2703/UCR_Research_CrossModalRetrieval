{
 "cells": [
  {
   "cell_type": "code",
   "execution_count": 169,
   "id": "07074ed4",
   "metadata": {},
   "outputs": [],
   "source": [
    "from ipynb.fs.full.UtilFunctions import *"
   ]
  },
  {
   "cell_type": "markdown",
   "id": "d7f36a6c",
   "metadata": {},
   "source": [
    "## 1.0 Get Data and Greet Data\n",
    "\n",
    "1. A dataset should be broken up into multiple datasets:\n",
    "    - data_raw = first read in of our data, but will not be touched\n",
    "    - data_copy = data_raw copied, which will be used to clean, feature engineer, and wrangle our data\n",
    "    <br><br>\n",
    "\n",
    "2. Call [.info](https://pandas.pydata.org/docs/reference/api/pandas.DataFrame.info.html) to get an idea of how many entries, non-null counts, and the data type of each object\n",
    "    <br><br>\n",
    "\n",
    "3. Call [.sample](https://pandas.pydata.org/docs/reference/api/pandas.DataFrame.sample.html) to get a random sample of the data so we know what the data looks like\n",
    "    <br><br>\n",
    "  \n",
    "4. Make sure that each image has 5 comments"
   ]
  },
  {
   "cell_type": "code",
   "execution_count": 170,
   "id": "c34dc093",
   "metadata": {},
   "outputs": [],
   "source": [
    "data_raw = pd.read_csv('/Volumes/ExternalDrive/flickr30k_images/results.csv', delimiter='|')\n",
    "data_copy = pd.read_csv('/Volumes/ExternalDrive/flickr30k_images/results.csv', delimiter='|')"
   ]
  },
  {
   "cell_type": "code",
   "execution_count": 171,
   "id": "c2bb9e9b",
   "metadata": {},
   "outputs": [
    {
     "name": "stdout",
     "output_type": "stream",
     "text": [
      "<class 'pandas.core.frame.DataFrame'>\n",
      "RangeIndex: 158915 entries, 0 to 158914\n",
      "Data columns (total 3 columns):\n",
      " #   Column           Non-Null Count   Dtype \n",
      "---  ------           --------------   ----- \n",
      " 0   image_name       158915 non-null  object\n",
      " 1    comment_number  158915 non-null  object\n",
      " 2    comment         158914 non-null  object\n",
      "dtypes: object(3)\n",
      "memory usage: 3.6+ MB\n"
     ]
    }
   ],
   "source": [
    "data_raw.info()"
   ]
  },
  {
   "cell_type": "code",
   "execution_count": 172,
   "id": "e2a8bd32",
   "metadata": {},
   "outputs": [
    {
     "data": {
      "text/html": [
       "<div>\n",
       "<style scoped>\n",
       "    .dataframe tbody tr th:only-of-type {\n",
       "        vertical-align: middle;\n",
       "    }\n",
       "\n",
       "    .dataframe tbody tr th {\n",
       "        vertical-align: top;\n",
       "    }\n",
       "\n",
       "    .dataframe thead th {\n",
       "        text-align: right;\n",
       "    }\n",
       "</style>\n",
       "<table border=\"1\" class=\"dataframe\">\n",
       "  <thead>\n",
       "    <tr style=\"text-align: right;\">\n",
       "      <th></th>\n",
       "      <th>image_name</th>\n",
       "      <th>comment_number</th>\n",
       "      <th>comment</th>\n",
       "    </tr>\n",
       "  </thead>\n",
       "  <tbody>\n",
       "    <tr>\n",
       "      <th>66717</th>\n",
       "      <td>3347798761.jpg</td>\n",
       "      <td>2</td>\n",
       "      <td>A person on a dirt bike soaring through the a...</td>\n",
       "    </tr>\n",
       "    <tr>\n",
       "      <th>128571</th>\n",
       "      <td>4968586851.jpg</td>\n",
       "      <td>1</td>\n",
       "      <td>Four ladies walking through a hallway at an A...</td>\n",
       "    </tr>\n",
       "    <tr>\n",
       "      <th>33888</th>\n",
       "      <td>2542037086.jpg</td>\n",
       "      <td>3</td>\n",
       "      <td>A young boy smiles at the bottom of the slide .</td>\n",
       "    </tr>\n",
       "    <tr>\n",
       "      <th>137676</th>\n",
       "      <td>5730444205.jpg</td>\n",
       "      <td>1</td>\n",
       "      <td>Two woman , one wearing a blue striped shirt ...</td>\n",
       "    </tr>\n",
       "    <tr>\n",
       "      <th>95550</th>\n",
       "      <td>4295263796.jpg</td>\n",
       "      <td>0</td>\n",
       "      <td>Male in poor area of the world using a bucket...</td>\n",
       "    </tr>\n",
       "    <tr>\n",
       "      <th>80486</th>\n",
       "      <td>3654338683.jpg</td>\n",
       "      <td>1</td>\n",
       "      <td>White dog running through a field of yellow f...</td>\n",
       "    </tr>\n",
       "    <tr>\n",
       "      <th>7136</th>\n",
       "      <td>1413956047.jpg</td>\n",
       "      <td>1</td>\n",
       "      <td>These three young men are standing on a mount...</td>\n",
       "    </tr>\n",
       "    <tr>\n",
       "      <th>132900</th>\n",
       "      <td>526847964.jpg</td>\n",
       "      <td>0</td>\n",
       "      <td>A man in a dark suit talks with a middle-aged...</td>\n",
       "    </tr>\n",
       "    <tr>\n",
       "      <th>60802</th>\n",
       "      <td>321365748.jpg</td>\n",
       "      <td>2</td>\n",
       "      <td>Three men are singing karaoke in a bar .</td>\n",
       "    </tr>\n",
       "    <tr>\n",
       "      <th>145134</th>\n",
       "      <td>6743911073.jpg</td>\n",
       "      <td>4</td>\n",
       "      <td>A bicyclist is in the mud walking their bicyc...</td>\n",
       "    </tr>\n",
       "  </tbody>\n",
       "</table>\n",
       "</div>"
      ],
      "text/plain": [
       "            image_name  comment_number  \\\n",
       "66717   3347798761.jpg               2   \n",
       "128571  4968586851.jpg               1   \n",
       "33888   2542037086.jpg               3   \n",
       "137676  5730444205.jpg               1   \n",
       "95550   4295263796.jpg               0   \n",
       "80486   3654338683.jpg               1   \n",
       "7136    1413956047.jpg               1   \n",
       "132900   526847964.jpg               0   \n",
       "60802    321365748.jpg               2   \n",
       "145134  6743911073.jpg               4   \n",
       "\n",
       "                                                  comment  \n",
       "66717    A person on a dirt bike soaring through the a...  \n",
       "128571   Four ladies walking through a hallway at an A...  \n",
       "33888     A young boy smiles at the bottom of the slide .  \n",
       "137676   Two woman , one wearing a blue striped shirt ...  \n",
       "95550    Male in poor area of the world using a bucket...  \n",
       "80486    White dog running through a field of yellow f...  \n",
       "7136     These three young men are standing on a mount...  \n",
       "132900   A man in a dark suit talks with a middle-aged...  \n",
       "60802            Three men are singing karaoke in a bar .  \n",
       "145134   A bicyclist is in the mud walking their bicyc...  "
      ]
     },
     "execution_count": 172,
     "metadata": {},
     "output_type": "execute_result"
    }
   ],
   "source": [
    "data_raw.sample(10)"
   ]
  },
  {
   "cell_type": "markdown",
   "id": "60b4907d",
   "metadata": {},
   "source": [
    "Our data is structured with three columns:\n",
    "\n",
    "- image_name: which is the unique tag of the image\n",
    "- comment_number: which is the specific comment number about the image\n",
    "- comment: this is the actual comment left about the image <br>\n",
    "\n",
    "We expect to see 5 comments per uniuqe image_id so let's make sure that is the case:"
   ]
  },
  {
   "cell_type": "code",
   "execution_count": 173,
   "id": "e7ff2d9f",
   "metadata": {},
   "outputs": [
    {
     "name": "stdout",
     "output_type": "stream",
     "text": [
      "Total length of unique values:  31783\n",
      "Total length of data frame:  158915\n",
      "Total length of unique values * 5:  158915\n"
     ]
    }
   ],
   "source": [
    "image_name_unique_vals = data_raw['image_name'].unique().tolist()\n",
    "print(\"Total length of unique values: \", len(image_name_unique_vals))\n",
    "print(\"Total length of data frame: \",  len(data_raw))\n",
    "print(\"Total length of unique values * 5: \", len(image_name_unique_vals) * 5)"
   ]
  },
  {
   "cell_type": "markdown",
   "id": "b1d1e660",
   "metadata": {},
   "source": [
    "## 2.0 The 4 C's of Data Cleaning: Correction, Completing, Creating, and Converting\n",
    "\n",
    "In this stage, we will clean our data by:\n",
    "\n",
    "1. Correcting values and outliers\n",
    "    - Call [.describe](https://pandas.pydata.org/docs/reference/api/pandas.DataFrame.describe.html) to get a summary of our data with important statistics\n",
    "    - Call function **preprocess_columns(dataframe)**\n",
    "        - This function removes whitespace from the column names \n",
    "    - Call function **strip_whitespace(dataframe, column_name)**\n",
    "        - We will use this to find why we have a null value and to make sure that we only have 5 comments per image\n",
    "    - Call [.isNull()](https://pandas.pydata.org/docs/reference/api/pandas.isnull.html) to get a sum of all the nulls per each column\n",
    "        - Once we find this out we call function **clean_null(dataframe)** to take care of the null value\n",
    "    - Call function **expand_contractions**\n",
    "        - Since we want to make it as easy as possible for the model to understand what is going on, we will get rid of all contractions\n",
    "    - Call function **remove_punctuations**\n",
    "        - Removes all punctuations from each comment\n",
    "    - Call function **to_lower**\n",
    "        - Convert every word to lower case\n",
    "    - Use [Counter](https://docs.python.org/3/library/collections.html#collections.Counter) to count the most used words\n",
    "    - Use [NLTK.stopwords()](https://www.nltk.org/howto.html) to remove stopwords from each comment\n",
    "        - Examples of stopwords are “a”, “the”, “is”, “are\"\\\n",
    "    - Use Counter again to recompute the most used words per sentence\n",
    "        <br><br>\n",
    "2. Completing missing information\n",
    "    - **Note:** this is not needed as we took care of the null value in the correcting value section\n",
    "        <br><br>\n",
    "3. Creating new features for analysis (**Feature Engineering**)\n",
    "    - Call function **classify_images(dataframe, column_name, new_column_name)**\n",
    "        - This function will create a new column that labels each image\n",
    "        - This is needed to pass into our model later on\n",
    "    - Call function **count_words**\n",
    "        - Creates a new column of the total words per comment\n",
    "    - Call function **count_unique_words**\n",
    "        - Creates a new column of unique words in each comment\n",
    "    - Create a new column of the ratio between unique words and non-unique words\n",
    "        <br><br>\n",
    "4. converting fields to the correct format for calculations and presentation\n",
    "    - **Note:** this is not needed, we will format later on as we turn our dataframe into tensors\n",
    "\n",
    "**Note** these functions are in the UtilFunctions notebook"
   ]
  },
  {
   "cell_type": "markdown",
   "id": "21efd1d1",
   "metadata": {},
   "source": [
    "## 2.1 Correcting data"
   ]
  },
  {
   "cell_type": "code",
   "execution_count": 174,
   "id": "20b32b1b",
   "metadata": {},
   "outputs": [
    {
     "data": {
      "text/html": [
       "<div>\n",
       "<style scoped>\n",
       "    .dataframe tbody tr th:only-of-type {\n",
       "        vertical-align: middle;\n",
       "    }\n",
       "\n",
       "    .dataframe tbody tr th {\n",
       "        vertical-align: top;\n",
       "    }\n",
       "\n",
       "    .dataframe thead th {\n",
       "        text-align: right;\n",
       "    }\n",
       "</style>\n",
       "<table border=\"1\" class=\"dataframe\">\n",
       "  <thead>\n",
       "    <tr style=\"text-align: right;\">\n",
       "      <th></th>\n",
       "      <th>count</th>\n",
       "      <th>unique</th>\n",
       "      <th>top</th>\n",
       "      <th>freq</th>\n",
       "    </tr>\n",
       "  </thead>\n",
       "  <tbody>\n",
       "    <tr>\n",
       "      <th>image_name</th>\n",
       "      <td>158915</td>\n",
       "      <td>31783</td>\n",
       "      <td>1000092795.jpg</td>\n",
       "      <td>5</td>\n",
       "    </tr>\n",
       "    <tr>\n",
       "      <th>comment_number</th>\n",
       "      <td>158915</td>\n",
       "      <td>6</td>\n",
       "      <td>0</td>\n",
       "      <td>31783</td>\n",
       "    </tr>\n",
       "    <tr>\n",
       "      <th>comment</th>\n",
       "      <td>158914</td>\n",
       "      <td>158438</td>\n",
       "      <td>Two dogs playing in the snow .</td>\n",
       "      <td>7</td>\n",
       "    </tr>\n",
       "  </tbody>\n",
       "</table>\n",
       "</div>"
      ],
      "text/plain": [
       "                  count  unique                              top   freq\n",
       "image_name       158915   31783                   1000092795.jpg      5\n",
       " comment_number  158915       6                                0  31783\n",
       " comment         158914  158438   Two dogs playing in the snow .      7"
      ]
     },
     "execution_count": 174,
     "metadata": {},
     "output_type": "execute_result"
    }
   ],
   "source": [
    "data_copy.describe(include='all').transpose()"
   ]
  },
  {
   "cell_type": "markdown",
   "id": "b518ee3b",
   "metadata": {},
   "source": [
    "**Clean the column names:**"
   ]
  },
  {
   "cell_type": "code",
   "execution_count": 175,
   "id": "a675d4a1",
   "metadata": {},
   "outputs": [
    {
     "name": "stdout",
     "output_type": "stream",
     "text": [
      "Before cleaning:  Index(['image_name', ' comment_number', ' comment'], dtype='object')\n",
      "After cleaning:  Index(['image_name', 'comment_number', 'comment'], dtype='object')\n"
     ]
    }
   ],
   "source": [
    "print(\"Before cleaning: \", data_copy.columns)\n",
    "preprocess_columns(data_copy)\n",
    "print(\"After cleaning: \", data_copy.columns)"
   ]
  },
  {
   "cell_type": "markdown",
   "id": "2853ed2b",
   "metadata": {},
   "source": [
    "**Clean the comment number values:**\n",
    "- We are supposed to only have 5 comments per image, but we have 6 unique values"
   ]
  },
  {
   "cell_type": "code",
   "execution_count": 176,
   "id": "c56c9598",
   "metadata": {
    "scrolled": true
   },
   "outputs": [
    {
     "name": "stdout",
     "output_type": "stream",
     "text": [
      "Before cleaning:  [' 0', ' 1', ' 2', ' 3', ' 4', ' 4   A dog runs across the grass .']\n",
      "After cleaning:  ['0', '1', '2', '3', '4', '4Adogrunsacrossthegrass.']\n"
     ]
    }
   ],
   "source": [
    "comment_number_unique_vals = data_copy['comment_number'].unique().tolist()\n",
    "print(\"Before cleaning: \", comment_number_unique_vals)\n",
    "data_copy = strip_whitespace(data_copy, 'comment_number')\n",
    "comment_number_unique_vals = data_copy['comment_number'].unique().tolist()\n",
    "print(\"After cleaning: \", comment_number_unique_vals)"
   ]
  },
  {
   "cell_type": "markdown",
   "id": "d69b410d",
   "metadata": {},
   "source": [
    "**Taking care of 4Adogrunsacrossthegrass issue as it looks like a comment number and sentence was combined accidentally**"
   ]
  },
  {
   "cell_type": "code",
   "execution_count": 177,
   "id": "99edeb6e",
   "metadata": {
    "scrolled": false
   },
   "outputs": [
    {
     "name": "stdout",
     "output_type": "stream",
     "text": [
      "Columns with null values before cleaning:\n",
      "image_name        0\n",
      "comment_number    0\n",
      "comment           1\n",
      "dtype: int64\n",
      "Columns with null values after cleaning:\n",
      "image_name        0\n",
      "comment_number    0\n",
      "comment           0\n",
      "dtype: int64\n"
     ]
    }
   ],
   "source": [
    "print('Columns with null values before cleaning:')\n",
    "print(data_copy.isnull().sum())\n",
    "clean_null(data_copy)\n",
    "print('Columns with null values after cleaning:')\n",
    "print(data_copy.isnull().sum())"
   ]
  },
  {
   "cell_type": "markdown",
   "id": "9cc00ca2",
   "metadata": {},
   "source": [
    " **Make a new column that will hold our cleaned data for each comment:**"
   ]
  },
  {
   "cell_type": "code",
   "execution_count": 178,
   "id": "ff5c3773",
   "metadata": {},
   "outputs": [],
   "source": [
    "data_copy['cleaned_comment'] = data_copy['comment']"
   ]
  },
  {
   "cell_type": "code",
   "execution_count": 179,
   "id": "714a5e8a",
   "metadata": {},
   "outputs": [],
   "source": [
    "data_copy['cleaned_comment'] = data_copy['cleaned_comment'].apply(expand_contractions)"
   ]
  },
  {
   "cell_type": "code",
   "execution_count": 180,
   "id": "e3c47cfe",
   "metadata": {},
   "outputs": [],
   "source": [
    "data_copy['cleaned_comment'] = data_copy['cleaned_comment'].apply(remove_punctuations)"
   ]
  },
  {
   "cell_type": "code",
   "execution_count": 181,
   "id": "8a6f7eef",
   "metadata": {},
   "outputs": [],
   "source": [
    "data_copy['cleaned_comment'] = data_copy['cleaned_comment'].apply(to_lower)"
   ]
  },
  {
   "cell_type": "code",
   "execution_count": 182,
   "id": "6bca5367",
   "metadata": {
    "scrolled": true
   },
   "outputs": [
    {
     "data": {
      "text/html": [
       "<div>\n",
       "<style scoped>\n",
       "    .dataframe tbody tr th:only-of-type {\n",
       "        vertical-align: middle;\n",
       "    }\n",
       "\n",
       "    .dataframe tbody tr th {\n",
       "        vertical-align: top;\n",
       "    }\n",
       "\n",
       "    .dataframe thead th {\n",
       "        text-align: right;\n",
       "    }\n",
       "</style>\n",
       "<table border=\"1\" class=\"dataframe\">\n",
       "  <thead>\n",
       "    <tr style=\"text-align: right;\">\n",
       "      <th></th>\n",
       "      <th>image_name</th>\n",
       "      <th>comment_number</th>\n",
       "      <th>comment</th>\n",
       "      <th>cleaned_comment</th>\n",
       "    </tr>\n",
       "  </thead>\n",
       "  <tbody>\n",
       "    <tr>\n",
       "      <th>25847</th>\n",
       "      <td>2350646648.jpg</td>\n",
       "      <td>2</td>\n",
       "      <td>Poor family sitting next to the emergency win...</td>\n",
       "      <td>poor family sitting next to the emergency win...</td>\n",
       "    </tr>\n",
       "  </tbody>\n",
       "</table>\n",
       "</div>"
      ],
      "text/plain": [
       "           image_name comment_number  \\\n",
       "25847  2350646648.jpg              2   \n",
       "\n",
       "                                                 comment  \\\n",
       "25847   Poor family sitting next to the emergency win...   \n",
       "\n",
       "                                         cleaned_comment  \n",
       "25847   poor family sitting next to the emergency win...  "
      ]
     },
     "execution_count": 182,
     "metadata": {},
     "output_type": "execute_result"
    }
   ],
   "source": [
    "data_copy.sample(1)"
   ]
  },
  {
   "cell_type": "code",
   "execution_count": 183,
   "id": "7f92981f",
   "metadata": {},
   "outputs": [
    {
     "data": {
      "text/plain": [
       "[('a', 271704),\n",
       " ('in', 83466),\n",
       " ('the', 62981),\n",
       " ('on', 45669),\n",
       " ('and', 44263),\n",
       " ('man', 42598),\n",
       " ('is', 41146),\n",
       " ('of', 38779),\n",
       " ('with', 36207),\n",
       " ('woman', 22211),\n",
       " ('two', 21642),\n",
       " ('are', 20211),\n",
       " ('to', 17609),\n",
       " ('people', 17337),\n",
       " ('at', 16259)]"
      ]
     },
     "execution_count": 183,
     "metadata": {},
     "output_type": "execute_result"
    }
   ],
   "source": [
    "Counter(\" \".join(data_copy[\"cleaned_comment\"]).split()).most_common(15)"
   ]
  },
  {
   "cell_type": "code",
   "execution_count": 184,
   "id": "ef97aa13",
   "metadata": {},
   "outputs": [],
   "source": [
    "stop = stopwords.words('english') #assign all stopwords to variable stop\n",
    "data_copy['cleaned_comment'] = data_copy['cleaned_comment'].apply(lambda x: ' '.join([word for word in x.split() if word not in (stop)])) #remove stopwor"
   ]
  },
  {
   "cell_type": "code",
   "execution_count": 185,
   "id": "1b2327d0",
   "metadata": {
    "scrolled": false
   },
   "outputs": [
    {
     "data": {
      "text/plain": [
       "[('man', 42598),\n",
       " ('woman', 22211),\n",
       " ('two', 21642),\n",
       " ('people', 17337),\n",
       " ('wearing', 15709),\n",
       " ('young', 13218),\n",
       " ('white', 13178),\n",
       " ('shirt', 12981),\n",
       " ('black', 12311),\n",
       " ('blue', 11310),\n",
       " ('red', 9916),\n",
       " ('girl', 9655),\n",
       " ('sitting', 9620),\n",
       " ('men', 9498),\n",
       " ('boy', 9429)]"
      ]
     },
     "execution_count": 185,
     "metadata": {},
     "output_type": "execute_result"
    }
   ],
   "source": [
    "Counter(\" \".join(data_copy[\"cleaned_comment\"]).split()).most_common(15)"
   ]
  },
  {
   "cell_type": "markdown",
   "id": "4bfef397",
   "metadata": {},
   "source": [
    "## 2.2 Feature Engineering"
   ]
  },
  {
   "cell_type": "code",
   "execution_count": 186,
   "id": "e9766852",
   "metadata": {},
   "outputs": [],
   "source": [
    "classify_images(data_copy, 'image_name', 'label')"
   ]
  },
  {
   "cell_type": "code",
   "execution_count": 187,
   "id": "8f749fe3",
   "metadata": {},
   "outputs": [],
   "source": [
    "data_copy['word_count'] = data_copy['comment'].apply(lambda x : count_words(x))\n",
    "data_copy['unique_word_count'] = data_copy['comment'].apply(lambda x : count_unique_words(x))\n",
    "data_copy['unique_words_vs_words'] = data_copy['unique_word_count']/data_copy['word_count']"
   ]
  },
  {
   "cell_type": "code",
   "execution_count": 188,
   "id": "ccc9bc7f",
   "metadata": {},
   "outputs": [
    {
     "data": {
      "text/html": [
       "<div>\n",
       "<style scoped>\n",
       "    .dataframe tbody tr th:only-of-type {\n",
       "        vertical-align: middle;\n",
       "    }\n",
       "\n",
       "    .dataframe tbody tr th {\n",
       "        vertical-align: top;\n",
       "    }\n",
       "\n",
       "    .dataframe thead th {\n",
       "        text-align: right;\n",
       "    }\n",
       "</style>\n",
       "<table border=\"1\" class=\"dataframe\">\n",
       "  <thead>\n",
       "    <tr style=\"text-align: right;\">\n",
       "      <th></th>\n",
       "      <th>image_name</th>\n",
       "      <th>comment_number</th>\n",
       "      <th>comment</th>\n",
       "      <th>cleaned_comment</th>\n",
       "      <th>label</th>\n",
       "      <th>word_count</th>\n",
       "      <th>unique_word_count</th>\n",
       "      <th>unique_words_vs_words</th>\n",
       "    </tr>\n",
       "  </thead>\n",
       "  <tbody>\n",
       "    <tr>\n",
       "      <th>19271</th>\n",
       "      <td>2178064851.jpg</td>\n",
       "      <td>1</td>\n",
       "      <td>A little kid is starring into a body of water .</td>\n",
       "      <td>little kid starring body water</td>\n",
       "      <td>3854</td>\n",
       "      <td>11</td>\n",
       "      <td>11</td>\n",
       "      <td>1.0</td>\n",
       "    </tr>\n",
       "  </tbody>\n",
       "</table>\n",
       "</div>"
      ],
      "text/plain": [
       "           image_name comment_number  \\\n",
       "19271  2178064851.jpg              1   \n",
       "\n",
       "                                                comment  \\\n",
       "19271   A little kid is starring into a body of water .   \n",
       "\n",
       "                      cleaned_comment  label  word_count  unique_word_count  \\\n",
       "19271  little kid starring body water   3854          11                 11   \n",
       "\n",
       "       unique_words_vs_words  \n",
       "19271                    1.0  "
      ]
     },
     "execution_count": 188,
     "metadata": {},
     "output_type": "execute_result"
    }
   ],
   "source": [
    "data_copy.sample(1)"
   ]
  },
  {
   "attachments": {
    "one-hot.jpeg": {
     "image/jpeg": "[encoded data removed]"
    }
   },
   "cell_type": "markdown",
   "id": "1c2c630c",
   "metadata": {},
   "source": [
    "## 3.0 Prepping Model\n",
    "\n",
    "1. Since the dataset is massive, I will slice it to the first 500 rows\n",
    "    - We will scale up as our model improves\n",
    "<br><br>\n",
    "\n",
    "2. Tokenize our data using [AutoTokenizer](https://huggingface.co/docs/transformers/model_doc/auto)\n",
    "    - `AutoTokenizer` always works and automatically chooses the correct class for the model you are using\n",
    "        - The `AutoTokenizer` will use a pretrained bert model 'bert-base-uncased'\n",
    "        - It will convert our data into a format that can be processed by the bert model\n",
    "    - **BERT** expects inputIds and attention masks\n",
    "        - `inputIds`: a mapping between tokens and their ids\n",
    "            - Each word in the vector has a unique id, the input id maps this unique id to its token\n",
    "            - We do this by creating a numpy array of 0's that takes in the size of the dataset and the sequence length to get our shape correct to match the dataset\n",
    "            - **Sequence length:** is the max amount of words to consider when we tokenize\n",
    "        - `attention mask`: depicts where the padding are in the comment\n",
    "            - 1 indicates that the mask should perform an action\n",
    "            - 0 indicates that it is a padding value and should be left alone\n",
    "            - similar to `inputIds` we create a numpy array of 0's that takes in the size of the dataset and the sequence length to get our shape correct to match the dataset\n",
    "<br><br>\n",
    "\n",
    "3. Define sequence length, number of samples, and number of classes\n",
    "    - **BERT** only takes up to 512 'sequences' so we define the length as so\n",
    "    - **number of samples:** the length of the dataset\n",
    "    - **number of classes:** the number of classifications we have to make\n",
    "<br><br>\n",
    "\n",
    "4. Call function **generate_Xids(num_samples, seq_len)**\n",
    "    - This function creates a numpy array of shape(num_samples, seq_len)\n",
    "    - Needed when we turn our data to tensors\n",
    "<br><br>\n",
    "\n",
    "5. Call function **generate_attn_masks(num_samples, seq_len)**\n",
    "    - This function creates a numpy array of shape(num_samples, seq_len)\n",
    "    - Needed when we turn our data to tensors\n",
    "<br><br>\n",
    "\n",
    "6. Call function **generate_encoded_values(dataframe, input, input, tokenizer, sequence_length)**\n",
    "    - [encode_plus](https://huggingface.co/docs/transformers/v4.26.1/en/internal/tokenization_utils#transformers.PreTrainedTokenizerBase.encode_plus) will turn our comments into a matrix of integers\n",
    "<br><br>\n",
    "\n",
    "7. Create a label numpy array of shape(num_samples, num_classes) and one hot encode it\n",
    "    - One hot encoding shows whether the label is present in that specific row\n",
    "        ![one-hot.jpeg](attachment:one-hot.jpeg)\n",
    "<br><br>\n",
    "\n",
    "8. Turn dataset into tensors\n",
    "    - Use [tf.data.Dataset](https://www.tensorflow.org/api_docs/python/tf/data/Dataset)\n",
    "    - To inspect a random tensor use [tf.data.Dataset.take](https://www.tensorflow.org/api_docs/python/tf/data/Dataset#take)\n",
    "    - You can loop through the dataset using [tf.data.Dataset.as_numpy_iterator](https://www.tensorflow.org/api_docs/python/tf/data/Dataset#as_numpy_iterator)\n",
    "<br><br>\n",
    "\n",
    "9. Create function **mapping_inputIds_attention_masks_labels(input_ids, attention_masks, labels)** and convert our dataset\n",
    "    - I tried to put this in the UtilFunctions notebook, but tensorflow had an issue with it\n",
    "    - See cell below for documentation and how it works\n",
    "<br><br>\n",
    "\n",
    "10. Create train_dataset and val_dataset\n",
    "    - Take a random sample\n",
    "    - **Batch size:** represent the number of consecutive elements of this dataset to combine in a single batch\n",
    "    - Call [.shuffle](https://www.tensorflow.org/api_docs/python/tf/data/Dataset#shuffle) with a shuffle size of 10,000 and call [.batch](https://www.tensorflow.org/api_docs/python/tf/data/Dataset#batch) to get the elements into a 'batch'\n",
    "    - Take a random sample\n",
    "    - Define split size\n",
    "    - Define train size\n",
    "        - For each batch we will have number of sample / batch_size\n",
    "        - We will also take out the split_size which will serve as our train data\n",
    "    - Define train_dataset\n",
    "        - Call [.take](https://www.tensorflow.org/api_docs/python/tf/data/Dataset#take) to take the train size we defined above\n",
    "    - Define val_dataset\n",
    "        - Call [.skip](https://www.tensorflow.org/api_docs/python/tf/data/Dataset#skip) to skip the train size\n",
    "        - This is our test data"
   ]
  },
  {
   "cell_type": "code",
   "execution_count": 189,
   "id": "7a20ceb0",
   "metadata": {},
   "outputs": [],
   "source": [
    "data_copy = data_copy[:500]"
   ]
  },
  {
   "cell_type": "code",
   "execution_count": 190,
   "id": "789de047",
   "metadata": {},
   "outputs": [],
   "source": [
    "tokenizer = AutoTokenizer.from_pretrained('bert-base-cased')"
   ]
  },
  {
   "cell_type": "code",
   "execution_count": 191,
   "id": "b1042827",
   "metadata": {},
   "outputs": [],
   "source": [
    "SEQUENCE_LENGTH = 512\n",
    "NUM_SAMPLES = len(data_copy)\n",
    "NUM_CLASSES = int(NUM_SAMPLES / 5)"
   ]
  },
  {
   "cell_type": "code",
   "execution_count": 192,
   "id": "ba28a54f",
   "metadata": {},
   "outputs": [],
   "source": [
    "Xids = generate_Xids(num_samples=NUM_SAMPLES, seq_len=SEQUENCE_LENGTH)"
   ]
  },
  {
   "cell_type": "code",
   "execution_count": 193,
   "id": "68d180b4",
   "metadata": {},
   "outputs": [],
   "source": [
    "attn_masks = generate_attn_msks(num_samples=NUM_SAMPLES, seq_len=SEQUENCE_LENGTH)"
   ]
  },
  {
   "cell_type": "code",
   "execution_count": 194,
   "id": "49dff4a4",
   "metadata": {},
   "outputs": [
    {
     "data": {
      "text/plain": [
       "((500, 512), (500, 512))"
      ]
     },
     "execution_count": 194,
     "metadata": {},
     "output_type": "execute_result"
    }
   ],
   "source": [
    "Xids.shape, attn_masks.shape"
   ]
  },
  {
   "cell_type": "code",
   "execution_count": 195,
   "id": "43ac9138",
   "metadata": {},
   "outputs": [
    {
     "data": {
      "application/vnd.jupyter.widget-view+json": {
       "model_id": "8b842ed7d577434fbf18a0f1c20bd732",
       "version_major": 2,
       "version_minor": 0
      },
      "text/plain": [
       "0it [00:00, ?it/s]"
      ]
     },
     "metadata": {},
     "output_type": "display_data"
    }
   ],
   "source": [
    "Xids, attn_masks = generate_encoded_values(data_copy, Xids, attn_masks, tokenizer, SEQUENCE_LENGTH)"
   ]
  },
  {
   "cell_type": "code",
   "execution_count": 196,
   "id": "11184678",
   "metadata": {},
   "outputs": [
    {
     "data": {
      "text/plain": [
       "(array([[ 101., 1960., 1685., ...,    0.,    0.,    0.],\n",
       "        [ 101., 1960., 1685., ...,    0.,    0.,    0.],\n",
       "        [ 101., 1960., 1441., ...,    0.,    0.,    0.],\n",
       "        ...,\n",
       "        [ 101.,  138., 1299., ...,    0.,    0.,    0.],\n",
       "        [ 101., 1109., 1685., ...,    0.,    0.,    0.],\n",
       "        [ 101.,  138., 1263., ...,    0.,    0.,    0.]]),\n",
       " array([[1., 1., 1., ..., 0., 0., 0.],\n",
       "        [1., 1., 1., ..., 0., 0., 0.],\n",
       "        [1., 1., 1., ..., 0., 0., 0.],\n",
       "        ...,\n",
       "        [1., 1., 1., ..., 0., 0., 0.],\n",
       "        [1., 1., 1., ..., 0., 0., 0.],\n",
       "        [1., 1., 1., ..., 0., 0., 0.]]))"
      ]
     },
     "execution_count": 196,
     "metadata": {},
     "output_type": "execute_result"
    }
   ],
   "source": [
    "Xids, attn_masks"
   ]
  },
  {
   "cell_type": "code",
   "execution_count": 197,
   "id": "98311534",
   "metadata": {},
   "outputs": [],
   "source": [
    "labels = np.zeros((NUM_SAMPLES, NUM_CLASSES))"
   ]
  },
  {
   "cell_type": "code",
   "execution_count": 198,
   "id": "bceccdfa",
   "metadata": {},
   "outputs": [
    {
     "data": {
      "text/plain": [
       "(500, 100)"
      ]
     },
     "execution_count": 198,
     "metadata": {},
     "output_type": "execute_result"
    }
   ],
   "source": [
    "labels.shape"
   ]
  },
  {
   "cell_type": "code",
   "execution_count": 199,
   "id": "8b5bcd2e",
   "metadata": {},
   "outputs": [],
   "source": [
    "labels[np.arange(NUM_SAMPLES), data_copy['label'].values] = 1"
   ]
  },
  {
   "cell_type": "code",
   "execution_count": 200,
   "id": "b3c7ee1f",
   "metadata": {},
   "outputs": [
    {
     "data": {
      "text/plain": [
       "array([[1., 0., 0., ..., 0., 0., 0.],\n",
       "       [1., 0., 0., ..., 0., 0., 0.],\n",
       "       [1., 0., 0., ..., 0., 0., 0.],\n",
       "       ...,\n",
       "       [0., 0., 0., ..., 0., 0., 1.],\n",
       "       [0., 0., 0., ..., 0., 0., 1.],\n",
       "       [0., 0., 0., ..., 0., 0., 1.]])"
      ]
     },
     "execution_count": 200,
     "metadata": {},
     "output_type": "execute_result"
    }
   ],
   "source": [
    "labels"
   ]
  },
  {
   "cell_type": "code",
   "execution_count": 201,
   "id": "c710a819",
   "metadata": {
    "scrolled": true
   },
   "outputs": [
    {
     "data": {
      "text/plain": [
       "<TakeDataset element_spec=(TensorSpec(shape=(512,), dtype=tf.float64, name=None), TensorSpec(shape=(512,), dtype=tf.float64, name=None), TensorSpec(shape=(100,), dtype=tf.float64, name=None))>"
      ]
     },
     "execution_count": 201,
     "metadata": {},
     "output_type": "execute_result"
    }
   ],
   "source": [
    "data_copy_to_tensors = tf.data.Dataset.from_tensor_slices((Xids, attn_masks, labels)) #turn our data into tensors\n",
    "data_copy_to_tensors.take(1)"
   ]
  },
  {
   "cell_type": "code",
   "execution_count": 202,
   "id": "bc38dbfd",
   "metadata": {},
   "outputs": [],
   "source": [
    "def mapping_inputIds_attention_masks_labels(input_ids, attention_masks, labels):\n",
    "    '''\n",
    "        This function will convert our dataset to its required format by mapping our values\n",
    "        \n",
    "        args:\n",
    "            input_ids: Xids\n",
    "            attention_masks: attn_masks\n",
    "            labels: labels\n",
    "            \n",
    "        return:\n",
    "            inputs_ids, attention_masks, labels\n",
    "    '''\n",
    "    return {\n",
    "        'input_ids': input_ids,\n",
    "        'attention_mask': attention_masks\n",
    "    }, labels\n",
    "\n",
    "data_copy_to_tensors = data_copy_to_tensors.map(mapping_inputIds_attention_masks_labels)"
   ]
  },
  {
   "cell_type": "code",
   "execution_count": 203,
   "id": "618ed42e",
   "metadata": {},
   "outputs": [],
   "source": [
    "data_copy_to_tensors.take(1) #take a random sample of the data\n",
    "\n",
    "batch_size = 16\n",
    "data_copy_to_tensors = data_copy_to_tensors.shuffle(10000).batch(batch_size, drop_remainder=True) #create a random seed for distribution\n",
    "\n",
    "data_copy_to_tensors.take(1)\n",
    "\n",
    "p = 0.8\n",
    "train_size = int((NUM_SAMPLES // batch_size) * p) #for each batch we will have # of samples / batch_size and take out 80% of that to train with\n",
    "\n",
    "\n",
    "train_dataset = data_copy_to_tensors.take(train_size) #create train dataset\n",
    "val_dataset = data_copy_to_tensors.skip(train_size)   #create test dataset"
   ]
  },
  {
   "cell_type": "code",
   "execution_count": 204,
   "id": "c473fd91",
   "metadata": {},
   "outputs": [
    {
     "data": {
      "text/plain": [
       "<TakeDataset element_spec=({'input_ids': TensorSpec(shape=(16, 512), dtype=tf.float64, name=None), 'attention_mask': TensorSpec(shape=(16, 512), dtype=tf.float64, name=None)}, TensorSpec(shape=(16, 100), dtype=tf.float64, name=None))>"
      ]
     },
     "execution_count": 204,
     "metadata": {},
     "output_type": "execute_result"
    }
   ],
   "source": [
    "train_dataset"
   ]
  },
  {
   "cell_type": "code",
   "execution_count": 205,
   "id": "44c68c4a",
   "metadata": {},
   "outputs": [
    {
     "data": {
      "text/plain": [
       "<SkipDataset element_spec=({'input_ids': TensorSpec(shape=(16, 512), dtype=tf.float64, name=None), 'attention_mask': TensorSpec(shape=(16, 512), dtype=tf.float64, name=None)}, TensorSpec(shape=(16, 100), dtype=tf.float64, name=None))>"
      ]
     },
     "execution_count": 205,
     "metadata": {},
     "output_type": "execute_result"
    }
   ],
   "source": [
    "val_dataset"
   ]
  },
  {
   "cell_type": "markdown",
   "id": "39964016",
   "metadata": {},
   "source": [
    "## 4.0 Building Model\n",
    "\n",
    "1. Create pre-trained [BERT](https://huggingface.co/docs/transformers/main_classes/model) model\n",
    "<br><br>\n",
    "\n",
    "2. Create layers\n",
    "    - We will use two [input](https://www.tensorflow.org/api_docs/python/tf/keras/Input) layers:\n",
    "        1. input_ids\n",
    "        2. attention masks\n",
    "    - We will make an embedding layer\n",
    "        - Encapsulates the meaning of the word from our input_ids and attention masks\n",
    "        - Stack the inputs to get a '[pooler](https://github.com/google-research/bert/issues/1102) layer'  \n",
    "    - Hidden layer\n",
    "        - A [dense](https://www.tensorflow.org/api_docs/python/tf/keras/layers/Dense) with [relu](https://www.tensorflow.org/api_docs/python/tf/keras/activations/relu) activation and sequence_length * 2 neurons\n",
    "        - Stack the embedding layer \n",
    "    - Output layer\n",
    "        - Another [dense](https://www.tensorflow.org/api_docs/python/tf/keras/layers/Dense) layer that takes in the number of classes and a [softmax](https://www.tensorflow.org/api_docs/python/tf/keras/layers/Softmax) activation\n",
    "        - Stack the hidden layer\n",
    "<br><br>\n",
    "\n",
    "3. Compile model\n",
    "    - Use [Model](https://www.tensorflow.org/api_docs/python/tf/keras/Model) to compile and get model summary\n",
    "<br><br>\n",
    "\n",
    "4. Create optimizer\n",
    "    - We will use [Adam](https://www.tensorflow.org/api_docs/python/tf/keras/optimizers/Adam) with an adjusted learning rate and decay\n",
    "<br><br>\n",
    "    \n",
    "5. Create loss function\n",
    "    - We will use [CategoricalCrossentropy](https://www.tensorflow.org/api_docs/python/tf/keras/losses/CategoricalCrossentropy) to calculate our loss\n",
    "<br><br>\n",
    "    \n",
    "6. Create metric\n",
    "    - We will use [CategoricalAccuracy](https://www.tensorflow.org/api_docs/python/tf/keras/metrics/CategoricalAccuracy)\n",
    "<br><br>\n",
    " \n",
    "7. Create callback\n",
    "    - We will use the [callback](https://keras.io/api/callbacks/) to monitor our loss function and stop training if our loss function does not keep decreasing after a set amount of epochs\n",
    "<br><br>\n",
    " \n",
    "8. Fit model and track history\n",
    "   - Train over 50 epochs\n",
    "   - **Important: WATCH OVERFITTING(model memorizes train data but does terrible on test data)**\n",
    "       - If we deem that the model is overfitting we can use [regularization](https://www.tensorflow.org/api_docs/python/tf/keras/regularizers/Regularizer)\n",
    "       - We can also use a [dropout](https://www.tensorflow.org/api_docs/python/tf/keras/layers/Dropout) layer"
   ]
  },
  {
   "cell_type": "code",
   "execution_count": 206,
   "id": "387195a7",
   "metadata": {},
   "outputs": [
    {
     "name": "stderr",
     "output_type": "stream",
     "text": [
      "Some layers from the model checkpoint at bert-base-cased were not used when initializing TFBertModel: ['mlm___cls', 'nsp___cls']\n",
      "- This IS expected if you are initializing TFBertModel from the checkpoint of a model trained on another task or with another architecture (e.g. initializing a BertForSequenceClassification model from a BertForPreTraining model).\n",
      "- This IS NOT expected if you are initializing TFBertModel from the checkpoint of a model that you expect to be exactly identical (initializing a BertForSequenceClassification model from a BertForSequenceClassification model).\n",
      "All the layers of TFBertModel were initialized from the model checkpoint at bert-base-cased.\n",
      "If your task is similar to the task the model of the checkpoint was trained on, you can already use TFBertModel for predictions without further training.\n"
     ]
    }
   ],
   "source": [
    "model = TFBertModel.from_pretrained('bert-base-cased') #instantiate model"
   ]
  },
  {
   "cell_type": "code",
   "execution_count": 207,
   "id": "16c67ebc",
   "metadata": {},
   "outputs": [
    {
     "name": "stdout",
     "output_type": "stream",
     "text": [
      "Model: \"model_1\"\n",
      "__________________________________________________________________________________________________\n",
      " Layer (type)                   Output Shape         Param #     Connected to                     \n",
      "==================================================================================================\n",
      " input_ids (InputLayer)         [(None, 512)]        0           []                               \n",
      "                                                                                                  \n",
      " attention_mask (InputLayer)    [(None, 512)]        0           []                               \n",
      "                                                                                                  \n",
      " bert (TFBertMainLayer)         TFBaseModelOutputWi  108310272   ['input_ids[0][0]',              \n",
      "                                thPoolingAndCrossAt               'attention_mask[0][0]']         \n",
      "                                tentions(last_hidde                                               \n",
      "                                n_state=(None, 512,                                               \n",
      "                                 768),                                                            \n",
      "                                 pooler_output=(Non                                               \n",
      "                                e, 768),                                                          \n",
      "                                 past_key_values=No                                               \n",
      "                                ne, hidden_states=N                                               \n",
      "                                one, attentions=Non                                               \n",
      "                                e, cross_attentions                                               \n",
      "                                =None)                                                            \n",
      "                                                                                                  \n",
      " hidden_layer (Dense)           (None, 1024)         787456      ['bert[0][1]']                   \n",
      "                                                                                                  \n",
      " output_layer (Dense)           (None, 100)          102500      ['hidden_layer[0][0]']           \n",
      "                                                                                                  \n",
      "==================================================================================================\n",
      "Total params: 109,200,228\n",
      "Trainable params: 109,200,228\n",
      "Non-trainable params: 0\n",
      "__________________________________________________________________________________________________\n"
     ]
    }
   ],
   "source": [
    "#we need two input layers, input_ids and attention_masks\n",
    "input_ids = tf.keras.layers.Input(shape=(SEQUENCE_LENGTH,), name='input_ids', dtype='int32')\n",
    "attn_masks = tf.keras.layers.Input(shape=(SEQUENCE_LENGTH,), name='attention_mask', dtype='int32')\n",
    "\n",
    "#embedding layer, serves as an pooled layer[1], can also change to an activation layer[0]\n",
    "bert_embds = model.bert(input_ids, attention_mask=attn_masks)[1] \n",
    "\n",
    "#can create other hidden layers here too if needed\n",
    "\n",
    "#hidden layer, creates a Dense layer with sequence_len * 2 neurons can change neurons and activations\n",
    "hidden_layer = tf.keras.layers.Dense(SEQUENCE_LENGTH*2, activation='relu', name='hidden_layer')(bert_embds)\n",
    "\n",
    "\n",
    "#output layer, takes in the number of classes for neurons, using softmax because is calculates probability of classes\n",
    "output_layer = tf.keras.layers.Dense(NUM_CLASSES, activation='softmax', name='output_layer')(hidden_layer) \n",
    "\n",
    "#build model\n",
    "built_comment_model = tf.keras.Model(inputs=[input_ids, attn_masks], outputs=output_layer)\n",
    "built_comment_model.summary()\n"
   ]
  },
  {
   "cell_type": "code",
   "execution_count": 208,
   "id": "ded34040",
   "metadata": {},
   "outputs": [
    {
     "name": "stdout",
     "output_type": "stream",
     "text": [
      "Epoch 1/50\n"
     ]
    },
    {
     "name": "stderr",
     "output_type": "stream",
     "text": [
      "2023-02-18 17:23:16.456437: I tensorflow/core/grappler/optimizers/custom_graph_optimizer_registry.cc:113] Plugin optimizer for device_type GPU is enabled.\n"
     ]
    },
    {
     "name": "stdout",
     "output_type": "stream",
     "text": [
      "24/24 [==============================] - ETA: 0s - loss: 4.8023 - accuracy: 0.0156"
     ]
    },
    {
     "name": "stderr",
     "output_type": "stream",
     "text": [
      "2023-02-18 17:26:42.072614: I tensorflow/core/grappler/optimizers/custom_graph_optimizer_registry.cc:113] Plugin optimizer for device_type GPU is enabled.\n"
     ]
    },
    {
     "name": "stdout",
     "output_type": "stream",
     "text": [
      "24/24 [==============================] - 215s 9s/step - loss: 4.8023 - accuracy: 0.0156 - val_loss: 4.7308 - val_accuracy: 0.0179\n",
      "Epoch 2/50\n",
      "24/24 [==============================] - 193s 8s/step - loss: 4.6767 - accuracy: 0.0130 - val_loss: 4.6520 - val_accuracy: 0.0268\n",
      "Epoch 3/50\n",
      "24/24 [==============================] - 209s 9s/step - loss: 4.5816 - accuracy: 0.0208 - val_loss: 4.5087 - val_accuracy: 0.0357\n",
      "Epoch 4/50\n",
      "24/24 [==============================] - 210s 9s/step - loss: 4.5132 - accuracy: 0.0547 - val_loss: 4.3844 - val_accuracy: 0.1071\n",
      "Epoch 5/50\n",
      "24/24 [==============================] - 200s 8s/step - loss: 4.4304 - accuracy: 0.0729 - val_loss: 4.2630 - val_accuracy: 0.1071\n",
      "Epoch 6/50\n",
      "24/24 [==============================] - 198s 8s/step - loss: 4.3308 - accuracy: 0.1042 - val_loss: 4.1299 - val_accuracy: 0.1518\n",
      "Epoch 7/50\n",
      "24/24 [==============================] - 204s 8s/step - loss: 4.2015 - accuracy: 0.1198 - val_loss: 4.1609 - val_accuracy: 0.1250\n",
      "Epoch 8/50\n",
      "24/24 [==============================] - 189s 8s/step - loss: 4.1178 - accuracy: 0.1172 - val_loss: 3.8692 - val_accuracy: 0.1964\n",
      "Epoch 9/50\n",
      "24/24 [==============================] - 188s 8s/step - loss: 4.0047 - accuracy: 0.1823 - val_loss: 3.8155 - val_accuracy: 0.2054\n",
      "Epoch 10/50\n",
      "24/24 [==============================] - 189s 8s/step - loss: 3.8141 - accuracy: 0.2396 - val_loss: 3.5491 - val_accuracy: 0.3661\n",
      "Epoch 11/50\n",
      "24/24 [==============================] - 181s 7s/step - loss: 3.7001 - accuracy: 0.2917 - val_loss: 3.3498 - val_accuracy: 0.5089\n",
      "Epoch 12/50\n",
      "24/24 [==============================] - 198s 8s/step - loss: 3.5305 - accuracy: 0.4036 - val_loss: 3.2348 - val_accuracy: 0.5089\n",
      "Epoch 13/50\n",
      "24/24 [==============================] - 189s 8s/step - loss: 3.3502 - accuracy: 0.4714 - val_loss: 2.9519 - val_accuracy: 0.7321\n",
      "Epoch 14/50\n",
      "24/24 [==============================] - 186s 8s/step - loss: 3.1875 - accuracy: 0.5547 - val_loss: 2.8739 - val_accuracy: 0.7232\n",
      "Epoch 15/50\n",
      "24/24 [==============================] - 194s 8s/step - loss: 3.0280 - accuracy: 0.6719 - val_loss: 2.6708 - val_accuracy: 0.6964\n",
      "Epoch 16/50\n",
      "24/24 [==============================] - 177s 7s/step - loss: 2.8710 - accuracy: 0.6849 - val_loss: 2.4979 - val_accuracy: 0.8393\n",
      "Epoch 17/50\n",
      "24/24 [==============================] - 193s 8s/step - loss: 2.7254 - accuracy: 0.7083 - val_loss: 2.4950 - val_accuracy: 0.8036\n",
      "Epoch 18/50\n",
      "24/24 [==============================] - 186s 8s/step - loss: 2.5730 - accuracy: 0.7812 - val_loss: 2.2355 - val_accuracy: 0.9196\n",
      "Epoch 19/50\n",
      "24/24 [==============================] - 185s 8s/step - loss: 2.4506 - accuracy: 0.8151 - val_loss: 1.9967 - val_accuracy: 0.9286\n",
      "Epoch 20/50\n",
      "24/24 [==============================] - 189s 8s/step - loss: 2.2613 - accuracy: 0.8958 - val_loss: 1.8366 - val_accuracy: 0.9643\n",
      "Epoch 21/50\n",
      "24/24 [==============================] - 177s 7s/step - loss: 2.1651 - accuracy: 0.8828 - val_loss: 1.8542 - val_accuracy: 0.9375\n",
      "Epoch 22/50\n",
      "24/24 [==============================] - 173s 7s/step - loss: 1.9884 - accuracy: 0.9245 - val_loss: 1.6726 - val_accuracy: 0.9464\n",
      "Epoch 23/50\n",
      "24/24 [==============================] - 180s 7s/step - loss: 1.8676 - accuracy: 0.9505 - val_loss: 1.4658 - val_accuracy: 0.9821\n",
      "Epoch 24/50\n",
      "24/24 [==============================] - 176s 7s/step - loss: 1.7573 - accuracy: 0.9375 - val_loss: 1.4001 - val_accuracy: 0.9821\n",
      "Epoch 25/50\n",
      "24/24 [==============================] - 178s 7s/step - loss: 1.6069 - accuracy: 0.9609 - val_loss: 1.2303 - val_accuracy: 0.9643\n",
      "Epoch 26/50\n",
      "24/24 [==============================] - 176s 7s/step - loss: 1.4970 - accuracy: 0.9583 - val_loss: 1.1819 - val_accuracy: 0.9911\n",
      "Epoch 27/50\n",
      "24/24 [==============================] - 176s 7s/step - loss: 1.3632 - accuracy: 0.9818 - val_loss: 1.1018 - val_accuracy: 0.9821\n",
      "Epoch 28/50\n",
      "24/24 [==============================] - 174s 7s/step - loss: 1.2538 - accuracy: 0.9818 - val_loss: 0.9339 - val_accuracy: 1.0000\n",
      "Epoch 29/50\n",
      "24/24 [==============================] - 181s 8s/step - loss: 1.1744 - accuracy: 0.9792 - val_loss: 0.8648 - val_accuracy: 1.0000\n",
      "Epoch 30/50\n",
      "24/24 [==============================] - 180s 7s/step - loss: 1.0923 - accuracy: 0.9922 - val_loss: 0.7890 - val_accuracy: 0.9911\n",
      "Epoch 31/50\n",
      "24/24 [==============================] - 179s 7s/step - loss: 1.0189 - accuracy: 0.9870 - val_loss: 0.7453 - val_accuracy: 1.0000\n",
      "Epoch 32/50\n",
      "24/24 [==============================] - 175s 7s/step - loss: 0.9123 - accuracy: 0.9896 - val_loss: 0.6424 - val_accuracy: 1.0000\n",
      "Epoch 33/50\n",
      "24/24 [==============================] - 187s 8s/step - loss: 0.8587 - accuracy: 0.9948 - val_loss: 0.6414 - val_accuracy: 1.0000\n",
      "Epoch 34/50\n",
      "24/24 [==============================] - 173s 7s/step - loss: 0.7573 - accuracy: 1.0000 - val_loss: 0.5575 - val_accuracy: 1.0000\n",
      "Epoch 35/50\n",
      "24/24 [==============================] - 177s 7s/step - loss: 0.6907 - accuracy: 1.0000 - val_loss: 0.4993 - val_accuracy: 1.0000\n",
      "Epoch 36/50\n",
      "24/24 [==============================] - 174s 7s/step - loss: 0.6582 - accuracy: 1.0000 - val_loss: 0.4385 - val_accuracy: 1.0000\n",
      "Epoch 37/50\n",
      "24/24 [==============================] - 187s 8s/step - loss: 0.5932 - accuracy: 0.9974 - val_loss: 0.4045 - val_accuracy: 1.0000\n",
      "Epoch 38/50\n",
      "24/24 [==============================] - 179s 7s/step - loss: 0.5396 - accuracy: 1.0000 - val_loss: 0.3577 - val_accuracy: 1.0000\n",
      "Epoch 39/50\n",
      "24/24 [==============================] - 174s 7s/step - loss: 0.4869 - accuracy: 1.0000 - val_loss: 0.3370 - val_accuracy: 1.0000\n",
      "Epoch 40/50\n",
      "24/24 [==============================] - 174s 7s/step - loss: 0.4717 - accuracy: 1.0000 - val_loss: 0.3124 - val_accuracy: 1.0000\n",
      "Epoch 41/50\n",
      "24/24 [==============================] - 179s 7s/step - loss: 0.4255 - accuracy: 1.0000 - val_loss: 0.2798 - val_accuracy: 1.0000\n",
      "Epoch 42/50\n",
      "24/24 [==============================] - 182s 8s/step - loss: 0.3959 - accuracy: 1.0000 - val_loss: 0.2565 - val_accuracy: 1.0000\n",
      "Epoch 43/50\n",
      "24/24 [==============================] - 179s 7s/step - loss: 0.3712 - accuracy: 1.0000 - val_loss: 0.2314 - val_accuracy: 1.0000\n",
      "Epoch 44/50\n",
      "24/24 [==============================] - 183s 8s/step - loss: 0.3456 - accuracy: 1.0000 - val_loss: 0.2113 - val_accuracy: 1.0000\n",
      "Epoch 45/50\n",
      "24/24 [==============================] - 181s 8s/step - loss: 0.3150 - accuracy: 1.0000 - val_loss: 0.2041 - val_accuracy: 1.0000\n",
      "Epoch 46/50\n",
      "24/24 [==============================] - 180s 7s/step - loss: 0.2829 - accuracy: 1.0000 - val_loss: 0.1837 - val_accuracy: 1.0000\n",
      "Epoch 47/50\n",
      "24/24 [==============================] - 178s 7s/step - loss: 0.2766 - accuracy: 1.0000 - val_loss: 0.1724 - val_accuracy: 1.0000\n",
      "Epoch 48/50\n",
      "24/24 [==============================] - 178s 7s/step - loss: 0.2580 - accuracy: 1.0000 - val_loss: 0.1697 - val_accuracy: 1.0000\n",
      "Epoch 49/50\n",
      "24/24 [==============================] - 177s 7s/step - loss: 0.2323 - accuracy: 1.0000 - val_loss: 0.1472 - val_accuracy: 1.0000\n",
      "Epoch 50/50\n",
      "24/24 [==============================] - 176s 7s/step - loss: 0.2226 - accuracy: 1.0000 - val_loss: 0.1448 - val_accuracy: 1.0000\n"
     ]
    }
   ],
   "source": [
    "#create optimizer, can change learning rate if needed \n",
    "optimizer = tf.keras.optimizers.Adam(learning_rate=0.00001, decay=0.000001)\n",
    "#create loss function\n",
    "loss_function = tf.keras.losses.CategoricalCrossentropy()\n",
    "#create accuracy metrics\n",
    "accuracy = tf.keras.metrics.CategoricalAccuracy('accuracy')\n",
    "\n",
    "earlystopping = callbacks.EarlyStopping(monitor =\"val_loss\",        #metric to monitor\n",
    "                                        mode =\"min\",                #In min mode, training will stop when the value of data that is monitored stop decreasing.\n",
    "                                        patience = 5,               #after 5 epochs of no decrease we stop \n",
    "                                        restore_best_weights = True #restore the best value\n",
    "                                       )\n",
    "\n",
    "built_comment_model.compile(optimizer=optimizer, loss=loss_function, metrics=[accuracy]) #compile model\n",
    "\n",
    "#create model history\n",
    "built_comment_model_history = built_comment_model.fit(\n",
    "    train_dataset,\n",
    "    validation_data=val_dataset,\n",
    "    epochs=50,\n",
    "    callbacks =[earlystopping]\n",
    ")"
   ]
  },
  {
   "cell_type": "markdown",
   "id": "ce3fae38",
   "metadata": {},
   "source": [
    "## 5.0 Evaluating Model\n",
    "\n",
    "1. Call **generate_train_loss_plots(num_epochs, model_name)**\n",
    "    - Plots the loss function on train and validation\n",
    "    - Plots the accuracy on train and validation"
   ]
  },
  {
   "cell_type": "code",
   "execution_count": 210,
   "id": "8843e0dd",
   "metadata": {},
   "outputs": [
    {
     "data": {
      "image/png": "[encoded data removed]",
      "text/plain": [
       "<Figure size 3000x500 with 2 Axes>"
      ]
     },
     "metadata": {},
     "output_type": "display_data"
    }
   ],
   "source": [
    "generate_train_loss_plots(50, built_comment_model_history)"
   ]
  },
  {
   "cell_type": "markdown",
   "id": "4387d1fe",
   "metadata": {},
   "source": [
    "## 6.0 Predictions For Sentence Model\n",
    "\n",
    "1. Call **generate_num_classes(num_classes)**\n",
    "    - Generates a list of all the labels for our prediction\n",
    "<br><br>\n",
    "\n",
    "2. Pick a random sample from the dataset\n",
    "<br><br>\n",
    "\n",
    "3. Create a string of text\n",
    "<br><br>\n",
    "\n",
    "4. Call **prepare_data(input, tokenizer, seq_len)**\n",
    "    - This will encode the sentence that is inputted\n",
    "<br><br>\n",
    "\n",
    "5. Call **make_prediction(model_name, processed_data, classes)**\n",
    "    - Makes a prediction about the given text\n",
    "<br><br>\n",
    "\n",
    "6. Print prediction"
   ]
  },
  {
   "cell_type": "code",
   "execution_count": 211,
   "id": "5898cf91",
   "metadata": {},
   "outputs": [],
   "source": [
    "class_list = generate_num_classes(NUM_CLASSES)"
   ]
  },
  {
   "cell_type": "code",
   "execution_count": 222,
   "id": "bc0c003b",
   "metadata": {},
   "outputs": [
    {
     "data": {
      "text/html": [
       "<div>\n",
       "<style scoped>\n",
       "    .dataframe tbody tr th:only-of-type {\n",
       "        vertical-align: middle;\n",
       "    }\n",
       "\n",
       "    .dataframe tbody tr th {\n",
       "        vertical-align: top;\n",
       "    }\n",
       "\n",
       "    .dataframe thead th {\n",
       "        text-align: right;\n",
       "    }\n",
       "</style>\n",
       "<table border=\"1\" class=\"dataframe\">\n",
       "  <thead>\n",
       "    <tr style=\"text-align: right;\">\n",
       "      <th></th>\n",
       "      <th>image_name</th>\n",
       "      <th>comment_number</th>\n",
       "      <th>comment</th>\n",
       "      <th>cleaned_comment</th>\n",
       "      <th>label</th>\n",
       "      <th>word_count</th>\n",
       "      <th>unique_word_count</th>\n",
       "      <th>unique_words_vs_words</th>\n",
       "    </tr>\n",
       "  </thead>\n",
       "  <tbody>\n",
       "    <tr>\n",
       "      <th>206</th>\n",
       "      <td>1010470346.jpg</td>\n",
       "      <td>1</td>\n",
       "      <td>A man leans into a car to talk to the driver ...</td>\n",
       "      <td>man leans car talk driver man bicycle looks</td>\n",
       "      <td>41</td>\n",
       "      <td>21</td>\n",
       "      <td>16</td>\n",
       "      <td>0.761905</td>\n",
       "    </tr>\n",
       "  </tbody>\n",
       "</table>\n",
       "</div>"
      ],
      "text/plain": [
       "         image_name comment_number  \\\n",
       "206  1010470346.jpg              1   \n",
       "\n",
       "                                               comment  \\\n",
       "206   A man leans into a car to talk to the driver ...   \n",
       "\n",
       "                                 cleaned_comment  label  word_count  \\\n",
       "206  man leans car talk driver man bicycle looks     41          21   \n",
       "\n",
       "     unique_word_count  unique_words_vs_words  \n",
       "206                 16               0.761905  "
      ]
     },
     "execution_count": 222,
     "metadata": {},
     "output_type": "execute_result"
    }
   ],
   "source": [
    "data_copy.sample(1)"
   ]
  },
  {
   "cell_type": "code",
   "execution_count": 223,
   "id": "dbf9a6fe",
   "metadata": {},
   "outputs": [
    {
     "name": "stdout",
     "output_type": "stream",
     "text": [
      "1/1 [==============================] - 0s 381ms/step\n",
      "Predicted Label: 41\n"
     ]
    }
   ],
   "source": [
    "input_text = \"man talking to driver\"\n",
    "processed_data = prepare_data(input_text, tokenizer, SEQUENCE_LENGTH)\n",
    "result = make_prediction(built_comment_model, processed_data=processed_data, classes=class_list)\n",
    "print(f\"Predicted Label: {result}\")"
   ]
  },
  {
   "cell_type": "code",
   "execution_count": 224,
   "id": "cfddd715",
   "metadata": {},
   "outputs": [
    {
     "data": {
      "text/html": [
       "<div>\n",
       "<style scoped>\n",
       "    .dataframe tbody tr th:only-of-type {\n",
       "        vertical-align: middle;\n",
       "    }\n",
       "\n",
       "    .dataframe tbody tr th {\n",
       "        vertical-align: top;\n",
       "    }\n",
       "\n",
       "    .dataframe thead th {\n",
       "        text-align: right;\n",
       "    }\n",
       "</style>\n",
       "<table border=\"1\" class=\"dataframe\">\n",
       "  <thead>\n",
       "    <tr style=\"text-align: right;\">\n",
       "      <th></th>\n",
       "      <th>image_name</th>\n",
       "      <th>comment_number</th>\n",
       "      <th>comment</th>\n",
       "      <th>cleaned_comment</th>\n",
       "      <th>label</th>\n",
       "      <th>word_count</th>\n",
       "      <th>unique_word_count</th>\n",
       "      <th>unique_words_vs_words</th>\n",
       "    </tr>\n",
       "  </thead>\n",
       "  <tbody>\n",
       "    <tr>\n",
       "      <th>205</th>\n",
       "      <td>1010470346.jpg</td>\n",
       "      <td>0</td>\n",
       "      <td>two men in florescent vests are standing next...</td>\n",
       "      <td>two men florescent vests standing next parked ...</td>\n",
       "      <td>41</td>\n",
       "      <td>35</td>\n",
       "      <td>30</td>\n",
       "      <td>0.857143</td>\n",
       "    </tr>\n",
       "    <tr>\n",
       "      <th>206</th>\n",
       "      <td>1010470346.jpg</td>\n",
       "      <td>1</td>\n",
       "      <td>A man leans into a car to talk to the driver ...</td>\n",
       "      <td>man leans car talk driver man bicycle looks</td>\n",
       "      <td>41</td>\n",
       "      <td>21</td>\n",
       "      <td>16</td>\n",
       "      <td>0.761905</td>\n",
       "    </tr>\n",
       "    <tr>\n",
       "      <th>207</th>\n",
       "      <td>1010470346.jpg</td>\n",
       "      <td>2</td>\n",
       "      <td>A man on a bicycle watching a row of cars wai...</td>\n",
       "      <td>man bicycle watching row cars waiting go check...</td>\n",
       "      <td>41</td>\n",
       "      <td>17</td>\n",
       "      <td>15</td>\n",
       "      <td>0.882353</td>\n",
       "    </tr>\n",
       "    <tr>\n",
       "      <th>208</th>\n",
       "      <td>1010470346.jpg</td>\n",
       "      <td>3</td>\n",
       "      <td>A park ranger talking to a tourist .</td>\n",
       "      <td>park ranger talking tourist</td>\n",
       "      <td>41</td>\n",
       "      <td>8</td>\n",
       "      <td>8</td>\n",
       "      <td>1.000000</td>\n",
       "    </tr>\n",
       "    <tr>\n",
       "      <th>209</th>\n",
       "      <td>1010470346.jpg</td>\n",
       "      <td>4</td>\n",
       "      <td>Two cars are parked outside .</td>\n",
       "      <td>two cars parked outside</td>\n",
       "      <td>41</td>\n",
       "      <td>6</td>\n",
       "      <td>6</td>\n",
       "      <td>1.000000</td>\n",
       "    </tr>\n",
       "  </tbody>\n",
       "</table>\n",
       "</div>"
      ],
      "text/plain": [
       "         image_name comment_number  \\\n",
       "205  1010470346.jpg              0   \n",
       "206  1010470346.jpg              1   \n",
       "207  1010470346.jpg              2   \n",
       "208  1010470346.jpg              3   \n",
       "209  1010470346.jpg              4   \n",
       "\n",
       "                                               comment  \\\n",
       "205   two men in florescent vests are standing next...   \n",
       "206   A man leans into a car to talk to the driver ...   \n",
       "207   A man on a bicycle watching a row of cars wai...   \n",
       "208               A park ranger talking to a tourist .   \n",
       "209                      Two cars are parked outside .   \n",
       "\n",
       "                                       cleaned_comment  label  word_count  \\\n",
       "205  two men florescent vests standing next parked ...     41          35   \n",
       "206        man leans car talk driver man bicycle looks     41          21   \n",
       "207  man bicycle watching row cars waiting go check...     41          17   \n",
       "208                        park ranger talking tourist     41           8   \n",
       "209                            two cars parked outside     41           6   \n",
       "\n",
       "     unique_word_count  unique_words_vs_words  \n",
       "205                 30               0.857143  \n",
       "206                 16               0.761905  \n",
       "207                 15               0.882353  \n",
       "208                  8               1.000000  \n",
       "209                  6               1.000000  "
      ]
     },
     "execution_count": 224,
     "metadata": {},
     "output_type": "execute_result"
    }
   ],
   "source": [
    "data_copy[data_copy['label']== 41]"
   ]
  }
 ],
 "metadata": {
  "kernelspec": {
   "display_name": "Python 3 (ipykernel)",
   "language": "python",
   "name": "python3"
  },
  "language_info": {
   "codemirror_mode": {
    "name": "ipython",
    "version": 3
   },
   "file_extension": ".py",
   "mimetype": "text/x-python",
   "name": "python",
   "nbconvert_exporter": "python",
   "pygments_lexer": "ipython3",
   "version": "3.9.16"
  }
 },
 "nbformat": 4,
 "nbformat_minor": 5
}
