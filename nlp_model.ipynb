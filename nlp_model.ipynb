{
  "nbformat": 4,
  "nbformat_minor": 0,
  "metadata": {
    "colab": {
      "provenance": [],
      "authorship_tag": "ABX9TyP2ibFKAVF6u8CxiywmO13I"
    },
    "kernelspec": {
      "name": "python3",
      "display_name": "Python 3"
    },
    "language_info": {
      "name": "python"
    },
    "accelerator": "GPU",
    "gpuClass": "standard"
  },
  "cells": [
    {
      "cell_type": "code",
      "execution_count": 1,
      "metadata": {
        "colab": {
          "base_uri": "https://localhost:8080/"
        },
        "id": "IRpEA5wy_qv7",
        "outputId": "8abc7844-f88c-458d-8626-7fb969ed96cb"
      },
      "outputs": [
        {
          "output_type": "stream",
          "name": "stdout",
          "text": [
            "Looking in indexes: https://pypi.org/simple, https://us-python.pkg.dev/colab-wheels/public/simple/\n",
            "Requirement already satisfied: kaggle in /usr/local/lib/python3.8/dist-packages (1.5.12)\n",
            "Requirement already satisfied: requests in /usr/local/lib/python3.8/dist-packages (from kaggle) (2.25.1)\n",
            "Requirement already satisfied: tqdm in /usr/local/lib/python3.8/dist-packages (from kaggle) (4.64.1)\n",
            "Requirement already satisfied: six>=1.10 in /usr/local/lib/python3.8/dist-packages (from kaggle) (1.15.0)\n",
            "Requirement already satisfied: certifi in /usr/local/lib/python3.8/dist-packages (from kaggle) (2022.12.7)\n",
            "Requirement already satisfied: urllib3 in /usr/local/lib/python3.8/dist-packages (from kaggle) (1.24.3)\n",
            "Requirement already satisfied: python-dateutil in /usr/local/lib/python3.8/dist-packages (from kaggle) (2.8.2)\n",
            "Requirement already satisfied: python-slugify in /usr/local/lib/python3.8/dist-packages (from kaggle) (8.0.0)\n",
            "Requirement already satisfied: text-unidecode>=1.3 in /usr/local/lib/python3.8/dist-packages (from python-slugify->kaggle) (1.3)\n",
            "Requirement already satisfied: chardet<5,>=3.0.2 in /usr/local/lib/python3.8/dist-packages (from requests->kaggle) (4.0.0)\n",
            "Requirement already satisfied: idna<3,>=2.5 in /usr/local/lib/python3.8/dist-packages (from requests->kaggle) (2.10)\n"
          ]
        }
      ],
      "source": [
        "pip install kaggle"
      ]
    },
    {
      "cell_type": "code",
      "source": [
        "from google.colab import files\n",
        "files.upload()"
      ],
      "metadata": {
        "colab": {
          "base_uri": "https://localhost:8080/",
          "height": 92
        },
        "id": "-jv19YQWA26r",
        "outputId": "8233b4c3-4170-41b3-ac8a-622d82774133"
      },
      "execution_count": 2,
      "outputs": [
        {
          "output_type": "display_data",
          "data": {
            "text/plain": [
              "<IPython.core.display.HTML object>"
            ],
            "text/html": [
              "\n",
              "     <input type=\"file\" id=\"files-f45eba39-b67b-40a6-971d-58e1d588e0e0\" name=\"files[]\" multiple disabled\n",
              "        style=\"border:none\" />\n",
              "     <output id=\"result-f45eba39-b67b-40a6-971d-58e1d588e0e0\">\n",
              "      Upload widget is only available when the cell has been executed in the\n",
              "      current browser session. Please rerun this cell to enable.\n",
              "      </output>\n",
              "      <script>// Copyright 2017 Google LLC\n",
              "//\n",
              "// Licensed under the Apache License, Version 2.0 (the \"License\");\n",
              "// you may not use this file except in compliance with the License.\n",
              "// You may obtain a copy of the License at\n",
              "//\n",
              "//      http://www.apache.org/licenses/LICENSE-2.0\n",
              "//\n",
              "// Unless required by applicable law or agreed to in writing, software\n",
              "// distributed under the License is distributed on an \"AS IS\" BASIS,\n",
              "// WITHOUT WARRANTIES OR CONDITIONS OF ANY KIND, either express or implied.\n",
              "// See the License for the specific language governing permissions and\n",
              "// limitations under the License.\n",
              "\n",
              "/**\n",
              " * @fileoverview Helpers for google.colab Python module.\n",
              " */\n",
              "(function(scope) {\n",
              "function span(text, styleAttributes = {}) {\n",
              "  const element = document.createElement('span');\n",
              "  element.textContent = text;\n",
              "  for (const key of Object.keys(styleAttributes)) {\n",
              "    element.style[key] = styleAttributes[key];\n",
              "  }\n",
              "  return element;\n",
              "}\n",
              "\n",
              "// Max number of bytes which will be uploaded at a time.\n",
              "const MAX_PAYLOAD_SIZE = 100 * 1024;\n",
              "\n",
              "function _uploadFiles(inputId, outputId) {\n",
              "  const steps = uploadFilesStep(inputId, outputId);\n",
              "  const outputElement = document.getElementById(outputId);\n",
              "  // Cache steps on the outputElement to make it available for the next call\n",
              "  // to uploadFilesContinue from Python.\n",
              "  outputElement.steps = steps;\n",
              "\n",
              "  return _uploadFilesContinue(outputId);\n",
              "}\n",
              "\n",
              "// This is roughly an async generator (not supported in the browser yet),\n",
              "// where there are multiple asynchronous steps and the Python side is going\n",
              "// to poll for completion of each step.\n",
              "// This uses a Promise to block the python side on completion of each step,\n",
              "// then passes the result of the previous step as the input to the next step.\n",
              "function _uploadFilesContinue(outputId) {\n",
              "  const outputElement = document.getElementById(outputId);\n",
              "  const steps = outputElement.steps;\n",
              "\n",
              "  const next = steps.next(outputElement.lastPromiseValue);\n",
              "  return Promise.resolve(next.value.promise).then((value) => {\n",
              "    // Cache the last promise value to make it available to the next\n",
              "    // step of the generator.\n",
              "    outputElement.lastPromiseValue = value;\n",
              "    return next.value.response;\n",
              "  });\n",
              "}\n",
              "\n",
              "/**\n",
              " * Generator function which is called between each async step of the upload\n",
              " * process.\n",
              " * @param {string} inputId Element ID of the input file picker element.\n",
              " * @param {string} outputId Element ID of the output display.\n",
              " * @return {!Iterable<!Object>} Iterable of next steps.\n",
              " */\n",
              "function* uploadFilesStep(inputId, outputId) {\n",
              "  const inputElement = document.getElementById(inputId);\n",
              "  inputElement.disabled = false;\n",
              "\n",
              "  const outputElement = document.getElementById(outputId);\n",
              "  outputElement.innerHTML = '';\n",
              "\n",
              "  const pickedPromise = new Promise((resolve) => {\n",
              "    inputElement.addEventListener('change', (e) => {\n",
              "      resolve(e.target.files);\n",
              "    });\n",
              "  });\n",
              "\n",
              "  const cancel = document.createElement('button');\n",
              "  inputElement.parentElement.appendChild(cancel);\n",
              "  cancel.textContent = 'Cancel upload';\n",
              "  const cancelPromise = new Promise((resolve) => {\n",
              "    cancel.onclick = () => {\n",
              "      resolve(null);\n",
              "    };\n",
              "  });\n",
              "\n",
              "  // Wait for the user to pick the files.\n",
              "  const files = yield {\n",
              "    promise: Promise.race([pickedPromise, cancelPromise]),\n",
              "    response: {\n",
              "      action: 'starting',\n",
              "    }\n",
              "  };\n",
              "\n",
              "  cancel.remove();\n",
              "\n",
              "  // Disable the input element since further picks are not allowed.\n",
              "  inputElement.disabled = true;\n",
              "\n",
              "  if (!files) {\n",
              "    return {\n",
              "      response: {\n",
              "        action: 'complete',\n",
              "      }\n",
              "    };\n",
              "  }\n",
              "\n",
              "  for (const file of files) {\n",
              "    const li = document.createElement('li');\n",
              "    li.append(span(file.name, {fontWeight: 'bold'}));\n",
              "    li.append(span(\n",
              "        `(${file.type || 'n/a'}) - ${file.size} bytes, ` +\n",
              "        `last modified: ${\n",
              "            file.lastModifiedDate ? file.lastModifiedDate.toLocaleDateString() :\n",
              "                                    'n/a'} - `));\n",
              "    const percent = span('0% done');\n",
              "    li.appendChild(percent);\n",
              "\n",
              "    outputElement.appendChild(li);\n",
              "\n",
              "    const fileDataPromise = new Promise((resolve) => {\n",
              "      const reader = new FileReader();\n",
              "      reader.onload = (e) => {\n",
              "        resolve(e.target.result);\n",
              "      };\n",
              "      reader.readAsArrayBuffer(file);\n",
              "    });\n",
              "    // Wait for the data to be ready.\n",
              "    let fileData = yield {\n",
              "      promise: fileDataPromise,\n",
              "      response: {\n",
              "        action: 'continue',\n",
              "      }\n",
              "    };\n",
              "\n",
              "    // Use a chunked sending to avoid message size limits. See b/62115660.\n",
              "    let position = 0;\n",
              "    do {\n",
              "      const length = Math.min(fileData.byteLength - position, MAX_PAYLOAD_SIZE);\n",
              "      const chunk = new Uint8Array(fileData, position, length);\n",
              "      position += length;\n",
              "\n",
              "      const base64 = btoa(String.fromCharCode.apply(null, chunk));\n",
              "      yield {\n",
              "        response: {\n",
              "          action: 'append',\n",
              "          file: file.name,\n",
              "          data: base64,\n",
              "        },\n",
              "      };\n",
              "\n",
              "      let percentDone = fileData.byteLength === 0 ?\n",
              "          100 :\n",
              "          Math.round((position / fileData.byteLength) * 100);\n",
              "      percent.textContent = `${percentDone}% done`;\n",
              "\n",
              "    } while (position < fileData.byteLength);\n",
              "  }\n",
              "\n",
              "  // All done.\n",
              "  yield {\n",
              "    response: {\n",
              "      action: 'complete',\n",
              "    }\n",
              "  };\n",
              "}\n",
              "\n",
              "scope.google = scope.google || {};\n",
              "scope.google.colab = scope.google.colab || {};\n",
              "scope.google.colab._files = {\n",
              "  _uploadFiles,\n",
              "  _uploadFilesContinue,\n",
              "};\n",
              "})(self);\n",
              "</script> "
            ]
          },
          "metadata": {}
        },
        {
          "output_type": "stream",
          "name": "stdout",
          "text": [
            "Saving kaggle.json to kaggle (1).json\n"
          ]
        },
        {
          "output_type": "execute_result",
          "data": {
            "text/plain": [
              "{'kaggle.json': b'{\"username\":\"blake2703\",\"key\":\"c27f1fb794b95e2758df4fa12ede812d\"}'}"
            ]
          },
          "metadata": {},
          "execution_count": 2
        }
      ]
    },
    {
      "cell_type": "code",
      "source": [
        "!mkdir -p ~/.kaggle\n",
        "!cp kaggle.json ~/.kaggle/"
      ],
      "metadata": {
        "id": "5-BwFJ6SANvT"
      },
      "execution_count": 3,
      "outputs": []
    },
    {
      "cell_type": "code",
      "source": [
        "!kaggle datasets download -d hsankesara/flickr-image-dataset"
      ],
      "metadata": {
        "colab": {
          "base_uri": "https://localhost:8080/"
        },
        "id": "XeqlqlpTAQYm",
        "outputId": "dd7ef5bc-0888-4e13-e52b-df4324853eb3"
      },
      "execution_count": 4,
      "outputs": [
        {
          "output_type": "stream",
          "name": "stdout",
          "text": [
            "Warning: Your Kaggle API key is readable by other users on this system! To fix this, you can run 'chmod 600 /root/.kaggle/kaggle.json'\n",
            "flickr-image-dataset.zip: Skipping, found more recently modified local copy (use --force to force download)\n"
          ]
        }
      ]
    },
    {
      "cell_type": "code",
      "source": [
        "from zipfile import *\n",
        "\n",
        "file_name = 'flickr-image-dataset.zip' #the file is your dataset exact name\n",
        "with ZipFile(file_name, 'r') as zip:\n",
        "  zip.extractall()\n",
        "  print('Files Extracted')"
      ],
      "metadata": {
        "colab": {
          "base_uri": "https://localhost:8080/"
        },
        "id": "U__NZm9cAUta",
        "outputId": "1deeac71-c46e-4650-b5fc-f96c1809e27c"
      },
      "execution_count": 5,
      "outputs": [
        {
          "output_type": "stream",
          "name": "stdout",
          "text": [
            "Files Extracted\n"
          ]
        }
      ]
    },
    {
      "cell_type": "code",
      "source": [
        "pip install contractions"
      ],
      "metadata": {
        "colab": {
          "base_uri": "https://localhost:8080/"
        },
        "id": "1SMM5EU1CVM2",
        "outputId": "495f1673-7c70-4fac-b85e-f5458795f33d"
      },
      "execution_count": 6,
      "outputs": [
        {
          "output_type": "stream",
          "name": "stdout",
          "text": [
            "Looking in indexes: https://pypi.org/simple, https://us-python.pkg.dev/colab-wheels/public/simple/\n",
            "Requirement already satisfied: contractions in /usr/local/lib/python3.8/dist-packages (0.1.73)\n",
            "Requirement already satisfied: textsearch>=0.0.21 in /usr/local/lib/python3.8/dist-packages (from contractions) (0.0.24)\n",
            "Requirement already satisfied: pyahocorasick in /usr/local/lib/python3.8/dist-packages (from textsearch>=0.0.21->contractions) (2.0.0)\n",
            "Requirement already satisfied: anyascii in /usr/local/lib/python3.8/dist-packages (from textsearch>=0.0.21->contractions) (0.3.1)\n"
          ]
        }
      ]
    },
    {
      "cell_type": "code",
      "source": [
        "nltk.download('all')"
      ],
      "metadata": {
        "id": "jko91FRwH3ze"
      },
      "execution_count": null,
      "outputs": []
    },
    {
      "cell_type": "code",
      "source": [
        "pip install tensorflow-text "
      ],
      "metadata": {
        "id": "v2Tenr7rIAa0"
      },
      "execution_count": null,
      "outputs": []
    },
    {
      "cell_type": "code",
      "source": [
        "pip install tensorflow-hub"
      ],
      "metadata": {
        "id": "9FkSKpIoIB5g"
      },
      "execution_count": null,
      "outputs": []
    },
    {
      "cell_type": "code",
      "source": [
        "pip install pandas"
      ],
      "metadata": {
        "id": "mtpz7zgfMXgC"
      },
      "execution_count": null,
      "outputs": []
    },
    {
      "cell_type": "code",
      "source": [
        "pip install seaborn"
      ],
      "metadata": {
        "id": "UbpFQrMfMdD5"
      },
      "execution_count": null,
      "outputs": []
    },
    {
      "cell_type": "code",
      "source": [
        "pip install scikit-learn"
      ],
      "metadata": {
        "id": "SuPhzmBtMf-B"
      },
      "execution_count": null,
      "outputs": []
    },
    {
      "cell_type": "code",
      "source": [
        "pip install matplotlib"
      ],
      "metadata": {
        "id": "9Lsa4R9fMcBX"
      },
      "execution_count": null,
      "outputs": []
    },
    {
      "cell_type": "code",
      "source": [
        "pip install nltk"
      ],
      "metadata": {
        "id": "gczx7dhGMbHI"
      },
      "execution_count": null,
      "outputs": []
    },
    {
      "cell_type": "code",
      "source": [
        "pip install numpy"
      ],
      "metadata": {
        "id": "Aq6DCIx6MaBe"
      },
      "execution_count": null,
      "outputs": []
    },
    {
      "cell_type": "code",
      "source": [
        "import pandas as pd\n",
        "import numpy as np\n",
        "import nltk\n",
        "from nltk.corpus import stopwords\n",
        "import matplotlib.pyplot as plt\n",
        "import seaborn as sns\n",
        "import tensorflow as tf\n",
        "import tensorflow_hub as hub\n",
        "import tensorflow_text as text\n",
        "import contractions\n",
        "import string\n",
        "from collections import Counter\n",
        "from sklearn.model_selection import train_test_split"
      ],
      "metadata": {
        "id": "ePMAi-ZgCROU"
      },
      "execution_count": 7,
      "outputs": []
    },
    {
      "cell_type": "markdown",
      "source": [
        "## 1.0 Get Data and Greet Data"
      ],
      "metadata": {
        "id": "aXhN2WhnIKJ8"
      }
    },
    {
      "cell_type": "markdown",
      "source": [
        "A dataset should be broken up into multiple datasets:\n",
        "- data_raw = first read in of our data, but will not be touched\n",
        "- data_copy = data_raw copied, which will be used to clean, feature engineer, and wrangle our data"
      ],
      "metadata": {
        "id": "-qXfwurYIL69"
      }
    },
    {
      "cell_type": "code",
      "source": [
        "data_raw = pd.read_csv('/content/flickr30k_images/results.csv', delimiter='|')\n",
        "data_copy = pd.read_csv('/content/flickr30k_images/results.csv', delimiter='|')"
      ],
      "metadata": {
        "id": "eaOLD1ShCRnJ"
      },
      "execution_count": 8,
      "outputs": []
    },
    {
      "cell_type": "code",
      "source": [
        "data_raw.info()"
      ],
      "metadata": {
        "colab": {
          "base_uri": "https://localhost:8080/"
        },
        "id": "BYpbVBRbCieS",
        "outputId": "c0523f85-2118-4e4c-b826-944efe9e9f83"
      },
      "execution_count": 9,
      "outputs": [
        {
          "output_type": "stream",
          "name": "stdout",
          "text": [
            "<class 'pandas.core.frame.DataFrame'>\n",
            "RangeIndex: 158915 entries, 0 to 158914\n",
            "Data columns (total 3 columns):\n",
            " #   Column           Non-Null Count   Dtype \n",
            "---  ------           --------------   ----- \n",
            " 0   image_name       158915 non-null  object\n",
            " 1    comment_number  158915 non-null  object\n",
            " 2    comment         158914 non-null  object\n",
            "dtypes: object(3)\n",
            "memory usage: 3.6+ MB\n"
          ]
        }
      ]
    },
    {
      "cell_type": "markdown",
      "source": [
        "We notice that we have a missing value in the comment section. This will be important to us as we clean our data later. The other two columns look like they do not have any missing data."
      ],
      "metadata": {
        "id": "qAxKGykVIOo5"
      }
    },
    {
      "cell_type": "code",
      "source": [
        "data_raw.sample(10)"
      ],
      "metadata": {
        "colab": {
          "base_uri": "https://localhost:8080/",
          "height": 363
        },
        "id": "vV_p__AmCkYR",
        "outputId": "af4155ae-89de-4c8e-d6cd-7e6cfd278b18"
      },
      "execution_count": 10,
      "outputs": [
        {
          "output_type": "execute_result",
          "data": {
            "text/plain": [
              "            image_name  comment_number  \\\n",
              "11659    172892648.jpg               4   \n",
              "33229   2534424894.jpg               4   \n",
              "112107  4704939941.jpg               2   \n",
              "100086  4463538995.jpg               1   \n",
              "44544   2819254573.jpg               4   \n",
              "76363   3559357704.jpg               3   \n",
              "75910   3549408779.jpg               0   \n",
              "113652  4727583716.jpg               2   \n",
              "129670  4992006407.jpg               0   \n",
              "79210   3623894108.jpg               0   \n",
              "\n",
              "                                                  comment  \n",
              "11659        A person is breaking trail on a snowy hill .  \n",
              "33229        A little girl is jumping down a sandy hill .  \n",
              "112107   Man in his seventies wearing a colorful outfi...  \n",
              "100086   A person in a red jacket with black pants hol...  \n",
              "44544           A young boy screams on a roller coaster .  \n",
              "76363    A red race car going down a dirt road with a ...  \n",
              "75910    A small black and white dog paddles in some c...  \n",
              "113652         Farmers line up and tend to their cattle .  \n",
              "129670   A black man takes a shot at a pool table whil...  \n",
              "79210    A statue of an Indian is on the sidewalk in f...  "
            ],
            "text/html": [
              "\n",
              "  <div id=\"df-e9daef1e-91c9-416f-89ae-a4c05087b0f4\">\n",
              "    <div class=\"colab-df-container\">\n",
              "      <div>\n",
              "<style scoped>\n",
              "    .dataframe tbody tr th:only-of-type {\n",
              "        vertical-align: middle;\n",
              "    }\n",
              "\n",
              "    .dataframe tbody tr th {\n",
              "        vertical-align: top;\n",
              "    }\n",
              "\n",
              "    .dataframe thead th {\n",
              "        text-align: right;\n",
              "    }\n",
              "</style>\n",
              "<table border=\"1\" class=\"dataframe\">\n",
              "  <thead>\n",
              "    <tr style=\"text-align: right;\">\n",
              "      <th></th>\n",
              "      <th>image_name</th>\n",
              "      <th>comment_number</th>\n",
              "      <th>comment</th>\n",
              "    </tr>\n",
              "  </thead>\n",
              "  <tbody>\n",
              "    <tr>\n",
              "      <th>11659</th>\n",
              "      <td>172892648.jpg</td>\n",
              "      <td>4</td>\n",
              "      <td>A person is breaking trail on a snowy hill .</td>\n",
              "    </tr>\n",
              "    <tr>\n",
              "      <th>33229</th>\n",
              "      <td>2534424894.jpg</td>\n",
              "      <td>4</td>\n",
              "      <td>A little girl is jumping down a sandy hill .</td>\n",
              "    </tr>\n",
              "    <tr>\n",
              "      <th>112107</th>\n",
              "      <td>4704939941.jpg</td>\n",
              "      <td>2</td>\n",
              "      <td>Man in his seventies wearing a colorful outfi...</td>\n",
              "    </tr>\n",
              "    <tr>\n",
              "      <th>100086</th>\n",
              "      <td>4463538995.jpg</td>\n",
              "      <td>1</td>\n",
              "      <td>A person in a red jacket with black pants hol...</td>\n",
              "    </tr>\n",
              "    <tr>\n",
              "      <th>44544</th>\n",
              "      <td>2819254573.jpg</td>\n",
              "      <td>4</td>\n",
              "      <td>A young boy screams on a roller coaster .</td>\n",
              "    </tr>\n",
              "    <tr>\n",
              "      <th>76363</th>\n",
              "      <td>3559357704.jpg</td>\n",
              "      <td>3</td>\n",
              "      <td>A red race car going down a dirt road with a ...</td>\n",
              "    </tr>\n",
              "    <tr>\n",
              "      <th>75910</th>\n",
              "      <td>3549408779.jpg</td>\n",
              "      <td>0</td>\n",
              "      <td>A small black and white dog paddles in some c...</td>\n",
              "    </tr>\n",
              "    <tr>\n",
              "      <th>113652</th>\n",
              "      <td>4727583716.jpg</td>\n",
              "      <td>2</td>\n",
              "      <td>Farmers line up and tend to their cattle .</td>\n",
              "    </tr>\n",
              "    <tr>\n",
              "      <th>129670</th>\n",
              "      <td>4992006407.jpg</td>\n",
              "      <td>0</td>\n",
              "      <td>A black man takes a shot at a pool table whil...</td>\n",
              "    </tr>\n",
              "    <tr>\n",
              "      <th>79210</th>\n",
              "      <td>3623894108.jpg</td>\n",
              "      <td>0</td>\n",
              "      <td>A statue of an Indian is on the sidewalk in f...</td>\n",
              "    </tr>\n",
              "  </tbody>\n",
              "</table>\n",
              "</div>\n",
              "      <button class=\"colab-df-convert\" onclick=\"convertToInteractive('df-e9daef1e-91c9-416f-89ae-a4c05087b0f4')\"\n",
              "              title=\"Convert this dataframe to an interactive table.\"\n",
              "              style=\"display:none;\">\n",
              "        \n",
              "  <svg xmlns=\"http://www.w3.org/2000/svg\" height=\"24px\"viewBox=\"0 0 24 24\"\n",
              "       width=\"24px\">\n",
              "    <path d=\"M0 0h24v24H0V0z\" fill=\"none\"/>\n",
              "    <path d=\"M18.56 5.44l.94 2.06.94-2.06 2.06-.94-2.06-.94-.94-2.06-.94 2.06-2.06.94zm-11 1L8.5 8.5l.94-2.06 2.06-.94-2.06-.94L8.5 2.5l-.94 2.06-2.06.94zm10 10l.94 2.06.94-2.06 2.06-.94-2.06-.94-.94-2.06-.94 2.06-2.06.94z\"/><path d=\"M17.41 7.96l-1.37-1.37c-.4-.4-.92-.59-1.43-.59-.52 0-1.04.2-1.43.59L10.3 9.45l-7.72 7.72c-.78.78-.78 2.05 0 2.83L4 21.41c.39.39.9.59 1.41.59.51 0 1.02-.2 1.41-.59l7.78-7.78 2.81-2.81c.8-.78.8-2.07 0-2.86zM5.41 20L4 18.59l7.72-7.72 1.47 1.35L5.41 20z\"/>\n",
              "  </svg>\n",
              "      </button>\n",
              "      \n",
              "  <style>\n",
              "    .colab-df-container {\n",
              "      display:flex;\n",
              "      flex-wrap:wrap;\n",
              "      gap: 12px;\n",
              "    }\n",
              "\n",
              "    .colab-df-convert {\n",
              "      background-color: #E8F0FE;\n",
              "      border: none;\n",
              "      border-radius: 50%;\n",
              "      cursor: pointer;\n",
              "      display: none;\n",
              "      fill: #1967D2;\n",
              "      height: 32px;\n",
              "      padding: 0 0 0 0;\n",
              "      width: 32px;\n",
              "    }\n",
              "\n",
              "    .colab-df-convert:hover {\n",
              "      background-color: #E2EBFA;\n",
              "      box-shadow: 0px 1px 2px rgba(60, 64, 67, 0.3), 0px 1px 3px 1px rgba(60, 64, 67, 0.15);\n",
              "      fill: #174EA6;\n",
              "    }\n",
              "\n",
              "    [theme=dark] .colab-df-convert {\n",
              "      background-color: #3B4455;\n",
              "      fill: #D2E3FC;\n",
              "    }\n",
              "\n",
              "    [theme=dark] .colab-df-convert:hover {\n",
              "      background-color: #434B5C;\n",
              "      box-shadow: 0px 1px 3px 1px rgba(0, 0, 0, 0.15);\n",
              "      filter: drop-shadow(0px 1px 2px rgba(0, 0, 0, 0.3));\n",
              "      fill: #FFFFFF;\n",
              "    }\n",
              "  </style>\n",
              "\n",
              "      <script>\n",
              "        const buttonEl =\n",
              "          document.querySelector('#df-e9daef1e-91c9-416f-89ae-a4c05087b0f4 button.colab-df-convert');\n",
              "        buttonEl.style.display =\n",
              "          google.colab.kernel.accessAllowed ? 'block' : 'none';\n",
              "\n",
              "        async function convertToInteractive(key) {\n",
              "          const element = document.querySelector('#df-e9daef1e-91c9-416f-89ae-a4c05087b0f4');\n",
              "          const dataTable =\n",
              "            await google.colab.kernel.invokeFunction('convertToInteractive',\n",
              "                                                     [key], {});\n",
              "          if (!dataTable) return;\n",
              "\n",
              "          const docLinkHtml = 'Like what you see? Visit the ' +\n",
              "            '<a target=\"_blank\" href=https://colab.research.google.com/notebooks/data_table.ipynb>data table notebook</a>'\n",
              "            + ' to learn more about interactive tables.';\n",
              "          element.innerHTML = '';\n",
              "          dataTable['output_type'] = 'display_data';\n",
              "          await google.colab.output.renderOutput(dataTable, element);\n",
              "          const docLink = document.createElement('div');\n",
              "          docLink.innerHTML = docLinkHtml;\n",
              "          element.appendChild(docLink);\n",
              "        }\n",
              "      </script>\n",
              "    </div>\n",
              "  </div>\n",
              "  "
            ]
          },
          "metadata": {},
          "execution_count": 10
        }
      ]
    },
    {
      "cell_type": "markdown",
      "source": [
        "Our data is structured with three columns:\n",
        "- image_name: which is the unique tag of the image\n",
        "- comment_number: which is the specific comment number about the image\n",
        "- comment: this is the actual comment left about the image <br><br>\n",
        "\n",
        "We expect to see 5 comments per uniuqe image_id so let's make sure that is the case:"
      ],
      "metadata": {
        "id": "rA85o5u7IR9M"
      }
    },
    {
      "cell_type": "code",
      "source": [
        "image_name_unique_vals = data_raw['image_name'].unique().tolist()\n",
        "print(\"Total length of unique values: \", len(image_name_unique_vals))\n",
        "print(\"Total length of data frame: \",  len(data_raw))\n",
        "print(\"Total length of unique values * 5: \", len(image_name_unique_vals) * 5)"
      ],
      "metadata": {
        "colab": {
          "base_uri": "https://localhost:8080/"
        },
        "id": "R0l-jK-fCnpb",
        "outputId": "287ff0cf-84d5-472c-ab48-7eeaff7e845c"
      },
      "execution_count": 11,
      "outputs": [
        {
          "output_type": "stream",
          "name": "stdout",
          "text": [
            "Total length of unique values:  31783\n",
            "Total length of data frame:  158915\n",
            "Total length of unique values * 5:  158915\n"
          ]
        }
      ]
    },
    {
      "cell_type": "markdown",
      "source": [
        "Based off our findings above, we can see that there are in fact 31,783 unique images in the dataset, corresponding to 158,915 in the total dataset, so in fact we do have 5 comments per image."
      ],
      "metadata": {
        "id": "5-6XQtdTIVHi"
      }
    },
    {
      "cell_type": "markdown",
      "source": [
        "### 1.1 The 4 C's of Data Cleaning: Correction, Completing, Creating, and Converting <br><br>\n",
        "\n",
        "In this stage, we will clean our data by:\n",
        "1. correcting values and outliers \n",
        "2. completing missing information\n",
        "3. creating new features for analysis\n",
        "4. converting fields to the correct format for calculations and presentation."
      ],
      "metadata": {
        "id": "CFFDuYWcIVnT"
      }
    },
    {
      "cell_type": "markdown",
      "source": [
        "#### 1.1.1 Correcting data"
      ],
      "metadata": {
        "id": "KoDKwDEPIitR"
      }
    },
    {
      "cell_type": "code",
      "source": [
        "print('Columns with null values:')\n",
        "print(data_copy.isnull().sum())"
      ],
      "metadata": {
        "colab": {
          "base_uri": "https://localhost:8080/"
        },
        "id": "FnekwrDZCpz9",
        "outputId": "fea5aaf8-86d1-4148-b865-cced8a036400"
      },
      "execution_count": 12,
      "outputs": [
        {
          "output_type": "stream",
          "name": "stdout",
          "text": [
            "Columns with null values:\n",
            "image_name         0\n",
            " comment_number    0\n",
            " comment           1\n",
            "dtype: int64\n"
          ]
        }
      ]
    },
    {
      "cell_type": "code",
      "source": [
        "data_copy.describe(include = 'all').transpose()"
      ],
      "metadata": {
        "colab": {
          "base_uri": "https://localhost:8080/",
          "height": 143
        },
        "id": "DB73EaPiCsH2",
        "outputId": "01db402a-4d24-4b60-ed84-2340dc2ab9b4"
      },
      "execution_count": 13,
      "outputs": [
        {
          "output_type": "execute_result",
          "data": {
            "text/plain": [
              "                  count  unique                              top   freq\n",
              "image_name       158915   31783                   1000092795.jpg      5\n",
              " comment_number  158915       6                                0  31783\n",
              " comment         158914  158438   Two dogs playing in the snow .      7"
            ],
            "text/html": [
              "\n",
              "  <div id=\"df-ece7c565-3837-49aa-9a7e-70b2a6edeeab\">\n",
              "    <div class=\"colab-df-container\">\n",
              "      <div>\n",
              "<style scoped>\n",
              "    .dataframe tbody tr th:only-of-type {\n",
              "        vertical-align: middle;\n",
              "    }\n",
              "\n",
              "    .dataframe tbody tr th {\n",
              "        vertical-align: top;\n",
              "    }\n",
              "\n",
              "    .dataframe thead th {\n",
              "        text-align: right;\n",
              "    }\n",
              "</style>\n",
              "<table border=\"1\" class=\"dataframe\">\n",
              "  <thead>\n",
              "    <tr style=\"text-align: right;\">\n",
              "      <th></th>\n",
              "      <th>count</th>\n",
              "      <th>unique</th>\n",
              "      <th>top</th>\n",
              "      <th>freq</th>\n",
              "    </tr>\n",
              "  </thead>\n",
              "  <tbody>\n",
              "    <tr>\n",
              "      <th>image_name</th>\n",
              "      <td>158915</td>\n",
              "      <td>31783</td>\n",
              "      <td>1000092795.jpg</td>\n",
              "      <td>5</td>\n",
              "    </tr>\n",
              "    <tr>\n",
              "      <th>comment_number</th>\n",
              "      <td>158915</td>\n",
              "      <td>6</td>\n",
              "      <td>0</td>\n",
              "      <td>31783</td>\n",
              "    </tr>\n",
              "    <tr>\n",
              "      <th>comment</th>\n",
              "      <td>158914</td>\n",
              "      <td>158438</td>\n",
              "      <td>Two dogs playing in the snow .</td>\n",
              "      <td>7</td>\n",
              "    </tr>\n",
              "  </tbody>\n",
              "</table>\n",
              "</div>\n",
              "      <button class=\"colab-df-convert\" onclick=\"convertToInteractive('df-ece7c565-3837-49aa-9a7e-70b2a6edeeab')\"\n",
              "              title=\"Convert this dataframe to an interactive table.\"\n",
              "              style=\"display:none;\">\n",
              "        \n",
              "  <svg xmlns=\"http://www.w3.org/2000/svg\" height=\"24px\"viewBox=\"0 0 24 24\"\n",
              "       width=\"24px\">\n",
              "    <path d=\"M0 0h24v24H0V0z\" fill=\"none\"/>\n",
              "    <path d=\"M18.56 5.44l.94 2.06.94-2.06 2.06-.94-2.06-.94-.94-2.06-.94 2.06-2.06.94zm-11 1L8.5 8.5l.94-2.06 2.06-.94-2.06-.94L8.5 2.5l-.94 2.06-2.06.94zm10 10l.94 2.06.94-2.06 2.06-.94-2.06-.94-.94-2.06-.94 2.06-2.06.94z\"/><path d=\"M17.41 7.96l-1.37-1.37c-.4-.4-.92-.59-1.43-.59-.52 0-1.04.2-1.43.59L10.3 9.45l-7.72 7.72c-.78.78-.78 2.05 0 2.83L4 21.41c.39.39.9.59 1.41.59.51 0 1.02-.2 1.41-.59l7.78-7.78 2.81-2.81c.8-.78.8-2.07 0-2.86zM5.41 20L4 18.59l7.72-7.72 1.47 1.35L5.41 20z\"/>\n",
              "  </svg>\n",
              "      </button>\n",
              "      \n",
              "  <style>\n",
              "    .colab-df-container {\n",
              "      display:flex;\n",
              "      flex-wrap:wrap;\n",
              "      gap: 12px;\n",
              "    }\n",
              "\n",
              "    .colab-df-convert {\n",
              "      background-color: #E8F0FE;\n",
              "      border: none;\n",
              "      border-radius: 50%;\n",
              "      cursor: pointer;\n",
              "      display: none;\n",
              "      fill: #1967D2;\n",
              "      height: 32px;\n",
              "      padding: 0 0 0 0;\n",
              "      width: 32px;\n",
              "    }\n",
              "\n",
              "    .colab-df-convert:hover {\n",
              "      background-color: #E2EBFA;\n",
              "      box-shadow: 0px 1px 2px rgba(60, 64, 67, 0.3), 0px 1px 3px 1px rgba(60, 64, 67, 0.15);\n",
              "      fill: #174EA6;\n",
              "    }\n",
              "\n",
              "    [theme=dark] .colab-df-convert {\n",
              "      background-color: #3B4455;\n",
              "      fill: #D2E3FC;\n",
              "    }\n",
              "\n",
              "    [theme=dark] .colab-df-convert:hover {\n",
              "      background-color: #434B5C;\n",
              "      box-shadow: 0px 1px 3px 1px rgba(0, 0, 0, 0.15);\n",
              "      filter: drop-shadow(0px 1px 2px rgba(0, 0, 0, 0.3));\n",
              "      fill: #FFFFFF;\n",
              "    }\n",
              "  </style>\n",
              "\n",
              "      <script>\n",
              "        const buttonEl =\n",
              "          document.querySelector('#df-ece7c565-3837-49aa-9a7e-70b2a6edeeab button.colab-df-convert');\n",
              "        buttonEl.style.display =\n",
              "          google.colab.kernel.accessAllowed ? 'block' : 'none';\n",
              "\n",
              "        async function convertToInteractive(key) {\n",
              "          const element = document.querySelector('#df-ece7c565-3837-49aa-9a7e-70b2a6edeeab');\n",
              "          const dataTable =\n",
              "            await google.colab.kernel.invokeFunction('convertToInteractive',\n",
              "                                                     [key], {});\n",
              "          if (!dataTable) return;\n",
              "\n",
              "          const docLinkHtml = 'Like what you see? Visit the ' +\n",
              "            '<a target=\"_blank\" href=https://colab.research.google.com/notebooks/data_table.ipynb>data table notebook</a>'\n",
              "            + ' to learn more about interactive tables.';\n",
              "          element.innerHTML = '';\n",
              "          dataTable['output_type'] = 'display_data';\n",
              "          await google.colab.output.renderOutput(dataTable, element);\n",
              "          const docLink = document.createElement('div');\n",
              "          docLink.innerHTML = docLinkHtml;\n",
              "          element.appendChild(docLink);\n",
              "        }\n",
              "      </script>\n",
              "    </div>\n",
              "  </div>\n",
              "  "
            ]
          },
          "metadata": {},
          "execution_count": 13
        }
      ]
    },
    {
      "cell_type": "markdown",
      "source": [
        "First, let's make sure that our columns are formatted correctly so we can pull data from them:"
      ],
      "metadata": {
        "id": "yXkUpXSYIluH"
      }
    },
    {
      "cell_type": "code",
      "source": [
        "data_copy.columns"
      ],
      "metadata": {
        "colab": {
          "base_uri": "https://localhost:8080/"
        },
        "id": "hb7RFPgSCt6z",
        "outputId": "03bea678-3fe2-4146-a5c9-4baf3a92ef42"
      },
      "execution_count": 51,
      "outputs": [
        {
          "output_type": "execute_result",
          "data": {
            "text/plain": [
              "Index(['image_name', 'comment_number', 'comment', 'char_count', 'word_count',\n",
              "       'sentence_count', 'unique_word_count', 'average_word_length',\n",
              "       'average_sentence_length', 'unique_words_vs_words', 'label'],\n",
              "      dtype='object')"
            ]
          },
          "metadata": {},
          "execution_count": 51
        }
      ]
    },
    {
      "cell_type": "code",
      "source": [
        "data_copy.columns = data_copy.columns.str.replace(' ', '')\n",
        "data_copy.columns"
      ],
      "metadata": {
        "colab": {
          "base_uri": "https://localhost:8080/"
        },
        "id": "JOLrmSQyCvkU",
        "outputId": "02ebeae4-1b4c-4a41-b590-44340e51fa7e"
      },
      "execution_count": 15,
      "outputs": [
        {
          "output_type": "execute_result",
          "data": {
            "text/plain": [
              "Index(['image_name', 'comment_number', 'comment'], dtype='object')"
            ]
          },
          "metadata": {},
          "execution_count": 15
        }
      ]
    },
    {
      "cell_type": "markdown",
      "source": [
        "Let's take a look at the comment_number issue because we should have 5 unique comment_numbers not 6:"
      ],
      "metadata": {
        "id": "ydj9y6qNIt7Y"
      }
    },
    {
      "cell_type": "code",
      "source": [
        "comment_number_unique_vals = data_copy['comment_number'].unique().tolist()\n",
        "print(comment_number_unique_vals)"
      ],
      "metadata": {
        "colab": {
          "base_uri": "https://localhost:8080/"
        },
        "id": "N2eXbC7ICxm8",
        "outputId": "15ffb066-b4ae-46d5-9baf-a9e354c81629"
      },
      "execution_count": 16,
      "outputs": [
        {
          "output_type": "stream",
          "name": "stdout",
          "text": [
            "[' 0', ' 1', ' 2', ' 3', ' 4', ' 4   A dog runs across the grass .']\n"
          ]
        }
      ]
    },
    {
      "cell_type": "markdown",
      "source": [
        "Let's see if this last item in the list above correlates with our missing value in the comment column because it seems to have a number and a sentence combined into one:"
      ],
      "metadata": {
        "id": "4m31hHujIwZN"
      }
    },
    {
      "cell_type": "code",
      "source": [
        "data_copy[data_copy['comment'].isnull()]"
      ],
      "metadata": {
        "colab": {
          "base_uri": "https://localhost:8080/",
          "height": 81
        },
        "id": "zQWJCHE-CzZp",
        "outputId": "2a246202-2d43-4739-f7b4-90271c5d4756"
      },
      "execution_count": 17,
      "outputs": [
        {
          "output_type": "execute_result",
          "data": {
            "text/plain": [
              "           image_name                      comment_number comment\n",
              "19999  2199200615.jpg   4   A dog runs across the grass .     NaN"
            ],
            "text/html": [
              "\n",
              "  <div id=\"df-b2fcd109-10c0-474e-86af-74091ad48150\">\n",
              "    <div class=\"colab-df-container\">\n",
              "      <div>\n",
              "<style scoped>\n",
              "    .dataframe tbody tr th:only-of-type {\n",
              "        vertical-align: middle;\n",
              "    }\n",
              "\n",
              "    .dataframe tbody tr th {\n",
              "        vertical-align: top;\n",
              "    }\n",
              "\n",
              "    .dataframe thead th {\n",
              "        text-align: right;\n",
              "    }\n",
              "</style>\n",
              "<table border=\"1\" class=\"dataframe\">\n",
              "  <thead>\n",
              "    <tr style=\"text-align: right;\">\n",
              "      <th></th>\n",
              "      <th>image_name</th>\n",
              "      <th>comment_number</th>\n",
              "      <th>comment</th>\n",
              "    </tr>\n",
              "  </thead>\n",
              "  <tbody>\n",
              "    <tr>\n",
              "      <th>19999</th>\n",
              "      <td>2199200615.jpg</td>\n",
              "      <td>4   A dog runs across the grass .</td>\n",
              "      <td>NaN</td>\n",
              "    </tr>\n",
              "  </tbody>\n",
              "</table>\n",
              "</div>\n",
              "      <button class=\"colab-df-convert\" onclick=\"convertToInteractive('df-b2fcd109-10c0-474e-86af-74091ad48150')\"\n",
              "              title=\"Convert this dataframe to an interactive table.\"\n",
              "              style=\"display:none;\">\n",
              "        \n",
              "  <svg xmlns=\"http://www.w3.org/2000/svg\" height=\"24px\"viewBox=\"0 0 24 24\"\n",
              "       width=\"24px\">\n",
              "    <path d=\"M0 0h24v24H0V0z\" fill=\"none\"/>\n",
              "    <path d=\"M18.56 5.44l.94 2.06.94-2.06 2.06-.94-2.06-.94-.94-2.06-.94 2.06-2.06.94zm-11 1L8.5 8.5l.94-2.06 2.06-.94-2.06-.94L8.5 2.5l-.94 2.06-2.06.94zm10 10l.94 2.06.94-2.06 2.06-.94-2.06-.94-.94-2.06-.94 2.06-2.06.94z\"/><path d=\"M17.41 7.96l-1.37-1.37c-.4-.4-.92-.59-1.43-.59-.52 0-1.04.2-1.43.59L10.3 9.45l-7.72 7.72c-.78.78-.78 2.05 0 2.83L4 21.41c.39.39.9.59 1.41.59.51 0 1.02-.2 1.41-.59l7.78-7.78 2.81-2.81c.8-.78.8-2.07 0-2.86zM5.41 20L4 18.59l7.72-7.72 1.47 1.35L5.41 20z\"/>\n",
              "  </svg>\n",
              "      </button>\n",
              "      \n",
              "  <style>\n",
              "    .colab-df-container {\n",
              "      display:flex;\n",
              "      flex-wrap:wrap;\n",
              "      gap: 12px;\n",
              "    }\n",
              "\n",
              "    .colab-df-convert {\n",
              "      background-color: #E8F0FE;\n",
              "      border: none;\n",
              "      border-radius: 50%;\n",
              "      cursor: pointer;\n",
              "      display: none;\n",
              "      fill: #1967D2;\n",
              "      height: 32px;\n",
              "      padding: 0 0 0 0;\n",
              "      width: 32px;\n",
              "    }\n",
              "\n",
              "    .colab-df-convert:hover {\n",
              "      background-color: #E2EBFA;\n",
              "      box-shadow: 0px 1px 2px rgba(60, 64, 67, 0.3), 0px 1px 3px 1px rgba(60, 64, 67, 0.15);\n",
              "      fill: #174EA6;\n",
              "    }\n",
              "\n",
              "    [theme=dark] .colab-df-convert {\n",
              "      background-color: #3B4455;\n",
              "      fill: #D2E3FC;\n",
              "    }\n",
              "\n",
              "    [theme=dark] .colab-df-convert:hover {\n",
              "      background-color: #434B5C;\n",
              "      box-shadow: 0px 1px 3px 1px rgba(0, 0, 0, 0.15);\n",
              "      filter: drop-shadow(0px 1px 2px rgba(0, 0, 0, 0.3));\n",
              "      fill: #FFFFFF;\n",
              "    }\n",
              "  </style>\n",
              "\n",
              "      <script>\n",
              "        const buttonEl =\n",
              "          document.querySelector('#df-b2fcd109-10c0-474e-86af-74091ad48150 button.colab-df-convert');\n",
              "        buttonEl.style.display =\n",
              "          google.colab.kernel.accessAllowed ? 'block' : 'none';\n",
              "\n",
              "        async function convertToInteractive(key) {\n",
              "          const element = document.querySelector('#df-b2fcd109-10c0-474e-86af-74091ad48150');\n",
              "          const dataTable =\n",
              "            await google.colab.kernel.invokeFunction('convertToInteractive',\n",
              "                                                     [key], {});\n",
              "          if (!dataTable) return;\n",
              "\n",
              "          const docLinkHtml = 'Like what you see? Visit the ' +\n",
              "            '<a target=\"_blank\" href=https://colab.research.google.com/notebooks/data_table.ipynb>data table notebook</a>'\n",
              "            + ' to learn more about interactive tables.';\n",
              "          element.innerHTML = '';\n",
              "          dataTable['output_type'] = 'display_data';\n",
              "          await google.colab.output.renderOutput(dataTable, element);\n",
              "          const docLink = document.createElement('div');\n",
              "          docLink.innerHTML = docLinkHtml;\n",
              "          element.appendChild(docLink);\n",
              "        }\n",
              "      </script>\n",
              "    </div>\n",
              "  </div>\n",
              "  "
            ]
          },
          "metadata": {},
          "execution_count": 17
        }
      ]
    },
    {
      "cell_type": "code",
      "source": [
        "#Filter location to where the data is missing a value\n",
        "data_copy[data_copy['image_name'] == '2199200615.jpg']\n",
        "#Create a temporary variable to hold that row\n",
        "tmp = data_copy.iloc[19999]\n",
        "\n",
        "#Get the comment number column\n",
        "holder = tmp['comment_number']\n",
        "\n",
        "#Seperate the text from the digit and print\n",
        "result = ''.join([i for i in holder if not i.isdigit()])\n",
        "\n",
        "#Update the temporary variable row\n",
        "tmp['comment'] = result \n",
        "tmp['comment_number'] = '4'\n",
        "\n",
        "#Update our data copy row to reflect change\n",
        "data_copy.iloc[19999] = tmp\n",
        "print(data_copy.iloc[19999])"
      ],
      "metadata": {
        "colab": {
          "base_uri": "https://localhost:8080/"
        },
        "id": "EfiVn7AZC08p",
        "outputId": "6cc96485-42f6-46a1-bc14-9b6bf436eac5"
      },
      "execution_count": 18,
      "outputs": [
        {
          "output_type": "stream",
          "name": "stdout",
          "text": [
            "image_name                           2199200615.jpg\n",
            "comment_number                                    4\n",
            "comment               A dog runs across the grass .\n",
            "Name: 19999, dtype: object\n"
          ]
        }
      ]
    },
    {
      "cell_type": "code",
      "source": [
        "print('Updated Columns with null values:') \n",
        "print(data_copy.isnull().sum())"
      ],
      "metadata": {
        "colab": {
          "base_uri": "https://localhost:8080/"
        },
        "id": "zxf37zQcC3aK",
        "outputId": "2e13237d-e1e8-4e68-c02c-b31288bb3e8a"
      },
      "execution_count": 19,
      "outputs": [
        {
          "output_type": "stream",
          "name": "stdout",
          "text": [
            "Updated Columns with null values:\n",
            "image_name        0\n",
            "comment_number    0\n",
            "comment           0\n",
            "dtype: int64\n"
          ]
        }
      ]
    },
    {
      "cell_type": "code",
      "source": [
        "comment_number_unique_vals = data_copy['comment_number'].unique().tolist()\n",
        "print(comment_number_unique_vals)"
      ],
      "metadata": {
        "colab": {
          "base_uri": "https://localhost:8080/"
        },
        "id": "iaspqLEuC5N0",
        "outputId": "c4d9314a-5abb-4ce6-96d4-0c4cd239f7b9"
      },
      "execution_count": 20,
      "outputs": [
        {
          "output_type": "stream",
          "name": "stdout",
          "text": [
            "[' 0', ' 1', ' 2', ' 3', ' 4', '4']\n"
          ]
        }
      ]
    },
    {
      "cell_type": "code",
      "source": [
        "data_copy['comment_number'] = data_copy['comment_number'].str.lstrip()"
      ],
      "metadata": {
        "id": "_OiQED2uC6vh"
      },
      "execution_count": 21,
      "outputs": []
    },
    {
      "cell_type": "code",
      "source": [
        "comment_number_unique_vals = data_copy['comment_number'].unique().tolist()\n",
        "print(comment_number_unique_vals)"
      ],
      "metadata": {
        "colab": {
          "base_uri": "https://localhost:8080/"
        },
        "id": "Aj_bphf4C8jQ",
        "outputId": "64f08c59-d771-41c8-afd1-466e1db5e23f"
      },
      "execution_count": 22,
      "outputs": [
        {
          "output_type": "stream",
          "name": "stdout",
          "text": [
            "['0', '1', '2', '3', '4']\n"
          ]
        }
      ]
    },
    {
      "cell_type": "markdown",
      "source": [
        "We should also clean our sentences:\n",
        "1. Remove punctuations\n",
        "    - Ex:\n",
        "        - i am happy. -> i am happy\n",
        "2. Lower case all the data\n",
        "    - Ex:\n",
        "        - I AM HAPPY -> i am happy\n",
        "3. Remove emojis\n",
        "    - Ex:\n",
        "        - 🫠 -> ''\n",
        "4. Remove contractions\n",
        "    - Ex:\n",
        "        - I didn't do well -> I did not do well\n",
        "5. Remove extra whitespace\n",
        "    - Ex:\n",
        "        - ' i am happy ' -> 'i am happy'\n",
        "6. Deal with stopwords\n",
        "    - In this case I am going to remove them. Stopwords are words that are automatically omitted from a computer-generated index.\n",
        "    - Ex:\n",
        "        - \"I\", \"a\", \"the\"\n",
        "    - We may want to consider adding our own stopwords we see a lot of to the mix\n",
        "\n"
      ],
      "metadata": {
        "id": "wXpCnou7I2Vg"
      }
    },
    {
      "cell_type": "code",
      "source": [
        "def expand_contractions(comment):\n",
        "    \"\"\"\n",
        "    This function will expand all contractions to get rid of them.\n",
        "\n",
        "    Args:\n",
        "        comment (object): A column in the dataframe that contains all the comments from each image\n",
        "\n",
        "    Returns:\n",
        "       Object: A fixed object that has all the punctuations taken out of the sentence\n",
        "    \"\"\"\n",
        "    comment = contractions.fix(comment)\n",
        "    return comment\n",
        "data_copy['comment'] = data_copy['comment'].apply(expand_contractions)"
      ],
      "metadata": {
        "id": "ABqVKlvwC96x"
      },
      "execution_count": 23,
      "outputs": []
    },
    {
      "cell_type": "code",
      "source": [
        "def remove_punctuations(comment):\n",
        "    \"\"\"\n",
        "    This function will go through all the comment rows and remove all punctuations.\n",
        "    \n",
        "    Args:\n",
        "        comment (object): A column in the dataframe that contains all the comments from each image\n",
        "\n",
        "    Returns:\n",
        "        Object: A fixed object that has all the punctuations taken out of the sentence\n",
        "    \"\"\"\n",
        "    for letter in string.punctuation:\n",
        "        comment = comment.replace(letter, '')\n",
        "    return comment\n",
        "#call function on dataframe to remove punctuations\n",
        "data_copy['comment'] = data_copy['comment'].apply(remove_punctuations)"
      ],
      "metadata": {
        "id": "IoYytJq4DAEl"
      },
      "execution_count": 24,
      "outputs": []
    },
    {
      "cell_type": "code",
      "source": [
        "#convert all letters in the comment column to lowercase\n",
        "data_copy['comment'] = data_copy['comment'].str.lower()"
      ],
      "metadata": {
        "id": "rdrjW6NzDC75"
      },
      "execution_count": 25,
      "outputs": []
    },
    {
      "cell_type": "code",
      "source": [
        "#remove all emojis from the comment column\n",
        "data_copy.astype(str).apply(lambda x: x.str.encode('ascii', 'ignore').str.decode('ascii'))"
      ],
      "metadata": {
        "colab": {
          "base_uri": "https://localhost:8080/",
          "height": 424
        },
        "id": "TRk0krHeDEwn",
        "outputId": "0aeec694-4d14-4b9a-ccac-f80cb0ae81a8"
      },
      "execution_count": 26,
      "outputs": [
        {
          "output_type": "execute_result",
          "data": {
            "text/plain": [
              "            image_name comment_number  \\\n",
              "0       1000092795.jpg              0   \n",
              "1       1000092795.jpg              1   \n",
              "2       1000092795.jpg              2   \n",
              "3       1000092795.jpg              3   \n",
              "4       1000092795.jpg              4   \n",
              "...                ...            ...   \n",
              "158910   998845445.jpg              0   \n",
              "158911   998845445.jpg              1   \n",
              "158912   998845445.jpg              2   \n",
              "158913   998845445.jpg              3   \n",
              "158914   998845445.jpg              4   \n",
              "\n",
              "                                                  comment  \n",
              "0        two young guys with shaggy hair look at their...  \n",
              "1        two young  white males are outside near many ...  \n",
              "2         two men in green shirts are standing in a yard   \n",
              "3             a man in a blue shirt standing in a garden   \n",
              "4                  two friends enjoy time spent together   \n",
              "...                                                   ...  \n",
              "158910   a man in shorts and a hawaiian shirt leans ov...  \n",
              "158911   a young man hanging over the side of a boat  ...  \n",
              "158912   a man is leaning off of the side of a blue an...  \n",
              "158913   a man riding a small boat in a harbor  with f...  \n",
              "158914   a man on a moored blue and white boat with hi...  \n",
              "\n",
              "[158915 rows x 3 columns]"
            ],
            "text/html": [
              "\n",
              "  <div id=\"df-2871dcfe-1403-4ccf-9644-e9cdd1c3d5d9\">\n",
              "    <div class=\"colab-df-container\">\n",
              "      <div>\n",
              "<style scoped>\n",
              "    .dataframe tbody tr th:only-of-type {\n",
              "        vertical-align: middle;\n",
              "    }\n",
              "\n",
              "    .dataframe tbody tr th {\n",
              "        vertical-align: top;\n",
              "    }\n",
              "\n",
              "    .dataframe thead th {\n",
              "        text-align: right;\n",
              "    }\n",
              "</style>\n",
              "<table border=\"1\" class=\"dataframe\">\n",
              "  <thead>\n",
              "    <tr style=\"text-align: right;\">\n",
              "      <th></th>\n",
              "      <th>image_name</th>\n",
              "      <th>comment_number</th>\n",
              "      <th>comment</th>\n",
              "    </tr>\n",
              "  </thead>\n",
              "  <tbody>\n",
              "    <tr>\n",
              "      <th>0</th>\n",
              "      <td>1000092795.jpg</td>\n",
              "      <td>0</td>\n",
              "      <td>two young guys with shaggy hair look at their...</td>\n",
              "    </tr>\n",
              "    <tr>\n",
              "      <th>1</th>\n",
              "      <td>1000092795.jpg</td>\n",
              "      <td>1</td>\n",
              "      <td>two young  white males are outside near many ...</td>\n",
              "    </tr>\n",
              "    <tr>\n",
              "      <th>2</th>\n",
              "      <td>1000092795.jpg</td>\n",
              "      <td>2</td>\n",
              "      <td>two men in green shirts are standing in a yard</td>\n",
              "    </tr>\n",
              "    <tr>\n",
              "      <th>3</th>\n",
              "      <td>1000092795.jpg</td>\n",
              "      <td>3</td>\n",
              "      <td>a man in a blue shirt standing in a garden</td>\n",
              "    </tr>\n",
              "    <tr>\n",
              "      <th>4</th>\n",
              "      <td>1000092795.jpg</td>\n",
              "      <td>4</td>\n",
              "      <td>two friends enjoy time spent together</td>\n",
              "    </tr>\n",
              "    <tr>\n",
              "      <th>...</th>\n",
              "      <td>...</td>\n",
              "      <td>...</td>\n",
              "      <td>...</td>\n",
              "    </tr>\n",
              "    <tr>\n",
              "      <th>158910</th>\n",
              "      <td>998845445.jpg</td>\n",
              "      <td>0</td>\n",
              "      <td>a man in shorts and a hawaiian shirt leans ov...</td>\n",
              "    </tr>\n",
              "    <tr>\n",
              "      <th>158911</th>\n",
              "      <td>998845445.jpg</td>\n",
              "      <td>1</td>\n",
              "      <td>a young man hanging over the side of a boat  ...</td>\n",
              "    </tr>\n",
              "    <tr>\n",
              "      <th>158912</th>\n",
              "      <td>998845445.jpg</td>\n",
              "      <td>2</td>\n",
              "      <td>a man is leaning off of the side of a blue an...</td>\n",
              "    </tr>\n",
              "    <tr>\n",
              "      <th>158913</th>\n",
              "      <td>998845445.jpg</td>\n",
              "      <td>3</td>\n",
              "      <td>a man riding a small boat in a harbor  with f...</td>\n",
              "    </tr>\n",
              "    <tr>\n",
              "      <th>158914</th>\n",
              "      <td>998845445.jpg</td>\n",
              "      <td>4</td>\n",
              "      <td>a man on a moored blue and white boat with hi...</td>\n",
              "    </tr>\n",
              "  </tbody>\n",
              "</table>\n",
              "<p>158915 rows × 3 columns</p>\n",
              "</div>\n",
              "      <button class=\"colab-df-convert\" onclick=\"convertToInteractive('df-2871dcfe-1403-4ccf-9644-e9cdd1c3d5d9')\"\n",
              "              title=\"Convert this dataframe to an interactive table.\"\n",
              "              style=\"display:none;\">\n",
              "        \n",
              "  <svg xmlns=\"http://www.w3.org/2000/svg\" height=\"24px\"viewBox=\"0 0 24 24\"\n",
              "       width=\"24px\">\n",
              "    <path d=\"M0 0h24v24H0V0z\" fill=\"none\"/>\n",
              "    <path d=\"M18.56 5.44l.94 2.06.94-2.06 2.06-.94-2.06-.94-.94-2.06-.94 2.06-2.06.94zm-11 1L8.5 8.5l.94-2.06 2.06-.94-2.06-.94L8.5 2.5l-.94 2.06-2.06.94zm10 10l.94 2.06.94-2.06 2.06-.94-2.06-.94-.94-2.06-.94 2.06-2.06.94z\"/><path d=\"M17.41 7.96l-1.37-1.37c-.4-.4-.92-.59-1.43-.59-.52 0-1.04.2-1.43.59L10.3 9.45l-7.72 7.72c-.78.78-.78 2.05 0 2.83L4 21.41c.39.39.9.59 1.41.59.51 0 1.02-.2 1.41-.59l7.78-7.78 2.81-2.81c.8-.78.8-2.07 0-2.86zM5.41 20L4 18.59l7.72-7.72 1.47 1.35L5.41 20z\"/>\n",
              "  </svg>\n",
              "      </button>\n",
              "      \n",
              "  <style>\n",
              "    .colab-df-container {\n",
              "      display:flex;\n",
              "      flex-wrap:wrap;\n",
              "      gap: 12px;\n",
              "    }\n",
              "\n",
              "    .colab-df-convert {\n",
              "      background-color: #E8F0FE;\n",
              "      border: none;\n",
              "      border-radius: 50%;\n",
              "      cursor: pointer;\n",
              "      display: none;\n",
              "      fill: #1967D2;\n",
              "      height: 32px;\n",
              "      padding: 0 0 0 0;\n",
              "      width: 32px;\n",
              "    }\n",
              "\n",
              "    .colab-df-convert:hover {\n",
              "      background-color: #E2EBFA;\n",
              "      box-shadow: 0px 1px 2px rgba(60, 64, 67, 0.3), 0px 1px 3px 1px rgba(60, 64, 67, 0.15);\n",
              "      fill: #174EA6;\n",
              "    }\n",
              "\n",
              "    [theme=dark] .colab-df-convert {\n",
              "      background-color: #3B4455;\n",
              "      fill: #D2E3FC;\n",
              "    }\n",
              "\n",
              "    [theme=dark] .colab-df-convert:hover {\n",
              "      background-color: #434B5C;\n",
              "      box-shadow: 0px 1px 3px 1px rgba(0, 0, 0, 0.15);\n",
              "      filter: drop-shadow(0px 1px 2px rgba(0, 0, 0, 0.3));\n",
              "      fill: #FFFFFF;\n",
              "    }\n",
              "  </style>\n",
              "\n",
              "      <script>\n",
              "        const buttonEl =\n",
              "          document.querySelector('#df-2871dcfe-1403-4ccf-9644-e9cdd1c3d5d9 button.colab-df-convert');\n",
              "        buttonEl.style.display =\n",
              "          google.colab.kernel.accessAllowed ? 'block' : 'none';\n",
              "\n",
              "        async function convertToInteractive(key) {\n",
              "          const element = document.querySelector('#df-2871dcfe-1403-4ccf-9644-e9cdd1c3d5d9');\n",
              "          const dataTable =\n",
              "            await google.colab.kernel.invokeFunction('convertToInteractive',\n",
              "                                                     [key], {});\n",
              "          if (!dataTable) return;\n",
              "\n",
              "          const docLinkHtml = 'Like what you see? Visit the ' +\n",
              "            '<a target=\"_blank\" href=https://colab.research.google.com/notebooks/data_table.ipynb>data table notebook</a>'\n",
              "            + ' to learn more about interactive tables.';\n",
              "          element.innerHTML = '';\n",
              "          dataTable['output_type'] = 'display_data';\n",
              "          await google.colab.output.renderOutput(dataTable, element);\n",
              "          const docLink = document.createElement('div');\n",
              "          docLink.innerHTML = docLinkHtml;\n",
              "          element.appendChild(docLink);\n",
              "        }\n",
              "      </script>\n",
              "    </div>\n",
              "  </div>\n",
              "  "
            ]
          },
          "metadata": {},
          "execution_count": 26
        }
      ]
    },
    {
      "cell_type": "code",
      "source": [
        "#get rid of all whitespace in the comment column\n",
        "data_copy['comment'] = data_copy['comment'].str.strip()"
      ],
      "metadata": {
        "id": "UP2eAsnjDGKB"
      },
      "execution_count": 27,
      "outputs": []
    },
    {
      "cell_type": "markdown",
      "source": [
        "Now let's find out what the most common words are from each sentence:"
      ],
      "metadata": {
        "id": "aiPuxYIvI66O"
      }
    },
    {
      "cell_type": "code",
      "source": [
        "Counter(\" \".join(data_copy[\"comment\"]).split()).most_common(100)"
      ],
      "metadata": {
        "colab": {
          "base_uri": "https://localhost:8080/"
        },
        "id": "6b08jh6SDI5Y",
        "outputId": "c00b52f9-cbcd-488a-9b25-fcbd4069390d"
      },
      "execution_count": 28,
      "outputs": [
        {
          "output_type": "execute_result",
          "data": {
            "text/plain": [
              "[('a', 271705),\n",
              " ('in', 83466),\n",
              " ('the', 62982),\n",
              " ('on', 45669),\n",
              " ('and', 44263),\n",
              " ('man', 42598),\n",
              " ('is', 41146),\n",
              " ('of', 38779),\n",
              " ('with', 36207),\n",
              " ('woman', 22211),\n",
              " ('two', 21642),\n",
              " ('are', 20211),\n",
              " ('to', 17609),\n",
              " ('people', 17337),\n",
              " ('at', 16259),\n",
              " ('an', 15883),\n",
              " ('wearing', 15709),\n",
              " ('young', 13218),\n",
              " ('white', 13178),\n",
              " ('shirt', 12981),\n",
              " ('black', 12311),\n",
              " ('while', 11711),\n",
              " ('his', 11495),\n",
              " ('blue', 11310),\n",
              " ('red', 9916),\n",
              " ('girl', 9655),\n",
              " ('sitting', 9620),\n",
              " ('men', 9498),\n",
              " ('boy', 9429),\n",
              " ('standing', 9113),\n",
              " ('dog', 9090),\n",
              " ('playing', 8620),\n",
              " ('street', 7998),\n",
              " ('group', 7852),\n",
              " ('down', 7678),\n",
              " ('front', 7604),\n",
              " ('her', 7414),\n",
              " ('walking', 7339),\n",
              " ('holding', 6985),\n",
              " ('one', 6484),\n",
              " ('water', 5957),\n",
              " ('by', 5771),\n",
              " ('three', 5770),\n",
              " ('women', 5275),\n",
              " ('green', 5221),\n",
              " ('up', 5114),\n",
              " ('child', 5078),\n",
              " ('looking', 5067),\n",
              " ('as', 5028),\n",
              " ('for', 4899),\n",
              " ('little', 4794),\n",
              " ('large', 4753),\n",
              " ('outside', 4702),\n",
              " ('yellow', 4557),\n",
              " ('person', 4479),\n",
              " ('children', 4454),\n",
              " ('brown', 4446),\n",
              " ('through', 4297),\n",
              " ('from', 4041),\n",
              " ('their', 4037),\n",
              " ('hat', 4037),\n",
              " ('other', 3986),\n",
              " ('ball', 3892),\n",
              " ('small', 3779),\n",
              " ('next', 3752),\n",
              " ('into', 3731),\n",
              " ('over', 3684),\n",
              " ('some', 3547),\n",
              " ('dressed', 3462),\n",
              " ('out', 3432),\n",
              " ('another', 3372),\n",
              " ('running', 3369),\n",
              " ('building', 3360),\n",
              " ('jacket', 3348),\n",
              " ('riding', 3313),\n",
              " ('around', 3134),\n",
              " ('orange', 3086),\n",
              " ('near', 3016),\n",
              " ('field', 2981),\n",
              " ('crowd', 2963),\n",
              " ('stands', 2935),\n",
              " ('beach', 2904),\n",
              " ('background', 2882),\n",
              " ('pink', 2862),\n",
              " ('behind', 2832),\n",
              " ('sidewalk', 2812),\n",
              " ('jumping', 2735),\n",
              " ('table', 2682),\n",
              " ('girls', 2679),\n",
              " ('sits', 2612),\n",
              " ('grass', 2598),\n",
              " ('snow', 2534),\n",
              " ('bike', 2533),\n",
              " ('that', 2498),\n",
              " ('looks', 2465),\n",
              " ('top', 2415),\n",
              " ('camera', 2411),\n",
              " ('air', 2378),\n",
              " ('asian', 2373),\n",
              " ('dogs', 2354)]"
            ]
          },
          "metadata": {},
          "execution_count": 28
        }
      ]
    },
    {
      "cell_type": "code",
      "source": [
        "stop = stopwords.words('english') #assign all stopwords to variable stop\n",
        "data_copy['comment'] = data_copy['comment'].apply(lambda x: ' '.join([word for word in x.split() if word not in (stop)])) #remove stopwords"
      ],
      "metadata": {
        "id": "S5FxMo3jDKnU"
      },
      "execution_count": 30,
      "outputs": []
    },
    {
      "cell_type": "markdown",
      "source": [
        "With stopwords removed, here are the most common words:"
      ],
      "metadata": {
        "id": "3S_9O9aBI_1i"
      }
    },
    {
      "cell_type": "code",
      "source": [
        "Counter(\" \".join(data_copy[\"comment\"]).split()).most_common(100)"
      ],
      "metadata": {
        "colab": {
          "base_uri": "https://localhost:8080/"
        },
        "id": "qhVfT3fxDNdx",
        "outputId": "ac08d25d-4a7c-4c55-d5d9-641885486c50"
      },
      "execution_count": 31,
      "outputs": [
        {
          "output_type": "execute_result",
          "data": {
            "text/plain": [
              "[('man', 42598),\n",
              " ('woman', 22211),\n",
              " ('two', 21642),\n",
              " ('people', 17337),\n",
              " ('wearing', 15709),\n",
              " ('young', 13218),\n",
              " ('white', 13178),\n",
              " ('shirt', 12981),\n",
              " ('black', 12311),\n",
              " ('blue', 11310),\n",
              " ('red', 9916),\n",
              " ('girl', 9655),\n",
              " ('sitting', 9620),\n",
              " ('men', 9498),\n",
              " ('boy', 9429),\n",
              " ('standing', 9113),\n",
              " ('dog', 9090),\n",
              " ('playing', 8620),\n",
              " ('street', 7998),\n",
              " ('group', 7852),\n",
              " ('front', 7604),\n",
              " ('walking', 7339),\n",
              " ('holding', 6985),\n",
              " ('one', 6484),\n",
              " ('water', 5957),\n",
              " ('three', 5770),\n",
              " ('women', 5275),\n",
              " ('green', 5221),\n",
              " ('child', 5078),\n",
              " ('looking', 5067),\n",
              " ('little', 4794),\n",
              " ('large', 4753),\n",
              " ('outside', 4702),\n",
              " ('yellow', 4557),\n",
              " ('person', 4479),\n",
              " ('children', 4454),\n",
              " ('brown', 4446),\n",
              " ('hat', 4037),\n",
              " ('ball', 3892),\n",
              " ('small', 3779),\n",
              " ('next', 3752),\n",
              " ('dressed', 3462),\n",
              " ('another', 3372),\n",
              " ('running', 3369),\n",
              " ('building', 3360),\n",
              " ('jacket', 3348),\n",
              " ('riding', 3313),\n",
              " ('around', 3134),\n",
              " ('orange', 3086),\n",
              " ('near', 3016),\n",
              " ('field', 2981),\n",
              " ('crowd', 2963),\n",
              " ('stands', 2935),\n",
              " ('beach', 2904),\n",
              " ('background', 2882),\n",
              " ('pink', 2862),\n",
              " ('behind', 2832),\n",
              " ('sidewalk', 2812),\n",
              " ('jumping', 2735),\n",
              " ('table', 2682),\n",
              " ('girls', 2679),\n",
              " ('sits', 2612),\n",
              " ('grass', 2598),\n",
              " ('snow', 2534),\n",
              " ('bike', 2533),\n",
              " ('looks', 2465),\n",
              " ('top', 2415),\n",
              " ('camera', 2411),\n",
              " ('air', 2378),\n",
              " ('asian', 2373),\n",
              " ('dogs', 2354),\n",
              " ('stand', 2336),\n",
              " ('city', 2325),\n",
              " ('wall', 2324),\n",
              " ('player', 2271),\n",
              " ('older', 2269),\n",
              " ('hair', 2221),\n",
              " ('four', 2211),\n",
              " ('working', 2175),\n",
              " ('soccer', 2152),\n",
              " ('dress', 2130),\n",
              " ('something', 2125),\n",
              " ('several', 2105),\n",
              " ('gray', 2086),\n",
              " ('talking', 2072),\n",
              " ('shorts', 2066),\n",
              " ('lady', 2045),\n",
              " ('park', 2041),\n",
              " ('guitar', 1994),\n",
              " ('picture', 1993),\n",
              " ('walks', 1988),\n",
              " ('pants', 1986),\n",
              " ('boys', 1975),\n",
              " ('smiling', 1953),\n",
              " ('hand', 1921),\n",
              " ('jeans', 1918),\n",
              " ('plays', 1907),\n",
              " ('play', 1890),\n",
              " ('along', 1870),\n",
              " ('together', 1783)]"
            ]
          },
          "metadata": {},
          "execution_count": 31
        }
      ]
    },
    {
      "cell_type": "markdown",
      "source": [
        "#### 1.1.2 Creating"
      ],
      "metadata": {
        "id": "i08SFLQmJCsq"
      }
    },
    {
      "cell_type": "markdown",
      "source": [
        "Here we will be using feature engineering:\n",
        "- Count number of characters\n",
        "- Count number of words\n",
        "- Count number of capital characters\n",
        "- Count number of capital words\n",
        "- Count number of punctuations\n",
        "- Count number of words in quotes\n",
        "- Count number of sentences\n",
        "- Count number of unique words\n",
        "- Count special characters\n",
        "- Count stopwords\n",
        "- Calculate average word length\n",
        "- Calculate average sentence length\n",
        "- Unique word count vs word count\n",
        "- Stopword count vs word count"
      ],
      "metadata": {
        "id": "HW7poM_SJD3q"
      }
    },
    {
      "cell_type": "code",
      "source": [
        "def count_chars(comment): \n",
        "    \"\"\"\n",
        "    This function will count the amount of characters in each comment\n",
        "\n",
        "    Args:\n",
        "        comment (object): A column in the dataframe that contains all the comments from each image\n",
        "\n",
        "    Returns:\n",
        "        Object: A fixed object that has all the punctuations taken out of the sentence\n",
        "    \"\"\"\n",
        "    return len(comment)\n",
        "\n",
        "\n",
        "\n",
        "def count_words(comment):\n",
        "    \"\"\"\n",
        "    This function will count the amount of words in each comment\n",
        "\n",
        "    Args:\n",
        "        comment (object): A column in the dataframe that contains all the comments from each image\n",
        "\n",
        "    Returns:\n",
        "        Object: A fixed object that has all the punctuations taken out of the sentence\n",
        "    \"\"\"\n",
        "    return len(comment.split()) #split the string on each space\n",
        "\n",
        "\n",
        "#need this line for some reason\n",
        "nltk.download('punkt')\n",
        "def count_sentences(comment):\n",
        "    \"\"\"\n",
        "    This function will count the amount of sentences in each comment\n",
        "\n",
        "    Args:\n",
        "        comment (object): A column in the dataframe that contains all the comments from each image\n",
        "\n",
        "    Returns:\n",
        "        Object: A fixed object that has all the punctuations taken out of the sentence\n",
        "    \"\"\"\n",
        "    return len(nltk.sent_tokenize(comment))\n",
        "\n",
        "\n",
        "def count_unique_words(comment):\n",
        "    \"\"\"\n",
        "    This function will count the amount of unique words in a comment\n",
        "\n",
        "    Args:\n",
        "        comment (object): A column in the dataframe that contains all the comments from each image\n",
        "\n",
        "    Returns:\n",
        "        Object: A fixed object that has all the punctuations taken out of the sentence\n",
        "    \"\"\"\n",
        "    return len(set(comment.split()))\n",
        "\n",
        "\n",
        "\n",
        "\n",
        "def calc_avg_word_length(num_chars, num_words):\n",
        "    \"\"\"\n",
        "    This function will calculate the average word length per sentence\n",
        "\n",
        "    Args:\n",
        "        num_chars (int): number of chars per word\n",
        "        num_words (int): number of words per sentence\n",
        "\n",
        "    Returns:\n",
        "        Float: the average word length per setence\n",
        "    \"\"\"\n",
        "    return num_chars/num_words\n",
        "\n",
        "\n",
        "def calc_avg_sentence_length(num_words, num_sentences):\n",
        "    \"\"\"\n",
        "    This function will calculate the average sentence length per comment\n",
        "\n",
        "    Args:\n",
        "        num_words (int): number of words per comment\n",
        "        num_sentences (int): number of sentences per comment\n",
        "\n",
        "    Returns:\n",
        "        Float: the average sentence length per comment\n",
        "    \"\"\"\n",
        "    return num_words/num_sentences\n",
        "\n",
        "def count_unique_words_vs_word_count(num_words, num_unique):\n",
        "    \"\"\"\n",
        "    This function will count the number of unique words vs the total words per sentence\n",
        "\n",
        "    Args:\n",
        "        num_words (int): number of words per sentence\n",
        "        num_unique (int): number of unique words per sentence\n",
        "\n",
        "    Returns:\n",
        "        Float: the ratio of unique words to total words\n",
        "    \"\"\"\n",
        "    return num_unique/num_words"
      ],
      "metadata": {
        "colab": {
          "base_uri": "https://localhost:8080/"
        },
        "id": "sS-bQCfbDvr6",
        "outputId": "1da78b09-0158-4aab-c70d-f8d865975f62"
      },
      "execution_count": 32,
      "outputs": [
        {
          "output_type": "stream",
          "name": "stderr",
          "text": [
            "[nltk_data] Downloading package punkt to /root/nltk_data...\n",
            "[nltk_data]   Package punkt is already up-to-date!\n"
          ]
        }
      ]
    },
    {
      "cell_type": "code",
      "source": [
        "data_copy['char_count'] = data_copy['comment'].apply(lambda x : count_chars(x))\n",
        "data_copy['word_count'] = data_copy['comment'].apply(lambda x : count_words(x))\n",
        "data_copy['sentence_count'] = data_copy['comment'].apply(lambda x : count_sentences(x))\n",
        "data_copy['unique_word_count'] = data_copy['comment'].apply(lambda x : count_unique_words(x))\n",
        "data_copy['average_word_length'] = data_copy['char_count']/data_copy['word_count']\n",
        "data_copy['average_sentence_length'] = data_copy['word_count']/data_copy['sentence_count']\n",
        "data_copy['unique_words_vs_words'] = data_copy['unique_word_count']/data_copy['word_count']"
      ],
      "metadata": {
        "id": "Lzo-CfUeDzv3"
      },
      "execution_count": 33,
      "outputs": []
    },
    {
      "cell_type": "code",
      "source": [
        "data_copy.columns"
      ],
      "metadata": {
        "colab": {
          "base_uri": "https://localhost:8080/"
        },
        "id": "VDKdVt4gD1uG",
        "outputId": "84fea9d7-1f04-40f2-9bf0-3fd034b656aa"
      },
      "execution_count": 34,
      "outputs": [
        {
          "output_type": "execute_result",
          "data": {
            "text/plain": [
              "Index(['image_name', 'comment_number', 'comment', 'char_count', 'word_count',\n",
              "       'sentence_count', 'unique_word_count', 'average_word_length',\n",
              "       'average_sentence_length', 'unique_words_vs_words'],\n",
              "      dtype='object')"
            ]
          },
          "metadata": {},
          "execution_count": 34
        }
      ]
    },
    {
      "cell_type": "markdown",
      "source": [
        "## 2.0 EDA"
      ],
      "metadata": {
        "id": "J6TURym9JJpU"
      }
    },
    {
      "cell_type": "markdown",
      "source": [
        "### 2.1.1 Analyzing Character Counts"
      ],
      "metadata": {
        "id": "y9BeGNHRJLBl"
      }
    },
    {
      "cell_type": "code",
      "source": [
        "def plot_hist(x_size, y_size, facecolor, x_axis, edgecolor, bar_color, x_label, y_label, title):\n",
        "    \"\"\"\n",
        "    Args:\n",
        "        x_size (int): x_axis size for figsize\n",
        "        y_size (int): y_axis size for figsize\n",
        "        facecolor (string): Hex value for the facecolor of graph\n",
        "        x_axis (object): Column of the dataframe to graph\n",
        "        edgecolor (string): Hex value for the edge color of histogram bins\n",
        "        bar_color (string): Hex value for the bar color of the histogram\n",
        "        x_label (string): x_axis title\n",
        "        y_label (string): y_axis title\n",
        "        title (string): The title of the graph\n",
        "    \"\"\"\n",
        "    plt.figure(figsize=(x_size, y_size))\n",
        "    plt.rcParams['axes.facecolor'] = facecolor\n",
        "    plt.rcParams['figure.facecolor'] = facecolor\n",
        "    #using Sturge's rule to calculate number of bins\n",
        "    bin_count = int(np.ceil(np.log2(len(data_copy))) + 1)\n",
        "    values, bins, bars = plt.hist(x_axis, bin_count, edgecolor=edgecolor, facecolor=bar_color, alpha=1)\n",
        "    plt.xlabel(x_label)\n",
        "    plt.ylabel(y_label)\n",
        "    plt.title(title)\n",
        "    # plt.bar_label(bars, fontsize=10, color='black')\n",
        "    plt.margins(x=0.01, y=0.1)\n",
        "    plt.grid(False)\n",
        "    print(\"Displaying histogram with \" + str(bin_count) + \" bins.\")"
      ],
      "metadata": {
        "id": "dzgY8yUQJSI8"
      },
      "execution_count": 54,
      "outputs": []
    },
    {
      "cell_type": "code",
      "source": [
        "plot_hist(15,\n",
        "          10,\n",
        "          '#DEEBF7',\n",
        "          data_copy['char_count'],\n",
        "          'white',\n",
        "          '#3182BD',\n",
        "          'Char Count',\n",
        "          'Count',\n",
        "          'Char Count Distribution')"
      ],
      "metadata": {
        "colab": {
          "base_uri": "https://localhost:8080/",
          "height": 639
        },
        "id": "LCSHQOpPJUQ_",
        "outputId": "a7ddbb40-5d60-44d0-fdd0-fb6cc4eff270"
      },
      "execution_count": 55,
      "outputs": [
        {
          "output_type": "stream",
          "name": "stdout",
          "text": [
            "Displaying histogram with 19 bins.\n"
          ]
        },
        {
          "output_type": "display_data",
          "data": {
            "text/plain": [
              "<Figure size 1080x720 with 1 Axes>"
            ],
            "image/png": "[encoded data removed]"
          },
          "metadata": {}
        }
      ]
    },
    {
      "cell_type": "markdown",
      "source": [
        "Based off our historgram distribution we can see that a majority of our data lies in bin 3. We used Sturge's rule to calculate the number of bins, in which we use the formula, $$[log_{2}n + 1]$$. <br><br> This formula uses **n** which is the total number of observations in the dataset and takes the log of that and adds 1. <br><br> Since our data peaks in bin 3 we can say that most of our data will range from roughly 29-44 characters. Adding on, our data is skewed right as we see that there is a little bit of a tail to the right of the graph. This means that the mean is greater than the median."
      ],
      "metadata": {
        "id": "K8wRBCocJjNo"
      }
    },
    {
      "cell_type": "markdown",
      "source": [
        "### 2.1.1 Analyzing Word Counts"
      ],
      "metadata": {
        "id": "aWPZ-2FGJkzL"
      }
    },
    {
      "cell_type": "code",
      "source": [
        "plot_hist(15,\n",
        "          10,\n",
        "          '#DEEBF7',\n",
        "          data_copy['word_count'],\n",
        "          'white',\n",
        "          '#3182BD',\n",
        "          'Word Count',\n",
        "          'Count',\n",
        "          'Word Count Distribution')"
      ],
      "metadata": {
        "colab": {
          "base_uri": "https://localhost:8080/",
          "height": 639
        },
        "id": "MvkGZoYhJnPS",
        "outputId": "80469b59-2877-4142-d058-3bcfe607b79f"
      },
      "execution_count": 56,
      "outputs": [
        {
          "output_type": "stream",
          "name": "stdout",
          "text": [
            "Displaying histogram with 19 bins.\n"
          ]
        },
        {
          "output_type": "display_data",
          "data": {
            "text/plain": [
              "<Figure size 1080x720 with 1 Axes>"
            ],
            "image/png": "[encoded data removed]"
          },
          "metadata": {}
        }
      ]
    },
    {
      "cell_type": "markdown",
      "source": [
        "## 3.0 Model 1 (Baseline)\n",
        "1. Create a temporary dataframe in order to shrink our dataset down because it takes forever to train\n",
        "2. remove .jpg from image name column\n",
        "3. label each image\n",
        "4. split into validation and train datasets (must do this on every run in order to avoid overfitting)\n",
        "5. encode each sentence (give each character a token)\n",
        "6. build and run model\n",
        "\n",
        "How to improve?\n",
        "1. run more epochs\n",
        "2. train on more data\n",
        "3. clean data differently\n",
        "4. add more layers\n",
        "5. change activation function\n",
        "6. change hyperparameters"
      ],
      "metadata": {
        "id": "ysBjWvEbJNYx"
      }
    },
    {
      "cell_type": "markdown",
      "source": [
        "Creating a temporary data frame for our model to run our testing on:"
      ],
      "metadata": {
        "id": "3zsGPQgoJpVZ"
      }
    },
    {
      "cell_type": "code",
      "source": [
        "tmp = data_copy"
      ],
      "metadata": {
        "id": "xZwk7ykCD5HL"
      },
      "execution_count": 35,
      "outputs": []
    },
    {
      "cell_type": "code",
      "source": [
        "#Remove '.jpg' from image\n",
        "tmp['image_name'] = tmp['image_name'].str.replace('.jpg', '')\n",
        "tmp['image_name'].astype(str)"
      ],
      "metadata": {
        "colab": {
          "base_uri": "https://localhost:8080/"
        },
        "id": "i1b4p6bCEFg5",
        "outputId": "22e77635-afc1-4ac9-fd53-a2fb26cc987c"
      },
      "execution_count": 57,
      "outputs": [
        {
          "output_type": "stream",
          "name": "stderr",
          "text": [
            "<ipython-input-57-8a8f9df5ab3e>:2: FutureWarning: The default value of regex will change from True to False in a future version.\n",
            "  tmp['image_name'] = tmp['image_name'].str.replace('.jpg', '')\n"
          ]
        },
        {
          "output_type": "execute_result",
          "data": {
            "text/plain": [
              "0         1000092795\n",
              "1         1000092795\n",
              "2         1000092795\n",
              "3         1000092795\n",
              "4         1000092795\n",
              "             ...    \n",
              "158910     998845445\n",
              "158911     998845445\n",
              "158912     998845445\n",
              "158913     998845445\n",
              "158914     998845445\n",
              "Name: image_name, Length: 158915, dtype: object"
            ]
          },
          "metadata": {},
          "execution_count": 57
        }
      ]
    },
    {
      "cell_type": "code",
      "source": [
        "#temporary df until final model is built\n",
        "temp33 = tmp\n",
        "dic = dict()\n",
        "label_list = list()\n",
        "#create new column label to label each picture to a numeric digit representing a class\n",
        "temp33['label'] = np.nan\n",
        "\n",
        "\n",
        "def classify_images(df):\n",
        "  '''\n",
        "    A function to turn the images to a label classifying them\n",
        "\n",
        "    Args: \n",
        "        df: a dataframe\n",
        "    \n",
        "'''\n",
        "    #temporary counting variable\n",
        "    temp_counter = 0\n",
        "    #loop through each image in the image_name column\n",
        "    for value in df['image_name']:\n",
        "        #assign the counter as the value while the image_name is the key\n",
        "        if value not in dic:\n",
        "            dic[value] = temp_counter\n",
        "            temp_counter+=1\n",
        "    #put the image_name column values in a list\n",
        "    images = temp33['image_name'].tolist()\n",
        "    #loop through the image list and append the correct counter\n",
        "    for image in images:\n",
        "        label_list.append(dic[image])\n",
        "    #update label column to the correct value\n",
        "    temp33['label'] = label_list\n",
        "\n",
        "classify_images(temp33)\n",
        "\n",
        "#make sure output is correct\n",
        "temp33.tail()"
      ],
      "metadata": {
        "colab": {
          "base_uri": "https://localhost:8080/",
          "height": 652
        },
        "id": "firtsHWsEHgq",
        "outputId": "3d69bfc2-8d0a-43d5-ce71-8dd98fb1768e"
      },
      "execution_count": 37,
      "outputs": [
        {
          "output_type": "execute_result",
          "data": {
            "text/plain": [
              "       image_name comment_number  \\\n",
              "158910  998845445              0   \n",
              "158911  998845445              1   \n",
              "158912  998845445              2   \n",
              "158913  998845445              3   \n",
              "158914  998845445              4   \n",
              "\n",
              "                                                  comment  char_count  \\\n",
              "158910  man shorts hawaiian shirt leans rail pilot boa...          72   \n",
              "158911  young man hanging side boat like fog rolling h...          56   \n",
              "158912   man leaning side blue white boat sits body water          48   \n",
              "158913  man riding small boat harbor fog mountains bac...          53   \n",
              "158914   man moored blue white boat hills mist background          48   \n",
              "\n",
              "        word_count  sentence_count  unique_word_count  average_word_length  \\\n",
              "158910          11               1                 11             6.545455   \n",
              "158911          10               1                 10             5.600000   \n",
              "158912           9               1                  9             5.333333   \n",
              "158913           8               1                  8             6.625000   \n",
              "158914           8               1                  8             6.000000   \n",
              "\n",
              "        average_sentence_length  unique_words_vs_words  label  \n",
              "158910                     11.0                    1.0  31782  \n",
              "158911                     10.0                    1.0  31782  \n",
              "158912                      9.0                    1.0  31782  \n",
              "158913                      8.0                    1.0  31782  \n",
              "158914                      8.0                    1.0  31782  "
            ],
            "text/html": [
              "\n",
              "  <div id=\"df-4a89ab87-d100-4f0f-8303-374449ff447b\">\n",
              "    <div class=\"colab-df-container\">\n",
              "      <div>\n",
              "<style scoped>\n",
              "    .dataframe tbody tr th:only-of-type {\n",
              "        vertical-align: middle;\n",
              "    }\n",
              "\n",
              "    .dataframe tbody tr th {\n",
              "        vertical-align: top;\n",
              "    }\n",
              "\n",
              "    .dataframe thead th {\n",
              "        text-align: right;\n",
              "    }\n",
              "</style>\n",
              "<table border=\"1\" class=\"dataframe\">\n",
              "  <thead>\n",
              "    <tr style=\"text-align: right;\">\n",
              "      <th></th>\n",
              "      <th>image_name</th>\n",
              "      <th>comment_number</th>\n",
              "      <th>comment</th>\n",
              "      <th>char_count</th>\n",
              "      <th>word_count</th>\n",
              "      <th>sentence_count</th>\n",
              "      <th>unique_word_count</th>\n",
              "      <th>average_word_length</th>\n",
              "      <th>average_sentence_length</th>\n",
              "      <th>unique_words_vs_words</th>\n",
              "      <th>label</th>\n",
              "    </tr>\n",
              "  </thead>\n",
              "  <tbody>\n",
              "    <tr>\n",
              "      <th>158910</th>\n",
              "      <td>998845445</td>\n",
              "      <td>0</td>\n",
              "      <td>man shorts hawaiian shirt leans rail pilot boa...</td>\n",
              "      <td>72</td>\n",
              "      <td>11</td>\n",
              "      <td>1</td>\n",
              "      <td>11</td>\n",
              "      <td>6.545455</td>\n",
              "      <td>11.0</td>\n",
              "      <td>1.0</td>\n",
              "      <td>31782</td>\n",
              "    </tr>\n",
              "    <tr>\n",
              "      <th>158911</th>\n",
              "      <td>998845445</td>\n",
              "      <td>1</td>\n",
              "      <td>young man hanging side boat like fog rolling h...</td>\n",
              "      <td>56</td>\n",
              "      <td>10</td>\n",
              "      <td>1</td>\n",
              "      <td>10</td>\n",
              "      <td>5.600000</td>\n",
              "      <td>10.0</td>\n",
              "      <td>1.0</td>\n",
              "      <td>31782</td>\n",
              "    </tr>\n",
              "    <tr>\n",
              "      <th>158912</th>\n",
              "      <td>998845445</td>\n",
              "      <td>2</td>\n",
              "      <td>man leaning side blue white boat sits body water</td>\n",
              "      <td>48</td>\n",
              "      <td>9</td>\n",
              "      <td>1</td>\n",
              "      <td>9</td>\n",
              "      <td>5.333333</td>\n",
              "      <td>9.0</td>\n",
              "      <td>1.0</td>\n",
              "      <td>31782</td>\n",
              "    </tr>\n",
              "    <tr>\n",
              "      <th>158913</th>\n",
              "      <td>998845445</td>\n",
              "      <td>3</td>\n",
              "      <td>man riding small boat harbor fog mountains bac...</td>\n",
              "      <td>53</td>\n",
              "      <td>8</td>\n",
              "      <td>1</td>\n",
              "      <td>8</td>\n",
              "      <td>6.625000</td>\n",
              "      <td>8.0</td>\n",
              "      <td>1.0</td>\n",
              "      <td>31782</td>\n",
              "    </tr>\n",
              "    <tr>\n",
              "      <th>158914</th>\n",
              "      <td>998845445</td>\n",
              "      <td>4</td>\n",
              "      <td>man moored blue white boat hills mist background</td>\n",
              "      <td>48</td>\n",
              "      <td>8</td>\n",
              "      <td>1</td>\n",
              "      <td>8</td>\n",
              "      <td>6.000000</td>\n",
              "      <td>8.0</td>\n",
              "      <td>1.0</td>\n",
              "      <td>31782</td>\n",
              "    </tr>\n",
              "  </tbody>\n",
              "</table>\n",
              "</div>\n",
              "      <button class=\"colab-df-convert\" onclick=\"convertToInteractive('df-4a89ab87-d100-4f0f-8303-374449ff447b')\"\n",
              "              title=\"Convert this dataframe to an interactive table.\"\n",
              "              style=\"display:none;\">\n",
              "        \n",
              "  <svg xmlns=\"http://www.w3.org/2000/svg\" height=\"24px\"viewBox=\"0 0 24 24\"\n",
              "       width=\"24px\">\n",
              "    <path d=\"M0 0h24v24H0V0z\" fill=\"none\"/>\n",
              "    <path d=\"M18.56 5.44l.94 2.06.94-2.06 2.06-.94-2.06-.94-.94-2.06-.94 2.06-2.06.94zm-11 1L8.5 8.5l.94-2.06 2.06-.94-2.06-.94L8.5 2.5l-.94 2.06-2.06.94zm10 10l.94 2.06.94-2.06 2.06-.94-2.06-.94-.94-2.06-.94 2.06-2.06.94z\"/><path d=\"M17.41 7.96l-1.37-1.37c-.4-.4-.92-.59-1.43-.59-.52 0-1.04.2-1.43.59L10.3 9.45l-7.72 7.72c-.78.78-.78 2.05 0 2.83L4 21.41c.39.39.9.59 1.41.59.51 0 1.02-.2 1.41-.59l7.78-7.78 2.81-2.81c.8-.78.8-2.07 0-2.86zM5.41 20L4 18.59l7.72-7.72 1.47 1.35L5.41 20z\"/>\n",
              "  </svg>\n",
              "      </button>\n",
              "      \n",
              "  <style>\n",
              "    .colab-df-container {\n",
              "      display:flex;\n",
              "      flex-wrap:wrap;\n",
              "      gap: 12px;\n",
              "    }\n",
              "\n",
              "    .colab-df-convert {\n",
              "      background-color: #E8F0FE;\n",
              "      border: none;\n",
              "      border-radius: 50%;\n",
              "      cursor: pointer;\n",
              "      display: none;\n",
              "      fill: #1967D2;\n",
              "      height: 32px;\n",
              "      padding: 0 0 0 0;\n",
              "      width: 32px;\n",
              "    }\n",
              "\n",
              "    .colab-df-convert:hover {\n",
              "      background-color: #E2EBFA;\n",
              "      box-shadow: 0px 1px 2px rgba(60, 64, 67, 0.3), 0px 1px 3px 1px rgba(60, 64, 67, 0.15);\n",
              "      fill: #174EA6;\n",
              "    }\n",
              "\n",
              "    [theme=dark] .colab-df-convert {\n",
              "      background-color: #3B4455;\n",
              "      fill: #D2E3FC;\n",
              "    }\n",
              "\n",
              "    [theme=dark] .colab-df-convert:hover {\n",
              "      background-color: #434B5C;\n",
              "      box-shadow: 0px 1px 3px 1px rgba(0, 0, 0, 0.15);\n",
              "      filter: drop-shadow(0px 1px 2px rgba(0, 0, 0, 0.3));\n",
              "      fill: #FFFFFF;\n",
              "    }\n",
              "  </style>\n",
              "\n",
              "      <script>\n",
              "        const buttonEl =\n",
              "          document.querySelector('#df-4a89ab87-d100-4f0f-8303-374449ff447b button.colab-df-convert');\n",
              "        buttonEl.style.display =\n",
              "          google.colab.kernel.accessAllowed ? 'block' : 'none';\n",
              "\n",
              "        async function convertToInteractive(key) {\n",
              "          const element = document.querySelector('#df-4a89ab87-d100-4f0f-8303-374449ff447b');\n",
              "          const dataTable =\n",
              "            await google.colab.kernel.invokeFunction('convertToInteractive',\n",
              "                                                     [key], {});\n",
              "          if (!dataTable) return;\n",
              "\n",
              "          const docLinkHtml = 'Like what you see? Visit the ' +\n",
              "            '<a target=\"_blank\" href=https://colab.research.google.com/notebooks/data_table.ipynb>data table notebook</a>'\n",
              "            + ' to learn more about interactive tables.';\n",
              "          element.innerHTML = '';\n",
              "          dataTable['output_type'] = 'display_data';\n",
              "          await google.colab.output.renderOutput(dataTable, element);\n",
              "          const docLink = document.createElement('div');\n",
              "          docLink.innerHTML = docLinkHtml;\n",
              "          element.appendChild(docLink);\n",
              "        }\n",
              "      </script>\n",
              "    </div>\n",
              "  </div>\n",
              "  "
            ]
          },
          "metadata": {},
          "execution_count": 37
        }
      ]
    },
    {
      "cell_type": "markdown",
      "source": [
        "Shrink dataset to test our baseline model:"
      ],
      "metadata": {
        "id": "MjVgZ2EoJy-n"
      }
    },
    {
      "cell_type": "code",
      "source": [
        "temp33 = temp33[:500]"
      ],
      "metadata": {
        "id": "vzzZgULfELMT"
      },
      "execution_count": 38,
      "outputs": []
    },
    {
      "cell_type": "code",
      "source": [
        "y = tf.keras.utils.to_categorical(temp33[\"label\"].values, num_classes=100)\n",
        "x_train, x_test, y_train, y_test = train_test_split(temp33['comment'], y, test_size=0.30, random_state=101)"
      ],
      "metadata": {
        "id": "b99GDrriEQr7"
      },
      "execution_count": 40,
      "outputs": []
    },
    {
      "cell_type": "code",
      "source": [
        "#Get the pretrained model from tensorflow\n",
        "preprocessor = hub.KerasLayer(\"https://tfhub.dev/google/universal-sentence-encoder-cmlm/multilingual-preprocess/2\")\n",
        "encoder = hub.KerasLayer(\"https://tfhub.dev/google/universal-sentence-encoder-cmlm/multilingual-base/1\")\n",
        "\n",
        "def get_embeddings(sentences):\n",
        "  '''return BERT-like embeddings of input text\n",
        "  Args:\n",
        "    - sentences: list of strings\n",
        "  Output:\n",
        "    - BERT-like embeddings: tf.Tensor of shape=(len(sentences), 768)\n",
        "  '''\n",
        "  preprocessed_text = preprocessor(sentences)\n",
        "  return encoder(preprocessed_text)['pooled_output']"
      ],
      "metadata": {
        "colab": {
          "base_uri": "https://localhost:8080/"
        },
        "id": "9Ce4XkqUEWKj",
        "outputId": "2b376efc-6cc5-4046-ab6a-5eb7aa6751c4"
      },
      "execution_count": 42,
      "outputs": [
        {
          "output_type": "stream",
          "name": "stderr",
          "text": [
            "WARNING:tensorflow:Please fix your imports. Module tensorflow.python.training.tracking.data_structures has been moved to tensorflow.python.trackable.data_structures. The old module will be deleted in version 2.11.\n"
          ]
        }
      ]
    },
    {
      "cell_type": "code",
      "source": [
        "get_embeddings([\n",
        "    \"Two men in green shirts are standing in a yard .\"]\n",
        ")"
      ],
      "metadata": {
        "colab": {
          "base_uri": "https://localhost:8080/"
        },
        "id": "vea2c8QsEZD3",
        "outputId": "dd9f899c-274e-4c1d-c6d3-4dab02972ad6"
      },
      "execution_count": 43,
      "outputs": [
        {
          "output_type": "execute_result",
          "data": {
            "text/plain": [
              "<tf.Tensor: shape=(1, 768), dtype=float32, numpy=\n",
              "array([[-1.00979418e-01, -2.40859687e-01, -3.70999545e-01,\n",
              "        -3.99186075e-01,  5.18987119e-01,  1.63879320e-01,\n",
              "        -6.19030058e-01, -1.53649926e+00, -3.58318776e-01,\n",
              "        -4.50376779e-01, -5.79445422e-01, -2.37727344e-01,\n",
              "         4.66266721e-02, -2.69735307e-01, -5.10573447e-01,\n",
              "        -1.77771056e+00,  4.96257156e-01,  7.45594725e-02,\n",
              "         8.19619119e-01, -4.14289951e-01,  1.72468454e-01,\n",
              "        -3.21447223e-01, -3.11370455e-02,  5.61242044e-01,\n",
              "        -3.37898523e-01, -2.64109135e+00,  5.65499187e-01,\n",
              "        -3.92092496e-01, -2.10578069e-01, -2.13105276e-01,\n",
              "        -7.36145079e-02, -2.81442165e-01, -4.69811738e-01,\n",
              "        -6.55143619e-01, -4.47638333e-01,  2.10718334e-01,\n",
              "        -9.76391658e-02,  5.24663448e-01,  3.80600780e-01,\n",
              "         1.03424285e-02, -1.38647303e-01, -4.79550987e-01,\n",
              "        -3.63018483e-01,  2.93420583e-01, -4.72150505e-01,\n",
              "         1.56606928e-01,  3.67023349e-01,  4.11950350e-02,\n",
              "        -2.20577642e-01, -1.92896873e-01, -1.84998333e-01,\n",
              "         6.39777720e-01,  2.77834475e-01,  2.56403983e-01,\n",
              "        -4.39569443e-01,  2.55274266e-01, -4.17042762e-01,\n",
              "        -5.18257797e-01, -1.85009584e-01, -8.39485005e-02,\n",
              "        -6.37948573e-01,  1.16513329e-04, -1.51229203e-01,\n",
              "        -6.76430345e-01, -5.63753247e-01, -2.27236167e-01,\n",
              "        -3.17200512e-01, -6.02381051e-01, -7.09968805e-01,\n",
              "        -4.36205119e-01, -7.13788450e-01, -8.91352713e-01,\n",
              "        -2.78391708e-02,  9.29748863e-02, -2.46065527e-01,\n",
              "        -9.02261734e-02,  8.91565382e-02, -3.12204480e-01,\n",
              "         1.44868037e-02, -2.52856892e-02,  3.67388666e-01,\n",
              "         5.58304501e+00, -4.25387591e-01, -9.21029150e-01,\n",
              "         4.63410795e-01,  5.16663827e-02, -3.62830281e-01,\n",
              "        -1.84242949e-01,  3.04720938e-01, -4.88562770e-02,\n",
              "         5.91073394e-01, -3.26739043e-01, -9.47442472e-01,\n",
              "        -1.25948101e-01,  9.22625959e-01, -4.31239128e-01,\n",
              "         2.16177687e-01,  8.87094531e-03,  2.45200783e-01,\n",
              "        -8.18958580e-01, -7.56625235e-01, -3.48811626e-01,\n",
              "        -2.55920768e-01, -2.02975512e-01, -2.23806471e-01,\n",
              "        -3.46689016e-01, -1.01604357e-01, -9.32061225e-02,\n",
              "         6.51197135e-01,  1.02014899e-01,  2.21357137e-01,\n",
              "         2.51661986e-01, -2.62765825e-01,  8.21811736e-01,\n",
              "         3.78304213e-01, -5.94034381e-02,  4.54742372e-01,\n",
              "        -1.87686071e-01, -1.51741669e-01, -1.61696196e-01,\n",
              "        -6.78730249e-01, -2.79387176e-01,  3.17508340e-01,\n",
              "        -1.95539498e+00, -7.36126840e-01,  3.12528014e-01,\n",
              "        -6.94119573e-01,  2.55316734e-01, -5.06431520e-01,\n",
              "        -5.89502394e-01, -3.71932447e-01,  6.80404305e-02,\n",
              "        -4.76434916e-01,  9.52198450e-03, -1.19003594e+00,\n",
              "        -6.00563586e-01, -3.77936624e-02, -3.12077731e-01,\n",
              "         1.37596540e-02, -8.16590488e-02,  4.93905395e-02,\n",
              "         5.88716641e-02, -1.76041782e-01,  3.41379017e-01,\n",
              "         2.94411182e-01, -4.84403312e-01, -3.60245436e-01,\n",
              "        -1.83353201e-01,  2.17668086e-01, -6.36069655e-01,\n",
              "        -4.25344706e-02,  2.73668706e-01,  3.45091552e-01,\n",
              "        -6.19479239e-01, -1.20828338e-01, -1.18783653e+00,\n",
              "        -4.99720387e-02,  4.32946384e-01, -9.05763328e-01,\n",
              "        -2.27512673e-01, -3.08265954e-01,  1.82510227e-01,\n",
              "        -6.85739815e-01, -2.81973481e-01, -3.90117913e-01,\n",
              "        -2.81024635e-01,  8.07856694e-02,  3.42826575e-01,\n",
              "        -1.93705112e-01, -8.24224830e-01, -3.69970113e-01,\n",
              "        -4.03495312e-01,  4.03822586e-02, -1.14440173e-01,\n",
              "         2.35975057e-01,  3.10867950e-02, -2.67190158e-01,\n",
              "        -6.08725667e-01, -5.40745378e-01,  1.42777503e-01,\n",
              "        -5.49696267e-01,  1.66471267e+00, -6.44748658e-02,\n",
              "         4.79588151e-01,  2.44412988e-01, -3.77401292e-01,\n",
              "         1.40615273e-02,  2.38602906e-01,  4.39426526e-02,\n",
              "        -2.88196087e-01, -1.99483171e-01, -6.22024179e-01,\n",
              "        -7.07754076e-01,  3.91742766e-01, -6.18097663e-01,\n",
              "         5.08179724e-01, -3.23680103e-01, -7.92661905e-01,\n",
              "         6.45514369e-01,  5.15662611e-01, -4.11748476e-02,\n",
              "        -5.38117468e-01,  5.06503642e-01, -9.01914597e-01,\n",
              "         4.67506275e-02,  4.21420097e-01, -8.41113403e-02,\n",
              "        -6.49670362e-01, -1.35187089e-01,  3.32170635e-01,\n",
              "        -4.59826976e-01,  5.74442185e-02, -1.66343316e-01,\n",
              "        -3.26611698e-01, -3.62083912e-01, -5.13323843e-01,\n",
              "        -1.05174327e+00, -2.33713293e+00, -8.04066360e-02,\n",
              "         3.73842299e-01,  1.97626457e-01, -9.26492661e-02,\n",
              "        -4.91138995e-01,  1.82625070e-01, -3.23251277e-01,\n",
              "        -8.70465875e-01, -5.17957985e-01, -2.69777417e-01,\n",
              "         2.15562597e-01,  4.48657691e-01, -8.70963156e-01,\n",
              "        -3.68457176e-02, -3.93048823e-01, -6.74273133e-01,\n",
              "        -2.06649199e-01,  1.23433089e+00,  3.74857455e-01,\n",
              "        -9.20771837e-01, -1.01754034e+00,  2.04705149e-01,\n",
              "         9.77575406e-02,  5.59792638e-01,  7.62123048e-01,\n",
              "        -6.97236478e-01, -8.71170402e-01,  1.54070988e-01,\n",
              "        -1.88878670e-01,  1.70456678e-01, -5.54533124e-01,\n",
              "         5.18038392e-01,  4.75861654e-02, -8.28597486e-01,\n",
              "         3.65688503e-01, -1.57607928e-01,  1.74683467e-01,\n",
              "        -1.29896104e-01, -7.02037513e-01,  2.88066268e-01,\n",
              "         1.42311260e-01,  3.12381350e-02,  2.09664345e-01,\n",
              "         6.46136478e-02,  8.50772202e-01,  5.57389669e-02,\n",
              "        -9.66700852e-01,  1.68131053e-01, -1.22485697e+00,\n",
              "        -3.06657434e-01, -7.46596873e-01, -4.44024116e-01,\n",
              "         1.08998573e+00,  4.49933052e-01,  1.08501148e+00,\n",
              "         1.39305580e+00,  1.95064798e-01, -5.30486286e-01,\n",
              "        -4.48944747e-01, -4.83812332e-01, -3.05178076e-01,\n",
              "        -2.47900724e-01,  7.76986685e-03,  4.80967075e-01,\n",
              "        -9.49528575e-01, -5.66226780e-01, -2.06456050e-01,\n",
              "         1.52596189e-02, -6.08473837e-01, -2.28319660e-01,\n",
              "        -1.82587594e-01,  4.13548470e-01, -1.38280797e+00,\n",
              "        -1.76310122e-01,  3.57669175e-01, -5.81570864e-01,\n",
              "        -2.26470545e-01, -1.50632367e-01, -2.35125441e-02,\n",
              "        -4.79456484e-01, -2.36200467e-01,  1.40115947e-01,\n",
              "        -4.33777198e-02, -4.30266678e-01, -2.56233305e-01,\n",
              "        -3.58831465e-01, -1.77652568e-01, -5.20880163e-01,\n",
              "        -9.17182803e-01,  1.24810383e-01, -7.46773839e-01,\n",
              "        -1.84045866e-01,  6.27579391e-02, -5.99165380e-01,\n",
              "         2.07994834e-01, -7.58390784e-01, -2.64375001e-01,\n",
              "         3.29723917e-02,  1.68392956e-01, -7.44064629e-01,\n",
              "        -4.02982682e-02, -1.39202580e-01, -3.60062629e-01,\n",
              "        -1.28960818e-01,  6.34803414e-01, -4.48751807e-01,\n",
              "        -7.65109181e-01,  4.92221355e-01,  5.91311574e-01,\n",
              "        -5.20578623e-02,  3.61589164e-01, -4.75700736e-01,\n",
              "         7.69758746e-02, -8.38558003e-02,  1.31827569e+00,\n",
              "        -3.07729542e-01, -9.87803936e-02, -3.54604274e-01,\n",
              "         4.56254818e-02,  1.97509795e-01, -5.66180170e-01,\n",
              "        -4.17257309e-01, -8.91190231e-01, -4.31716144e-01,\n",
              "        -7.32782364e-01, -1.16915666e-01,  1.00638819e+00,\n",
              "        -6.51118040e-01, -2.37465322e-01,  9.53068137e-01,\n",
              "         3.87780033e-02,  5.09848177e-01,  1.28042430e-01,\n",
              "        -4.74182397e-01, -4.07804132e-01,  2.78275788e-01,\n",
              "         3.13395202e-01,  3.75154376e-01, -2.50393599e-01,\n",
              "        -5.78905046e-01,  2.57331550e-01, -8.00683022e-01,\n",
              "        -2.25678429e-01,  3.46419841e-01, -7.92011917e-01,\n",
              "        -2.44611233e-01,  3.37692529e-01,  5.45015931e-01,\n",
              "        -4.01412070e-01, -1.52362958e-01, -4.34293747e-01,\n",
              "         6.11160547e-02, -2.37157524e-01,  2.02989683e-01,\n",
              "        -8.64944339e-01, -1.73435837e-01, -2.51210719e-01,\n",
              "        -2.08122581e-01, -1.12468489e-01,  3.92613709e-01,\n",
              "        -4.57969159e-01,  5.25307059e-01,  3.18268150e-01,\n",
              "        -2.86383897e-01,  2.84413487e-01, -2.28893101e-01,\n",
              "         3.65279824e-01,  1.13368474e-01,  1.48458779e-01,\n",
              "        -1.97503090e-01,  3.41845490e-02, -4.37807918e-01,\n",
              "        -5.87339044e-01, -6.40654147e-01, -5.14124930e-01,\n",
              "        -2.61311233e-01, -8.16400051e-02,  1.10346055e+00,\n",
              "        -1.54896915e-01, -5.68028271e-01, -3.21203530e-01,\n",
              "        -2.57463366e-01, -6.14624977e-01,  1.81146473e-01,\n",
              "         5.50437830e-02,  3.16329747e-02,  1.55398473e-01,\n",
              "        -6.18688650e-02, -8.47911894e-01, -2.99500674e-01,\n",
              "         2.14515507e-01,  5.05606383e-02, -5.92964768e-01,\n",
              "        -6.91849589e-01,  6.00345321e-02, -5.20194709e-01,\n",
              "         6.26298785e-01,  1.03024714e-01, -6.28519133e-02,\n",
              "        -2.58022457e-01, -1.35643199e-01, -3.19071978e-01,\n",
              "        -1.21119790e-01,  3.78857732e-01,  3.10096592e-01,\n",
              "        -9.31388855e-01, -3.55924308e-01, -3.02258641e-01,\n",
              "         3.04956973e-01, -4.69234526e-01, -5.01554132e-01,\n",
              "        -1.58208609e-01, -3.79121527e-02,  1.31774411e-01,\n",
              "        -1.30047709e-01, -4.89686280e-01, -1.78412652e+00,\n",
              "         6.14565969e-01, -9.36200082e-01,  2.66077340e-01,\n",
              "        -3.77581447e-01,  4.26423848e-01, -5.63620031e-01,\n",
              "         1.05149186e+00,  2.46698201e-01,  1.32555276e-01,\n",
              "         1.71461850e-01, -6.18580103e-01, -4.39860635e-02,\n",
              "         3.16703498e-01,  8.23446959e-02,  3.76974978e-02,\n",
              "        -5.69294751e-01, -4.21130806e-01,  8.80429596e-02,\n",
              "        -1.71158820e-01, -1.08819938e+00,  6.21943414e-01,\n",
              "         3.42840225e-01,  4.21161443e-01, -1.02343127e-01,\n",
              "         8.47121358e-01, -9.16234672e-01,  7.13925157e-03,\n",
              "        -9.48875546e-01,  3.81031841e-01, -3.31920832e-01,\n",
              "        -6.11615121e-01,  1.44026351e+00, -1.40678391e-01,\n",
              "        -4.11946028e-01, -7.20489383e-01,  6.92503601e-02,\n",
              "        -1.32018590e+00,  7.79459596e-01, -2.71131486e-01,\n",
              "         1.48807335e+00, -2.24849775e-01, -6.87138796e-01,\n",
              "        -6.17544055e-02, -2.91151881e-01,  8.30260217e-02,\n",
              "        -1.08196938e+00,  5.20025156e-02,  4.29158211e-01,\n",
              "        -5.60301244e-01,  2.88811147e-01, -8.20512176e-01,\n",
              "        -2.67667711e-01,  7.28079528e-02,  2.26898491e-01,\n",
              "         1.01850748e+00,  5.93448758e-01, -7.90000632e-02,\n",
              "        -4.61089134e-01,  2.56567597e-01,  3.24872732e-02,\n",
              "        -1.62488550e-01, -3.75654995e-01, -2.59061813e-01,\n",
              "        -2.71756388e-02, -1.50028542e-01, -1.22323759e-01,\n",
              "        -7.64644220e-02, -5.21438599e-01, -3.15592617e-01,\n",
              "        -4.29525405e-01,  1.26027495e-01, -7.60865450e-01,\n",
              "        -7.02945739e-02,  1.23866357e-01, -1.37432098e-01,\n",
              "        -1.31752431e-01, -3.15385498e-02, -1.96648613e-02,\n",
              "        -8.55144918e-01, -5.17281950e-01, -3.63990009e-01,\n",
              "         4.40303907e-02,  7.18739405e-02,  1.28855988e-01,\n",
              "        -6.12406373e-01, -2.13582069e-01, -6.06206119e-01,\n",
              "         3.02893996e-01, -3.18560630e-01, -5.74721456e-01,\n",
              "         7.17261732e-02, -6.32252693e-02, -5.04136980e-01,\n",
              "         1.05752140e-01,  1.14891565e+00,  1.20542325e-01,\n",
              "         6.65719450e-01,  9.10005942e-02, -3.12473595e-01,\n",
              "         4.18242812e-01, -5.49893796e-01,  9.17929947e-01,\n",
              "         3.72725308e-01,  4.10732687e-01,  5.23840450e-02,\n",
              "        -4.45371985e-01,  6.61323130e-01, -2.36119479e-01,\n",
              "        -2.93851018e-01, -4.11005244e-02, -1.18291102e-01,\n",
              "        -5.08833468e-01, -3.61651927e-01,  1.18858922e+00,\n",
              "        -5.74432135e-01, -6.64007187e-01,  6.73771977e-01,\n",
              "         4.35598165e-01, -6.43206298e-01,  9.29301530e-02,\n",
              "        -2.40098104e-01, -8.21535647e-01, -4.77310836e-01,\n",
              "         8.64141524e-01, -1.78705856e-01,  1.58945709e-01,\n",
              "        -5.48303388e-02,  4.54425037e-01,  4.02893901e-01,\n",
              "        -5.20440578e-01, -7.76601255e-01, -7.04981908e-02,\n",
              "         5.50943241e-02,  1.09522395e-01,  4.39858943e-01,\n",
              "         4.60239917e-01, -7.84093022e-01,  4.69792873e-01,\n",
              "        -3.70461464e-01,  1.19161797e+00,  6.25619548e-04,\n",
              "         2.04922542e-01, -5.03783226e-01, -7.51593471e-01,\n",
              "        -3.23671341e-01, -2.95020640e-01, -3.04583579e-01,\n",
              "         7.40916252e-01, -4.09607142e-01,  1.79393232e-01,\n",
              "         8.79836082e-01, -8.52983117e-01, -3.89882088e-01,\n",
              "        -3.53722841e-01,  2.71863222e-01, -9.03356448e-02,\n",
              "         2.16931954e-01,  7.18152896e-02, -4.32299346e-01,\n",
              "        -9.26409423e-01,  2.04464272e-01,  5.96304119e-01,\n",
              "        -1.07964134e+00, -2.08417654e-01, -1.04702272e-01,\n",
              "        -5.00932217e-01, -4.50197726e-01,  1.29177976e+00,\n",
              "         4.44168985e-01, -3.32468301e-01, -1.99093848e-01,\n",
              "         3.36632282e-01, -6.82785571e-01,  2.56246239e-01,\n",
              "        -2.45359585e-01, -2.15361267e-01, -4.64165181e-01,\n",
              "        -8.10176849e-01, -4.84977245e-01, -1.01409346e-01,\n",
              "        -3.27694938e-02,  3.93960774e-01,  1.23747356e-01,\n",
              "         2.65779436e-01, -6.01260245e-01, -2.30264366e-01,\n",
              "        -1.54971346e-01, -8.43128085e-01,  2.24941313e-01,\n",
              "        -2.86418200e-01, -2.28623047e-01, -4.45676446e-01,\n",
              "         6.23766035e-02,  1.03927813e-01,  2.00215215e-03,\n",
              "         2.10489511e-01, -8.60736445e-02,  3.34626645e-01,\n",
              "        -8.42070699e-01, -6.59388751e-02,  2.44146511e-01,\n",
              "        -2.07818419e-01, -2.64598280e-01, -1.69891372e-01,\n",
              "         3.10647458e-01, -9.73997235e-01, -1.77337193e+00,\n",
              "        -5.70072114e-01, -6.33682907e-01,  9.08784866e-02,\n",
              "        -2.07040399e-01,  3.19479316e-01,  1.75202936e-01,\n",
              "         7.55739138e-02, -2.92808384e-01, -6.84518695e-01,\n",
              "        -1.52552202e-01,  1.74764946e-01,  1.15560755e-01,\n",
              "        -3.90285075e-01, -4.86987174e-01, -3.40390712e-01,\n",
              "        -1.55485615e-01, -6.50817752e-01, -6.85481369e-01,\n",
              "        -1.96090471e-02, -1.61034256e-01,  7.65599191e-01,\n",
              "         1.10401377e-01, -3.18790317e-01,  2.88738430e-01,\n",
              "         2.62222230e-01,  2.46888012e-01,  3.17005563e+00,\n",
              "        -6.25448823e-01, -3.08368087e-01, -2.81698376e-01,\n",
              "        -6.87758401e-02, -6.24291539e-01, -7.69073069e-02,\n",
              "        -1.53964505e-01, -1.90902889e-01, -4.74930942e-01,\n",
              "        -6.83088899e-01, -8.14743415e-02, -4.89407480e-01,\n",
              "         7.25416541e-01,  4.50998485e-01,  5.11548221e-01,\n",
              "        -5.17208457e-01,  1.07977286e-01, -1.99322924e-01,\n",
              "        -5.92673838e-01, -2.76920587e-01,  6.33730516e-02,\n",
              "        -4.55797255e-01,  4.50105220e-01, -7.34531522e-01,\n",
              "        -5.48160851e-01, -9.40749705e-01, -4.42931324e-01,\n",
              "         2.28866816e-01,  2.54507720e-01, -1.12092853e-01,\n",
              "        -2.30936423e-01,  1.50033429e-01,  4.18785913e-03,\n",
              "        -1.39957383e-01,  7.11666405e-01, -5.62823296e-01,\n",
              "        -1.38238156e+00, -4.36612338e-01,  9.11358893e-01,\n",
              "        -3.42173576e-01, -3.19875598e-01,  1.50701880e-01,\n",
              "        -3.41302812e-01, -3.04783314e-01, -1.69295579e-01,\n",
              "        -6.28764212e-01, -3.38932306e-01, -3.13253909e-01,\n",
              "         1.05300389e-01,  5.76854944e-01,  3.70365158e-02,\n",
              "        -2.99116880e-01, -3.39145541e-01, -2.99644440e-01,\n",
              "         1.31168038e-01, -1.29329130e-01, -9.87185776e-01,\n",
              "        -1.44555405e-01, -5.60081720e-01, -8.88799950e-02,\n",
              "         1.90827483e-03, -8.83206010e-01, -8.08765292e-01,\n",
              "         1.18825130e-01, -2.29146391e-01,  1.27617761e-01,\n",
              "         7.10800469e-01, -1.92535296e-01, -6.85131103e-02,\n",
              "        -2.15638787e-01,  3.03441554e-01, -2.19393492e-01,\n",
              "         8.88434052e-01, -1.14945853e+00, -3.45622718e-01,\n",
              "        -3.31252694e-01, -2.41274804e-01, -2.18648687e-02,\n",
              "        -7.23520935e-01,  1.12486005e-01, -8.72300342e-02,\n",
              "        -1.26025468e-01, -1.76924020e-01,  3.61005813e-01,\n",
              "        -3.34843934e-01, -1.99679777e-01, -1.84255302e-01,\n",
              "         6.93197370e-01,  9.84826505e-01, -2.13665381e-01,\n",
              "        -9.05852113e-03, -1.60492629e-01, -8.49744201e-01,\n",
              "         2.15805154e-02,  8.86805058e-02,  6.31745979e-02,\n",
              "         7.72950277e-02, -2.75844242e-02,  8.30267370e-03]], dtype=float32)>"
            ]
          },
          "metadata": {},
          "execution_count": 43
        }
      ]
    },
    {
      "cell_type": "code",
      "source": [
        "i = tf.keras.layers.Input(shape=(), dtype=tf.string, name='text')\n",
        "x = preprocessor(i)\n",
        "x = encoder(x)\n",
        "x = tf.keras.layers.Dropout(0.2, name=\"dropout\")(x['pooled_output'])\n",
        "x = tf.keras.layers.Dense(100, activation='softmax', name=\"output\")(x)\n",
        "model = tf.keras.Model(i, x)"
      ],
      "metadata": {
        "colab": {
          "base_uri": "https://localhost:8080/"
        },
        "id": "JOsWG0udGOi0",
        "outputId": "db3dd367-00a0-472c-a65d-76125fce356b"
      },
      "execution_count": 44,
      "outputs": [
        {
          "output_type": "stream",
          "name": "stderr",
          "text": [
            "WARNING:tensorflow:From /usr/local/lib/python3.8/dist-packages/tensorflow/python/autograph/pyct/static_analysis/liveness.py:83: Analyzer.lamba_check (from tensorflow.python.autograph.pyct.static_analysis.liveness) is deprecated and will be removed after 2023-09-23.\n",
            "Instructions for updating:\n",
            "Lambda fuctions will be no more assumed to be used in the statement where they are used, or at least in the same block. https://github.com/tensorflow/tensorflow/issues/56089\n"
          ]
        }
      ]
    },
    {
      "cell_type": "code",
      "source": [
        "n_epochs = 20\n",
        "\n",
        "METRICS = [\n",
        "      tf.keras.metrics.CategoricalAccuracy(name=\"accuracy\"),  \n",
        "]\n",
        "\n",
        "earlystop_callback = tf.keras.callbacks.EarlyStopping(monitor = \"val_loss\", \n",
        "                                                      patience = 3,\n",
        "                                                      restore_best_weights = True)\n",
        "\n",
        "model.compile(optimizer = \"adam\",\n",
        "              loss = \"categorical_crossentropy\",\n",
        "              metrics = METRICS)\n",
        "\n",
        "model_fit = model.fit(x_train, \n",
        "                      y_train, \n",
        "                      epochs = n_epochs,\n",
        "                      validation_data = (x_test, y_test),\n",
        "                      callbacks = [earlystop_callback],\n",
        "                      shuffle=True)"
      ],
      "metadata": {
        "colab": {
          "base_uri": "https://localhost:8080/"
        },
        "id": "omhELDgcGTDo",
        "outputId": "5e716530-856a-4d70-932a-799e914f6630"
      },
      "execution_count": 45,
      "outputs": [
        {
          "output_type": "stream",
          "name": "stdout",
          "text": [
            "Epoch 1/20\n",
            "11/11 [==============================] - 40s 1s/step - loss: 4.8926 - accuracy: 0.0171 - val_loss: 4.7552 - val_accuracy: 0.0267\n",
            "Epoch 2/20\n",
            "11/11 [==============================] - 12s 1s/step - loss: 4.2876 - accuracy: 0.0943 - val_loss: 4.5596 - val_accuracy: 0.0533\n",
            "Epoch 3/20\n",
            "11/11 [==============================] - 7s 600ms/step - loss: 3.9156 - accuracy: 0.2114 - val_loss: 4.3652 - val_accuracy: 0.1133\n",
            "Epoch 4/20\n",
            "11/11 [==============================] - 7s 685ms/step - loss: 3.5728 - accuracy: 0.3486 - val_loss: 4.1433 - val_accuracy: 0.1667\n",
            "Epoch 5/20\n",
            "11/11 [==============================] - 6s 548ms/step - loss: 3.2449 - accuracy: 0.5657 - val_loss: 3.9315 - val_accuracy: 0.2667\n",
            "Epoch 6/20\n",
            "11/11 [==============================] - 7s 696ms/step - loss: 2.9719 - accuracy: 0.6571 - val_loss: 3.7535 - val_accuracy: 0.3333\n",
            "Epoch 7/20\n",
            "11/11 [==============================] - 6s 551ms/step - loss: 2.6508 - accuracy: 0.7857 - val_loss: 3.5644 - val_accuracy: 0.4067\n",
            "Epoch 8/20\n",
            "11/11 [==============================] - 7s 675ms/step - loss: 2.3749 - accuracy: 0.8429 - val_loss: 3.3906 - val_accuracy: 0.4733\n",
            "Epoch 9/20\n",
            "11/11 [==============================] - 7s 662ms/step - loss: 2.1365 - accuracy: 0.8714 - val_loss: 3.2518 - val_accuracy: 0.4533\n",
            "Epoch 10/20\n",
            "11/11 [==============================] - 7s 679ms/step - loss: 1.9146 - accuracy: 0.9229 - val_loss: 3.0801 - val_accuracy: 0.5533\n",
            "Epoch 11/20\n",
            "11/11 [==============================] - 7s 658ms/step - loss: 1.7105 - accuracy: 0.9457 - val_loss: 2.9411 - val_accuracy: 0.5667\n",
            "Epoch 12/20\n",
            "11/11 [==============================] - 7s 679ms/step - loss: 1.5238 - accuracy: 0.9629 - val_loss: 2.8184 - val_accuracy: 0.5867\n",
            "Epoch 13/20\n",
            "11/11 [==============================] - 6s 558ms/step - loss: 1.3727 - accuracy: 0.9657 - val_loss: 2.6943 - val_accuracy: 0.6067\n",
            "Epoch 14/20\n",
            "11/11 [==============================] - 7s 677ms/step - loss: 1.1926 - accuracy: 0.9800 - val_loss: 2.5865 - val_accuracy: 0.6067\n",
            "Epoch 15/20\n",
            "11/11 [==============================] - 7s 686ms/step - loss: 1.1011 - accuracy: 0.9714 - val_loss: 2.4952 - val_accuracy: 0.6000\n",
            "Epoch 16/20\n",
            "11/11 [==============================] - 7s 678ms/step - loss: 0.9775 - accuracy: 0.9857 - val_loss: 2.4201 - val_accuracy: 0.6067\n",
            "Epoch 17/20\n",
            "11/11 [==============================] - 6s 582ms/step - loss: 0.8695 - accuracy: 0.9886 - val_loss: 2.3302 - val_accuracy: 0.6267\n",
            "Epoch 18/20\n",
            "11/11 [==============================] - 7s 686ms/step - loss: 0.8048 - accuracy: 0.9914 - val_loss: 2.2613 - val_accuracy: 0.6333\n",
            "Epoch 19/20\n",
            "11/11 [==============================] - 7s 695ms/step - loss: 0.7154 - accuracy: 0.9857 - val_loss: 2.2115 - val_accuracy: 0.6333\n",
            "Epoch 20/20\n",
            "11/11 [==============================] - 7s 679ms/step - loss: 0.6444 - accuracy: 0.9971 - val_loss: 2.1607 - val_accuracy: 0.6400\n"
          ]
        }
      ]
    },
    {
      "cell_type": "code",
      "source": [
        "x = list(range(1, n_epochs+1))\n",
        "metric_list = list(model_fit.history.keys())\n",
        "num_metrics = int(len(metric_list)/2)\n",
        "\n",
        "fig, ax = plt.subplots(nrows=1, ncols=num_metrics, figsize=(30, 5))\n",
        "\n",
        "for i in range(0, num_metrics):\n",
        "  ax[i].plot(x, model_fit.history[metric_list[i]], marker=\"o\", label=metric_list[i].replace(\"_\", \" \"))\n",
        "  ax[i].plot(x, model_fit.history[metric_list[i+num_metrics]], marker=\"o\", label=metric_list[i+num_metrics].replace(\"_\", \" \"))\n",
        "  ax[i].set_xlabel(\"epochs\",fontsize=14)\n",
        "  ax[i].set_title(metric_list[i].replace(\"_\", \" \"),fontsize=20)\n",
        "  ax[i].legend(loc=\"lower left\")"
      ],
      "metadata": {
        "colab": {
          "base_uri": "https://localhost:8080/",
          "height": 236
        },
        "id": "zfNYXjNOGYqQ",
        "outputId": "02ea7869-7855-405c-e767-91bb897e4675"
      },
      "execution_count": 46,
      "outputs": [
        {
          "output_type": "display_data",
          "data": {
            "text/plain": [
              "<Figure size 2160x360 with 2 Axes>"
            ],
            "image/png": "[encoded data removed]"
          },
          "metadata": {
            "needs_background": "light"
          }
        }
      ]
    },
    {
      "cell_type": "code",
      "source": [
        "temp33.head(30)"
      ],
      "metadata": {
        "colab": {
          "base_uri": "https://localhost:8080/",
          "height": 1000
        },
        "id": "beLtyzCpHGT-",
        "outputId": "4a850085-8a77-4aac-dfbb-0d203002a814"
      },
      "execution_count": 48,
      "outputs": [
        {
          "output_type": "execute_result",
          "data": {
            "text/plain": [
              "    image_name comment_number  \\\n",
              "0   1000092795              0   \n",
              "1   1000092795              1   \n",
              "2   1000092795              2   \n",
              "3   1000092795              3   \n",
              "4   1000092795              4   \n",
              "5     10002456              0   \n",
              "6     10002456              1   \n",
              "7     10002456              2   \n",
              "8     10002456              3   \n",
              "9     10002456              4   \n",
              "10  1000268201              0   \n",
              "11  1000268201              1   \n",
              "12  1000268201              2   \n",
              "13  1000268201              3   \n",
              "14  1000268201              4   \n",
              "15  1000344755              0   \n",
              "16  1000344755              1   \n",
              "17  1000344755              2   \n",
              "18  1000344755              3   \n",
              "19  1000344755              4   \n",
              "20  1000366164              0   \n",
              "21  1000366164              1   \n",
              "22  1000366164              2   \n",
              "23  1000366164              3   \n",
              "24  1000366164              4   \n",
              "25  1000523639              0   \n",
              "26  1000523639              1   \n",
              "27  1000523639              2   \n",
              "28  1000523639              3   \n",
              "29  1000523639              4   \n",
              "\n",
              "                                              comment  char_count  word_count  \\\n",
              "0   two young guys shaggy hair look hands hanging ...          50           9   \n",
              "1      two young white males outside near many bushes          46           8   \n",
              "2                  two men green shirts standing yard          34           6   \n",
              "3                      man blue shirt standing garden          30           5   \n",
              "4               two friends enjoy time spent together          37           6   \n",
              "5   several men hard hats operating giant pulley s...          51           8   \n",
              "6                        workers look piece equipment          28           4   \n",
              "7           two men working machine wearing hard hats          41           7   \n",
              "8                         four men top tall structure          27           5   \n",
              "9                                 three men large rig          19           4   \n",
              "10     child pink dress climbing set stairs entry way          46           8   \n",
              "11          little girl pink dress going wooden cabin          41           7   \n",
              "12              little girl climbing stairs playhouse          37           5   \n",
              "13              little girl climbing wooden playhouse          37           5   \n",
              "14                         girl going wooden building          26           4   \n",
              "15  someone blue shirt hat standing stair leaning ...          52           8   \n",
              "16     man blue shirt standing ladder cleaning window          46           7   \n",
              "17             man ladder cleans window tall building          38           6   \n",
              "18       man blue shirt jeans ladder cleaning windows          44           7   \n",
              "19                           man ladder cleans window          24           4   \n",
              "20  two men one gray shirt one black shirt standin...          58          11   \n",
              "21               two guy cooking joking around camera          36           6   \n",
              "22                 two men kitchen cooking food stove          34           6   \n",
              "23                       two men stove preparing food          28           5   \n",
              "24                               two men cooking meal          20           4   \n",
              "25             two people photo playing guitar poking          38           6   \n",
              "26          man green holds guitar man observes shirt          41           7   \n",
              "27                  man fixing guitar players costume          33           5   \n",
              "28                     guy stitching another man coat          30           5   \n",
              "29                            two boys playing guitar          23           4   \n",
              "\n",
              "    sentence_count  unique_word_count  average_word_length  \\\n",
              "0                1                  9             5.555556   \n",
              "1                1                  8             5.750000   \n",
              "2                1                  6             5.666667   \n",
              "3                1                  5             6.000000   \n",
              "4                1                  6             6.166667   \n",
              "5                1                  8             6.375000   \n",
              "6                1                  4             7.000000   \n",
              "7                1                  7             5.857143   \n",
              "8                1                  5             5.400000   \n",
              "9                1                  4             4.750000   \n",
              "10               1                  8             5.750000   \n",
              "11               1                  7             5.857143   \n",
              "12               1                  5             7.400000   \n",
              "13               1                  5             7.400000   \n",
              "14               1                  4             6.500000   \n",
              "15               1                  8             6.500000   \n",
              "16               1                  7             6.571429   \n",
              "17               1                  6             6.333333   \n",
              "18               1                  7             6.285714   \n",
              "19               1                  4             6.000000   \n",
              "20               1                  9             5.272727   \n",
              "21               1                  6             6.000000   \n",
              "22               1                  6             5.666667   \n",
              "23               1                  5             5.600000   \n",
              "24               1                  4             5.000000   \n",
              "25               1                  6             6.333333   \n",
              "26               1                  6             5.857143   \n",
              "27               1                  5             6.600000   \n",
              "28               1                  5             6.000000   \n",
              "29               1                  4             5.750000   \n",
              "\n",
              "    average_sentence_length  unique_words_vs_words  label  \n",
              "0                       9.0               1.000000      0  \n",
              "1                       8.0               1.000000      0  \n",
              "2                       6.0               1.000000      0  \n",
              "3                       5.0               1.000000      0  \n",
              "4                       6.0               1.000000      0  \n",
              "5                       8.0               1.000000      1  \n",
              "6                       4.0               1.000000      1  \n",
              "7                       7.0               1.000000      1  \n",
              "8                       5.0               1.000000      1  \n",
              "9                       4.0               1.000000      1  \n",
              "10                      8.0               1.000000      2  \n",
              "11                      7.0               1.000000      2  \n",
              "12                      5.0               1.000000      2  \n",
              "13                      5.0               1.000000      2  \n",
              "14                      4.0               1.000000      2  \n",
              "15                      8.0               1.000000      3  \n",
              "16                      7.0               1.000000      3  \n",
              "17                      6.0               1.000000      3  \n",
              "18                      7.0               1.000000      3  \n",
              "19                      4.0               1.000000      3  \n",
              "20                     11.0               0.818182      4  \n",
              "21                      6.0               1.000000      4  \n",
              "22                      6.0               1.000000      4  \n",
              "23                      5.0               1.000000      4  \n",
              "24                      4.0               1.000000      4  \n",
              "25                      6.0               1.000000      5  \n",
              "26                      7.0               0.857143      5  \n",
              "27                      5.0               1.000000      5  \n",
              "28                      5.0               1.000000      5  \n",
              "29                      4.0               1.000000      5  "
            ],
            "text/html": [
              "\n",
              "  <div id=\"df-3cd04180-9043-40e6-a52e-66712135f9bc\">\n",
              "    <div class=\"colab-df-container\">\n",
              "      <div>\n",
              "<style scoped>\n",
              "    .dataframe tbody tr th:only-of-type {\n",
              "        vertical-align: middle;\n",
              "    }\n",
              "\n",
              "    .dataframe tbody tr th {\n",
              "        vertical-align: top;\n",
              "    }\n",
              "\n",
              "    .dataframe thead th {\n",
              "        text-align: right;\n",
              "    }\n",
              "</style>\n",
              "<table border=\"1\" class=\"dataframe\">\n",
              "  <thead>\n",
              "    <tr style=\"text-align: right;\">\n",
              "      <th></th>\n",
              "      <th>image_name</th>\n",
              "      <th>comment_number</th>\n",
              "      <th>comment</th>\n",
              "      <th>char_count</th>\n",
              "      <th>word_count</th>\n",
              "      <th>sentence_count</th>\n",
              "      <th>unique_word_count</th>\n",
              "      <th>average_word_length</th>\n",
              "      <th>average_sentence_length</th>\n",
              "      <th>unique_words_vs_words</th>\n",
              "      <th>label</th>\n",
              "    </tr>\n",
              "  </thead>\n",
              "  <tbody>\n",
              "    <tr>\n",
              "      <th>0</th>\n",
              "      <td>1000092795</td>\n",
              "      <td>0</td>\n",
              "      <td>two young guys shaggy hair look hands hanging ...</td>\n",
              "      <td>50</td>\n",
              "      <td>9</td>\n",
              "      <td>1</td>\n",
              "      <td>9</td>\n",
              "      <td>5.555556</td>\n",
              "      <td>9.0</td>\n",
              "      <td>1.000000</td>\n",
              "      <td>0</td>\n",
              "    </tr>\n",
              "    <tr>\n",
              "      <th>1</th>\n",
              "      <td>1000092795</td>\n",
              "      <td>1</td>\n",
              "      <td>two young white males outside near many bushes</td>\n",
              "      <td>46</td>\n",
              "      <td>8</td>\n",
              "      <td>1</td>\n",
              "      <td>8</td>\n",
              "      <td>5.750000</td>\n",
              "      <td>8.0</td>\n",
              "      <td>1.000000</td>\n",
              "      <td>0</td>\n",
              "    </tr>\n",
              "    <tr>\n",
              "      <th>2</th>\n",
              "      <td>1000092795</td>\n",
              "      <td>2</td>\n",
              "      <td>two men green shirts standing yard</td>\n",
              "      <td>34</td>\n",
              "      <td>6</td>\n",
              "      <td>1</td>\n",
              "      <td>6</td>\n",
              "      <td>5.666667</td>\n",
              "      <td>6.0</td>\n",
              "      <td>1.000000</td>\n",
              "      <td>0</td>\n",
              "    </tr>\n",
              "    <tr>\n",
              "      <th>3</th>\n",
              "      <td>1000092795</td>\n",
              "      <td>3</td>\n",
              "      <td>man blue shirt standing garden</td>\n",
              "      <td>30</td>\n",
              "      <td>5</td>\n",
              "      <td>1</td>\n",
              "      <td>5</td>\n",
              "      <td>6.000000</td>\n",
              "      <td>5.0</td>\n",
              "      <td>1.000000</td>\n",
              "      <td>0</td>\n",
              "    </tr>\n",
              "    <tr>\n",
              "      <th>4</th>\n",
              "      <td>1000092795</td>\n",
              "      <td>4</td>\n",
              "      <td>two friends enjoy time spent together</td>\n",
              "      <td>37</td>\n",
              "      <td>6</td>\n",
              "      <td>1</td>\n",
              "      <td>6</td>\n",
              "      <td>6.166667</td>\n",
              "      <td>6.0</td>\n",
              "      <td>1.000000</td>\n",
              "      <td>0</td>\n",
              "    </tr>\n",
              "    <tr>\n",
              "      <th>5</th>\n",
              "      <td>10002456</td>\n",
              "      <td>0</td>\n",
              "      <td>several men hard hats operating giant pulley s...</td>\n",
              "      <td>51</td>\n",
              "      <td>8</td>\n",
              "      <td>1</td>\n",
              "      <td>8</td>\n",
              "      <td>6.375000</td>\n",
              "      <td>8.0</td>\n",
              "      <td>1.000000</td>\n",
              "      <td>1</td>\n",
              "    </tr>\n",
              "    <tr>\n",
              "      <th>6</th>\n",
              "      <td>10002456</td>\n",
              "      <td>1</td>\n",
              "      <td>workers look piece equipment</td>\n",
              "      <td>28</td>\n",
              "      <td>4</td>\n",
              "      <td>1</td>\n",
              "      <td>4</td>\n",
              "      <td>7.000000</td>\n",
              "      <td>4.0</td>\n",
              "      <td>1.000000</td>\n",
              "      <td>1</td>\n",
              "    </tr>\n",
              "    <tr>\n",
              "      <th>7</th>\n",
              "      <td>10002456</td>\n",
              "      <td>2</td>\n",
              "      <td>two men working machine wearing hard hats</td>\n",
              "      <td>41</td>\n",
              "      <td>7</td>\n",
              "      <td>1</td>\n",
              "      <td>7</td>\n",
              "      <td>5.857143</td>\n",
              "      <td>7.0</td>\n",
              "      <td>1.000000</td>\n",
              "      <td>1</td>\n",
              "    </tr>\n",
              "    <tr>\n",
              "      <th>8</th>\n",
              "      <td>10002456</td>\n",
              "      <td>3</td>\n",
              "      <td>four men top tall structure</td>\n",
              "      <td>27</td>\n",
              "      <td>5</td>\n",
              "      <td>1</td>\n",
              "      <td>5</td>\n",
              "      <td>5.400000</td>\n",
              "      <td>5.0</td>\n",
              "      <td>1.000000</td>\n",
              "      <td>1</td>\n",
              "    </tr>\n",
              "    <tr>\n",
              "      <th>9</th>\n",
              "      <td>10002456</td>\n",
              "      <td>4</td>\n",
              "      <td>three men large rig</td>\n",
              "      <td>19</td>\n",
              "      <td>4</td>\n",
              "      <td>1</td>\n",
              "      <td>4</td>\n",
              "      <td>4.750000</td>\n",
              "      <td>4.0</td>\n",
              "      <td>1.000000</td>\n",
              "      <td>1</td>\n",
              "    </tr>\n",
              "    <tr>\n",
              "      <th>10</th>\n",
              "      <td>1000268201</td>\n",
              "      <td>0</td>\n",
              "      <td>child pink dress climbing set stairs entry way</td>\n",
              "      <td>46</td>\n",
              "      <td>8</td>\n",
              "      <td>1</td>\n",
              "      <td>8</td>\n",
              "      <td>5.750000</td>\n",
              "      <td>8.0</td>\n",
              "      <td>1.000000</td>\n",
              "      <td>2</td>\n",
              "    </tr>\n",
              "    <tr>\n",
              "      <th>11</th>\n",
              "      <td>1000268201</td>\n",
              "      <td>1</td>\n",
              "      <td>little girl pink dress going wooden cabin</td>\n",
              "      <td>41</td>\n",
              "      <td>7</td>\n",
              "      <td>1</td>\n",
              "      <td>7</td>\n",
              "      <td>5.857143</td>\n",
              "      <td>7.0</td>\n",
              "      <td>1.000000</td>\n",
              "      <td>2</td>\n",
              "    </tr>\n",
              "    <tr>\n",
              "      <th>12</th>\n",
              "      <td>1000268201</td>\n",
              "      <td>2</td>\n",
              "      <td>little girl climbing stairs playhouse</td>\n",
              "      <td>37</td>\n",
              "      <td>5</td>\n",
              "      <td>1</td>\n",
              "      <td>5</td>\n",
              "      <td>7.400000</td>\n",
              "      <td>5.0</td>\n",
              "      <td>1.000000</td>\n",
              "      <td>2</td>\n",
              "    </tr>\n",
              "    <tr>\n",
              "      <th>13</th>\n",
              "      <td>1000268201</td>\n",
              "      <td>3</td>\n",
              "      <td>little girl climbing wooden playhouse</td>\n",
              "      <td>37</td>\n",
              "      <td>5</td>\n",
              "      <td>1</td>\n",
              "      <td>5</td>\n",
              "      <td>7.400000</td>\n",
              "      <td>5.0</td>\n",
              "      <td>1.000000</td>\n",
              "      <td>2</td>\n",
              "    </tr>\n",
              "    <tr>\n",
              "      <th>14</th>\n",
              "      <td>1000268201</td>\n",
              "      <td>4</td>\n",
              "      <td>girl going wooden building</td>\n",
              "      <td>26</td>\n",
              "      <td>4</td>\n",
              "      <td>1</td>\n",
              "      <td>4</td>\n",
              "      <td>6.500000</td>\n",
              "      <td>4.0</td>\n",
              "      <td>1.000000</td>\n",
              "      <td>2</td>\n",
              "    </tr>\n",
              "    <tr>\n",
              "      <th>15</th>\n",
              "      <td>1000344755</td>\n",
              "      <td>0</td>\n",
              "      <td>someone blue shirt hat standing stair leaning ...</td>\n",
              "      <td>52</td>\n",
              "      <td>8</td>\n",
              "      <td>1</td>\n",
              "      <td>8</td>\n",
              "      <td>6.500000</td>\n",
              "      <td>8.0</td>\n",
              "      <td>1.000000</td>\n",
              "      <td>3</td>\n",
              "    </tr>\n",
              "    <tr>\n",
              "      <th>16</th>\n",
              "      <td>1000344755</td>\n",
              "      <td>1</td>\n",
              "      <td>man blue shirt standing ladder cleaning window</td>\n",
              "      <td>46</td>\n",
              "      <td>7</td>\n",
              "      <td>1</td>\n",
              "      <td>7</td>\n",
              "      <td>6.571429</td>\n",
              "      <td>7.0</td>\n",
              "      <td>1.000000</td>\n",
              "      <td>3</td>\n",
              "    </tr>\n",
              "    <tr>\n",
              "      <th>17</th>\n",
              "      <td>1000344755</td>\n",
              "      <td>2</td>\n",
              "      <td>man ladder cleans window tall building</td>\n",
              "      <td>38</td>\n",
              "      <td>6</td>\n",
              "      <td>1</td>\n",
              "      <td>6</td>\n",
              "      <td>6.333333</td>\n",
              "      <td>6.0</td>\n",
              "      <td>1.000000</td>\n",
              "      <td>3</td>\n",
              "    </tr>\n",
              "    <tr>\n",
              "      <th>18</th>\n",
              "      <td>1000344755</td>\n",
              "      <td>3</td>\n",
              "      <td>man blue shirt jeans ladder cleaning windows</td>\n",
              "      <td>44</td>\n",
              "      <td>7</td>\n",
              "      <td>1</td>\n",
              "      <td>7</td>\n",
              "      <td>6.285714</td>\n",
              "      <td>7.0</td>\n",
              "      <td>1.000000</td>\n",
              "      <td>3</td>\n",
              "    </tr>\n",
              "    <tr>\n",
              "      <th>19</th>\n",
              "      <td>1000344755</td>\n",
              "      <td>4</td>\n",
              "      <td>man ladder cleans window</td>\n",
              "      <td>24</td>\n",
              "      <td>4</td>\n",
              "      <td>1</td>\n",
              "      <td>4</td>\n",
              "      <td>6.000000</td>\n",
              "      <td>4.0</td>\n",
              "      <td>1.000000</td>\n",
              "      <td>3</td>\n",
              "    </tr>\n",
              "    <tr>\n",
              "      <th>20</th>\n",
              "      <td>1000366164</td>\n",
              "      <td>0</td>\n",
              "      <td>two men one gray shirt one black shirt standin...</td>\n",
              "      <td>58</td>\n",
              "      <td>11</td>\n",
              "      <td>1</td>\n",
              "      <td>9</td>\n",
              "      <td>5.272727</td>\n",
              "      <td>11.0</td>\n",
              "      <td>0.818182</td>\n",
              "      <td>4</td>\n",
              "    </tr>\n",
              "    <tr>\n",
              "      <th>21</th>\n",
              "      <td>1000366164</td>\n",
              "      <td>1</td>\n",
              "      <td>two guy cooking joking around camera</td>\n",
              "      <td>36</td>\n",
              "      <td>6</td>\n",
              "      <td>1</td>\n",
              "      <td>6</td>\n",
              "      <td>6.000000</td>\n",
              "      <td>6.0</td>\n",
              "      <td>1.000000</td>\n",
              "      <td>4</td>\n",
              "    </tr>\n",
              "    <tr>\n",
              "      <th>22</th>\n",
              "      <td>1000366164</td>\n",
              "      <td>2</td>\n",
              "      <td>two men kitchen cooking food stove</td>\n",
              "      <td>34</td>\n",
              "      <td>6</td>\n",
              "      <td>1</td>\n",
              "      <td>6</td>\n",
              "      <td>5.666667</td>\n",
              "      <td>6.0</td>\n",
              "      <td>1.000000</td>\n",
              "      <td>4</td>\n",
              "    </tr>\n",
              "    <tr>\n",
              "      <th>23</th>\n",
              "      <td>1000366164</td>\n",
              "      <td>3</td>\n",
              "      <td>two men stove preparing food</td>\n",
              "      <td>28</td>\n",
              "      <td>5</td>\n",
              "      <td>1</td>\n",
              "      <td>5</td>\n",
              "      <td>5.600000</td>\n",
              "      <td>5.0</td>\n",
              "      <td>1.000000</td>\n",
              "      <td>4</td>\n",
              "    </tr>\n",
              "    <tr>\n",
              "      <th>24</th>\n",
              "      <td>1000366164</td>\n",
              "      <td>4</td>\n",
              "      <td>two men cooking meal</td>\n",
              "      <td>20</td>\n",
              "      <td>4</td>\n",
              "      <td>1</td>\n",
              "      <td>4</td>\n",
              "      <td>5.000000</td>\n",
              "      <td>4.0</td>\n",
              "      <td>1.000000</td>\n",
              "      <td>4</td>\n",
              "    </tr>\n",
              "    <tr>\n",
              "      <th>25</th>\n",
              "      <td>1000523639</td>\n",
              "      <td>0</td>\n",
              "      <td>two people photo playing guitar poking</td>\n",
              "      <td>38</td>\n",
              "      <td>6</td>\n",
              "      <td>1</td>\n",
              "      <td>6</td>\n",
              "      <td>6.333333</td>\n",
              "      <td>6.0</td>\n",
              "      <td>1.000000</td>\n",
              "      <td>5</td>\n",
              "    </tr>\n",
              "    <tr>\n",
              "      <th>26</th>\n",
              "      <td>1000523639</td>\n",
              "      <td>1</td>\n",
              "      <td>man green holds guitar man observes shirt</td>\n",
              "      <td>41</td>\n",
              "      <td>7</td>\n",
              "      <td>1</td>\n",
              "      <td>6</td>\n",
              "      <td>5.857143</td>\n",
              "      <td>7.0</td>\n",
              "      <td>0.857143</td>\n",
              "      <td>5</td>\n",
              "    </tr>\n",
              "    <tr>\n",
              "      <th>27</th>\n",
              "      <td>1000523639</td>\n",
              "      <td>2</td>\n",
              "      <td>man fixing guitar players costume</td>\n",
              "      <td>33</td>\n",
              "      <td>5</td>\n",
              "      <td>1</td>\n",
              "      <td>5</td>\n",
              "      <td>6.600000</td>\n",
              "      <td>5.0</td>\n",
              "      <td>1.000000</td>\n",
              "      <td>5</td>\n",
              "    </tr>\n",
              "    <tr>\n",
              "      <th>28</th>\n",
              "      <td>1000523639</td>\n",
              "      <td>3</td>\n",
              "      <td>guy stitching another man coat</td>\n",
              "      <td>30</td>\n",
              "      <td>5</td>\n",
              "      <td>1</td>\n",
              "      <td>5</td>\n",
              "      <td>6.000000</td>\n",
              "      <td>5.0</td>\n",
              "      <td>1.000000</td>\n",
              "      <td>5</td>\n",
              "    </tr>\n",
              "    <tr>\n",
              "      <th>29</th>\n",
              "      <td>1000523639</td>\n",
              "      <td>4</td>\n",
              "      <td>two boys playing guitar</td>\n",
              "      <td>23</td>\n",
              "      <td>4</td>\n",
              "      <td>1</td>\n",
              "      <td>4</td>\n",
              "      <td>5.750000</td>\n",
              "      <td>4.0</td>\n",
              "      <td>1.000000</td>\n",
              "      <td>5</td>\n",
              "    </tr>\n",
              "  </tbody>\n",
              "</table>\n",
              "</div>\n",
              "      <button class=\"colab-df-convert\" onclick=\"convertToInteractive('df-3cd04180-9043-40e6-a52e-66712135f9bc')\"\n",
              "              title=\"Convert this dataframe to an interactive table.\"\n",
              "              style=\"display:none;\">\n",
              "        \n",
              "  <svg xmlns=\"http://www.w3.org/2000/svg\" height=\"24px\"viewBox=\"0 0 24 24\"\n",
              "       width=\"24px\">\n",
              "    <path d=\"M0 0h24v24H0V0z\" fill=\"none\"/>\n",
              "    <path d=\"M18.56 5.44l.94 2.06.94-2.06 2.06-.94-2.06-.94-.94-2.06-.94 2.06-2.06.94zm-11 1L8.5 8.5l.94-2.06 2.06-.94-2.06-.94L8.5 2.5l-.94 2.06-2.06.94zm10 10l.94 2.06.94-2.06 2.06-.94-2.06-.94-.94-2.06-.94 2.06-2.06.94z\"/><path d=\"M17.41 7.96l-1.37-1.37c-.4-.4-.92-.59-1.43-.59-.52 0-1.04.2-1.43.59L10.3 9.45l-7.72 7.72c-.78.78-.78 2.05 0 2.83L4 21.41c.39.39.9.59 1.41.59.51 0 1.02-.2 1.41-.59l7.78-7.78 2.81-2.81c.8-.78.8-2.07 0-2.86zM5.41 20L4 18.59l7.72-7.72 1.47 1.35L5.41 20z\"/>\n",
              "  </svg>\n",
              "      </button>\n",
              "      \n",
              "  <style>\n",
              "    .colab-df-container {\n",
              "      display:flex;\n",
              "      flex-wrap:wrap;\n",
              "      gap: 12px;\n",
              "    }\n",
              "\n",
              "    .colab-df-convert {\n",
              "      background-color: #E8F0FE;\n",
              "      border: none;\n",
              "      border-radius: 50%;\n",
              "      cursor: pointer;\n",
              "      display: none;\n",
              "      fill: #1967D2;\n",
              "      height: 32px;\n",
              "      padding: 0 0 0 0;\n",
              "      width: 32px;\n",
              "    }\n",
              "\n",
              "    .colab-df-convert:hover {\n",
              "      background-color: #E2EBFA;\n",
              "      box-shadow: 0px 1px 2px rgba(60, 64, 67, 0.3), 0px 1px 3px 1px rgba(60, 64, 67, 0.15);\n",
              "      fill: #174EA6;\n",
              "    }\n",
              "\n",
              "    [theme=dark] .colab-df-convert {\n",
              "      background-color: #3B4455;\n",
              "      fill: #D2E3FC;\n",
              "    }\n",
              "\n",
              "    [theme=dark] .colab-df-convert:hover {\n",
              "      background-color: #434B5C;\n",
              "      box-shadow: 0px 1px 3px 1px rgba(0, 0, 0, 0.15);\n",
              "      filter: drop-shadow(0px 1px 2px rgba(0, 0, 0, 0.3));\n",
              "      fill: #FFFFFF;\n",
              "    }\n",
              "  </style>\n",
              "\n",
              "      <script>\n",
              "        const buttonEl =\n",
              "          document.querySelector('#df-3cd04180-9043-40e6-a52e-66712135f9bc button.colab-df-convert');\n",
              "        buttonEl.style.display =\n",
              "          google.colab.kernel.accessAllowed ? 'block' : 'none';\n",
              "\n",
              "        async function convertToInteractive(key) {\n",
              "          const element = document.querySelector('#df-3cd04180-9043-40e6-a52e-66712135f9bc');\n",
              "          const dataTable =\n",
              "            await google.colab.kernel.invokeFunction('convertToInteractive',\n",
              "                                                     [key], {});\n",
              "          if (!dataTable) return;\n",
              "\n",
              "          const docLinkHtml = 'Like what you see? Visit the ' +\n",
              "            '<a target=\"_blank\" href=https://colab.research.google.com/notebooks/data_table.ipynb>data table notebook</a>'\n",
              "            + ' to learn more about interactive tables.';\n",
              "          element.innerHTML = '';\n",
              "          dataTable['output_type'] = 'display_data';\n",
              "          await google.colab.output.renderOutput(dataTable, element);\n",
              "          const docLink = document.createElement('div');\n",
              "          docLink.innerHTML = docLinkHtml;\n",
              "          element.appendChild(docLink);\n",
              "        }\n",
              "      </script>\n",
              "    </div>\n",
              "  </div>\n",
              "  "
            ]
          },
          "metadata": {},
          "execution_count": 48
        }
      ]
    },
    {
      "cell_type": "code",
      "source": [
        "reviews = [\n",
        "    \"two men cooking a meal\",\n",
        "    \"two men stove preparing food\",\n",
        "    \"two guys\",\n",
        "    \"two men\"\n",
        "]\n",
        "\n",
        "def predict_class(reviews):\n",
        "  '''predict class of input text\n",
        "  Args:\n",
        "    - reviews (list of strings)\n",
        "  Output:\n",
        "    - class (list of int)\n",
        "  '''\n",
        "  return [np.argmax(pred) for pred in model.predict(reviews)]\n",
        "\n",
        "\n",
        "predict_class(reviews)"
      ],
      "metadata": {
        "colab": {
          "base_uri": "https://localhost:8080/"
        },
        "id": "gcGYwhytHPyc",
        "outputId": "3f30ddf7-9a84-4377-aa84-4a0787611b98"
      },
      "execution_count": 50,
      "outputs": [
        {
          "output_type": "stream",
          "name": "stdout",
          "text": [
            "1/1 [==============================] - 0s 78ms/step\n"
          ]
        },
        {
          "output_type": "execute_result",
          "data": {
            "text/plain": [
              "[4, 4, 77, 77]"
            ]
          },
          "metadata": {},
          "execution_count": 50
        }
      ]
    },
    {
      "cell_type": "code",
      "source": [
        "tmp[tmp['label'] == 77]"
      ],
      "metadata": {
        "colab": {
          "base_uri": "https://localhost:8080/",
          "height": 565
        },
        "id": "B8emQreQKMng",
        "outputId": "5efdbb1c-a33b-40a0-f0e2-e6ee7f8c656d"
      },
      "execution_count": 59,
      "outputs": [
        {
          "output_type": "execute_result",
          "data": {
            "text/plain": [
              "     image_name comment_number  \\\n",
              "385  1021439420              0   \n",
              "386  1021439420              1   \n",
              "387  1021439420              2   \n",
              "388  1021439420              3   \n",
              "389  1021439420              4   \n",
              "\n",
              "                                               comment  char_count  \\\n",
              "385  two guys sitting floor guy green jacket readin...          59   \n",
              "386  elderly father grown son preparing camping tri...          52   \n",
              "387                two men sit floor camping equipment          35   \n",
              "388                       two men sitting living floor          28   \n",
              "389                             two guys sorting items          22   \n",
              "\n",
              "     word_count  sentence_count  unique_word_count  average_word_length  \\\n",
              "385          10               1                 10             5.900000   \n",
              "386           8               1                  8             6.500000   \n",
              "387           6               1                  6             5.833333   \n",
              "388           5               1                  5             5.600000   \n",
              "389           4               1                  4             5.500000   \n",
              "\n",
              "     average_sentence_length  unique_words_vs_words  label  \n",
              "385                     10.0                    1.0     77  \n",
              "386                      8.0                    1.0     77  \n",
              "387                      6.0                    1.0     77  \n",
              "388                      5.0                    1.0     77  \n",
              "389                      4.0                    1.0     77  "
            ],
            "text/html": [
              "\n",
              "  <div id=\"df-0375dafe-4800-4639-8cae-c2738322d65a\">\n",
              "    <div class=\"colab-df-container\">\n",
              "      <div>\n",
              "<style scoped>\n",
              "    .dataframe tbody tr th:only-of-type {\n",
              "        vertical-align: middle;\n",
              "    }\n",
              "\n",
              "    .dataframe tbody tr th {\n",
              "        vertical-align: top;\n",
              "    }\n",
              "\n",
              "    .dataframe thead th {\n",
              "        text-align: right;\n",
              "    }\n",
              "</style>\n",
              "<table border=\"1\" class=\"dataframe\">\n",
              "  <thead>\n",
              "    <tr style=\"text-align: right;\">\n",
              "      <th></th>\n",
              "      <th>image_name</th>\n",
              "      <th>comment_number</th>\n",
              "      <th>comment</th>\n",
              "      <th>char_count</th>\n",
              "      <th>word_count</th>\n",
              "      <th>sentence_count</th>\n",
              "      <th>unique_word_count</th>\n",
              "      <th>average_word_length</th>\n",
              "      <th>average_sentence_length</th>\n",
              "      <th>unique_words_vs_words</th>\n",
              "      <th>label</th>\n",
              "    </tr>\n",
              "  </thead>\n",
              "  <tbody>\n",
              "    <tr>\n",
              "      <th>385</th>\n",
              "      <td>1021439420</td>\n",
              "      <td>0</td>\n",
              "      <td>two guys sitting floor guy green jacket readin...</td>\n",
              "      <td>59</td>\n",
              "      <td>10</td>\n",
              "      <td>1</td>\n",
              "      <td>10</td>\n",
              "      <td>5.900000</td>\n",
              "      <td>10.0</td>\n",
              "      <td>1.0</td>\n",
              "      <td>77</td>\n",
              "    </tr>\n",
              "    <tr>\n",
              "      <th>386</th>\n",
              "      <td>1021439420</td>\n",
              "      <td>1</td>\n",
              "      <td>elderly father grown son preparing camping tri...</td>\n",
              "      <td>52</td>\n",
              "      <td>8</td>\n",
              "      <td>1</td>\n",
              "      <td>8</td>\n",
              "      <td>6.500000</td>\n",
              "      <td>8.0</td>\n",
              "      <td>1.0</td>\n",
              "      <td>77</td>\n",
              "    </tr>\n",
              "    <tr>\n",
              "      <th>387</th>\n",
              "      <td>1021439420</td>\n",
              "      <td>2</td>\n",
              "      <td>two men sit floor camping equipment</td>\n",
              "      <td>35</td>\n",
              "      <td>6</td>\n",
              "      <td>1</td>\n",
              "      <td>6</td>\n",
              "      <td>5.833333</td>\n",
              "      <td>6.0</td>\n",
              "      <td>1.0</td>\n",
              "      <td>77</td>\n",
              "    </tr>\n",
              "    <tr>\n",
              "      <th>388</th>\n",
              "      <td>1021439420</td>\n",
              "      <td>3</td>\n",
              "      <td>two men sitting living floor</td>\n",
              "      <td>28</td>\n",
              "      <td>5</td>\n",
              "      <td>1</td>\n",
              "      <td>5</td>\n",
              "      <td>5.600000</td>\n",
              "      <td>5.0</td>\n",
              "      <td>1.0</td>\n",
              "      <td>77</td>\n",
              "    </tr>\n",
              "    <tr>\n",
              "      <th>389</th>\n",
              "      <td>1021439420</td>\n",
              "      <td>4</td>\n",
              "      <td>two guys sorting items</td>\n",
              "      <td>22</td>\n",
              "      <td>4</td>\n",
              "      <td>1</td>\n",
              "      <td>4</td>\n",
              "      <td>5.500000</td>\n",
              "      <td>4.0</td>\n",
              "      <td>1.0</td>\n",
              "      <td>77</td>\n",
              "    </tr>\n",
              "  </tbody>\n",
              "</table>\n",
              "</div>\n",
              "      <button class=\"colab-df-convert\" onclick=\"convertToInteractive('df-0375dafe-4800-4639-8cae-c2738322d65a')\"\n",
              "              title=\"Convert this dataframe to an interactive table.\"\n",
              "              style=\"display:none;\">\n",
              "        \n",
              "  <svg xmlns=\"http://www.w3.org/2000/svg\" height=\"24px\"viewBox=\"0 0 24 24\"\n",
              "       width=\"24px\">\n",
              "    <path d=\"M0 0h24v24H0V0z\" fill=\"none\"/>\n",
              "    <path d=\"M18.56 5.44l.94 2.06.94-2.06 2.06-.94-2.06-.94-.94-2.06-.94 2.06-2.06.94zm-11 1L8.5 8.5l.94-2.06 2.06-.94-2.06-.94L8.5 2.5l-.94 2.06-2.06.94zm10 10l.94 2.06.94-2.06 2.06-.94-2.06-.94-.94-2.06-.94 2.06-2.06.94z\"/><path d=\"M17.41 7.96l-1.37-1.37c-.4-.4-.92-.59-1.43-.59-.52 0-1.04.2-1.43.59L10.3 9.45l-7.72 7.72c-.78.78-.78 2.05 0 2.83L4 21.41c.39.39.9.59 1.41.59.51 0 1.02-.2 1.41-.59l7.78-7.78 2.81-2.81c.8-.78.8-2.07 0-2.86zM5.41 20L4 18.59l7.72-7.72 1.47 1.35L5.41 20z\"/>\n",
              "  </svg>\n",
              "      </button>\n",
              "      \n",
              "  <style>\n",
              "    .colab-df-container {\n",
              "      display:flex;\n",
              "      flex-wrap:wrap;\n",
              "      gap: 12px;\n",
              "    }\n",
              "\n",
              "    .colab-df-convert {\n",
              "      background-color: #E8F0FE;\n",
              "      border: none;\n",
              "      border-radius: 50%;\n",
              "      cursor: pointer;\n",
              "      display: none;\n",
              "      fill: #1967D2;\n",
              "      height: 32px;\n",
              "      padding: 0 0 0 0;\n",
              "      width: 32px;\n",
              "    }\n",
              "\n",
              "    .colab-df-convert:hover {\n",
              "      background-color: #E2EBFA;\n",
              "      box-shadow: 0px 1px 2px rgba(60, 64, 67, 0.3), 0px 1px 3px 1px rgba(60, 64, 67, 0.15);\n",
              "      fill: #174EA6;\n",
              "    }\n",
              "\n",
              "    [theme=dark] .colab-df-convert {\n",
              "      background-color: #3B4455;\n",
              "      fill: #D2E3FC;\n",
              "    }\n",
              "\n",
              "    [theme=dark] .colab-df-convert:hover {\n",
              "      background-color: #434B5C;\n",
              "      box-shadow: 0px 1px 3px 1px rgba(0, 0, 0, 0.15);\n",
              "      filter: drop-shadow(0px 1px 2px rgba(0, 0, 0, 0.3));\n",
              "      fill: #FFFFFF;\n",
              "    }\n",
              "  </style>\n",
              "\n",
              "      <script>\n",
              "        const buttonEl =\n",
              "          document.querySelector('#df-0375dafe-4800-4639-8cae-c2738322d65a button.colab-df-convert');\n",
              "        buttonEl.style.display =\n",
              "          google.colab.kernel.accessAllowed ? 'block' : 'none';\n",
              "\n",
              "        async function convertToInteractive(key) {\n",
              "          const element = document.querySelector('#df-0375dafe-4800-4639-8cae-c2738322d65a');\n",
              "          const dataTable =\n",
              "            await google.colab.kernel.invokeFunction('convertToInteractive',\n",
              "                                                     [key], {});\n",
              "          if (!dataTable) return;\n",
              "\n",
              "          const docLinkHtml = 'Like what you see? Visit the ' +\n",
              "            '<a target=\"_blank\" href=https://colab.research.google.com/notebooks/data_table.ipynb>data table notebook</a>'\n",
              "            + ' to learn more about interactive tables.';\n",
              "          element.innerHTML = '';\n",
              "          dataTable['output_type'] = 'display_data';\n",
              "          await google.colab.output.renderOutput(dataTable, element);\n",
              "          const docLink = document.createElement('div');\n",
              "          docLink.innerHTML = docLinkHtml;\n",
              "          element.appendChild(docLink);\n",
              "        }\n",
              "      </script>\n",
              "    </div>\n",
              "  </div>\n",
              "  "
            ]
          },
          "metadata": {},
          "execution_count": 59
        }
      ]
    },
    {
      "cell_type": "markdown",
      "source": [
        "Our model predicts two sentences correctly. The two that are correct are th sentences that match word for word. However on the two it mislabels we see that it still predicts a label with two men present. How can we improve??"
      ],
      "metadata": {
        "id": "zm6QEDUYKCaF"
      }
    }
  ]
}